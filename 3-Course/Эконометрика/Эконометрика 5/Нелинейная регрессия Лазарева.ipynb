{
 "cells": [
  {
   "cell_type": "code",
   "execution_count": 1,
   "metadata": {},
   "outputs": [],
   "source": [
    "import numpy as np"
   ]
  },
  {
   "cell_type": "markdown",
   "metadata": {},
   "source": [
    "вводим два массива со значениями"
   ]
  },
  {
   "cell_type": "code",
   "execution_count": 2,
   "metadata": {},
   "outputs": [],
   "source": [
    "# данные из методички\n",
    "x = np.arange(1,16)\n",
    "string = '7 12 11 16 17 15 19 18 20 19 21 23 21 23 22'\n",
    "y = np.array(list(map(int, string.split(' '))))"
   ]
  },
  {
   "cell_type": "code",
   "execution_count": 3,
   "metadata": {},
   "outputs": [
    {
     "data": {
      "text/plain": [
       "array([ 7, 12, 11, 16, 17, 15, 19, 18, 20, 19, 21, 23, 21, 23, 22])"
      ]
     },
     "execution_count": 3,
     "metadata": {},
     "output_type": "execute_result"
    }
   ],
   "source": [
    "y"
   ]
  },
  {
   "cell_type": "code",
   "execution_count": 4,
   "metadata": {},
   "outputs": [
    {
     "data": {
      "text/plain": [
       "array([ 1,  2,  3,  4,  5,  6,  7,  8,  9, 10, 11, 12, 13, 14, 15])"
      ]
     },
     "execution_count": 4,
     "metadata": {},
     "output_type": "execute_result"
    }
   ],
   "source": [
    "x"
   ]
  },
  {
   "cell_type": "markdown",
   "metadata": {},
   "source": [
    "посчитаем все необходимые переменные \n",
    "\n",
    "_x^2_, _x^3_, _x^4_, _x*y_, _x^2*y_, _n (кол-во значений)_"
   ]
  },
  {
   "cell_type": "code",
   "execution_count": 6,
   "metadata": {},
   "outputs": [],
   "source": [
    "x_2 = np.power(x, 2) # x^2\n",
    "x_3 = np.power(x, 3) # x^3\n",
    "x_4 = np.power(x, 4) # x^4\n",
    "\n",
    "x_y = np.dot(x, y) # x*y\n",
    "x_2_y = np.dot(x_2, y) # x^2*y\n",
    "\n",
    "n = x.shape[0]"
   ]
  },
  {
   "cell_type": "markdown",
   "metadata": {},
   "source": [
    "Урванение зависимости Y от X: \n",
    "y = a*x^2 +b*x + c + e_ — это парная квадратичная регрессия.\n",
    "\n",
    "Для того, чтобы найти переменные (a, b, c) используем метод наименьших квадратов.\n",
    "\n",
    "Получим систему алгебраических уравнений вида:\n",
    "\n",
    "a*sum(x^4) + b*sum(x^3) + c*sum(x^2) = sum(x^2*y)  \n",
    "a*sum(x^3) + b*sum(x^4) + c*sum(x) = sum(x*y)  \n",
    "a*sum(x^2) + b*sum(x) + c*n = sum(y)  \n",
    "  \n",
    "   \n",
    "Сформируем матрицу A системы, состоящую из коэффициентов при\n",
    "неизвестных в левых частях уравнений."
   ]
  },
  {
   "cell_type": "code",
   "execution_count": 7,
   "metadata": {},
   "outputs": [
    {
     "data": {
      "text/plain": [
       "array([[178312,  14400,   1240],\n",
       "       [ 14400,   1240,    120],\n",
       "       [  1240,    120,     15]])"
      ]
     },
     "execution_count": 7,
     "metadata": {},
     "output_type": "execute_result"
    }
   ],
   "source": [
    "A = np.array([[x_4.sum(), x_3.sum(), x_2.sum()], \n",
    "              [x_3.sum(), x_2.sum(), x.sum()], \n",
    "              [x_2.sum(), x.sum(), n]])\n",
    "A"
   ]
  },
  {
   "cell_type": "markdown",
   "metadata": {},
   "source": [
    "Применим **метод Крамера** и найдем **уравнение парной квадратичной регрессии**:"
   ]
  },
  {
   "cell_type": "code",
   "execution_count": 10,
   "metadata": {},
   "outputs": [
    {
     "name": "stdout",
     "output_type": "stream",
     "text": [
      "[25838  2382   264]\n",
      "y = -0.074x^2 + 2.151x + 6.523 + e\n"
     ]
    }
   ],
   "source": [
    "yk = np.array([x_2_y.sum(), x_y.sum(), y.sum()])\n",
    "print(yk)\n",
    "A1, A2, A3 = A.copy(), A.copy(), A.copy()\n",
    "\n",
    "D = np.linalg.det(A)\n",
    "dets = []\n",
    "for i in range(A.shape[1]):\n",
    "    A_extra = A.copy()\n",
    "    A_extra[:, i] = yk\n",
    "    dets.append(np.linalg.det(A_extra)/D)\n",
    "\n",
    "a, b, c = dets[0], dets[1], dets[2]\n",
    "\n",
    "print(f'y = {a:.3f}x^2 + {b:.3f}x + {c:.3f} + e')"
   ]
  },
  {
   "cell_type": "markdown",
   "metadata": {},
   "source": [
    "Найдем **индекс корреляции** _ro = sqrt(1 - (sum(yi-y_)^2 _/(sum(yi-y.mean)^2))_   \n",
    "и **индекс детерминации** _r_2 _= ro^2_"
   ]
  },
  {
   "cell_type": "code",
   "execution_count": 11,
   "metadata": {},
   "outputs": [],
   "source": [
    "y_ = a * x * x + b * x + c\n",
    "\n",
    "# индекс корреляции\n",
    "ro = np.sqrt(1 - np.power((y - y_),2).sum()/np.power((y - y.mean()),2).sum())\n",
    "\n",
    "# индекс детерминации\n",
    "r_2 = np.power(ro, 2)"
   ]
  },
  {
   "cell_type": "code",
   "execution_count": 12,
   "metadata": {},
   "outputs": [
    {
     "name": "stdout",
     "output_type": "stream",
     "text": [
      "индекс корреляции: 0.959\n",
      "индекс детерминации: 0.920\n"
     ]
    }
   ],
   "source": [
    "print(f'индекс корреляции: {ro:.3f}\\nиндекс детерминации: {r_2:.3f}')"
   ]
  },
  {
   "cell_type": "markdown",
   "metadata": {},
   "source": [
    "Коэффициент корреляции показывает, есть ли тесная взаимосвязь меду двумя параметрами. \n",
    "Т.к полученный коэффициент корреляции близок к 1, значит связь есть, и прогноз довольно точен.   "
   ]
  },
  {
   "cell_type": "markdown",
   "metadata": {},
   "source": [
    "Коэффициент детерминации близок к 1, что свидетельствует о высоком качестве\n",
    "подгонки."
   ]
  },
  {
   "cell_type": "markdown",
   "metadata": {},
   "source": [
    "Найдем также среднюю относительную ошибку"
   ]
  },
  {
   "cell_type": "code",
   "execution_count": 13,
   "metadata": {},
   "outputs": [
    {
     "name": "stdout",
     "output_type": "stream",
     "text": [
      "средняя ошибка аппроксимации: 7.79%\n"
     ]
    }
   ],
   "source": [
    "error = np.abs((y - y_)/y).mean() * 100\n",
    "print(f'средняя ошибка аппроксимации: {error:.2f}%')"
   ]
  },
  {
   "cell_type": "markdown",
   "metadata": {},
   "source": [
    "Полученный результат находится в пределах допустимых значений ошибки <8…10%. Значит вычисления достаточно точны."
   ]
  }
 ],
 "metadata": {
  "kernelspec": {
   "display_name": "Python 3",
   "language": "python",
   "name": "python3"
  },
  "language_info": {
   "codemirror_mode": {
    "name": "ipython",
    "version": 3
   },
   "file_extension": ".py",
   "mimetype": "text/x-python",
   "name": "python",
   "nbconvert_exporter": "python",
   "pygments_lexer": "ipython3",
   "version": "3.8.3"
  }
 },
 "nbformat": 4,
 "nbformat_minor": 4
}
