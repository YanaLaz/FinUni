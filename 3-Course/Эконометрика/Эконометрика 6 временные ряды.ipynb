{
 "cells": [
  {
   "cell_type": "markdown",
   "metadata": {},
   "source": [
    "Беру данные по акциям AMAZON с 24.11.2021 - 06.12.2021"
   ]
  },
  {
   "cell_type": "code",
   "execution_count": 2,
   "metadata": {},
   "outputs": [],
   "source": [
    "import numpy as np"
   ]
  },
  {
   "cell_type": "code",
   "execution_count": 26,
   "metadata": {},
   "outputs": [],
   "source": [
    "st1 = '267125 268858 262771 275478 261748 256000 254515 250952'\n",
    "\n",
    "yt = np.array(list(map(int, st1.split(' '))))\n",
    "yt_1 = np.array(list(map(int, st1.split(' ')))[:-1])\n",
    "yt_2 = np.array(list(map(int, st1.split(' ')))[:-2])\n",
    "yt_3 = np.array(list(map(int, st1.split(' ')))[:-3])\n",
    "yt_4 = np.array(list(map(int, st1.split(' ')))[:-4]) \n"
   ]
  },
  {
   "cell_type": "markdown",
   "metadata": {},
   "source": [
    "Рассчитаем значения сигмы y1 y2"
   ]
  },
  {
   "cell_type": "code",
   "execution_count": 27,
   "metadata": {},
   "outputs": [],
   "source": [
    "y1_y1_sr = [i - yt[1:].mean() for i in yt[1:]] # yi1-y1cp\n",
    "y2_y2_sr = [i - yt_1.mean() for i in yt_1] # yi2-y2cp\n",
    "\n",
    "y_r = sum(list(np.array(y1_y1_sr) * np.array(y2_y2_sr))) #(yi1-y1cp)*(yi2-y2cp)"
   ]
  },
  {
   "cell_type": "code",
   "execution_count": 28,
   "metadata": {},
   "outputs": [],
   "source": [
    "y1_y1_sr_2 = sum(np.power(y1_y1_sr, 2)) #(yi1-y1cp)^2\n",
    "y2_y2_sr_2 = sum(np.power(y2_y2_sr, 2)) # (yi2-y2cp)^2\n"
   ]
  },
  {
   "cell_type": "code",
   "execution_count": 29,
   "metadata": {},
   "outputs": [
    {
     "name": "stdout",
     "output_type": "stream",
     "text": [
      "7941.730611273642 6817.350427926003\n"
     ]
    }
   ],
   "source": [
    "# Сигмы y1 y2\n",
    "sig_y1 = np.sqrt(y1_y1_sr_2/7) \n",
    "sig_y2 = np.sqrt(y2_y2_sr_2/7)\n",
    "print(sig_y1, sig_y2)"
   ]
  },
  {
   "cell_type": "markdown",
   "metadata": {},
   "source": [
    "Рассчитаем значения сигмы y3 y4"
   ]
  },
  {
   "cell_type": "code",
   "execution_count": 30,
   "metadata": {},
   "outputs": [],
   "source": [
    "# Для сигмы y3 y4\n",
    "y3_y3_sr = [i - yt[2:].mean() for i in yt[2:]] # (yi3-y3cp)\n",
    "y3_y3_sr2 = sum([i**2 for i in y3_y3_sr]) # (yi3-y3cp)^2\n",
    "\n",
    "y4_y4_sr = [i - yt_2.mean() for i in yt_2] # (yi4-y4cp)\n",
    "y4_y4_sr2 = sum([i**2 for i in y4_y4_sr]) #(yi4-y4cp)^2"
   ]
  },
  {
   "cell_type": "code",
   "execution_count": 31,
   "metadata": {},
   "outputs": [
    {
     "name": "stdout",
     "output_type": "stream",
     "text": [
      "7936.169752048739 6124.7968401681155\n"
     ]
    }
   ],
   "source": [
    "# Сигмы y3 y4\n",
    "sig_y3 = np.sqrt(y3_y3_sr2/6) \n",
    "sig_y4 = np.sqrt(y4_y4_sr2/6)\n",
    "print(sig_y3, sig_y4)"
   ]
  },
  {
   "cell_type": "markdown",
   "metadata": {},
   "source": [
    "Рассчитаем значения сигмы y5 y6"
   ]
  },
  {
   "cell_type": "code",
   "execution_count": 32,
   "metadata": {},
   "outputs": [],
   "source": [
    "y5_y5_sr = [i - yt[3:].mean() for i in yt[3:]] # (yi5-y5cp)\n",
    "y5_y5_sr2 = sum([i**2 for i in y5_y5_sr]) # (yi5-y5cp)^2\n",
    "\n",
    "y6_y6_sr = [i - yt_3.mean() for i in yt_3] # (yi6-y6cp)\n",
    "y6_y6_sr2 = sum([i**2 for i in y6_y6_sr]) #(yi6-y6cp)^2"
   ]
  },
  {
   "cell_type": "code",
   "execution_count": 33,
   "metadata": {},
   "outputs": [
    {
     "name": "stdout",
     "output_type": "stream",
     "text": [
      "8605.043488559486 4911.621687385949\n"
     ]
    }
   ],
   "source": [
    "# Сигмы y5 y6\n",
    "sig_y5 = np.sqrt(y5_y5_sr2/5) \n",
    "sig_y6 = np.sqrt(y6_y6_sr2/5)\n",
    "print(sig_y5, sig_y6)"
   ]
  },
  {
   "cell_type": "markdown",
   "metadata": {},
   "source": [
    "Рассчитаем значения сигмы y7 y8"
   ]
  },
  {
   "cell_type": "code",
   "execution_count": 34,
   "metadata": {},
   "outputs": [],
   "source": [
    "y7_y7_sr = [i - yt[4:].mean() for i in yt[4:]] # (yi7-y7cp)\n",
    "y7_y7_sr2 = sum([i**2 for i in y7_y7_sr]) # (yi7-y7cp)^2\n",
    "\n",
    "y8_y8_sr = [i - yt_4.mean() for i in yt_4] # (yi8-y8cp)\n",
    "y8_y8_sr2 = sum([i**2 for i in y8_y8_sr]) #(yi8-y8cp)^2"
   ]
  },
  {
   "cell_type": "code",
   "execution_count": 35,
   "metadata": {},
   "outputs": [
    {
     "name": "stdout",
     "output_type": "stream",
     "text": [
      "3891.4321512137403 4569.443565687184\n"
     ]
    }
   ],
   "source": [
    "# Сигмы y7 y8\n",
    "sig_y7 = np.sqrt(y7_y7_sr2/4) \n",
    "sig_y8 = np.sqrt(y8_y8_sr2/4)\n",
    "print(sig_y7, sig_y8)"
   ]
  },
  {
   "cell_type": "markdown",
   "metadata": {},
   "source": [
    "Получаем r"
   ]
  },
  {
   "cell_type": "code",
   "execution_count": 50,
   "metadata": {},
   "outputs": [],
   "source": [
    "r_sp = []"
   ]
  },
  {
   "cell_type": "code",
   "execution_count": 51,
   "metadata": {},
   "outputs": [
    {
     "data": {
      "text/plain": [
       "0.4831550002153058"
      ]
     },
     "execution_count": 51,
     "metadata": {},
     "output_type": "execute_result"
    }
   ],
   "source": [
    "# коэф автокорреляции первый лаг\n",
    "r1 = y_r / (sig_y1 * sig_y2 * 7)\n",
    "r_sp.append(r1)\n",
    "r1"
   ]
  },
  {
   "cell_type": "code",
   "execution_count": 52,
   "metadata": {},
   "outputs": [
    {
     "data": {
      "text/plain": [
       "0.40659186360706806"
      ]
     },
     "execution_count": 52,
     "metadata": {},
     "output_type": "execute_result"
    }
   ],
   "source": [
    "# коэф автокорреляции второй лаг\n",
    "r2 = sum(list(np.array(y3_y3_sr) * np.array(y4_y4_sr))) / (sig_y3 * sig_y4 * 6)\n",
    "r_sp.append(r2)\n",
    "r2 "
   ]
  },
  {
   "cell_type": "code",
   "execution_count": 53,
   "metadata": {},
   "outputs": [
    {
     "data": {
      "text/plain": [
       "0.11060275797283041"
      ]
     },
     "execution_count": 53,
     "metadata": {},
     "output_type": "execute_result"
    }
   ],
   "source": [
    "# коэф автокорреляции третий лаг\n",
    "r3 = sum(list(np.array(y5_y5_sr) * np.array(y6_y6_sr))) / (sig_y5 * sig_y6 * 5)\n",
    "r_sp.append(r3)\n",
    "r3 "
   ]
  },
  {
   "cell_type": "code",
   "execution_count": 54,
   "metadata": {},
   "outputs": [
    {
     "data": {
      "text/plain": [
       "-0.38888732413012167"
      ]
     },
     "execution_count": 54,
     "metadata": {},
     "output_type": "execute_result"
    }
   ],
   "source": [
    "# коэф автокорреляции четвертый лаг\n",
    "r4 = sum(list(np.array(y7_y7_sr) * np.array(y8_y8_sr))) / (sig_y7 * sig_y8 * 5)\n",
    "r_sp.append(r4)\n",
    "r4 "
   ]
  },
  {
   "cell_type": "markdown",
   "metadata": {},
   "source": [
    "Рисуем графики"
   ]
  },
  {
   "cell_type": "code",
   "execution_count": 40,
   "metadata": {},
   "outputs": [],
   "source": [
    "import matplotlib.pyplot as plt"
   ]
  },
  {
   "cell_type": "code",
   "execution_count": 41,
   "metadata": {},
   "outputs": [],
   "source": [
    "dt = '24.11.2021 26.11.2021 29.11.2021 30.11.2021 01.12.2021 02.12.2021 03.12.2021 06.12.2021'\n",
    "dates = np.array(list(dt.split(' ')))"
   ]
  },
  {
   "cell_type": "code",
   "execution_count": 42,
   "metadata": {},
   "outputs": [
    {
     "data": {
      "text/plain": [
       "[<matplotlib.lines.Line2D at 0x7feff2fd1b50>]"
      ]
     },
     "execution_count": 42,
     "metadata": {},
     "output_type": "execute_result"
    },
    {
     "data": {
      "image/png": "[encoded data removed]",
      "text/plain": [
       "<Figure size 708.661x425.197 with 1 Axes>"
      ]
     },
     "metadata": {
      "needs_background": "light"
     },
     "output_type": "display_data"
    }
   ],
   "source": [
    "def cm_to_inch(value):\n",
    "    return value/2.54\n",
    "\n",
    "plt.figure(figsize=(cm_to_inch(25), cm_to_inch(15)))\n",
    "plt.plot(dates, yt)"
   ]
  },
  {
   "cell_type": "code",
   "execution_count": 55,
   "metadata": {},
   "outputs": [
    {
     "data": {
      "text/plain": [
       "[<matplotlib.lines.Line2D at 0x7feff3239a60>]"
      ]
     },
     "execution_count": 55,
     "metadata": {},
     "output_type": "execute_result"
    },
    {
     "data": {
      "image/png": "[encoded data removed]",
      "text/plain": [
       "<Figure size 432x288 with 1 Axes>"
      ]
     },
     "metadata": {
      "needs_background": "light"
     },
     "output_type": "display_data"
    }
   ],
   "source": [
    "plt.plot(r_sp)"
   ]
  }
 ],
 "metadata": {
  "kernelspec": {
   "display_name": "Python 3",
   "language": "python",
   "name": "python3"
  },
  "language_info": {
   "codemirror_mode": {
    "name": "ipython",
    "version": 3
   },
   "file_extension": ".py",
   "mimetype": "text/x-python",
   "name": "python",
   "nbconvert_exporter": "python",
   "pygments_lexer": "ipython3",
   "version": "3.8.3"
  }
 },
 "nbformat": 4,
 "nbformat_minor": 4
}
