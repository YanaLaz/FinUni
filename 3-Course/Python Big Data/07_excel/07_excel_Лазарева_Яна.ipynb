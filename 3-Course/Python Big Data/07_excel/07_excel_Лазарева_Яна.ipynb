{
 "cells": [
  {
   "cell_type": "markdown",
   "metadata": {},
   "source": [
    "# Работа с Excel"
   ]
  },
  {
   "cell_type": "markdown",
   "metadata": {},
   "source": [
    "Материалы:\n",
    "* Макрушин С.В. Лекция 7: Работа с Excel\n",
    "* https://docs.xlwings.org/en/stable/quickstart.html\n",
    "* https://nbviewer.jupyter.org/github/pybokeh/jupyter_notebooks/blob/master/xlwings/Excel_Formatting.ipynb#search_text\n"
   ]
  },
  {
   "cell_type": "markdown",
   "metadata": {},
   "source": [
    "## Задачи для совместного разбора"
   ]
  },
  {
   "cell_type": "code",
   "execution_count": 1,
   "metadata": {},
   "outputs": [],
   "source": [
    "import xlwings as xw\n",
    "import numpy as np"
   ]
  },
  {
   "cell_type": "code",
   "execution_count": 2,
   "metadata": {},
   "outputs": [
    {
     "data": {
      "text/plain": [
       "'0.19.5'"
      ]
     },
     "execution_count": 2,
     "metadata": {},
     "output_type": "execute_result"
    }
   ],
   "source": [
    "xw.__version__"
   ]
  },
  {
   "cell_type": "markdown",
   "metadata": {},
   "source": [
    "1. На листе \"Рецептура\" файла `себестоимостьА_в1.xlsx` для области \"Пшеничный хлеб\" рассчитать себестоимость всех видов продукции."
   ]
  },
  {
   "cell_type": "code",
   "execution_count": 3,
   "metadata": {},
   "outputs": [],
   "source": [
    "wb1 = xw.Book(\"себестоимостьА_в1.xlsx\")\n",
    "sheet = wb1.sheets[\"Рецептура\"]"
   ]
  },
  {
   "cell_type": "code",
   "execution_count": 4,
   "metadata": {},
   "outputs": [
    {
     "data": {
      "text/plain": [
       "array([[0.2  , 0.4  , 0.02 , 0.02 , 0.01 , 0.005, 0.1  ,   nan,   nan],\n",
       "       [0.07 , 0.25 , 0.01 , 0.06 , 0.015,   nan, 0.06 , 0.05 ,   nan],\n",
       "       [0.12 , 0.22 , 0.005,   nan, 0.009, 0.005,   nan, 0.05 , 0.03 ],\n",
       "       [0.12 , 0.23 , 0.01 ,   nan, 0.015,   nan,   nan,   nan, 0.05 ]])"
      ]
     },
     "execution_count": 4,
     "metadata": {},
     "output_type": "execute_result"
    }
   ],
   "source": [
    "consumption = sheet.range(\"G7:O10\").options(np.array).value\n",
    "consumption"
   ]
  },
  {
   "cell_type": "code",
   "execution_count": 5,
   "metadata": {},
   "outputs": [
    {
     "data": {
      "text/plain": [
       "array([  7.,  10., 184.,  19.,   7., 290., 105.,  83., 260.])"
      ]
     },
     "execution_count": 5,
     "metadata": {},
     "output_type": "execute_result"
    }
   ],
   "source": [
    "unit_price = sheet.range(\"G14:O14\").options(np.array).value\n",
    "unit_price"
   ]
  },
  {
   "cell_type": "code",
   "execution_count": 6,
   "metadata": {},
   "outputs": [
    {
     "data": {
      "text/plain": [
       "array([21.48 , 16.525, 17.423, 18.085])"
      ]
     },
     "execution_count": 6,
     "metadata": {},
     "output_type": "execute_result"
    }
   ],
   "source": [
    "cost_price = np.nan_to_num(consumption * unit_price).sum(axis=1)\n",
    "cost_price"
   ]
  },
  {
   "cell_type": "markdown",
   "metadata": {},
   "source": [
    "2. Результаты расчетов 1.1 сохранить в отдельном столбце области \"Пшеничный хлеб\""
   ]
  },
  {
   "cell_type": "code",
   "execution_count": 7,
   "metadata": {},
   "outputs": [],
   "source": [
    "sheet.range(\"T7:T10\").options(transpose=True).value = cost_price\n",
    "sheet.range(\"T6\").value = \"Себестоимость\""
   ]
  },
  {
   "cell_type": "markdown",
   "metadata": {},
   "source": [
    "3. Приблизить форматирование столбца, добавленного в задаче 2 к оформлению всей области."
   ]
  },
  {
   "cell_type": "code",
   "execution_count": 8,
   "metadata": {},
   "outputs": [],
   "source": [
    "sheet.range(\"T4:T6\").api.merge()\n",
    "sheet.range(\"T4:T6\").color = (255,255,0)"
   ]
  },
  {
   "cell_type": "markdown",
   "metadata": {},
   "source": [
    "4. Выполнить 3 с помощью \"протягиваемых\" формул."
   ]
  },
  {
   "cell_type": "code",
   "execution_count": 9,
   "metadata": {},
   "outputs": [],
   "source": [
    "from xlwings.constants import AutoFillType"
   ]
  },
  {
   "cell_type": "code",
   "execution_count": 10,
   "metadata": {},
   "outputs": [],
   "source": [
    "sheet.range(\"U7\").formula = \"=SUMPRODUCT(G7:O7, $G$14:$O$14)\"\n",
    "sheet.range(\"U7\").api.autofill(destination=sheet.range(\"U7:U10\").api , type=AutoFillType.xlFillDefault)"
   ]
  },
  {
   "cell_type": "markdown",
   "metadata": {},
   "source": [
    "## Лабораторная работа 7"
   ]
  },
  {
   "cell_type": "markdown",
   "metadata": {},
   "source": [
    "1. Загрузите данные из файлов `reviews_sample.csv` (__ЛР2__) и `recipes_sample_with_tags_ingredients.csv` (__ЛР5__) в виде `pd.DataFrame`. Обратите внимание на корректное считывание столбца(ов) с индексами. Оставьте в таблице с рецептами следующие столбцы: `id`, `name`, `minutes`, `submitted`, `description`, `n_ingredients`"
   ]
  },
  {
   "cell_type": "code",
   "execution_count": 11,
   "metadata": {},
   "outputs": [],
   "source": [
    "import pandas as pd"
   ]
  },
  {
   "cell_type": "code",
   "execution_count": 12,
   "metadata": {},
   "outputs": [
    {
     "data": {
      "text/html": [
       "<div>\n",
       "<style scoped>\n",
       "    .dataframe tbody tr th:only-of-type {\n",
       "        vertical-align: middle;\n",
       "    }\n",
       "\n",
       "    .dataframe tbody tr th {\n",
       "        vertical-align: top;\n",
       "    }\n",
       "\n",
       "    .dataframe thead th {\n",
       "        text-align: right;\n",
       "    }\n",
       "</style>\n",
       "<table border=\"1\" class=\"dataframe\">\n",
       "  <thead>\n",
       "    <tr style=\"text-align: right;\">\n",
       "      <th></th>\n",
       "      <th>user_id</th>\n",
       "      <th>recipe_id</th>\n",
       "      <th>date</th>\n",
       "      <th>rating</th>\n",
       "      <th>review</th>\n",
       "    </tr>\n",
       "    <tr>\n",
       "      <th>index</th>\n",
       "      <th></th>\n",
       "      <th></th>\n",
       "      <th></th>\n",
       "      <th></th>\n",
       "      <th></th>\n",
       "    </tr>\n",
       "  </thead>\n",
       "  <tbody>\n",
       "    <tr>\n",
       "      <th>370476</th>\n",
       "      <td>21752</td>\n",
       "      <td>57993</td>\n",
       "      <td>2003-05-01</td>\n",
       "      <td>5</td>\n",
       "      <td>Last week whole sides of frozen salmon fillet ...</td>\n",
       "    </tr>\n",
       "    <tr>\n",
       "      <th>624300</th>\n",
       "      <td>431813</td>\n",
       "      <td>142201</td>\n",
       "      <td>2007-09-16</td>\n",
       "      <td>5</td>\n",
       "      <td>So simple and so tasty!  I used a yellow capsi...</td>\n",
       "    </tr>\n",
       "    <tr>\n",
       "      <th>187037</th>\n",
       "      <td>400708</td>\n",
       "      <td>252013</td>\n",
       "      <td>2008-01-10</td>\n",
       "      <td>4</td>\n",
       "      <td>Very nice breakfast HH, easy to make and yummy...</td>\n",
       "    </tr>\n",
       "    <tr>\n",
       "      <th>706134</th>\n",
       "      <td>2001852463</td>\n",
       "      <td>404716</td>\n",
       "      <td>2017-12-11</td>\n",
       "      <td>5</td>\n",
       "      <td>These are a favorite for the holidays and so e...</td>\n",
       "    </tr>\n",
       "    <tr>\n",
       "      <th>312179</th>\n",
       "      <td>95810</td>\n",
       "      <td>129396</td>\n",
       "      <td>2008-03-14</td>\n",
       "      <td>5</td>\n",
       "      <td>Excellent soup!  The tomato flavor is just gre...</td>\n",
       "    </tr>\n",
       "    <tr>\n",
       "      <th>...</th>\n",
       "      <td>...</td>\n",
       "      <td>...</td>\n",
       "      <td>...</td>\n",
       "      <td>...</td>\n",
       "      <td>...</td>\n",
       "    </tr>\n",
       "    <tr>\n",
       "      <th>1013457</th>\n",
       "      <td>1270706</td>\n",
       "      <td>335534</td>\n",
       "      <td>2009-05-17</td>\n",
       "      <td>4</td>\n",
       "      <td>This recipe was great! I made it last night. I...</td>\n",
       "    </tr>\n",
       "    <tr>\n",
       "      <th>158736</th>\n",
       "      <td>2282344</td>\n",
       "      <td>8701</td>\n",
       "      <td>2012-06-03</td>\n",
       "      <td>0</td>\n",
       "      <td>This recipe is outstanding. I followed the rec...</td>\n",
       "    </tr>\n",
       "    <tr>\n",
       "      <th>1059834</th>\n",
       "      <td>689540</td>\n",
       "      <td>222001</td>\n",
       "      <td>2008-04-08</td>\n",
       "      <td>5</td>\n",
       "      <td>Well, we were not a crowd but it was a fabulou...</td>\n",
       "    </tr>\n",
       "    <tr>\n",
       "      <th>453285</th>\n",
       "      <td>2000242659</td>\n",
       "      <td>354979</td>\n",
       "      <td>2015-06-02</td>\n",
       "      <td>5</td>\n",
       "      <td>I have been a steak eater and dedicated BBQ gr...</td>\n",
       "    </tr>\n",
       "    <tr>\n",
       "      <th>691207</th>\n",
       "      <td>463435</td>\n",
       "      <td>415599</td>\n",
       "      <td>2010-09-30</td>\n",
       "      <td>5</td>\n",
       "      <td>Wonderful and simple to prepare seasoning blen...</td>\n",
       "    </tr>\n",
       "  </tbody>\n",
       "</table>\n",
       "<p>126696 rows × 5 columns</p>\n",
       "</div>"
      ],
      "text/plain": [
       "            user_id  recipe_id       date  rating  \\\n",
       "index                                               \n",
       "370476        21752      57993 2003-05-01       5   \n",
       "624300       431813     142201 2007-09-16       5   \n",
       "187037       400708     252013 2008-01-10       4   \n",
       "706134   2001852463     404716 2017-12-11       5   \n",
       "312179        95810     129396 2008-03-14       5   \n",
       "...             ...        ...        ...     ...   \n",
       "1013457     1270706     335534 2009-05-17       4   \n",
       "158736      2282344       8701 2012-06-03       0   \n",
       "1059834      689540     222001 2008-04-08       5   \n",
       "453285   2000242659     354979 2015-06-02       5   \n",
       "691207       463435     415599 2010-09-30       5   \n",
       "\n",
       "                                                    review  \n",
       "index                                                       \n",
       "370476   Last week whole sides of frozen salmon fillet ...  \n",
       "624300   So simple and so tasty!  I used a yellow capsi...  \n",
       "187037   Very nice breakfast HH, easy to make and yummy...  \n",
       "706134   These are a favorite for the holidays and so e...  \n",
       "312179   Excellent soup!  The tomato flavor is just gre...  \n",
       "...                                                    ...  \n",
       "1013457  This recipe was great! I made it last night. I...  \n",
       "158736   This recipe is outstanding. I followed the rec...  \n",
       "1059834  Well, we were not a crowd but it was a fabulou...  \n",
       "453285   I have been a steak eater and dedicated BBQ gr...  \n",
       "691207   Wonderful and simple to prepare seasoning blen...  \n",
       "\n",
       "[126696 rows x 5 columns]"
      ]
     },
     "execution_count": 12,
     "metadata": {},
     "output_type": "execute_result"
    }
   ],
   "source": [
    "reviews_sample = pd.read_csv(\"../02_pandas/data/reviews_sample.csv\", sep=\",\", parse_dates=['date'])\n",
    "reviews_sample = reviews_sample.rename(columns={\"Unnamed: 0\": \"index\"})\n",
    "reviews_sample = reviews_sample.set_index(\"index\")\n",
    "reviews_sample"
   ]
  },
  {
   "cell_type": "code",
   "execution_count": 13,
   "metadata": {},
   "outputs": [
    {
     "data": {
      "text/html": [
       "<div>\n",
       "<style scoped>\n",
       "    .dataframe tbody tr th:only-of-type {\n",
       "        vertical-align: middle;\n",
       "    }\n",
       "\n",
       "    .dataframe tbody tr th {\n",
       "        vertical-align: top;\n",
       "    }\n",
       "\n",
       "    .dataframe thead th {\n",
       "        text-align: right;\n",
       "    }\n",
       "</style>\n",
       "<table border=\"1\" class=\"dataframe\">\n",
       "  <thead>\n",
       "    <tr style=\"text-align: right;\">\n",
       "      <th></th>\n",
       "      <th>id</th>\n",
       "      <th>name</th>\n",
       "      <th>minutes</th>\n",
       "      <th>contributor_id</th>\n",
       "      <th>submitted</th>\n",
       "      <th>n_steps</th>\n",
       "      <th>description</th>\n",
       "      <th>n_ingredients</th>\n",
       "      <th>n_tags</th>\n",
       "      <th>tags</th>\n",
       "      <th>ingredients</th>\n",
       "    </tr>\n",
       "    <tr>\n",
       "      <th>index</th>\n",
       "      <th></th>\n",
       "      <th></th>\n",
       "      <th></th>\n",
       "      <th></th>\n",
       "      <th></th>\n",
       "      <th></th>\n",
       "      <th></th>\n",
       "      <th></th>\n",
       "      <th></th>\n",
       "      <th></th>\n",
       "      <th></th>\n",
       "    </tr>\n",
       "  </thead>\n",
       "  <tbody>\n",
       "    <tr>\n",
       "      <th>0</th>\n",
       "      <td>84797</td>\n",
       "      <td>love is in the air  beef fondue   sauces</td>\n",
       "      <td>25</td>\n",
       "      <td>4470</td>\n",
       "      <td>2004-02-23</td>\n",
       "      <td>4</td>\n",
       "      <td>i think a fondue is a very romantic casual din...</td>\n",
       "      <td>12</td>\n",
       "      <td>19</td>\n",
       "      <td>30-minutes-or-less; time-to-make; course; main...</td>\n",
       "      <td>beef steaks*vegetable oil*spicy mustard*fresh ...</td>\n",
       "    </tr>\n",
       "    <tr>\n",
       "      <th>1</th>\n",
       "      <td>107229</td>\n",
       "      <td>open sesame  noodles</td>\n",
       "      <td>28</td>\n",
       "      <td>173674</td>\n",
       "      <td>2004-12-30</td>\n",
       "      <td>8</td>\n",
       "      <td>this is a very versatile and widely enjoyed pa...</td>\n",
       "      <td>12</td>\n",
       "      <td>13</td>\n",
       "      <td>30-minutes-or-less; time-to-make; course; main...</td>\n",
       "      <td>vegetable oil*vermicelli*rice vinegar*reduced ...</td>\n",
       "    </tr>\n",
       "    <tr>\n",
       "      <th>2</th>\n",
       "      <td>95926</td>\n",
       "      <td>say what   banana sandwich</td>\n",
       "      <td>5</td>\n",
       "      <td>118163</td>\n",
       "      <td>2004-07-20</td>\n",
       "      <td>4</td>\n",
       "      <td>you just have to try it to believe it.</td>\n",
       "      <td>3</td>\n",
       "      <td>30</td>\n",
       "      <td>15-minutes-or-less; time-to-make; course; main...</td>\n",
       "      <td>white bread*mayonnaise*bananas</td>\n",
       "    </tr>\n",
       "    <tr>\n",
       "      <th>3</th>\n",
       "      <td>453467</td>\n",
       "      <td>1 in canada chocolate chip cookies</td>\n",
       "      <td>45</td>\n",
       "      <td>1848091</td>\n",
       "      <td>2011-04-11</td>\n",
       "      <td>12</td>\n",
       "      <td>this is the recipe that we use at my school ca...</td>\n",
       "      <td>11</td>\n",
       "      <td>9</td>\n",
       "      <td>60-minutes-or-less; time-to-make; cuisine; pre...</td>\n",
       "      <td>eggs*margarine*brown sugar*salt*white sugar*va...</td>\n",
       "    </tr>\n",
       "    <tr>\n",
       "      <th>4</th>\n",
       "      <td>306168</td>\n",
       "      <td>412 broccoli casserole</td>\n",
       "      <td>40</td>\n",
       "      <td>50969</td>\n",
       "      <td>2008-05-30</td>\n",
       "      <td>6</td>\n",
       "      <td>since there are already 411 recipes for brocco...</td>\n",
       "      <td>9</td>\n",
       "      <td>10</td>\n",
       "      <td>60-minutes-or-less; time-to-make; course; main...</td>\n",
       "      <td>milk*garlic powder*salt*frozen broccoli cuts*c...</td>\n",
       "    </tr>\n",
       "    <tr>\n",
       "      <th>...</th>\n",
       "      <td>...</td>\n",
       "      <td>...</td>\n",
       "      <td>...</td>\n",
       "      <td>...</td>\n",
       "      <td>...</td>\n",
       "      <td>...</td>\n",
       "      <td>...</td>\n",
       "      <td>...</td>\n",
       "      <td>...</td>\n",
       "      <td>...</td>\n",
       "      <td>...</td>\n",
       "    </tr>\n",
       "    <tr>\n",
       "      <th>18805</th>\n",
       "      <td>74023</td>\n",
       "      <td>zucchini cheddar casserole</td>\n",
       "      <td>50</td>\n",
       "      <td>89831</td>\n",
       "      <td>2003-10-24</td>\n",
       "      <td>14</td>\n",
       "      <td>this has been a long time family favorite!</td>\n",
       "      <td>8</td>\n",
       "      <td>11</td>\n",
       "      <td>60-minutes-or-less; time-to-make; course; prep...</td>\n",
       "      <td>eggs*butter*cheddar cheese*sour cream*flour*br...</td>\n",
       "    </tr>\n",
       "    <tr>\n",
       "      <th>18806</th>\n",
       "      <td>415406</td>\n",
       "      <td>zucchini  courgette soup  good for weight watc...</td>\n",
       "      <td>45</td>\n",
       "      <td>485109</td>\n",
       "      <td>2010-03-04</td>\n",
       "      <td>5</td>\n",
       "      <td>this is a favourite winter warmer. by british ...</td>\n",
       "      <td>9</td>\n",
       "      <td>15</td>\n",
       "      <td>weeknight; 60-minutes-or-less; time-to-make; c...</td>\n",
       "      <td>potatoes*onions*garlic cloves*cream cheese*chi...</td>\n",
       "    </tr>\n",
       "    <tr>\n",
       "      <th>18807</th>\n",
       "      <td>464576</td>\n",
       "      <td>zuppa by luisa</td>\n",
       "      <td>70</td>\n",
       "      <td>226863</td>\n",
       "      <td>2011-09-20</td>\n",
       "      <td>14</td>\n",
       "      <td>this soup is a hearty meal!  from luisa musso.</td>\n",
       "      <td>17</td>\n",
       "      <td>28</td>\n",
       "      <td>time-to-make; course; main-ingredient; cuisine...</td>\n",
       "      <td>onion*carrots*garlic cloves*olive oil*parmesan...</td>\n",
       "    </tr>\n",
       "    <tr>\n",
       "      <th>18808</th>\n",
       "      <td>267661</td>\n",
       "      <td>zurie s holey rustic olive and cheddar bread</td>\n",
       "      <td>80</td>\n",
       "      <td>200862</td>\n",
       "      <td>2007-11-25</td>\n",
       "      <td>16</td>\n",
       "      <td>this is based on a french recipe but i changed...</td>\n",
       "      <td>10</td>\n",
       "      <td>18</td>\n",
       "      <td>time-to-make; course; main-ingredient; cuisine...</td>\n",
       "      <td>dry white wine*eggs*cheddar cheese*baking powd...</td>\n",
       "    </tr>\n",
       "    <tr>\n",
       "      <th>18809</th>\n",
       "      <td>298512</td>\n",
       "      <td>cookies by design   cookies on a stick</td>\n",
       "      <td>29</td>\n",
       "      <td>506822</td>\n",
       "      <td>2008-04-15</td>\n",
       "      <td>9</td>\n",
       "      <td>i've heard of the 'cookies by design' company,...</td>\n",
       "      <td>10</td>\n",
       "      <td>12</td>\n",
       "      <td>30-minutes-or-less; time-to-make; course; prep...</td>\n",
       "      <td>butter*sour cream*egg*bisquick*light brown sug...</td>\n",
       "    </tr>\n",
       "  </tbody>\n",
       "</table>\n",
       "<p>18810 rows × 11 columns</p>\n",
       "</div>"
      ],
      "text/plain": [
       "           id                                               name  minutes  \\\n",
       "index                                                                       \n",
       "0       84797           love is in the air  beef fondue   sauces       25   \n",
       "1      107229                               open sesame  noodles       28   \n",
       "2       95926                         say what   banana sandwich        5   \n",
       "3      453467                 1 in canada chocolate chip cookies       45   \n",
       "4      306168                             412 broccoli casserole       40   \n",
       "...       ...                                                ...      ...   \n",
       "18805   74023                         zucchini cheddar casserole       50   \n",
       "18806  415406  zucchini  courgette soup  good for weight watc...       45   \n",
       "18807  464576                                     zuppa by luisa       70   \n",
       "18808  267661       zurie s holey rustic olive and cheddar bread       80   \n",
       "18809  298512             cookies by design   cookies on a stick       29   \n",
       "\n",
       "       contributor_id  submitted  n_steps  \\\n",
       "index                                       \n",
       "0                4470 2004-02-23        4   \n",
       "1              173674 2004-12-30        8   \n",
       "2              118163 2004-07-20        4   \n",
       "3             1848091 2011-04-11       12   \n",
       "4               50969 2008-05-30        6   \n",
       "...               ...        ...      ...   \n",
       "18805           89831 2003-10-24       14   \n",
       "18806          485109 2010-03-04        5   \n",
       "18807          226863 2011-09-20       14   \n",
       "18808          200862 2007-11-25       16   \n",
       "18809          506822 2008-04-15        9   \n",
       "\n",
       "                                             description  n_ingredients  \\\n",
       "index                                                                     \n",
       "0      i think a fondue is a very romantic casual din...             12   \n",
       "1      this is a very versatile and widely enjoyed pa...             12   \n",
       "2                 you just have to try it to believe it.              3   \n",
       "3      this is the recipe that we use at my school ca...             11   \n",
       "4      since there are already 411 recipes for brocco...              9   \n",
       "...                                                  ...            ...   \n",
       "18805         this has been a long time family favorite!              8   \n",
       "18806  this is a favourite winter warmer. by british ...              9   \n",
       "18807     this soup is a hearty meal!  from luisa musso.             17   \n",
       "18808  this is based on a french recipe but i changed...             10   \n",
       "18809  i've heard of the 'cookies by design' company,...             10   \n",
       "\n",
       "       n_tags                                               tags  \\\n",
       "index                                                              \n",
       "0          19  30-minutes-or-less; time-to-make; course; main...   \n",
       "1          13  30-minutes-or-less; time-to-make; course; main...   \n",
       "2          30  15-minutes-or-less; time-to-make; course; main...   \n",
       "3           9  60-minutes-or-less; time-to-make; cuisine; pre...   \n",
       "4          10  60-minutes-or-less; time-to-make; course; main...   \n",
       "...       ...                                                ...   \n",
       "18805      11  60-minutes-or-less; time-to-make; course; prep...   \n",
       "18806      15  weeknight; 60-minutes-or-less; time-to-make; c...   \n",
       "18807      28  time-to-make; course; main-ingredient; cuisine...   \n",
       "18808      18  time-to-make; course; main-ingredient; cuisine...   \n",
       "18809      12  30-minutes-or-less; time-to-make; course; prep...   \n",
       "\n",
       "                                             ingredients  \n",
       "index                                                     \n",
       "0      beef steaks*vegetable oil*spicy mustard*fresh ...  \n",
       "1      vegetable oil*vermicelli*rice vinegar*reduced ...  \n",
       "2                         white bread*mayonnaise*bananas  \n",
       "3      eggs*margarine*brown sugar*salt*white sugar*va...  \n",
       "4      milk*garlic powder*salt*frozen broccoli cuts*c...  \n",
       "...                                                  ...  \n",
       "18805  eggs*butter*cheddar cheese*sour cream*flour*br...  \n",
       "18806  potatoes*onions*garlic cloves*cream cheese*chi...  \n",
       "18807  onion*carrots*garlic cloves*olive oil*parmesan...  \n",
       "18808  dry white wine*eggs*cheddar cheese*baking powd...  \n",
       "18809  butter*sour cream*egg*bisquick*light brown sug...  \n",
       "\n",
       "[18810 rows x 11 columns]"
      ]
     },
     "execution_count": 13,
     "metadata": {},
     "output_type": "execute_result"
    }
   ],
   "source": [
    "recipes_sample_wt = pd.read_csv('../05_data_files/recipes_sample_with_tags_ingredients.csv', sep=\",\", parse_dates=['submitted'])\n",
    "recipes_sample_wt = recipes_sample_wt.rename(columns={\"Unnamed: 0\": \"index\"})\n",
    "recipes_sample_wt = recipes_sample_wt.set_index(\"index\")\n",
    "recipes_sample_wt"
   ]
  },
  {
   "cell_type": "code",
   "execution_count": 14,
   "metadata": {},
   "outputs": [
    {
     "data": {
      "text/html": [
       "<div>\n",
       "<style scoped>\n",
       "    .dataframe tbody tr th:only-of-type {\n",
       "        vertical-align: middle;\n",
       "    }\n",
       "\n",
       "    .dataframe tbody tr th {\n",
       "        vertical-align: top;\n",
       "    }\n",
       "\n",
       "    .dataframe thead th {\n",
       "        text-align: right;\n",
       "    }\n",
       "</style>\n",
       "<table border=\"1\" class=\"dataframe\">\n",
       "  <thead>\n",
       "    <tr style=\"text-align: right;\">\n",
       "      <th></th>\n",
       "      <th>id</th>\n",
       "      <th>name</th>\n",
       "      <th>minutes</th>\n",
       "      <th>submitted</th>\n",
       "      <th>description</th>\n",
       "      <th>n_ingredients</th>\n",
       "    </tr>\n",
       "    <tr>\n",
       "      <th>index</th>\n",
       "      <th></th>\n",
       "      <th></th>\n",
       "      <th></th>\n",
       "      <th></th>\n",
       "      <th></th>\n",
       "      <th></th>\n",
       "    </tr>\n",
       "  </thead>\n",
       "  <tbody>\n",
       "    <tr>\n",
       "      <th>0</th>\n",
       "      <td>84797</td>\n",
       "      <td>love is in the air  beef fondue   sauces</td>\n",
       "      <td>25</td>\n",
       "      <td>2004-02-23</td>\n",
       "      <td>i think a fondue is a very romantic casual din...</td>\n",
       "      <td>12</td>\n",
       "    </tr>\n",
       "    <tr>\n",
       "      <th>1</th>\n",
       "      <td>107229</td>\n",
       "      <td>open sesame  noodles</td>\n",
       "      <td>28</td>\n",
       "      <td>2004-12-30</td>\n",
       "      <td>this is a very versatile and widely enjoyed pa...</td>\n",
       "      <td>12</td>\n",
       "    </tr>\n",
       "    <tr>\n",
       "      <th>2</th>\n",
       "      <td>95926</td>\n",
       "      <td>say what   banana sandwich</td>\n",
       "      <td>5</td>\n",
       "      <td>2004-07-20</td>\n",
       "      <td>you just have to try it to believe it.</td>\n",
       "      <td>3</td>\n",
       "    </tr>\n",
       "    <tr>\n",
       "      <th>3</th>\n",
       "      <td>453467</td>\n",
       "      <td>1 in canada chocolate chip cookies</td>\n",
       "      <td>45</td>\n",
       "      <td>2011-04-11</td>\n",
       "      <td>this is the recipe that we use at my school ca...</td>\n",
       "      <td>11</td>\n",
       "    </tr>\n",
       "    <tr>\n",
       "      <th>4</th>\n",
       "      <td>306168</td>\n",
       "      <td>412 broccoli casserole</td>\n",
       "      <td>40</td>\n",
       "      <td>2008-05-30</td>\n",
       "      <td>since there are already 411 recipes for brocco...</td>\n",
       "      <td>9</td>\n",
       "    </tr>\n",
       "    <tr>\n",
       "      <th>...</th>\n",
       "      <td>...</td>\n",
       "      <td>...</td>\n",
       "      <td>...</td>\n",
       "      <td>...</td>\n",
       "      <td>...</td>\n",
       "      <td>...</td>\n",
       "    </tr>\n",
       "    <tr>\n",
       "      <th>18805</th>\n",
       "      <td>74023</td>\n",
       "      <td>zucchini cheddar casserole</td>\n",
       "      <td>50</td>\n",
       "      <td>2003-10-24</td>\n",
       "      <td>this has been a long time family favorite!</td>\n",
       "      <td>8</td>\n",
       "    </tr>\n",
       "    <tr>\n",
       "      <th>18806</th>\n",
       "      <td>415406</td>\n",
       "      <td>zucchini  courgette soup  good for weight watc...</td>\n",
       "      <td>45</td>\n",
       "      <td>2010-03-04</td>\n",
       "      <td>this is a favourite winter warmer. by british ...</td>\n",
       "      <td>9</td>\n",
       "    </tr>\n",
       "    <tr>\n",
       "      <th>18807</th>\n",
       "      <td>464576</td>\n",
       "      <td>zuppa by luisa</td>\n",
       "      <td>70</td>\n",
       "      <td>2011-09-20</td>\n",
       "      <td>this soup is a hearty meal!  from luisa musso.</td>\n",
       "      <td>17</td>\n",
       "    </tr>\n",
       "    <tr>\n",
       "      <th>18808</th>\n",
       "      <td>267661</td>\n",
       "      <td>zurie s holey rustic olive and cheddar bread</td>\n",
       "      <td>80</td>\n",
       "      <td>2007-11-25</td>\n",
       "      <td>this is based on a french recipe but i changed...</td>\n",
       "      <td>10</td>\n",
       "    </tr>\n",
       "    <tr>\n",
       "      <th>18809</th>\n",
       "      <td>298512</td>\n",
       "      <td>cookies by design   cookies on a stick</td>\n",
       "      <td>29</td>\n",
       "      <td>2008-04-15</td>\n",
       "      <td>i've heard of the 'cookies by design' company,...</td>\n",
       "      <td>10</td>\n",
       "    </tr>\n",
       "  </tbody>\n",
       "</table>\n",
       "<p>18810 rows × 6 columns</p>\n",
       "</div>"
      ],
      "text/plain": [
       "           id                                               name  minutes  \\\n",
       "index                                                                       \n",
       "0       84797           love is in the air  beef fondue   sauces       25   \n",
       "1      107229                               open sesame  noodles       28   \n",
       "2       95926                         say what   banana sandwich        5   \n",
       "3      453467                 1 in canada chocolate chip cookies       45   \n",
       "4      306168                             412 broccoli casserole       40   \n",
       "...       ...                                                ...      ...   \n",
       "18805   74023                         zucchini cheddar casserole       50   \n",
       "18806  415406  zucchini  courgette soup  good for weight watc...       45   \n",
       "18807  464576                                     zuppa by luisa       70   \n",
       "18808  267661       zurie s holey rustic olive and cheddar bread       80   \n",
       "18809  298512             cookies by design   cookies on a stick       29   \n",
       "\n",
       "       submitted                                        description  \\\n",
       "index                                                                 \n",
       "0     2004-02-23  i think a fondue is a very romantic casual din...   \n",
       "1     2004-12-30  this is a very versatile and widely enjoyed pa...   \n",
       "2     2004-07-20             you just have to try it to believe it.   \n",
       "3     2011-04-11  this is the recipe that we use at my school ca...   \n",
       "4     2008-05-30  since there are already 411 recipes for brocco...   \n",
       "...          ...                                                ...   \n",
       "18805 2003-10-24         this has been a long time family favorite!   \n",
       "18806 2010-03-04  this is a favourite winter warmer. by british ...   \n",
       "18807 2011-09-20     this soup is a hearty meal!  from luisa musso.   \n",
       "18808 2007-11-25  this is based on a french recipe but i changed...   \n",
       "18809 2008-04-15  i've heard of the 'cookies by design' company,...   \n",
       "\n",
       "       n_ingredients  \n",
       "index                 \n",
       "0                 12  \n",
       "1                 12  \n",
       "2                  3  \n",
       "3                 11  \n",
       "4                  9  \n",
       "...              ...  \n",
       "18805              8  \n",
       "18806              9  \n",
       "18807             17  \n",
       "18808             10  \n",
       "18809             10  \n",
       "\n",
       "[18810 rows x 6 columns]"
      ]
     },
     "execution_count": 14,
     "metadata": {},
     "output_type": "execute_result"
    }
   ],
   "source": [
    "# Оставьте в таблице с рецептами следующие столбцы: id, name, minutes, submitted, description, n_ingredients\n",
    "\n",
    "recipes_sample_wt.drop([\"contributor_id\", \"n_steps\",\"n_tags\",\"tags\",\"ingredients\"], axis=1, inplace=True)\n",
    "recipes_sample_wt"
   ]
  },
  {
   "cell_type": "markdown",
   "metadata": {},
   "source": [
    "2. Случайным образом выберите 5% строк из каждой таблицы и сохраните две таблицы на разные листы в один файл `recipes.xlsx`. Дайте листам названия \"Рецепты\" и \"Отзывы\", соответствующие содержанию таблиц. "
   ]
  },
  {
   "cell_type": "code",
   "execution_count": 15,
   "metadata": {},
   "outputs": [],
   "source": [
    "name = \"recipes.xlsx\"\n",
    "koef = 0.05\n",
    "writer = pd.ExcelWriter(name)\n",
    "new_recipes = recipes_sample_wt.sample(frac = koef) # frac = Fraction. Доля возвращаемых элементов оси\n",
    "new_recipes.to_excel(writer, sheet_name='Рецепты')"
   ]
  },
  {
   "cell_type": "code",
   "execution_count": 16,
   "metadata": {},
   "outputs": [],
   "source": [
    "new_reviews = reviews_sample.sample(frac = koef)\n",
    "new_reviews.to_excel(writer, sheet_name='Отзывы') \n",
    "writer.save()"
   ]
  },
  {
   "cell_type": "markdown",
   "metadata": {},
   "source": [
    "3. Используя `xlwings`, добавьте на лист `Рецепты` столбец `seconds_assign`, показывающий время выполнения рецепта в секундах. Выполните задание при помощи присваивания массива значений диапазону ячеек."
   ]
  },
  {
   "cell_type": "code",
   "execution_count": 17,
   "metadata": {},
   "outputs": [],
   "source": [
    "wb = xw.Book(name)\n",
    "sheet = wb.sheets[\"Рецепты\"]\n",
    "sheet.range(\"H1\").value = \"seconds_assign\"\n",
    "sheet.range(\"H1\").api.font_object.font_style.set('bold')\n",
    "sheet.range(\"H2:H1501\").options(transpose=True).value = (new_recipes[\"minutes\"] * 60).to_numpy()"
   ]
  },
  {
   "cell_type": "markdown",
   "metadata": {},
   "source": [
    "4. Используя `xlwings`, добавьте на лист `Рецепты` столбец `seconds_formula`, показывающий время выполнения рецепта в секундах. Выполните задание при помощи формул Excel."
   ]
  },
  {
   "cell_type": "code",
   "execution_count": 18,
   "metadata": {},
   "outputs": [],
   "source": [
    "sheet.range(\"I1\").value = \"seconds_formula\"\n",
    "sheet.range(\"I1\").api.font_object.font_style.set('bold')\n",
    "sheet.range(\"I2\").formula = \"=D2*60\"\n",
    "sheet.range(\"I2\").api.autofill(type=AutoFillType.xlFillDefault, destination=sheet.range(\"I2:I1501\").api)"
   ]
  },
  {
   "cell_type": "markdown",
   "metadata": {},
   "source": [
    "5. Добавьте на лист `Рецепты`  столбец `n_reviews`, содержащий кол-во отзывов для этого рецепта. Выполните задание при помощи формул Excel."
   ]
  },
  {
   "cell_type": "code",
   "execution_count": 19,
   "metadata": {},
   "outputs": [],
   "source": [
    "sheet.range(\"J1\").value = \"n_reviews\"\n",
    "sheet.range(\"J1\").api.font_object.font_style.set('bold')\n",
    "\n",
    "n = str(len(new_reviews)+1)\n",
    "sheet.range(\"J2\").formula = f'=COUNTIF(Отзывы!$C$2:$C${n}, \"=\"&B2)'\n",
    "sheet.range('J2').api.autofill(type=AutoFillType.xlFillDefault, destination=sheet.range(\"J2:J1501\").api)"
   ]
  },
  {
   "cell_type": "markdown",
   "metadata": {},
   "source": [
    "6. Сделайте названия всех добавленных столбцов полужирными и выровняйте по центру ячейки."
   ]
  },
  {
   "cell_type": "code",
   "execution_count": 20,
   "metadata": {},
   "outputs": [],
   "source": [
    "sheet['H1:J1'].api.horizontalalignment = xw.constants.HAlign.xlHAlignCenter\n",
    "\n",
    "table = xw.Range(\"A1:I1501\")\n",
    "table.columns[1].column_width = 50\n",
    "for i in range(4, 9):\n",
    "    table.columns[i].column_width = 25"
   ]
  },
  {
   "cell_type": "markdown",
   "metadata": {},
   "source": [
    "7. Раскрасьте ячейки столбца `minutes` в соответствии со следующим правилом: если рецепт выполняется быстрее 5 минут, то цвет - зеленый; от 5 до 10 минут - жёлтый; и больше 10 - красный."
   ]
  },
  {
   "cell_type": "code",
   "execution_count": 21,
   "metadata": {},
   "outputs": [],
   "source": [
    "from enum import Enum\n",
    "\n",
    "class Colors(Enum):\n",
    "    GREEN = (0, 255, 0)\n",
    "    YELLOW = (255, 255, 0) \n",
    "    RED = (255, 0, 0)"
   ]
  },
  {
   "cell_type": "code",
   "execution_count": null,
   "metadata": {},
   "outputs": [],
   "source": [
    "sheet = wb.sheets['Рецепты']\n",
    "values = sheet.range(\"D2:D1501\").value\n",
    "\n",
    "for i in range(len(values)):\n",
    "    \n",
    "    if values[i] < 5:\n",
    "        sheet.range(f\"D{i+2}\").color = Colors.GREEN.value\n",
    "    \n",
    "    elif 5 < values[i] <= 10:\n",
    "        sheet.range(f\"D{i+2}\").color = Colors.YELLOW.value\n",
    "    \n",
    "    else:\n",
    "        sheet.range(f\"D{i+2}\").color =  Colors.RED.value"
   ]
  },
  {
   "cell_type": "markdown",
   "metadata": {},
   "source": [
    "8. Напишите функцию `validate()`, которая проверяет соответствие всех строк из листа `Отзывы` следующим правилам:\n",
    "    * Рейтинг - это число от 0 до 5 включительно\n",
    "    * Соответствующий рецепт имеется на листе `Рецепты`\n",
    "    \n",
    "В случае несоответствия этим правилам, выделите строку красным цветом"
   ]
  },
  {
   "cell_type": "code",
   "execution_count": null,
   "metadata": {},
   "outputs": [],
   "source": [
    "sheet = wb.sheets['Отзывы']\n",
    "def validate(sheet):\n",
    "    sheet.range('G2').formula ='=COUNTIF(Рецепты!$B$2:$B$1501,\"=\"&C2)>0'\n",
    "    sheet.range('G2').api.autofill(destination = sheet.range('G2:G6336').api,type = AutoFillType.xlFillDefault)\n",
    "    for i in range(2,len(reviews_sample)+1):\n",
    "        rating = sheet.range(f'E{i}').value\n",
    "        if rating not in range(0,6) or sheet.range(f'G{i}').value==False:\n",
    "            sheet.range(f'A{i}:E{i}').color = (255,0,0)\n",
    "    sheet.range('G:G').value = \" \"\n",
    "validate(sheet)"
   ]
  },
  {
   "cell_type": "code",
   "execution_count": null,
   "metadata": {},
   "outputs": [],
   "source": []
  }
 ],
 "metadata": {
  "kernelspec": {
   "display_name": "Python 3",
   "language": "python",
   "name": "python3"
  },
  "language_info": {
   "codemirror_mode": {
    "name": "ipython",
    "version": 3
   },
   "file_extension": ".py",
   "mimetype": "text/x-python",
   "name": "python",
   "nbconvert_exporter": "python",
   "pygments_lexer": "ipython3",
   "version": "3.8.3"
  }
 },
 "nbformat": 4,
 "nbformat_minor": 4
}
