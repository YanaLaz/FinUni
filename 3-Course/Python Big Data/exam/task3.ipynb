{
 "cells": [
  {
   "cell_type": "markdown",
   "metadata": {},
   "source": [
    "3. Датасет: album_artist.xlsx С помощью кода на Python с использованием xlwings решить задачу. Вынести названия артистов на отдельный лист \"Артисты\" и присвоить каждому артисту уникальный идентификатор. Заменить названия артистов на исходном листе на идентификаторы с листа \"Артисты\"."
   ]
  },
  {
   "cell_type": "code",
   "execution_count": 1,
   "metadata": {},
   "outputs": [],
   "source": [
    "import xlwings as xw\n",
    "from xlwings.constants import AutoFillType"
   ]
  },
  {
   "cell_type": "code",
   "execution_count": 16,
   "metadata": {},
   "outputs": [],
   "source": [
    "wb = xw.Book('./data/album_artist.xlsx') \n",
    "\n",
    "# Берём имена артистов \n",
    "sht = wb.sheets['Sheet1']\n",
    "artist_lst = sht.range('D2').expand('down').value\n",
    "artist_lst = list(set(artist_lst))\n",
    "\n",
    "# Создаём новую страницу \"Артисты\"\n",
    "sht_artist = wb.sheets.add(name=\"Артисты\", after=wb.sheets[0].name)\n",
    "\n",
    "# Добавляем artist_lst на страницу \"Артисты\"\n",
    "sht_artist = wb.sheets['Артисты']\n",
    "sht_artist.range('B1').value = 'Name'\n",
    "sht_artist.range('B1').api.font_object.font_style.set('bold')\n",
    "sht_artist.range('B2').options(transpose=True).value = artist_lst[1:]\n",
    "\n",
    "# Добавляем ArtistId\n",
    "sht_artist.range(\"A1\").value = 'ArtistId'\n",
    "sht_artist.range('A1').api.font_object.font_style.set('bold')\n",
    "\n",
    "rownum = sht_artist.range('B2').current_region.last_cell.row - 1\n",
    "\n",
    "sht_artist.range(f\"A2:A{rownum}\").options(transpose=True).value = [i for i in range(1,204)]\n",
    "\n",
    "# Вставляем значения ArtistId вместо имени артиста на первую страницу\n",
    "sht.range(\"D1\").value = 'ArtistId'\n",
    "sht.range('D1').api.font_object.font_style.set('bold')\n",
    "sht.range(\"E2\").formula = f'=ИНДЕКС(Артисты!$A$2:$A$204;ПОИСКПОЗ(D2;Артисты!$B$2:$B$204;0))'\n",
    "sht.range('E2').api.autofill(type=AutoFillType.xlFillDefault, destination=sht.range(\"E2:E348\").api)\n",
    "\n",
    "artistid_lst = sht.range('E2').expand('down').value\n",
    "sht.range('D2').options(transpose=True).value = artistid_lst\n",
    "\n",
    "sht.range('E2').expand('down').value = ''"
   ]
  },
  {
   "cell_type": "code",
   "execution_count": null,
   "metadata": {},
   "outputs": [],
   "source": []
  }
 ],
 "metadata": {
  "kernelspec": {
   "display_name": "Python 3",
   "language": "python",
   "name": "python3"
  },
  "language_info": {
   "codemirror_mode": {
    "name": "ipython",
    "version": 3
   },
   "file_extension": ".py",
   "mimetype": "text/x-python",
   "name": "python",
   "nbconvert_exporter": "python",
   "pygments_lexer": "ipython3",
   "version": "3.8.3"
  }
 },
 "nbformat": 4,
 "nbformat_minor": 4
}
