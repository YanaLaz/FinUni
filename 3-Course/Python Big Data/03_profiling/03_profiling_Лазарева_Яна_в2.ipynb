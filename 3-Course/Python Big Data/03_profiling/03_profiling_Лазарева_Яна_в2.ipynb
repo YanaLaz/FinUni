{
 "cells": [
  {
   "cell_type": "markdown",
   "metadata": {},
   "source": [
    "## Оптимизация выполнения кода, векторизация, Numba"
   ]
  },
  {
   "cell_type": "markdown",
   "metadata": {},
   "source": [
    "Материалы:\n",
    "* Макрушин С.В. Лекция 3: Оптимизация выполнения кода, векторизация, Numba\n",
    "* IPython Cookbook, Second Edition (2018), глава 4\n",
    "* https://numba.pydata.org/numba-doc/latest/user/5minguide.html"
   ]
  },
  {
   "cell_type": "markdown",
   "metadata": {},
   "source": [
    "## Задачи для совместного разбора"
   ]
  },
  {
   "cell_type": "markdown",
   "metadata": {},
   "source": [
    "1. Сгенерируйте массив `A` из `N=1млн` случайных целых чисел на отрезке от 0 до 1000. Пусть `B[i] = A[i] + 100`. Посчитайте среднее значение массива `B`."
   ]
  },
  {
   "cell_type": "code",
   "execution_count": null,
   "metadata": {},
   "outputs": [],
   "source": [
    "import numpy as np \n",
    "\n",
    "A = np.random.randint(0, 1000, size=(1_000_000,))\n",
    "\n",
    "def f1(A):\n",
    "    acc, cnt = 0,0\n",
    "    for ai in A:\n",
    "        bi = ai + 100\n",
    "        acc += bi\n",
    "        cnt += 1\n",
    "    return acc / cnt"
   ]
  },
  {
   "cell_type": "code",
   "execution_count": null,
   "metadata": {},
   "outputs": [],
   "source": []
  },
  {
   "cell_type": "code",
   "execution_count": null,
   "metadata": {},
   "outputs": [],
   "source": []
  },
  {
   "cell_type": "code",
   "execution_count": null,
   "metadata": {},
   "outputs": [],
   "source": [
    "f1(A)"
   ]
  },
  {
   "cell_type": "code",
   "execution_count": null,
   "metadata": {},
   "outputs": [],
   "source": [
    "%timeit f1(A)"
   ]
  },
  {
   "cell_type": "code",
   "execution_count": null,
   "metadata": {},
   "outputs": [],
   "source": []
  },
  {
   "cell_type": "code",
   "execution_count": null,
   "metadata": {},
   "outputs": [],
   "source": [
    "def f2(A):\n",
    "    acc = 0\n",
    "    for ai in A:\n",
    "        acc += ai + 100\n",
    "    return acc / len(acc)"
   ]
  },
  {
   "cell_type": "code",
   "execution_count": null,
   "metadata": {},
   "outputs": [],
   "source": [
    "%timeit f2(A)"
   ]
  },
  {
   "cell_type": "code",
   "execution_count": null,
   "metadata": {},
   "outputs": [],
   "source": [
    "def f3(A):\n",
    "    return sum(A) / len(A) + 100"
   ]
  },
  {
   "cell_type": "code",
   "execution_count": null,
   "metadata": {},
   "outputs": [],
   "source": [
    "%timeit f3(A)"
   ]
  },
  {
   "cell_type": "code",
   "execution_count": null,
   "metadata": {},
   "outputs": [],
   "source": [
    "%lprun -f f1 f1(A)"
   ]
  },
  {
   "cell_type": "code",
   "execution_count": null,
   "metadata": {},
   "outputs": [],
   "source": []
  },
  {
   "cell_type": "code",
   "execution_count": null,
   "metadata": {},
   "outputs": [],
   "source": [
    "import numba"
   ]
  },
  {
   "cell_type": "code",
   "execution_count": null,
   "metadata": {},
   "outputs": [],
   "source": [
    "@numba.njit\n",
    "def f5(A):\n",
    "    acc, cnt = 0,0\n",
    "    for ai in A:\n",
    "        bi = ai + 100\n",
    "        acc += bi\n",
    "        cnt += 1\n",
    "    return acc / cnt"
   ]
  },
  {
   "cell_type": "code",
   "execution_count": null,
   "metadata": {},
   "outputs": [],
   "source": []
  },
  {
   "cell_type": "code",
   "execution_count": null,
   "metadata": {},
   "outputs": [],
   "source": [
    "f5(A)"
   ]
  },
  {
   "cell_type": "code",
   "execution_count": null,
   "metadata": {},
   "outputs": [],
   "source": [
    "%timeit f5(A)"
   ]
  },
  {
   "cell_type": "markdown",
   "metadata": {},
   "source": [
    "2. Создайте таблицу 2млн строк и с 4 столбцами, заполненными случайными числами. Добавьте столбец `key`, которые содержит элементы из множества английских букв. Выберите из таблицы подмножество строк, для которых в столбце `key` указаны первые 5 английских букв."
   ]
  },
  {
   "cell_type": "code",
   "execution_count": null,
   "metadata": {},
   "outputs": [],
   "source": [
    "import numpy as np\n",
    "import pandas as pd\n",
    "\n",
    "df = pd.DataFrame(np.random.randint(0, 1000, size=(2_000_000, 4)),\n",
    "                  columns=['col1', 'col2', 'col3', 'col4'])\n",
    "letters = ['a', 'b', 'c', 'd', 'e', 'f', 'g']\n",
    "df['key'] = np.random.choice(letters, 2_000_000, replace=True)\n",
    "\n",
    "def g(df):\n",
    "    letters = ['a', 'b', 'c', 'd', 'e']\n",
    "    dfs = []\n",
    "    for letter in letters:\n",
    "        q = df[df['key']==letter]\n",
    "        dfs.append(q)\n",
    "    return pd.concat(dfs, axis=0)"
   ]
  },
  {
   "cell_type": "code",
   "execution_count": null,
   "metadata": {},
   "outputs": [],
   "source": []
  },
  {
   "cell_type": "code",
   "execution_count": null,
   "metadata": {},
   "outputs": [],
   "source": []
  },
  {
   "cell_type": "code",
   "execution_count": null,
   "metadata": {},
   "outputs": [],
   "source": [
    "def g1(df):\n",
    "#     letters = ['a', 'b', 'c', 'd', 'e']\n",
    "    let = ['f','g']\n",
    "    dfs = []\n",
    "    for letter in let:\n",
    "        q = df[df['key']!=let]\n",
    "#         q = df[df['key']==letter]\n",
    "        dfs.append(q)\n",
    "    return pd.concat(dfs, axis=0)"
   ]
  },
  {
   "cell_type": "code",
   "execution_count": null,
   "metadata": {},
   "outputs": [],
   "source": [
    "return df[df['key'].isin(['a', 'b', 'c', 'd', 'e'])]"
   ]
  },
  {
   "cell_type": "code",
   "execution_count": null,
   "metadata": {},
   "outputs": [],
   "source": [
    "dfs"
   ]
  },
  {
   "cell_type": "code",
   "execution_count": null,
   "metadata": {},
   "outputs": [],
   "source": []
  },
  {
   "cell_type": "code",
   "execution_count": null,
   "metadata": {},
   "outputs": [],
   "source": [
    "%timeit g1(df)"
   ]
  },
  {
   "cell_type": "code",
   "execution_count": null,
   "metadata": {},
   "outputs": [],
   "source": [
    "%timeit g(df)"
   ]
  },
  {
   "cell_type": "code",
   "execution_count": null,
   "metadata": {},
   "outputs": [],
   "source": [
    "%lprun -f g g(df)"
   ]
  },
  {
   "cell_type": "markdown",
   "metadata": {},
   "source": [
    "## Лабораторная работа 3"
   ]
  },
  {
   "cell_type": "code",
   "execution_count": 7,
   "metadata": {},
   "outputs": [
    {
     "name": "stdout",
     "output_type": "stream",
     "text": [
      "Requirement already satisfied: line_profiler in /Users/yanalazareva/opt/anaconda3/lib/python3.8/site-packages (3.3.0)\n",
      "Requirement already satisfied: IPython>=0.13; python_version >= \"3.7\" in /Users/yanalazareva/opt/anaconda3/lib/python3.8/site-packages (from line_profiler) (7.16.1)\n",
      "Requirement already satisfied: pexpect; sys_platform != \"win32\" in /Users/yanalazareva/opt/anaconda3/lib/python3.8/site-packages (from IPython>=0.13; python_version >= \"3.7\"->line_profiler) (4.8.0)\n",
      "Requirement already satisfied: backcall in /Users/yanalazareva/opt/anaconda3/lib/python3.8/site-packages (from IPython>=0.13; python_version >= \"3.7\"->line_profiler) (0.2.0)\n",
      "Requirement already satisfied: jedi>=0.10 in /Users/yanalazareva/opt/anaconda3/lib/python3.8/site-packages (from IPython>=0.13; python_version >= \"3.7\"->line_profiler) (0.17.1)\n",
      "Requirement already satisfied: prompt-toolkit!=3.0.0,!=3.0.1,<3.1.0,>=2.0.0 in /Users/yanalazareva/opt/anaconda3/lib/python3.8/site-packages (from IPython>=0.13; python_version >= \"3.7\"->line_profiler) (3.0.5)\n",
      "Requirement already satisfied: pygments in /Users/yanalazareva/opt/anaconda3/lib/python3.8/site-packages (from IPython>=0.13; python_version >= \"3.7\"->line_profiler) (2.6.1)\n",
      "Requirement already satisfied: setuptools>=18.5 in /Users/yanalazareva/opt/anaconda3/lib/python3.8/site-packages (from IPython>=0.13; python_version >= \"3.7\"->line_profiler) (49.2.0.post20200714)\n",
      "Requirement already satisfied: decorator in /Users/yanalazareva/opt/anaconda3/lib/python3.8/site-packages (from IPython>=0.13; python_version >= \"3.7\"->line_profiler) (4.4.2)\n",
      "Requirement already satisfied: appnope; sys_platform == \"darwin\" in /Users/yanalazareva/opt/anaconda3/lib/python3.8/site-packages (from IPython>=0.13; python_version >= \"3.7\"->line_profiler) (0.1.0)\n",
      "Requirement already satisfied: pickleshare in /Users/yanalazareva/opt/anaconda3/lib/python3.8/site-packages (from IPython>=0.13; python_version >= \"3.7\"->line_profiler) (0.7.5)\n",
      "Requirement already satisfied: traitlets>=4.2 in /Users/yanalazareva/opt/anaconda3/lib/python3.8/site-packages (from IPython>=0.13; python_version >= \"3.7\"->line_profiler) (4.3.3)\n",
      "Requirement already satisfied: ptyprocess>=0.5 in /Users/yanalazareva/opt/anaconda3/lib/python3.8/site-packages (from pexpect; sys_platform != \"win32\"->IPython>=0.13; python_version >= \"3.7\"->line_profiler) (0.6.0)\n",
      "Requirement already satisfied: parso<0.8.0,>=0.7.0 in /Users/yanalazareva/opt/anaconda3/lib/python3.8/site-packages (from jedi>=0.10->IPython>=0.13; python_version >= \"3.7\"->line_profiler) (0.7.0)\n",
      "Requirement already satisfied: wcwidth in /Users/yanalazareva/opt/anaconda3/lib/python3.8/site-packages (from prompt-toolkit!=3.0.0,!=3.0.1,<3.1.0,>=2.0.0->IPython>=0.13; python_version >= \"3.7\"->line_profiler) (0.2.5)\n",
      "Requirement already satisfied: ipython-genutils in /Users/yanalazareva/opt/anaconda3/lib/python3.8/site-packages (from traitlets>=4.2->IPython>=0.13; python_version >= \"3.7\"->line_profiler) (0.2.0)\n",
      "Requirement already satisfied: six in /Users/yanalazareva/opt/anaconda3/lib/python3.8/site-packages (from traitlets>=4.2->IPython>=0.13; python_version >= \"3.7\"->line_profiler) (1.15.0)\n"
     ]
    }
   ],
   "source": [
    "!pip install line_profiler"
   ]
  },
  {
   "cell_type": "code",
   "execution_count": null,
   "metadata": {},
   "outputs": [],
   "source": []
  },
  {
   "cell_type": "code",
   "execution_count": 8,
   "metadata": {},
   "outputs": [],
   "source": [
    "%load_ext line_profiler"
   ]
  },
  {
   "cell_type": "code",
   "execution_count": null,
   "metadata": {},
   "outputs": [],
   "source": []
  },
  {
   "cell_type": "code",
   "execution_count": null,
   "metadata": {},
   "outputs": [],
   "source": []
  },
  {
   "cell_type": "markdown",
   "metadata": {},
   "source": [
    "1. В файлах `recipes_sample.csv` и `reviews_sample.csv` (__ЛР 2__) находится информация об рецептах блюд и отзывах на эти рецепты соответственно. Загрузите данные из файлов в виде `pd.DataFrame` с названиями `recipes` и `reviews`. Обратите внимание на корректное считывание столбца(ов) с индексами. Приведите столбцы к нужным типам.\n",
    "\n",
    "Реализуйте несколько вариантов функции подсчета среднего значения столбца `rating` из таблицы `reviews` для отзывов, оставленных в 2010 году.\n",
    "\n",
    "A. С использованием метода `DataFrame.iterrows` исходной таблицы;\n",
    "\n",
    "Б. С использованием метода `DataFrame.iterrows` таблицы, в которой сохранены только отзывы за 2010 год;\n",
    "\n",
    "В. С использованием метода `Series.mean`.\n",
    "\n",
    "Проверьте, что результаты работы всех написанных функций корректны и совпадают. Измерьте выполнения всех написанных функций.\n"
   ]
  },
  {
   "cell_type": "code",
   "execution_count": 6,
   "metadata": {},
   "outputs": [],
   "source": [
    "import pandas as pd"
   ]
  },
  {
   "cell_type": "code",
   "execution_count": null,
   "metadata": {},
   "outputs": [],
   "source": []
  },
  {
   "cell_type": "code",
   "execution_count": 21,
   "metadata": {},
   "outputs": [],
   "source": [
    "recipes = pd.read_csv('./data/recipes_sample.csv', sep=',', parse_dates=['submitted'])\n",
    "reviews = pd.read_csv('./data/reviews_sample.csv', sep=',', index_col=0, parse_dates=['date'])"
   ]
  },
  {
   "cell_type": "code",
   "execution_count": 22,
   "metadata": {},
   "outputs": [
    {
     "data": {
      "text/plain": [
       "4.4544402182900615"
      ]
     },
     "execution_count": 22,
     "metadata": {},
     "output_type": "execute_result"
    }
   ],
   "source": [
    "#A \n",
    "\n",
    "def A():\n",
    "    c = 0\n",
    "    a = 0\n",
    "    for index, row in reviews.iterrows():\n",
    "        if row[\"date\"].year == 2010:\n",
    "            a += row[\"rating\"]\n",
    "            c += 1\n",
    "\n",
    "    return a/c\n",
    "\n",
    "res_A = A()\n",
    "res_A"
   ]
  },
  {
   "cell_type": "code",
   "execution_count": 5,
   "metadata": {},
   "outputs": [
    {
     "name": "stdout",
     "output_type": "stream",
     "text": [
      "17.5 s ± 775 ms per loop (mean ± std. dev. of 7 runs, 1 loop each)\n"
     ]
    }
   ],
   "source": [
    "%timeit A()"
   ]
  },
  {
   "cell_type": "code",
   "execution_count": 6,
   "metadata": {},
   "outputs": [
    {
     "data": {
      "text/plain": [
       "4.4544402182900615"
      ]
     },
     "execution_count": 6,
     "metadata": {},
     "output_type": "execute_result"
    }
   ],
   "source": [
    "# B\n",
    "\n",
    "def B():\n",
    "    c = 0\n",
    "    a = 0\n",
    "    y = reviews[reviews['date'].dt.year == 2010]\n",
    "    for index, row in y.iterrows():\n",
    "        a += row[\"rating\"]\n",
    "        c += 1\n",
    "\n",
    "    return a/c\n",
    "    \n",
    "res_B = B()\n",
    "res_B"
   ]
  },
  {
   "cell_type": "code",
   "execution_count": 7,
   "metadata": {},
   "outputs": [
    {
     "name": "stdout",
     "output_type": "stream",
     "text": [
      "2.42 s ± 403 ms per loop (mean ± std. dev. of 7 runs, 1 loop each)\n"
     ]
    }
   ],
   "source": [
    "%timeit B()"
   ]
  },
  {
   "cell_type": "code",
   "execution_count": 10,
   "metadata": {},
   "outputs": [
    {
     "data": {
      "text/plain": [
       "4.4544402182900615"
      ]
     },
     "execution_count": 10,
     "metadata": {},
     "output_type": "execute_result"
    }
   ],
   "source": [
    "# C\n",
    "\n",
    "def C():\n",
    "    y = reviews['date'].dt.year == 2010\n",
    "    return reviews.loc[y, 'rating'].mean()\n",
    "\n",
    "rC = C()\n",
    "rC"
   ]
  },
  {
   "cell_type": "code",
   "execution_count": 11,
   "metadata": {},
   "outputs": [
    {
     "name": "stdout",
     "output_type": "stream",
     "text": [
      "13.7 ms ± 1.83 ms per loop (mean ± std. dev. of 7 runs, 100 loops each)\n"
     ]
    }
   ],
   "source": [
    "%timeit C()"
   ]
  },
  {
   "cell_type": "markdown",
   "metadata": {},
   "source": [
    "2. Какая из созданных функций выполняется медленнее? Что наиболее сильно влияет на скорость выполнения? Для ответа использовать профайлер `line_profiler`. Сохраните результаты работы профайлера в отдельную текстовую ячейку и прокомментируйте результаты его работы.\n",
    "\n",
    "(*). Сможете ли вы ускорить работу функции 1Б, отказавшись от использования метода `iterrows`, но не используя метод `mean`?"
   ]
  },
  {
   "cell_type": "code",
   "execution_count": 14,
   "metadata": {},
   "outputs": [],
   "source": [
    "# A самая медленная ф-ция из-за цикла for\n",
    "%lprun -f A A()"
   ]
  },
  {
   "cell_type": "markdown",
   "metadata": {},
   "source": [
    "Timer unit: 1e-06 s\n",
    "\n",
    "Total time: 67.3542 s\n",
    "File: <ipython-input-4-7f82946fe955>\n",
    "Function: A at line 3\n",
    "\n",
    "Line #      Hits         Time  Per Hit   % Time  Line Contents\n",
    "==============================================================\n",
    "     3                                           def A():\n",
    "     4         1          3.0      3.0      0.0      c = 0\n",
    "     5         1          2.0      2.0      0.0      a = 0\n",
    "     6    126697   55169446.0    435.4     81.9      for index, row in reviews.iterrows():\n",
    "     7    126696   11426662.0     90.2     17.0          if row[\"date\"].year == 2010:\n",
    "     8     12094     739045.0     61.1      1.1              a += row[\"rating\"]\n",
    "     9     12094      19087.0      1.6      0.0              c += 1\n",
    "    10                                           \n",
    "    11         1          1.0      1.0      0.0      return a/c"
   ]
  },
  {
   "cell_type": "code",
   "execution_count": 15,
   "metadata": {},
   "outputs": [],
   "source": [
    "# Ср по скорости выполнения, снова мешает цикл for\n",
    "%lprun -f B B()"
   ]
  },
  {
   "cell_type": "markdown",
   "metadata": {},
   "source": [
    "Timer unit: 1e-06 s\n",
    "\n",
    "Total time: 5.81583 s\n",
    "File: <ipython-input-6-698a6b451a95>\n",
    "Function: B at line 3\n",
    "\n",
    "Line #      Hits         Time  Per Hit   % Time  Line Contents\n",
    "==============================================================\n",
    "     3                                           def B():\n",
    "     4         1          2.0      2.0      0.0      c = 0\n",
    "     5         1          1.0      1.0      0.0      a = 0\n",
    "     6         1      18222.0  18222.0      0.3      y = reviews[reviews['date'].dt.year == 2010]\n",
    "     7     12095    4732591.0    391.3     81.4      for index, row in y.iterrows():\n",
    "     8     12094    1048516.0     86.7     18.0          a += row[\"rating\"]\n",
    "     9     12094      16501.0      1.4      0.3          c += 1\n",
    "    10                                           \n",
    "    11         1          2.0      2.0      0.0      return a/c"
   ]
  },
  {
   "cell_type": "code",
   "execution_count": 16,
   "metadata": {},
   "outputs": [],
   "source": [
    "# Самая быстрая функция\n",
    "%lprun -f C C()"
   ]
  },
  {
   "cell_type": "markdown",
   "metadata": {},
   "source": [
    "Timer unit: 1e-06 s\n",
    "\n",
    "Total time: 0.014732 s\n",
    "File: <ipython-input-10-479d98933cba>\n",
    "Function: C at line 3\n",
    "\n",
    "Line #      Hits         Time  Per Hit   % Time  Line Contents\n",
    "==============================================================\n",
    "     3                                           def C():\n",
    "     4         1      13101.0  13101.0     88.9      y = reviews['date'].dt.year == 2010\n",
    "     5         1       1631.0   1631.0     11.1      return reviews.loc[y, 'rating'].mean()"
   ]
  },
  {
   "cell_type": "markdown",
   "metadata": {},
   "source": [
    "3. Вам предлагается воспользоваться функцией, которая собирает статистику о том, сколько отзывов содержат то или иное слово. Измерьте время выполнения этой функции. Сможете ли вы найти узкие места в коде, используя профайлер? Выпишите (словами), что в имеющемся коде реализовано неоптимально. Оптимизируйте функцию и добейтесь значительного (как минимум, на один порядок) прироста в скорости выполнения."
   ]
  },
  {
   "cell_type": "code",
   "execution_count": 25,
   "metadata": {},
   "outputs": [],
   "source": [
    "def get_word_reviews_count(df):\n",
    "    word_reviews = {}\n",
    "    for _, row in df.dropna(subset=['review']).iterrows():\n",
    "        recipe_id, review = row['recipe_id'], row['review']\n",
    "        words = review.split(' ')\n",
    "        for word in words:\n",
    "            if word not in word_reviews:\n",
    "                word_reviews[word] = []\n",
    "            word_reviews[word].append(recipe_id)\n",
    "    \n",
    "    word_reviews_count = {}\n",
    "    for _, row in df.dropna(subset=['review']).iterrows():\n",
    "        review = row['review']\n",
    "        words = review.split(' ')\n",
    "        for word in words:\n",
    "            word_reviews_count[word] = len(word_reviews[word])\n",
    "    return word_reviews_count"
   ]
  },
  {
   "cell_type": "code",
   "execution_count": 24,
   "metadata": {},
   "outputs": [
    {
     "name": "stdout",
     "output_type": "stream",
     "text": [
      "30.9 s ± 706 ms per loop (mean ± std. dev. of 7 runs, 1 loop each)\n"
     ]
    }
   ],
   "source": [
    "%timeit get_word_reviews_count(reviews)"
   ]
  },
  {
   "cell_type": "code",
   "execution_count": null,
   "metadata": {},
   "outputs": [],
   "source": [
    "%lprun -f get_word_reviews_count get_word_reviews_count(reviews)"
   ]
  },
  {
   "cell_type": "code",
   "execution_count": null,
   "metadata": {},
   "outputs": [],
   "source": [
    "# На цикл for (3 и 12 строки кода) тратится больше всего времени \n",
    "# + if (7 строка кода) \n",
    "# + определение длины слов (16 строка кода)"
   ]
  },
  {
   "cell_type": "code",
   "execution_count": 26,
   "metadata": {},
   "outputs": [],
   "source": [
    "def optim(df):\n",
    "    word_reviews = {}\n",
    "    for i, row in df.dropna(subset=['review']).iterrows():\n",
    "        for word in row['review'].split(' '):\n",
    "            if word not in word_reviews:\n",
    "                word_reviews[word] = 0\n",
    "            word_reviews[word] += 1\n",
    "    return word_reviews"
   ]
  },
  {
   "cell_type": "code",
   "execution_count": 29,
   "metadata": {},
   "outputs": [
    {
     "name": "stdout",
     "output_type": "stream",
     "text": [
      "15.5 s ± 2.23 s per loop (mean ± std. dev. of 7 runs, 1 loop each)\n"
     ]
    }
   ],
   "source": [
    "%timeit optim(reviews)"
   ]
  },
  {
   "cell_type": "code",
   "execution_count": 30,
   "metadata": {},
   "outputs": [],
   "source": [
    "%lprun -f optim optim(reviews)"
   ]
  },
  {
   "cell_type": "markdown",
   "metadata": {},
   "source": [
    "4. Напишите несколько версий функции `MAPE` (см. [MAPE](https://en.wikipedia.org/wiki/Mean_absolute_percentage_error)) для расчета среднего абсолютного процентного отклонения значения рейтинга отзыва на рецепт от среднего значения рейтинга по всем отзывам для этого рецепта. \n",
    "    1. Без использования векторизованных операций и методов массивов `numpy` и без использования `numba`\n",
    "    2. Без использования векторизованных операций и методов массивов `numpy`, но с использованием `numba`\n",
    "    3. С использованием векторизованных операций и методов массивов `numpy`, но без использования `numba`\n",
    "    4. C использованием векторизованных операций и методов массивов `numpy` и `numba`\n",
    "    \n",
    "Измерьте время выполнения каждой из реализаций.\n",
    "\n",
    "Замечание: удалите из выборки отзывы с нулевым рейтингом.\n"
   ]
  },
  {
   "cell_type": "code",
   "execution_count": null,
   "metadata": {},
   "outputs": [],
   "source": [
    "reviews_dt = pd.DataFrame(reviews)"
   ]
  },
  {
   "cell_type": "markdown",
   "metadata": {},
   "source": [
    "recipe_groupsA - A\n",
    "\n",
    "reviews_data_frame - reviews_dt\n",
    "\n",
    "recipe_groupsFs - F\n",
    "\n",
    "result_for_calc - res"
   ]
  },
  {
   "cell_type": "code",
   "execution_count": null,
   "metadata": {},
   "outputs": [],
   "source": [
    "A = reviews_dt[reviews_dt['rating']>0].groupby(by='recipe_id').mean().reset_index() #A в формуле\n",
    "F = reviews_dt[reviews_dt['rating']>0].groupby(by='recipe_id')['rating'].agg(list) #F в формуле\n",
    "A['F'] = A['recipe_id'].map(F)\n",
    "res = A.drop(['user_id'], axis = 1)\n",
    "means = res['rating'].to_list()\n",
    "f_lst = res['F'].to_list()\n",
    "res"
   ]
  },
  {
   "cell_type": "code",
   "execution_count": null,
   "metadata": {},
   "outputs": [],
   "source": [
    "import itertools\n",
    "def mape_A(rawA, rawF):\n",
    "    result = []\n",
    "    for (avg, items) in zip(rawA, rawF):\n",
    "        summa = int(0)\n",
    "        for item in items:\n",
    "            summa += abs( avg - item )/ avg\n",
    "        summa = summa * 100 / len(items)\n",
    "        result.append(summa)\n",
    "    \n",
    "    return result\n",
    "mape_A(res['rating'], res['F'])[:10]"
   ]
  },
  {
   "cell_type": "code",
   "execution_count": null,
   "metadata": {},
   "outputs": [],
   "source": [
    "%timeit mape_A(means, fs)"
   ]
  },
  {
   "cell_type": "code",
   "execution_count": null,
   "metadata": {},
   "outputs": [],
   "source": [
    "import numba\n",
    "from numba.typed import List\n",
    "\n",
    "@numba.njit\n",
    "def mape_B(rawA, rawF):\n",
    "    \n",
    "    result = List()\n",
    "    for (avg, items) in zip(rawA, rawF):\n",
    "        summa = int(0)\n",
    "        for item in items:\n",
    "            summa += abs( avg - item )/ avg\n",
    "        summa = summa * 100 / len(items)\n",
    "        result.append(summa)\n",
    "    \n",
    "    return result\n",
    "\n",
    "means_new = List()\n",
    "[means_new.append(x) for x in means]\n",
    "fs_new = List()\n",
    "[fs_new.append(List(i for i in x)) for x in fs]\n",
    "mape_B(means_new, fs_new)[:10]"
   ]
  },
  {
   "cell_type": "code",
   "execution_count": null,
   "metadata": {},
   "outputs": [],
   "source": [
    "%timeit mape_B(means_new, fs_new)"
   ]
  },
  {
   "cell_type": "code",
   "execution_count": null,
   "metadata": {},
   "outputs": [],
   "source": [
    "def mape_C(rawA, rawF):\n",
    "    result = np.array([])\n",
    "    for (avg, items) in zip(rawA, rawF):\n",
    "        summa = int(0)\n",
    "        for item in items:\n",
    "            summa += np.fabs( avg - item )/ avg\n",
    "        summa = summa * 100 / len(items)\n",
    "        result = np.append(result, summa)\n",
    "    return result\n",
    "#n - кол-во строк\n",
    "mape_C(res['rating'], res['F'])[:10]"
   ]
  },
  {
   "cell_type": "code",
   "execution_count": null,
   "metadata": {},
   "outputs": [],
   "source": [
    "%timeit mape_C(means, fs)"
   ]
  },
  {
   "cell_type": "code",
   "execution_count": null,
   "metadata": {},
   "outputs": [],
   "source": [
    "@numba.njit\n",
    "def mape_D(rawA, rawF):   \n",
    "    result = List()\n",
    "    for (avg, items) in zip(rawA, rawF):\n",
    "        summa = int(0)\n",
    "        for item in items:\n",
    "            summa += np.fabs( avg - item )/ avg\n",
    "        summa = summa * 100 / len(items)\n",
    "        result.append(summa)\n",
    "    \n",
    "    return result\n",
    "\n",
    "means_new = List()\n",
    "[means_new.append(x) for x in means]\n",
    "fs_new = List()\n",
    "[fs_new.append(List(i for i in x)) for x in fs]\n",
    "mape_D(means_new, fs_new)[:10]"
   ]
  },
  {
   "cell_type": "code",
   "execution_count": null,
   "metadata": {},
   "outputs": [],
   "source": [
    "%timeit mape_D(means_new, fs_new)"
   ]
  },
  {
   "cell_type": "markdown",
   "metadata": {},
   "source": [
    "#### [версия 2]\n",
    "* Уточнены формулировки задач 1, 3, 4"
   ]
  },
  {
   "cell_type": "code",
   "execution_count": null,
   "metadata": {},
   "outputs": [],
   "source": []
  },
  {
   "cell_type": "code",
   "execution_count": 4,
   "metadata": {},
   "outputs": [],
   "source": [
    "import numpy as np "
   ]
  },
  {
   "cell_type": "code",
   "execution_count": 17,
   "metadata": {},
   "outputs": [
    {
     "name": "stdout",
     "output_type": "stream",
     "text": [
      "2\n",
      "1 2\n"
     ]
    },
    {
     "data": {
      "text/plain": [
       "1"
      ]
     },
     "execution_count": 17,
     "metadata": {},
     "output_type": "execute_result"
    }
   ],
   "source": [
    "def A(n, a):\n",
    "    k = 0\n",
    "    mx = max(a)\n",
    "    while True:\n",
    "        broken = False\n",
    "        k += 1\n",
    "        if a.count(a[0]) == len(a):\n",
    "#         if len(set(a)) == 1:\n",
    "            return(k-1)\n",
    "            broken = True\n",
    "            break\n",
    "        for i in range(n - 1):\n",
    "            if a[i] <= a[i + 1] and a[i] < mx:\n",
    "                a[i] += 1\n",
    "            elif len(set(a)) == 1:\n",
    "                return(k)\n",
    "                broken = True\n",
    "                break\n",
    "            elif a[i] > a[i + 1]:\n",
    "                return(-1)\n",
    "                broken = True\n",
    "                break\n",
    "        if broken:\n",
    "            break\n",
    "\n",
    "\n",
    "n = int(input())\n",
    "a = input().split(' ')\n",
    "\n",
    "a = [int(item) for item in a]\n",
    "\n",
    "A(n, a)"
   ]
  },
  {
   "cell_type": "code",
   "execution_count": null,
   "metadata": {},
   "outputs": [],
   "source": [
    "while True:\n",
    "    broken = False\n",
    "    k += 1\n",
    "    if a.count(a[0]) == len(a):\n",
    "#         if len(set(a)) == 1:\n",
    "        return print(k-1)\n",
    "        broken = True\n",
    "        break\n",
    "    for i in range(n - 1):\n",
    "        if a[i] <= a[i + 1] and a[i] < mx:\n",
    "            a[i] += 1\n",
    "        elif len(set(a)) == 1:\n",
    "            return print(k)\n",
    "            broken = True\n",
    "            break\n",
    "        elif a[i] > a[i + 1]:\n",
    "            return print(-1)\n",
    "            broken = True\n",
    "            break\n",
    "    if broken:\n",
    "        break"
   ]
  },
  {
   "cell_type": "code",
   "execution_count": 18,
   "metadata": {},
   "outputs": [],
   "source": [
    "%lprun -f A A(n, a)"
   ]
  },
  {
   "cell_type": "code",
   "execution_count": 40,
   "metadata": {},
   "outputs": [],
   "source": [
    "def A():    \n",
    "    n = input()\n",
    "    a = input()\n",
    "\n",
    "    a = [int(item) for item in a.split(' ')]\n",
    "\n",
    "    k = 0\n",
    "    mx = max(a)\n",
    "    while True:\n",
    "        broken = False\n",
    "        k += 1\n",
    "        if a.count(a[0]) == len(a):\n",
    "            print(k-1)\n",
    "            broken = True\n",
    "            break\n",
    "        for i in range(int(n) - 1):\n",
    "            if a[i] <= a[i + 1] and a[i] < mx:\n",
    "                a[i] += 1\n",
    "            elif len(set(a)) == 1:\n",
    "                print(k)\n",
    "                broken = True\n",
    "                break\n",
    "            elif a[i] > a[i + 1]:\n",
    "                print(-1)\n",
    "                broken = True\n",
    "                break\n",
    "        if broken:\n",
    "            break"
   ]
  },
  {
   "cell_type": "code",
   "execution_count": 41,
   "metadata": {},
   "outputs": [
    {
     "name": "stdout",
     "output_type": "stream",
     "text": [
      "2\n",
      "1 2\n",
      "1\n"
     ]
    }
   ],
   "source": [
    "%lprun -f A A()"
   ]
  },
  {
   "cell_type": "code",
   "execution_count": 42,
   "metadata": {},
   "outputs": [
    {
     "name": "stdout",
     "output_type": "stream",
     "text": [
      "2\n",
      "1 2\n",
      "1\n"
     ]
    }
   ],
   "source": [
    "A()"
   ]
  },
  {
   "cell_type": "code",
   "execution_count": null,
   "metadata": {},
   "outputs": [],
   "source": [
    "n = input()\n",
    "a = input()\n",
    "\n",
    "a = [int(item) for item in a.split(' ')]\n",
    "\n",
    "k = 0\n",
    "mx = max(a)\n",
    "while True:\n",
    "    broken = False\n",
    "    k += 1\n",
    "    if a.count(a[0]) == len(a):\n",
    "        print(k-1)\n",
    "        broken = True\n",
    "        break\n",
    "    for i in range(int(n) - 1):\n",
    "        if a[i] <= a[i + 1] and a[i] < mx:\n",
    "            a[i] += 1\n",
    "        elif len(set(a)) == 1:\n",
    "            print(k)\n",
    "            broken = True\n",
    "            break\n",
    "        elif a[i] > a[i + 1]:\n",
    "            print(-1)\n",
    "            broken = True\n",
    "            break\n",
    "    if broken:\n",
    "        break"
   ]
  },
  {
   "cell_type": "code",
   "execution_count": null,
   "metadata": {},
   "outputs": [],
   "source": []
  },
  {
   "cell_type": "markdown",
   "metadata": {},
   "source": [
    "# "
   ]
  },
  {
   "cell_type": "code",
   "execution_count": 49,
   "metadata": {},
   "outputs": [],
   "source": [
    "def B():\n",
    "#     with open('input.txt', 'r') as f:\n",
    "    f = open(\"input.txt\", 'r')\n",
    "    nums = f.read().splitlines()\n",
    "    n = nums[0]\n",
    "    a = [int(item) for item in list(nums[1].split(' '))] \n",
    "\n",
    "    #a = [int(item) for item in a]\n",
    "\n",
    "    k = 0\n",
    "    mx = max(a)\n",
    "    while True:\n",
    "        broken = False\n",
    "        k += 1\n",
    "        if a.count(a[0]) == len(a):\n",
    "            print(k-1)\n",
    "            broken = True\n",
    "            break\n",
    "        for i in range(int(n) - 1):\n",
    "            if a[i] <= a[i + 1] and a[i] < mx:\n",
    "                a[i] += 1\n",
    "            elif len(set(a)) == 1:\n",
    "                print(k)\n",
    "                broken = True\n",
    "                break\n",
    "            elif a[i] > a[i + 1]:\n",
    "                print(-1)\n",
    "                broken = True\n",
    "                break\n",
    "        if broken:\n",
    "            break"
   ]
  },
  {
   "cell_type": "code",
   "execution_count": null,
   "metadata": {},
   "outputs": [],
   "source": []
  },
  {
   "cell_type": "code",
   "execution_count": null,
   "metadata": {},
   "outputs": [],
   "source": []
  },
  {
   "cell_type": "code",
   "execution_count": 50,
   "metadata": {},
   "outputs": [
    {
     "name": "stdout",
     "output_type": "stream",
     "text": [
      "1\n"
     ]
    }
   ],
   "source": [
    "%lprun -f B B()"
   ]
  },
  {
   "cell_type": "code",
   "execution_count": null,
   "metadata": {},
   "outputs": [],
   "source": []
  },
  {
   "cell_type": "markdown",
   "metadata": {},
   "source": [
    "Line #      Hits         Time  Per Hit   % Time  Line Contents\n",
    "==============================================================\n",
    "     1                                           def B():\n",
    "     2                                           #     with open('input.txt', 'r') as f:\n",
    "     3         1        199.0    199.0     28.2      f = open(\"input.txt\", 'r')\n",
    "     4         1         32.0     32.0      4.5      nums = f.read().splitlines()\n",
    "     5         1          2.0      2.0      0.3      n = nums[0]\n",
    "     6         1         11.0     11.0      1.6      a = [int(item) for item in list(nums[1].split(' '))] \n",
    "     7                                           \n",
    "     8                                               #a = [int(item) for item in a]\n",
    "     9                                           \n",
    "    10         1          1.0      1.0      0.1      k = 0\n",
    "    11         1          4.0      4.0      0.6      mx = max(a)\n",
    "    12                                               while True:\n",
    "    13         2          4.0      2.0      0.6          broken = False\n",
    "    14         2          3.0      1.5      0.4          k += 1\n",
    "    15         2          5.0      2.5      0.7          if a.count(a[0]) == len(a):\n",
    "    16         1        427.0    427.0     60.6              print(k-1)\n",
    "    17         1          3.0      3.0      0.4              broken = True\n",
    "    18         1          1.0      1.0      0.1              break\n",
    "    19         2          6.0      3.0      0.9          for i in range(int(n) - 1):\n",
    "    20         1          3.0      3.0      0.4              if a[i] <= a[i + 1] and a[i] < mx:\n",
    "    21         1          2.0      2.0      0.3                  a[i] += 1\n",
    "    22                                                       elif len(set(a)) == 1:\n",
    "    23                                                           print(k)\n",
    "    24                                                           broken = True\n",
    "    25                                                           break\n",
    "    26                                                       elif a[i] > a[i + 1]:\n",
    "    27                                                           print(-1)\n",
    "    28                                                           broken = True\n",
    "    29                                                           break\n",
    "    30         1          2.0      2.0      0.3          if broken:\n",
    "    31                                                       break"
   ]
  },
  {
   "cell_type": "code",
   "execution_count": null,
   "metadata": {},
   "outputs": [],
   "source": []
  },
  {
   "cell_type": "code",
   "execution_count": null,
   "metadata": {},
   "outputs": [],
   "source": []
  },
  {
   "cell_type": "code",
   "execution_count": null,
   "metadata": {},
   "outputs": [],
   "source": []
  },
  {
   "cell_type": "code",
   "execution_count": null,
   "metadata": {},
   "outputs": [],
   "source": []
  },
  {
   "cell_type": "code",
   "execution_count": null,
   "metadata": {},
   "outputs": [],
   "source": []
  },
  {
   "cell_type": "code",
   "execution_count": null,
   "metadata": {},
   "outputs": [],
   "source": []
  },
  {
   "cell_type": "code",
   "execution_count": null,
   "metadata": {},
   "outputs": [],
   "source": []
  },
  {
   "cell_type": "code",
   "execution_count": null,
   "metadata": {},
   "outputs": [],
   "source": []
  },
  {
   "cell_type": "code",
   "execution_count": null,
   "metadata": {},
   "outputs": [],
   "source": []
  },
  {
   "cell_type": "code",
   "execution_count": null,
   "metadata": {},
   "outputs": [],
   "source": []
  },
  {
   "cell_type": "code",
   "execution_count": null,
   "metadata": {},
   "outputs": [],
   "source": []
  },
  {
   "cell_type": "code",
   "execution_count": null,
   "metadata": {},
   "outputs": [],
   "source": []
  },
  {
   "cell_type": "code",
   "execution_count": null,
   "metadata": {},
   "outputs": [],
   "source": []
  },
  {
   "cell_type": "code",
   "execution_count": null,
   "metadata": {},
   "outputs": [],
   "source": []
  },
  {
   "cell_type": "code",
   "execution_count": null,
   "metadata": {},
   "outputs": [],
   "source": []
  },
  {
   "cell_type": "code",
   "execution_count": null,
   "metadata": {},
   "outputs": [],
   "source": []
  },
  {
   "cell_type": "code",
   "execution_count": null,
   "metadata": {},
   "outputs": [],
   "source": []
  }
 ],
 "metadata": {
  "kernelspec": {
   "display_name": "Python 3",
   "language": "python",
   "name": "python3"
  },
  "language_info": {
   "codemirror_mode": {
    "name": "ipython",
    "version": 3
   },
   "file_extension": ".py",
   "mimetype": "text/x-python",
   "name": "python",
   "nbconvert_exporter": "python",
   "pygments_lexer": "ipython3",
   "version": "3.8.3"
  }
 },
 "nbformat": 4,
 "nbformat_minor": 4
}
