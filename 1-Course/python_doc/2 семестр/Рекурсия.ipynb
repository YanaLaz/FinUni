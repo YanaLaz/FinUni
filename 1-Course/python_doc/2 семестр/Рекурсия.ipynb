{
 "cells": [
  {
   "cell_type": "markdown",
   "metadata": {},
   "source": [
    "1. Дано натуральное число n. Выведите все числа от 1 до n.\n",
    "Ввод: 5\n",
    "Вывод 1 2 3 4 5"
   ]
  },
  {
   "cell_type": "code",
   "execution_count": 1,
   "metadata": {},
   "outputs": [
    {
     "name": "stdout",
     "output_type": "stream",
     "text": [
      "Введите число: 6\n"
     ]
    },
    {
     "data": {
      "text/plain": [
       "'1 2 3 4 5 6'"
      ]
     },
     "execution_count": 1,
     "metadata": {},
     "output_type": "execute_result"
    }
   ],
   "source": [
    "def ch(n):\n",
    "    if n == 1:\n",
    "        return 1\n",
    "    return str(ch(n-1)) +' '+ str(n)\n",
    "    \n",
    "n = int(input('Введите число: '))\n",
    "ch(n)"
   ]
  },
  {
   "cell_type": "markdown",
   "metadata": {},
   "source": [
    "2. Дано натуральное число N. Выведите слово YES, если число N является точной степенью двойки, или слово NO в противном случае. Операцией возведения в степень пользоваться нельзя!\n",
    "Ввод: 8\n",
    "Вывод: Yes\n",
    "Ввод: 3\n",
    "Вывод: No"
   ]
  },
  {
   "cell_type": "code",
   "execution_count": 18,
   "metadata": {},
   "outputs": [
    {
     "name": "stdout",
     "output_type": "stream",
     "text": [
      "Введите число: 1024\n"
     ]
    },
    {
     "data": {
      "text/plain": [
       "'yes'"
      ]
     },
     "execution_count": 18,
     "metadata": {},
     "output_type": "execute_result"
    },
    {
     "data": {
      "text/plain": [
       "'yes'"
      ]
     },
     "execution_count": 18,
     "metadata": {},
     "output_type": "execute_result"
    }
   ],
   "source": [
    "def st(n):\n",
    "    if n==1:\n",
    "        return 'yes'\n",
    "    else: \n",
    "        try:\n",
    "            return st(n/2)\n",
    "        except Exception as e:\n",
    "            print('No')\n",
    "\n",
    "    \n",
    "n = int(input('Введите число: '))\n",
    "st(n)"
   ]
  },
  {
   "cell_type": "markdown",
   "metadata": {},
   "source": [
    "3. Дано натуральное число N. Вычислите сумму его цифр. При решении этой задачи нельзя использовать строки, списки, массивы (ну и циклы, разумеется).\n",
    "Ввод: 234\n",
    "Вывод: 9"
   ]
  },
  {
   "cell_type": "code",
   "execution_count": 21,
   "metadata": {},
   "outputs": [
    {
     "name": "stdout",
     "output_type": "stream",
     "text": [
      "Введите число: 456\n"
     ]
    },
    {
     "data": {
      "text/plain": [
       "15"
      ]
     },
     "execution_count": 21,
     "metadata": {},
     "output_type": "execute_result"
    },
    {
     "data": {
      "text/plain": [
       "15"
      ]
     },
     "execution_count": 21,
     "metadata": {},
     "output_type": "execute_result"
    }
   ],
   "source": [
    "def sch(n):\n",
    "    if n == 0:\n",
    "        return 0\n",
    "    return sch(n//10) + n%10\n",
    "    \n",
    "n = int(input('Введите число: '))\n",
    "sch(n)"
   ]
  },
  {
   "cell_type": "markdown",
   "metadata": {},
   "source": [
    "4. Дано слово, состоящее только из строчных латинских букв. Проверьте, является ли это слово палиндромом. Выведите YES или NO. При решении этой задачи нельзя пользоваться циклами и нельзя использовать срезы с шагом, отличным от 1\n",
    "Пример: radar YES\n",
    "Yes No"
   ]
  },
  {
   "cell_type": "code",
   "execution_count": 35,
   "metadata": {},
   "outputs": [
    {
     "name": "stdout",
     "output_type": "stream",
     "text": [
      "Введите слово: kaak\n"
     ]
    },
    {
     "data": {
      "text/plain": [
       "'Yes'"
      ]
     },
     "execution_count": 35,
     "metadata": {},
     "output_type": "execute_result"
    },
    {
     "data": {
      "text/plain": [
       "'Yes'"
      ]
     },
     "execution_count": 35,
     "metadata": {},
     "output_type": "execute_result"
    }
   ],
   "source": [
    "def pal(n):\n",
    "    if len(n)<=1:\n",
    "        return 'Yes'\n",
    "    else:\n",
    "        if n[0]==n[-1]:\n",
    "            return pal(n[1:-1])\n",
    "        else:\n",
    "            return 'No'\n",
    "\n",
    "n = str(input('Введите слово: '))\n",
    "pal(n)"
   ]
  },
  {
   "cell_type": "markdown",
   "metadata": {},
   "source": [
    "5. Дано натуральное число N. Выведите все его цифры по одной, в обратном порядке, разделяя их пробелами или новыми строками.\n",
    "При решении этой задачи нельзя использовать строки, списки, массивы (ну и циклы,разумеется). Разрешена только рекурсия и целочисленная арифметика."
   ]
  },
  {
   "cell_type": "code",
   "execution_count": 44,
   "metadata": {},
   "outputs": [
    {
     "name": "stdout",
     "output_type": "stream",
     "text": [
      "Введите число: 32435463\n"
     ]
    },
    {
     "data": {
      "text/plain": [
       "'3 6 4 5 3 4 2 3'"
      ]
     },
     "execution_count": 44,
     "metadata": {},
     "output_type": "execute_result"
    }
   ],
   "source": [
    "def por(n):\n",
    "    if n<10:\n",
    "        return str(n)\n",
    "    else:\n",
    "        return str(n%10) + ' ' + por(n//10)\n",
    "    \n",
    "n = int(input('Введите число: '))\n",
    "por(n)  "
   ]
  },
  {
   "cell_type": "markdown",
   "metadata": {},
   "source": [
    "6. Дано натуральное число n>1. Проверьте, является ли оно простым. Программа должна вывести слово YES, если число простое и NO, если число составное.\n",
    "Указание. Понятно, что задача сама по себе нерекурсивна, т.к. проверка числа n на простоту никак не сводится к проверке на простоту меньших чисел. Поэтому нужно сделать еще один параметр рекурсии: делитель числа, и именно по этому параметру и делать\n",
    "рекурсию."
   ]
  },
  {
   "cell_type": "code",
   "execution_count": 20,
   "metadata": {},
   "outputs": [
    {
     "data": {
      "text/plain": [
       "'Yes'"
      ]
     },
     "execution_count": 20,
     "metadata": {},
     "output_type": "execute_result"
    }
   ],
   "source": [
    "def prime(n,i=2):\n",
    "    if n<2:\n",
    "        return 'No'\n",
    "    elif n==2:\n",
    "        return 'yes'\n",
    "    elif n%i ==0:\n",
    "        return 'No'\n",
    "    elif i < n/2:\n",
    "        return prime(n,i+1)\n",
    "    else:\n",
    "        return 'Yes'\n",
    "    \n",
    "prime(7)"
   ]
  },
  {
   "cell_type": "markdown",
   "metadata": {},
   "source": [
    "7. Дана последовательность натуральных чисел (одно число в строке), завершающаяся числом 0. Выведите все нечетные числа из этой последовательности, сохраняя их порядок.\n",
    "В этой задаче нельзя использовать глобальные переменные и передавать какие-либо параметры в рекурсивную функцию. Функция получает данные, считывая их с клавиатуры. Функция не возвращает значение, а сразу же выводит результат на экран. Основная программа должна состоять только из вызова этой функции"
   ]
  },
  {
   "cell_type": "code",
   "execution_count": 22,
   "metadata": {},
   "outputs": [
    {
     "name": "stdout",
     "output_type": "stream",
     "text": [
      "Введите число последовательности\n",
      "3\n",
      "Нечетное чило 3\n",
      "Введите число последовательности\n",
      "5\n",
      "Нечетное чило 5\n",
      "Введите число последовательности\n",
      "6\n",
      "Введите число последовательности\n",
      "7\n",
      "Нечетное чило 7\n",
      "Введите число последовательности\n",
      "8\n",
      "Введите число последовательности\n",
      "10\n",
      "Введите число последовательности\n",
      "100\n",
      "Введите число последовательности\n",
      "0\n"
     ]
    }
   ],
   "source": [
    "def outn(): \n",
    "    n=int(input(\"Введите число последовательности\\n\")) \n",
    "    if n!=0: \n",
    "        if n%2==1: \n",
    "            print(\"Нечетное чило\",n) \n",
    "        outn() \n",
    "outn()"
   ]
  },
  {
   "cell_type": "code",
   "execution_count": 26,
   "metadata": {},
   "outputs": [
    {
     "name": "stdout",
     "output_type": "stream",
     "text": [
      "4\n",
      "3\n",
      "6\n",
      "54\n",
      "9\n",
      "3\n",
      "5\n",
      "0\n"
     ]
    },
    {
     "data": {
      "text/plain": [
       "[3, 9, 3, 5]"
      ]
     },
     "execution_count": 26,
     "metadata": {},
     "output_type": "execute_result"
    }
   ],
   "source": [
    "# 2 вариант\n",
    "g=[]\n",
    "def recur():\n",
    "    x = int(input())\n",
    "    if x == 0:\n",
    "        return g\n",
    "    elif x%2 != 0:\n",
    "        g.append(x)\n",
    "        return recur()\n",
    "    else:\n",
    "        return recur()\n",
    "    \n",
    "recur()"
   ]
  },
  {
   "cell_type": "markdown",
   "metadata": {},
   "source": [
    "8. Дана последовательность натуральных чисел (одно число в строке), завершающаяся числом 0. Определите значение второго по величине элемента в этой последовательности, то есть элемента, который будет наибольшим, если из последовательности удалить наибольший элемент.\n",
    "В этой задаче нельзя использовать глобальные переменные. Функция получает данные, считывая их с клавиатуры, а не получая их в виде параметра. В программе функция возвращает результат в виде кортежа из нескольких чисел и функция вообще не получает никаких параметров.\n",
    "Гарантируется, что последовательность содержит хотя бы два числа (кроме нуля)"
   ]
  },
  {
   "cell_type": "code",
   "execution_count": 40,
   "metadata": {},
   "outputs": [
    {
     "name": "stdout",
     "output_type": "stream",
     "text": [
      "Введите число: 4\n",
      "Введите число: 5\n",
      "Введите число: 2\n",
      "Введите число: 8\n",
      "Введите число: 9\n",
      "Введите число: 0\n",
      "8\n"
     ]
    }
   ],
   "source": [
    "def find_max(max1,max2):\n",
    "    n = int(input('Введите число: '))\n",
    "    if n>0:\n",
    "        if max1<n:\n",
    "            find_max(n,max1)\n",
    "        elif max2<n:\n",
    "            find_max(max1,n)\n",
    "        else:\n",
    "            find_max(max1,max2)\n",
    "    else:\n",
    "        print(max2)\n",
    "        \n",
    "find_max(0,0)"
   ]
  },
  {
   "cell_type": "markdown",
   "metadata": {},
   "source": [
    "9. Дана последовательность натуральных чисел (одно число в строке), завершающаяся двумя числами 0 подряд. Определите, сколько раз в этой последовательности встречается число 1.\n",
    "Числа, идущие после двух нулей, необходимо игнорировать.\n",
    "В этой задаче нельзя использовать глобальные переменные и параметры, передаваемые в\n",
    "функцию. Функция получает данные, считывая их с клавиатуры, а не получая их в виде\n",
    "параметров."
   ]
  },
  {
   "cell_type": "code",
   "execution_count": 11,
   "metadata": {},
   "outputs": [
    {
     "name": "stdout",
     "output_type": "stream",
     "text": [
      "Введите число 4\n",
      "Введите число 3\n",
      "Введите число 5\n",
      "Введите число 2\n",
      "Введите число 1\n",
      "Введите число 0\n",
      "Введите число 0\n",
      "1\n"
     ]
    }
   ],
   "source": [
    "def schet(count=0, end=1):\n",
    "    #print(f'{count} = count, {end} = end')\n",
    "    n = int(input('Введите число '))\n",
    "    if n == 1:\n",
    "        count = schet(count = count + 1, end = 1)\n",
    "        return count\n",
    "    elif end == 2:\n",
    "        return count\n",
    "    elif n == 0:\n",
    "        count = schet(count=count, end = end + 1)\n",
    "        return count\n",
    "    else:\n",
    "        count = schet(count=count, end=end)\n",
    "        return count\n",
    "\n",
    "print(schet())"
   ]
  },
  {
   "cell_type": "markdown",
   "metadata": {},
   "source": [
    "10. Даны числа a и b. Определите, сколько существует последовательностей из a нулей и b единиц, в которых никакие два нуля не стоят рядом"
   ]
  },
  {
   "cell_type": "code",
   "execution_count": 13,
   "metadata": {},
   "outputs": [
    {
     "name": "stdout",
     "output_type": "stream",
     "text": [
      "10\n"
     ]
    }
   ],
   "source": [
    "def recurs(a, b):\n",
    "    if (a > b + 1):\n",
    "        return 0\n",
    "    if (a == 0 or b == 0):\n",
    "        return 1\n",
    "    return recurs(a, b -1) + recurs(a-1, b-1)\n",
    "\n",
    "print(recurs(2,4))"
   ]
  },
  {
   "cell_type": "markdown",
   "metadata": {},
   "source": [
    "11. Дано число n, десятичная запись которого не содержит нулей. Получите число,\n",
    "записанное теми же цифрами, но в противоположном порядке.\n",
    "При решении этой задачи нельзя использовать циклы, строки, списки, массивы, разрешается\n",
    "только рекурсия и целочисленная арифметика.\n",
    "Фунция должна возвращать целое число, являющееся результатом работы программы, выводить\n",
    "число по одной цифре нельзя."
   ]
  },
  {
   "cell_type": "code",
   "execution_count": 8,
   "metadata": {},
   "outputs": [
    {
     "name": "stdout",
     "output_type": "stream",
     "text": [
      "Число - 1343\n",
      "3431\n"
     ]
    }
   ],
   "source": [
    "def razvorot(n, new_n=0):\n",
    "    if n <10:\n",
    "        return  (new_n + n%10)\n",
    "    else:\n",
    "        return razvorot(n//10, new_n = ((new_n + n%10) * 10))\n",
    "\n",
    "print(razvorot(int(input('Число - '))))"
   ]
  },
  {
   "cell_type": "code",
   "execution_count": null,
   "metadata": {},
   "outputs": [],
   "source": [
    "12* Дана последовательность натуральных чисел (одно число в строке), завершающаяся числом\n",
    "0. Выведите первое, третье, пятое и т.д. из введенных чисел. Завершающий ноль выводить не\n",
    "надо.\n",
    "В этой задаче нельзя использовать глобальные переменные и передавать какие-либо параметры\n",
    "в рекурсивную функцию. Функция получает данные, считывая их с клавиатуры. Функция не\n",
    "возвращает значение, а сразу же выводит результат на экран. Основная программа должна\n",
    "состоять только из вызова этой функции. (два базовых случая)"
   ]
  },
  {
   "cell_type": "code",
   "execution_count": 9,
   "metadata": {},
   "outputs": [
    {
     "name": "stdout",
     "output_type": "stream",
     "text": [
      "Введите число - 4\n",
      "4\n",
      "Введите число - 3\n",
      "Введите число - 6\n",
      "6\n",
      "Введите число - 4\n",
      "Введите число - 0\n"
     ]
    }
   ],
   "source": [
    "def odd():\n",
    "    n = int(input('Введите число - '))\n",
    "    if n == 0:\n",
    "        return 0\n",
    "    else: print(n)\n",
    "    m = int(input('Введите число - '))\n",
    "    if m == 0:\n",
    "        return 0\n",
    "    odd()\n",
    "\n",
    "odd()"
   ]
  },
  {
   "cell_type": "code",
   "execution_count": 21,
   "metadata": {},
   "outputs": [
    {
     "name": "stdout",
     "output_type": "stream",
     "text": [
      "Введите цифру: 4\n",
      "Введите цифру: 3\n",
      "Введите цифру: 5\n",
      "Введите цифру: 0\n"
     ]
    }
   ],
   "source": [
    "# 2 вариант\n",
    "new=[]\n",
    "def som(count=1):\n",
    "    x = int(input('Введите цифру: '))\n",
    "    if x==0:\n",
    "        return print(new)\n",
    "    else:\n",
    "        if count%2 !=0:\n",
    "            new.append(x)\n",
    "        count += 1\n",
    "        som(count)\n",
    "        \n",
    "som()"
   ]
  },
  {
   "cell_type": "code",
   "execution_count": null,
   "metadata": {},
   "outputs": [],
   "source": []
  }
 ],
 "metadata": {
  "kernelspec": {
   "display_name": "Python 3",
   "language": "python",
   "name": "python3"
  },
  "language_info": {
   "codemirror_mode": {
    "name": "ipython",
    "version": 3
   },
   "file_extension": ".py",
   "mimetype": "text/x-python",
   "name": "python",
   "nbconvert_exporter": "python",
   "pygments_lexer": "ipython3",
   "version": "3.7.3"
  }
 },
 "nbformat": 4,
 "nbformat_minor": 2
}
