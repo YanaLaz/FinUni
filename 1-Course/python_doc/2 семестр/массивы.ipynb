{
 "cells": [
  {
   "cell_type": "code",
   "execution_count": 1,
   "metadata": {},
   "outputs": [
    {
     "data": {
      "text/plain": [
       "(100, 3456)"
      ]
     },
     "execution_count": 1,
     "metadata": {},
     "output_type": "execute_result"
    }
   ],
   "source": [
    "import array as ar\n",
    "arr1 = ar.array ('i', [100, 23, 189, 3456])\n",
    "arr1[0], arr1[3]"
   ]
  },
  {
   "cell_type": "code",
   "execution_count": 1,
   "metadata": {},
   "outputs": [
    {
     "name": "stdout",
     "output_type": "stream",
     "text": [
      "[1, 2, 3, 4]\n",
      "96\n"
     ]
    }
   ],
   "source": [
    "import sys\n",
    "sp1=[1,2,3,4]\n",
    "print(sp1)\n",
    "print(sys.getsizeof(sp1))"
   ]
  },
  {
   "cell_type": "code",
   "execution_count": 71,
   "metadata": {},
   "outputs": [
    {
     "name": "stdout",
     "output_type": "stream",
     "text": [
      "время на измерение длины массива из 4 элементов 0.0002379930001552566\n",
      "время на измерение длины массива из 4 элементов 0.00019261499983258545\n",
      "**************************************************************************\n",
      "время на измерение длины массива из 3 элементов 0.00018170400016970234\n",
      "время на измерение длины массива из 3 элементов 0.00016536400016775588\n",
      "**************************************************************************\n",
      "время на измерение длины массива из 5 элементов 0.0001696760000413633\n",
      "время на измерение длины массива из 5 элементов 0.0001984180003091751\n",
      "**************************************************************************\n",
      "время на измерение длины массива из 2 элементов 0.00017100900004152209\n",
      "время на измерение длины массива из 2 элементов 0.0002369950002503174\n",
      "**************************************************************************\n",
      "время на измерение длины массива из 7 элементов 0.0002032570000665146\n",
      "время на измерение длины массива из 7 элементов 0.00017035800010489766\n",
      "**************************************************************************\n"
     ]
    }
   ],
   "source": [
    "import array as ar\n",
    "import timeit\n",
    "ar1=ar.array('i', [1,2,3,4])\n",
    "ar2=ar.array('i', [5,6,7])\n",
    "ar3=ar.array('i',[8,9,10,13,12])\n",
    "ar4=ar.array('i',[8,5])\n",
    "ar5=ar.array('i',[12,4,6,3,9,10,23])\n",
    "sp5=[12,4,6,3,9,10,23]\n",
    "sp4=[8,5]\n",
    "sp3=[8,9,10,13,12]\n",
    "sp2=[5,6,7]\n",
    "sp1=[1,2,3,4]\n",
    "\n",
    "a=timeit.default_timer()\n",
    "ar1.count(2)\n",
    "len(ar1)\n",
    "print('время на измерение длины массива из 4 элементов', timeit.default_timer()-a)\n",
    "a=timeit.default_timer()\n",
    "sp1.count(2)\n",
    "len(sp1)\n",
    "print('время на измерение длины массива из 4 элементов', timeit.default_timer()-a)\n",
    "print('**************************************************************************')\n",
    "\n",
    "a=timeit.default_timer()\n",
    "ar2.remove(5)\n",
    "len(ar2)\n",
    "print('время на измерение длины массива из 3 элементов', timeit.default_timer()-a)\n",
    "a=timeit.default_timer()\n",
    "sp2.remove(5)\n",
    "len(sp2)\n",
    "print('время на измерение длины массива из 3 элементов', timeit.default_timer()-a)\n",
    "print('**************************************************************************')\n",
    "\n",
    "a=timeit.default_timer()\n",
    "ar3.pop(0)\n",
    "len(ar3)\n",
    "print('время на измерение длины массива из 5 элементов', timeit.default_timer()-a)\n",
    "a=timeit.default_timer()\n",
    "sp3.pop(0)\n",
    "len(sp3)\n",
    "print('время на измерение длины массива из 5 элементов', timeit.default_timer()-a)\n",
    "print('**************************************************************************')\n",
    "\n",
    "a=timeit.default_timer()\n",
    "ar4.reverse()\n",
    "len(ar4)\n",
    "print('время на измерение длины массива из 2 элементов', timeit.default_timer()-a)\n",
    "a=timeit.default_timer()\n",
    "len(sp4)\n",
    "sp4.reverse()\n",
    "print('время на измерение длины массива из 2 элементов', timeit.default_timer()-a)\n",
    "print('**************************************************************************')\n",
    "\n",
    "a=timeit.default_timer()\n",
    "ar5.count(3)\n",
    "len(ar5)\n",
    "print('время на измерение длины массива из 7 элементов', timeit.default_timer()-a)\n",
    "a=timeit.default_timer()\n",
    "sp5.count(3)\n",
    "len(sp5)\n",
    "print('время на измерение длины массива из 7 элементов', timeit.default_timer()-a)\n",
    "print('**************************************************************************')"
   ]
  },
  {
   "cell_type": "markdown",
   "metadata": {},
   "source": [
    "задача 1\n",
    "В массиве, содержащем положительные и отрицательные целые числа, вычислить сумму четных положительных элементов."
   ]
  },
  {
   "cell_type": "code",
   "execution_count": 2,
   "metadata": {},
   "outputs": [
    {
     "name": "stdout",
     "output_type": "stream",
     "text": [
      "8\n",
      "время на измерение длины массива  0.00012865599995848243\n"
     ]
    }
   ],
   "source": [
    "import array as ar\n",
    "import timeit\n",
    "ar1 = ar.array ('i',[1,2,-4,3,-3,-2,5,6,-8,7])\n",
    "summa = 0\n",
    "for i in ar1:\n",
    "    if i>0 and (i%2)==0:\n",
    "        summa += i\n",
    "\n",
    "        \n",
    "print(summa)\n",
    "a=timeit.default_timer()\n",
    "len(ar1)\n",
    "print('время на измерение длины массива ', timeit.default_timer()-a)"
   ]
  },
  {
   "cell_type": "markdown",
   "metadata": {},
   "source": [
    "Задача 2:\n",
    "В массиве найти максимальный элемент с четным индексом.\n",
    "Другая формулировка задачи: среди элементов массива с четными индексами, найти тот,\n",
    "который имеет максимальное значение."
   ]
  },
  {
   "cell_type": "code",
   "execution_count": 4,
   "metadata": {},
   "outputs": [
    {
     "name": "stdout",
     "output_type": "stream",
     "text": [
      "8\n",
      "время на измерение длины массива  0.00011519199995291274\n"
     ]
    }
   ],
   "source": [
    "import array as ar\n",
    "import timeit\n",
    "ar2 = ar.array ('i',[1,3,2,5,6,3,8,10])\n",
    "maxx = 0\n",
    "for i in range(0,len(ar2)):\n",
    "    if i%2==0:\n",
    "        if maxx<ar2[i]:\n",
    "            maxx = ar2[i]\n",
    "            \n",
    "print(maxx)\n",
    "a=timeit.default_timer()\n",
    "len(ar2)\n",
    "print('время на измерение длины массива ', timeit.default_timer()-a)"
   ]
  },
  {
   "cell_type": "markdown",
   "metadata": {},
   "source": [
    "Задача 3:\n",
    "Выполните oбработку элементов прямоугольной матрицы A, имеющей N строк и M столбцов. Все\n",
    "элeменты имeют целый тип. Дано целое число H. Опрeделите, какие столбцы имeют хотя бы\n",
    "однo такое число, а какие не имeют."
   ]
  },
  {
   "cell_type": "code",
   "execution_count": 5,
   "metadata": {},
   "outputs": [
    {
     "name": "stdout",
     "output_type": "stream",
     "text": [
      "[[1 1 2 3 2]\n",
      " [1 2 2 3 4]]\n",
      "Столбцы [3, 5, 2] имеют число 2 хотя бы один раз\n",
      "время на измерение длины массива  5.0555000029817165e-05\n"
     ]
    }
   ],
   "source": [
    "import numpy as num\n",
    "import timeit\n",
    "ar3 = num.array ([[1,1,2,3,2], [1,2,2,3,4]])\n",
    "h = 2\n",
    "rez = []\n",
    "for i in ar3:\n",
    "    for j in range(0,len(i)):\n",
    "        if i[j]==h:\n",
    "            if j+1 not in rez:\n",
    "                rez.append(j+1)\n",
    "            \n",
    "print (ar3)\n",
    "print('Столбцы '+str(rez)+' имеют число '+str(h)+' хотя бы один раз')\n",
    "a=timeit.default_timer()\n",
    "len(ar3)\n",
    "print('время на измерение длины массива ', timeit.default_timer()-a)"
   ]
  },
  {
   "cell_type": "markdown",
   "metadata": {},
   "source": [
    "Задача 4:\n",
    "Найти в массиве те элементы, значение которых меньше среднего арифметического, взятого от всех элементов массива."
   ]
  },
  {
   "cell_type": "code",
   "execution_count": 6,
   "metadata": {},
   "outputs": [
    {
     "name": "stdout",
     "output_type": "stream",
     "text": [
      "[1, 2, 2]\n",
      "время на измерение длины массива  8.025499994346319e-05\n"
     ]
    }
   ],
   "source": [
    "import array as ar\n",
    "import timeit\n",
    "ar4 = ar.array ('i',[1,2,3,4,5,2,4])\n",
    "sr = sum(ar4)/len(ar4)\n",
    "n = []\n",
    "for i in ar4:\n",
    "    if i<sr:\n",
    "        n.append(i)\n",
    "        \n",
    "print(n)\n",
    "a=timeit.default_timer()\n",
    "len(ar4)\n",
    "print('время на измерение длины массива ', timeit.default_timer()-a)"
   ]
  },
  {
   "cell_type": "markdown",
   "metadata": {},
   "source": [
    "Задача 5:\n",
    "В одномерном массиве целых чисел определить два наименьших элемента. Они могут быть как равны между собой (оба являться минимальными), так и различаться."
   ]
  },
  {
   "cell_type": "code",
   "execution_count": 10,
   "metadata": {},
   "outputs": [
    {
     "name": "stdout",
     "output_type": "stream",
     "text": [
      "4 23\n",
      "время на измерение длины массива  7.773000004362984e-05\n"
     ]
    }
   ],
   "source": [
    "import array as ar\n",
    "import timeit\n",
    "min1 = 0\n",
    "min2 = 0\n",
    "arr5 = ar.array ('i', [100, 23, 189, 4])\n",
    "\n",
    "min1 = min(arr5)\n",
    "arr5.remove(min1)\n",
    "min2 = min(arr5)\n",
    "print(min1,min2)\n",
    "\n",
    "a=timeit.default_timer()\n",
    "len(arr5)\n",
    "print('время на измерение длины массива ', timeit.default_timer()-a)"
   ]
  },
  {
   "cell_type": "markdown",
   "metadata": {},
   "source": [
    "Задача 6:\n",
    "Сжать массив, удалив из него все элементы, величина которых находится в интервале [а, b].\n",
    "Освободившиеся в конце массива элементы заполнить нулями."
   ]
  },
  {
   "cell_type": "code",
   "execution_count": 26,
   "metadata": {},
   "outputs": [
    {
     "name": "stdout",
     "output_type": "stream",
     "text": [
      "[10, 20, 43, 0]\n",
      "время на измерение длины массива  7.735999997748877e-05\n"
     ]
    }
   ],
   "source": [
    "import array as ar\n",
    "import timeit\n",
    "a = 2\n",
    "b = 9\n",
    "ar6 = ar.array ('i', [10, 20, 43, 2])\n",
    "s = 0\n",
    "while s<len(ar6):\n",
    "    if a<=ar6[s]<=b:\n",
    "        ar6.pop(s)\n",
    "        ar6.append(0)\n",
    "    else:\n",
    "        s+=1\n",
    "print(ar6.tolist())\n",
    "a=timeit.default_timer()\n",
    "len(ar6)\n",
    "print('время на измерение длины массива ', timeit.default_timer()-a)\n"
   ]
  },
  {
   "cell_type": "markdown",
   "metadata": {},
   "source": [
    "Задача 7:\n",
    "Вычислить сумму модулей элементов массива, расположенных после первого отрицательного\n",
    "элемента.\n",
    "Например, в массиве [5, 3, -1, 8, 0, -6, 1] первый отрицательный элемент является третьим\n",
    "по счету, а сумма модулей стоящих после него элементов массива будет составлять 8 + 0 + 6\n",
    "+ 1 = 15."
   ]
  },
  {
   "cell_type": "code",
   "execution_count": 33,
   "metadata": {},
   "outputs": [
    {
     "name": "stdout",
     "output_type": "stream",
     "text": [
      "Сумма модулей элементов массива:  8\n",
      "время на измерение длины массива  7.547400014118466e-05\n"
     ]
    }
   ],
   "source": [
    "import array as ar\n",
    "import timeit\n",
    "ar7 = ar.array ('i', [10, 0, -2 , 1,-3,3,1]) \n",
    "n= -1\n",
    "for i in range(0,len(ar7)):\n",
    "    if ar7[i] < 0:\n",
    "        n = i\n",
    "        break\n",
    "\n",
    "if n == -1:\n",
    "    print('Таких чисел нет')\n",
    "else:\n",
    "    a = 0\n",
    "    for i in range(n+1,len(ar7)):\n",
    "        a += abs(ar7[i])\n",
    "    print('Сумма модулей элементов массива: ', a)\n",
    "    \n",
    "a=timeit.default_timer()\n",
    "len(ar7)\n",
    "print('время на измерение длины массива ', timeit.default_timer()-a)"
   ]
  },
  {
   "cell_type": "markdown",
   "metadata": {},
   "source": [
    "Задача 8:\n",
    "Пользователь вводит упорядоченный список/массив книг (заданной длины по алфавиту).\n",
    "Добавить новую книгу, сохранив упорядоченность списка по алфавиту"
   ]
  },
  {
   "cell_type": "code",
   "execution_count": 39,
   "metadata": {},
   "outputs": [
    {
     "name": "stdout",
     "output_type": "stream",
     "text": [
      "Введите название книги: Тихий дон\n",
      "['Гордость и предубеждение', 'Оно', 'Тихий дон']\n",
      "время на измерение длины массива  9.47700000324403e-05\n"
     ]
    }
   ],
   "source": [
    "import numpy as num\n",
    "import timeit\n",
    "al = num.array (['Оно','Гордость и предубеждение']) \n",
    "al = sorted(al)\n",
    "x = input('Введите название книги: ')\n",
    "al.append(x)\n",
    "print(sorted(al))\n",
    "a=timeit.default_timer()\n",
    "len(al)\n",
    "print('время на измерение длины массива ', timeit.default_timer()-a)"
   ]
  },
  {
   "cell_type": "code",
   "execution_count": 138,
   "metadata": {},
   "outputs": [
    {
     "ename": "AttributeError",
     "evalue": "'numpy.ndarray' object has no attribute 'insert'",
     "output_type": "error",
     "traceback": [
      "\u001b[0;31m---------------------------------------------------------------------------\u001b[0m",
      "\u001b[0;31mAttributeError\u001b[0m                            Traceback (most recent call last)",
      "\u001b[0;32m<ipython-input-138-b42fa6e964eb>\u001b[0m in \u001b[0;36m<module>\u001b[0;34m\u001b[0m\n\u001b[1;32m      2\u001b[0m \u001b[0;32mimport\u001b[0m \u001b[0mtimeit\u001b[0m\u001b[0;34m\u001b[0m\u001b[0;34m\u001b[0m\u001b[0m\n\u001b[1;32m      3\u001b[0m \u001b[0mal\u001b[0m \u001b[0;34m=\u001b[0m \u001b[0mnum\u001b[0m\u001b[0;34m.\u001b[0m\u001b[0marray\u001b[0m \u001b[0;34m(\u001b[0m\u001b[0;34m[\u001b[0m\u001b[0;34m'Оно'\u001b[0m\u001b[0;34m,\u001b[0m\u001b[0;34m'Гордость и предубеждение'\u001b[0m\u001b[0;34m]\u001b[0m\u001b[0;34m)\u001b[0m\u001b[0;34m\u001b[0m\u001b[0;34m\u001b[0m\u001b[0m\n\u001b[0;32m----> 4\u001b[0;31m \u001b[0mal\u001b[0m\u001b[0;34m.\u001b[0m\u001b[0minsert\u001b[0m\u001b[0;34m(\u001b[0m\u001b[0;34m'книга'\u001b[0m\u001b[0;34m,\u001b[0m\u001b[0;36m1\u001b[0m\u001b[0;34m)\u001b[0m\u001b[0;34m\u001b[0m\u001b[0;34m\u001b[0m\u001b[0m\n\u001b[0m\u001b[1;32m      5\u001b[0m \u001b[0mal\u001b[0m\u001b[0;34m.\u001b[0m\u001b[0mpop\u001b[0m\u001b[0;34m(\u001b[0m\u001b[0;36m2\u001b[0m\u001b[0;34m)\u001b[0m\u001b[0;34m\u001b[0m\u001b[0;34m\u001b[0m\u001b[0m\n\u001b[1;32m      6\u001b[0m \u001b[0;32mfor\u001b[0m \u001b[0mi\u001b[0m \u001b[0;32min\u001b[0m \u001b[0mal\u001b[0m\u001b[0;34m:\u001b[0m\u001b[0;34m\u001b[0m\u001b[0;34m\u001b[0m\u001b[0m\n",
      "\u001b[0;31mAttributeError\u001b[0m: 'numpy.ndarray' object has no attribute 'insert'"
     ]
    }
   ],
   "source": [
    "import numpy as num\n",
    "import timeit\n",
    "al = num.array (['Оно','Гордость и предубеждение']) \n",
    "al.insert('книга',1)\n",
    "al.pop(2)\n",
    "for i in al:\n",
    "    print(i)"
   ]
  },
  {
   "cell_type": "markdown",
   "metadata": {},
   "source": [
    "Задача 9:\n",
    "Дан список/массив целых чисел. Упорядочьте по возрастанию только:\n",
    "а) положительные числа;\n",
    "б) элементы с четными порядковыми номерами в списке."
   ]
  },
  {
   "cell_type": "code",
   "execution_count": 145,
   "metadata": {},
   "outputs": [
    {
     "ename": "TypeError",
     "evalue": "an integer is required (got type list)",
     "output_type": "error",
     "traceback": [
      "\u001b[0;31m---------------------------------------------------------------------------\u001b[0m",
      "\u001b[0;31mTypeError\u001b[0m                                 Traceback (most recent call last)",
      "\u001b[0;32m<ipython-input-145-424e5d3954db>\u001b[0m in \u001b[0;36m<module>\u001b[0;34m\u001b[0m\n\u001b[1;32m      2\u001b[0m \u001b[0;32mimport\u001b[0m \u001b[0marray\u001b[0m \u001b[0;32mas\u001b[0m \u001b[0mar\u001b[0m\u001b[0;34m\u001b[0m\u001b[0;34m\u001b[0m\u001b[0m\n\u001b[1;32m      3\u001b[0m \u001b[0;32mimport\u001b[0m \u001b[0mtimeit\u001b[0m\u001b[0;34m\u001b[0m\u001b[0;34m\u001b[0m\u001b[0m\n\u001b[0;32m----> 4\u001b[0;31m \u001b[0mar8\u001b[0m \u001b[0;34m=\u001b[0m \u001b[0mar\u001b[0m\u001b[0;34m.\u001b[0m\u001b[0marray\u001b[0m \u001b[0;34m(\u001b[0m\u001b[0;34m'i'\u001b[0m\u001b[0;34m,\u001b[0m \u001b[0;34m[\u001b[0m\u001b[0;34m[\u001b[0m\u001b[0;36m10\u001b[0m\u001b[0;34m,\u001b[0m\u001b[0;36m12\u001b[0m\u001b[0;34m,\u001b[0m\u001b[0;36m13\u001b[0m\u001b[0;34m]\u001b[0m\u001b[0;34m,\u001b[0m \u001b[0;36m0\u001b[0m\u001b[0;34m,\u001b[0m \u001b[0;34m-\u001b[0m\u001b[0;36m2\u001b[0m \u001b[0;34m,\u001b[0m \u001b[0;36m1\u001b[0m\u001b[0;34m,\u001b[0m\u001b[0;34m-\u001b[0m\u001b[0;36m3\u001b[0m\u001b[0;34m,\u001b[0m\u001b[0;36m3\u001b[0m\u001b[0;34m,\u001b[0m\u001b[0;36m1\u001b[0m\u001b[0;34m]\u001b[0m\u001b[0;34m)\u001b[0m\u001b[0;34m\u001b[0m\u001b[0;34m\u001b[0m\u001b[0m\n\u001b[0m\u001b[1;32m      5\u001b[0m \u001b[0mnew\u001b[0m\u001b[0;34m=\u001b[0m\u001b[0;34m[\u001b[0m\u001b[0;34m]\u001b[0m\u001b[0;34m\u001b[0m\u001b[0;34m\u001b[0m\u001b[0m\n\u001b[1;32m      6\u001b[0m \u001b[0;32mfor\u001b[0m \u001b[0mi\u001b[0m \u001b[0;32min\u001b[0m \u001b[0mar8\u001b[0m\u001b[0;34m:\u001b[0m\u001b[0;34m\u001b[0m\u001b[0;34m\u001b[0m\u001b[0m\n",
      "\u001b[0;31mTypeError\u001b[0m: an integer is required (got type list)"
     ]
    }
   ],
   "source": [
    "# A\n",
    "import array as ar\n",
    "import timeit\n",
    "ar8 = ar.array ('i', [[10,12,13], 0, -2 , 1,-3,3,1]) \n",
    "new=[]\n",
    "for i in ar8:\n",
    "    if i > 0:\n",
    "        new.append(i)\n",
    "print(sorted(new))\n",
    "a=timeit.default_timer()\n",
    "len(ar8)\n",
    "print('время на измерение длины массива ', timeit.default_timer()-a)\n",
    "\n",
    "for u in ar8:\n",
    "    print(u)"
   ]
  },
  {
   "cell_type": "code",
   "execution_count": 46,
   "metadata": {},
   "outputs": [
    {
     "name": "stdout",
     "output_type": "stream",
     "text": [
      "[-3, -2, 1, 10]\n",
      "время на измерение длины массива  9.803500006455579e-05\n"
     ]
    }
   ],
   "source": [
    "# B\n",
    "import array as ar\n",
    "import timeit\n",
    "ar9 = ar.array ('i', [10, 0, -2 , 1,-3,3,1]) \n",
    "new=[]\n",
    "for i in range(0, len(ar9)):\n",
    "    if (i%2) == 0:\n",
    "        new.append(ar9[i])\n",
    "print(sorted(new))\n",
    "a=timeit.default_timer()\n",
    "len(ar9)\n",
    "print('время на измерение длины массива ', timeit.default_timer()-a)"
   ]
  },
  {
   "cell_type": "markdown",
   "metadata": {},
   "source": [
    "Задача 10:\n",
    "Даны два списка/массива. Определите, совпадают ли множества их элементов."
   ]
  },
  {
   "cell_type": "code",
   "execution_count": 51,
   "metadata": {},
   "outputs": [
    {
     "name": "stdout",
     "output_type": "stream",
     "text": [
      "Совпадает\n",
      "время на измерение длины массива  0.00017824499991547782\n",
      "время на измерение длины массива  0.0001222149999193789\n"
     ]
    }
   ],
   "source": [
    "import array as ar\n",
    "import timeit\n",
    "s=ar.array('i',[1,5,3])\n",
    "b=ar.array('i',[3,5,1])\n",
    "if set(s)==set(b):\n",
    "    print(\"Совпадает\")\n",
    "else:\n",
    "    print(\"Не совпадает\")\n",
    "a=timeit.default_timer()\n",
    "len(s)\n",
    "print('время на измерение длины массива ', timeit.default_timer()-a) \n",
    "a=timeit.default_timer()\n",
    "len(b)\n",
    "print('время на измерение длины массива ', timeit.default_timer()-a)  "
   ]
  },
  {
   "cell_type": "markdown",
   "metadata": {},
   "source": [
    "Задача 11:\n",
    "Дан список/массив. После каждого элемента добавьте предшествующую ему часть списка."
   ]
  },
  {
   "cell_type": "code",
   "execution_count": 56,
   "metadata": {},
   "outputs": [
    {
     "name": "stdout",
     "output_type": "stream",
     "text": [
      "[1, 1, 5, 1, 5, 3, 1, 5, 3, 4]\n",
      "время на измерение длины массива  0.00015961300005074008\n"
     ]
    }
   ],
   "source": [
    "import array as ar\n",
    "import timeit\n",
    "s=ar.array('i',[1,5,3,4,2])\n",
    "new=[]\n",
    "for i in range(0,len(s)):\n",
    "    for j in range(0,i):\n",
    "        new.append(s[j])\n",
    "        \n",
    "print(new)\n",
    "a=timeit.default_timer()\n",
    "len(s)\n",
    "print('время на измерение длины массива ', timeit.default_timer()-a) "
   ]
  },
  {
   "cell_type": "markdown",
   "metadata": {},
   "source": [
    "Задача 12\n",
    "Пусть элементы списка/массива хранят символы предложения. Замените каждое вхождение слова\n",
    "\"itmathrepetitor\" на \"silence\"."
   ]
  },
  {
   "cell_type": "code",
   "execution_count": 58,
   "metadata": {},
   "outputs": [
    {
     "name": "stdout",
     "output_type": "stream",
     "text": [
      "hello silence world\n",
      "время на измерение длины массива  0.0001359349998892867\n"
     ]
    }
   ],
   "source": [
    "# массив\n",
    "import numpy as num\n",
    "import timeit\n",
    "s=num.array(['hello','itmathrepetitor','world'])\n",
    "for m, n in enumerate(s):\n",
    "    if n=='itmathrepetitor':\n",
    "        s[m]=\"silence\"\n",
    "print(' '.join(s))\n",
    "        \n",
    "\n",
    "\n",
    "a=timeit.default_timer()\n",
    "len(s)\n",
    "print('время на измерение длины массива ', timeit.default_timer()-a) "
   ]
  },
  {
   "cell_type": "code",
   "execution_count": 113,
   "metadata": {},
   "outputs": [
    {
     "name": "stdout",
     "output_type": "stream",
     "text": [
      "hello silence world\n",
      "время на измерение длины списка  0.00019762200008699438\n"
     ]
    }
   ],
   "source": [
    "# список\n",
    "import timeit\n",
    "s = ['hello','itmathrepetitor','world']\n",
    "for m, n in enumerate(s):\n",
    "    if n=='itmathrepetitor':\n",
    "        s[m]=\"silence\"\n",
    "print(' '.join(s))\n",
    "a=timeit.default_timer()\n",
    "len(s)\n",
    "print('время на измерение длины списка ', timeit.default_timer()-a) "
   ]
  },
  {
   "cell_type": "markdown",
   "metadata": {},
   "source": [
    "Задача 13*:\n",
    "Дан текстовый файл. Создайте двусвязный список (или массив), каждый элемент которого содержит количество символов в соответствующей строке текста."
   ]
  },
  {
   "cell_type": "code",
   "execution_count": 68,
   "metadata": {},
   "outputs": [
    {
     "name": "stdout",
     "output_type": "stream",
     "text": [
      "[43, 11, 31]\n",
      "время на измерение длины списка  0.0001770230001056916\n"
     ]
    }
   ],
   "source": [
    "# список\n",
    "import timeit\n",
    "ar1 = []\n",
    "f = open(\"text.txt\", \"r\")\n",
    "for line in f:\n",
    "    ar1.append(len(line))\n",
    "\n",
    "print(ar1)\n",
    "a=timeit.default_timer()\n",
    "len(ar1)\n",
    "print('время на измерение длины списка ', timeit.default_timer()-a) "
   ]
  },
  {
   "cell_type": "code",
   "execution_count": 116,
   "metadata": {},
   "outputs": [
    {
     "name": "stdout",
     "output_type": "stream",
     "text": [
      "array('i', [43, 11, 31])\n",
      "время на измерение длины массива  0.0001732239998091245\n"
     ]
    }
   ],
   "source": [
    "# массив\n",
    "import array as ar\n",
    "import timeit\n",
    "f = open(\"text.txt\", \"r\")\n",
    "ar1 =ar.array('i',[])\n",
    "for line in f:\n",
    "    ar1.append(len(line))\n",
    "\n",
    "print(ar1)\n",
    "a=timeit.default_timer()\n",
    "len(ar1)\n",
    "print('время на измерение длины массива ', timeit.default_timer()-a) "
   ]
  },
  {
   "cell_type": "markdown",
   "metadata": {},
   "source": [
    "Задача 14*:\n",
    "Создайте двусвязный список (или массив) групп факультета. Каждая группа представляет собой односвязный список (или массив) студентов."
   ]
  },
  {
   "cell_type": "code",
   "execution_count": 75,
   "metadata": {},
   "outputs": [
    {
     "name": "stdout",
     "output_type": "stream",
     "text": [
      "[['Сэрт' 'Гусаров' 'Молитвин']\n",
      " ['Лазарева' 'Миронов' 'Цуприк']]\n",
      "время на измерение длины массива  0.0001969609998013766\n"
     ]
    }
   ],
   "source": [
    "import numpy as num\n",
    "s = num.array([['Сэрт','Гусаров','Молитвин'],['Лазарева','Миронов','Цуприк']])\n",
    "print(s)\n",
    "a=timeit.default_timer()\n",
    "len(s)\n",
    "print('время на измерение длины массива ', timeit.default_timer()-a) "
   ]
  },
  {
   "cell_type": "code",
   "execution_count": 117,
   "metadata": {},
   "outputs": [
    {
     "name": "stdout",
     "output_type": "stream",
     "text": [
      "[['Сэрт', 'Гусаров', 'Молитвин'], ['Лазарева', 'Миронов', 'Цуприк']]\n",
      "время на измерение длины списка  0.00012180500016256701\n"
     ]
    }
   ],
   "source": [
    "s = [['Сэрт','Гусаров','Молитвин'],['Лазарева','Миронов','Цуприк']]\n",
    "print(s)\n",
    "a=timeit.default_timer()\n",
    "len(s)\n",
    "print('время на измерение длины списка ', timeit.default_timer()-a) "
   ]
  },
  {
   "cell_type": "markdown",
   "metadata": {},
   "source": [
    "Задача 15*:\n",
    "Дан список студентов. Элемент списка содержит фамилию, имя, отчество, год рождения, курс,\n",
    "номер группы, оценки по пяти предметам. \n",
    "1. Упорядочите студентов по курсу, причем студенты одного курса располагались в алфавитном порядке.\n",
    "2. Найдите средний балл каждой группы по каждому предмету. \n",
    "3. Определите самого старшего студента и самого младшего студентов.\n",
    "4. Для каждой группы найдите лучшего с точки зрения успеваемости студента. \n",
    "Выберете структуру данных для программной реализации."
   ]
  },
  {
   "cell_type": "code",
   "execution_count": 120,
   "metadata": {},
   "outputs": [
    {
     "name": "stdout",
     "output_type": "stream",
     "text": [
      "[array(['Лазарева Яна Владимировна', '2001', '1', 'ПИ19-1', '5', '4', '5',\n",
      "       '5', '5'], dtype='<U25'), array(['Хватов Артур Юрьевич', '2001', '1', 'ПИ19-1', '5', '4', '4', '4',\n",
      "       '5'], dtype='<U25'), array(['Сэрт Анна Вадимовна', '2003', '1', 'ПИ19-3', '5', '3', '5', '5',\n",
      "       '5'], dtype='<U25'), array(['Теплов Артём Алексеевич', '2000', '1', 'ПИ19-3', '5', '4', '4',\n",
      "       '5', '5'], dtype='<U25')]\n",
      "***средний балл каждой группы по каждому предмету**\n",
      "***ПИ19-1***\n",
      "Средний балл по 1 предмету группы ПИ19-1 равен 5.0\n",
      "Средний балл по 2 предмету группы ПИ19-1 равен 4.5\n",
      "Средний балл по 3 предмету группы ПИ19-1 равен 4.5\n",
      "Средний балл по 4 предмету группы ПИ19-1 равен 4.5\n",
      "Средний балл по 5 предмету группы ПИ19-1 равен 4.6\n",
      "***ПИ19-3***\n",
      "Средний балл по 1 предмету группы ПИ19-3 равен 5.0\n",
      "Средний балл по 2 предмету группы ПИ19-3 равен 4.25\n",
      "Средний балл по 3 предмету группы ПИ19-3 равен 4.333333333333333\n",
      "Средний балл по 4 предмету группы ПИ19-3 равен 4.5\n",
      "Средний балл по 5 предмету группы ПИ19-3 равен 4.6\n",
      "2001\n",
      "2001\n",
      "2003\n",
      "2000\n",
      "Самый старший ученик ['Теплов Артём Алексеевич' '2000' '1' 'ПИ19-3' '5' '4' '4' '5' '5']\n",
      "Самый младший ученик ['Сэрт Анна Вадимовна' '2003' '1' 'ПИ19-3' '5' '3' '5' '5' '5']\n",
      "***Лучший студент***\n",
      "***ПИ19-1***\n",
      "Лучший студент группы ПИ19-1 ['Лазарева Яна Владимировна' '2001' '1' 'ПИ19-1' '5' '4' '5' '5' '5']\n",
      "***ПИ19-3***\n",
      "Лучший студент группы ПИ19-3 ['Теплов Артём Алексеевич' '2000' '1' 'ПИ19-3' '5' '4' '4' '5' '5']\n",
      "время на измерение длины массива 0.00016387699997721938\n"
     ]
    }
   ],
   "source": [
    "import numpy as num\n",
    "import timeit\n",
    "k = num.array([['Сэрт Анна Вадимовна', 2003, '1','ПИ19-3',5,3,5,5,5],['Лазарева Яна Владимировна', 2001, 1, 'ПИ19-1',5,4,5,5,5],['Хватов Артур Юрьевич',2001,1,'ПИ19-1',5,4,4,4,5],['Теплов Артём Алексеевич', 2000, 1,'ПИ19-3',5,4,4,5,5]])\n",
    "s = sorted(k, key = lambda x: x[3])\n",
    "print(s)\n",
    "print('***средний балл каждой группы по каждому предмету**')\n",
    "print('***ПИ19-1***')\n",
    "count = 0\n",
    "summa = 0\n",
    "for i in range(1,6):\n",
    "    for j in s:\n",
    "        if j[3]=='ПИ19-1':\n",
    "            count += 1\n",
    "            n = -6 + i\n",
    "            summa += int(j[n])\n",
    "    print('Средний балл по', i, 'предмету группы ПИ19-1 равен', summa/count)\n",
    "print('***ПИ19-3***')\n",
    "count = 0\n",
    "summa = 0\n",
    "for i in range(1,6):\n",
    "    for j in s:\n",
    "        if j[3]=='ПИ19-3':\n",
    "            count += 1\n",
    "            n = -6 + i\n",
    "            summa += int(j[n])\n",
    "    print('Средний балл по', i, 'предмету группы ПИ19-3 равен', summa/count)\n",
    "    \n",
    "maxy= 1000000\n",
    "miny= -1\n",
    "for i in s:\n",
    "    print(int(i[1]))\n",
    "    if int(i[1])>miny:\n",
    "        miny = int(i[1])\n",
    "        chel_min = i\n",
    "    elif int(i[1])<maxy:\n",
    "        maxy = int(i[1])\n",
    "        chel_max = i\n",
    "        \n",
    "print('Самый старший ученик',chel_max)\n",
    "print('Самый младший ученик', chel_min)\n",
    "\n",
    "print(\"***Лучший студент***\")\n",
    "\n",
    "print('***ПИ19-1***')\n",
    "summ = 0\n",
    "sr = 0\n",
    "max_sr = 0\n",
    "for i in s:\n",
    "    if i[3] == 'ПИ19-1':\n",
    "        summ = int(i[-5]+i[-4]+i[-3]+i[-2]+i[-1])\n",
    "        sr = summ/5\n",
    "        if sr > max_sr:\n",
    "            max_sr = sr\n",
    "            chel = i\n",
    "print('Лучший студент группы ПИ19-1', chel)\n",
    "\n",
    "print('***ПИ19-3***')\n",
    "summ = 0\n",
    "sr = 0\n",
    "max_sr = 0\n",
    "for i in s:\n",
    "    if i[3] == 'ПИ19-3':\n",
    "        summ = int(i[-5]+i[-4]+i[-3]+i[-2]+i[-1])\n",
    "        sr = summ/5\n",
    "        if sr > max_sr:\n",
    "            max_sr = sr\n",
    "            chel = i\n",
    "            \n",
    "print('Лучший студент группы ПИ19-3', chel)\n",
    "\n",
    "a=timeit.default_timer()\n",
    "len(s)\n",
    "print('время на измерение длины массива', timeit.default_timer()-a) "
   ]
  },
  {
   "cell_type": "code",
   "execution_count": 119,
   "metadata": {},
   "outputs": [
    {
     "name": "stdout",
     "output_type": "stream",
     "text": [
      "время на измерение длины списка  0.00011895500028913375\n"
     ]
    }
   ],
   "source": [
    "import timeit\n",
    "s = [['Сэрт Анна Вадимовна', 2003, '1','ПИ19-3',5,3,5,5,5],['Лазарева Яна Владимировна', 2001, 1, 'ПИ19-1',5,4,5,5,5],['Хватов Артур Юрьевич',2001,1,'ПИ19-1',5,4,4,4,5],['Теплов Артём Алексеевич', 2000, 1,'ПИ19-3',5,4,4,5,5]]\n",
    "a=timeit.default_timer()\n",
    "len(s)\n",
    "print('время на измерение длины списка ', timeit.default_timer()-a) "
   ]
  },
  {
   "cell_type": "markdown",
   "metadata": {},
   "source": [
    "16* Выполнить программную реализацию калькулятора матриц."
   ]
  },
  {
   "cell_type": "code",
   "execution_count": 111,
   "metadata": {},
   "outputs": [
    {
     "name": "stdout",
     "output_type": "stream",
     "text": [
      "[[1 2 3]\n",
      " [4 9 2]]\n",
      ".........\n",
      "[[32  6  8]\n",
      " [13  2  9]]\n",
      "----------------------\n",
      "Сумма матриц:  [[33  8 11]\n",
      " [17 11 11]]\n",
      "Разность матриц:  [[-31  -4  -5]\n",
      " [ -9   7  -7]]\n",
      "Произведение матриц:  [[32 12 24]\n",
      " [52 18 18]]\n",
      "время на измерение длины 1 массива  0.00019070500002271729\n",
      "время на измерение длины 2 массива  0.00015048900058900472\n"
     ]
    }
   ],
   "source": [
    "import numpy as num\n",
    "import timeit\n",
    "ar1=num.array([[1,2,3],[4,9,2]])\n",
    "ar2=num.array([[32,6,8],[13,2,9]])\n",
    "print( ar1)\n",
    "print('.........')\n",
    "print( ar2)\n",
    "for i in range(len(ar1)):\n",
    "    for k in range(len(ar2)):\n",
    "        out1=ar1+ar2\n",
    "        out2=ar1-ar2\n",
    "        out3=ar1*ar2\n",
    "print('----------------------')\n",
    "print('Сумма матриц: ',out1)\n",
    "print('Разность матриц: ',out2)\n",
    "print('Произведение матриц: ',out3)\n",
    "a=timeit.default_timer()\n",
    "len(ar1)\n",
    "print('время на измерение длины 1 массива ', timeit.default_timer()-a)\n",
    "a=timeit.default_timer()\n",
    "len(ar2)\n",
    "print('время на измерение длины 2 массива ', timeit.default_timer()-a) "
   ]
  },
  {
   "cell_type": "code",
   "execution_count": 121,
   "metadata": {},
   "outputs": [
    {
     "name": "stdout",
     "output_type": "stream",
     "text": [
      "время на измерение длины 1 списка  0.000125151999782247\n",
      "время на измерение длины 2 списка  9.162400056084152e-05\n"
     ]
    }
   ],
   "source": [
    "import timeit\n",
    "ar1=[[1,2,3],[4,9,2]]\n",
    "ar2=[[32,6,8],[13,2,9]]\n",
    "a=timeit.default_timer()\n",
    "len(ar1)\n",
    "print('время на измерение длины 1 списка ', timeit.default_timer()-a)\n",
    "a=timeit.default_timer()\n",
    "len(ar2)\n",
    "print('время на измерение длины 2 списка ', timeit.default_timer()-a) "
   ]
  },
  {
   "cell_type": "markdown",
   "metadata": {},
   "source": [
    "Задача 17:\n",
    "Сдвинуть элементы массива в указанном направлении (влево или вправо) и на указанное число\n",
    "шагов. Освободившиеся ячейки заполнить нулями. Выводить массив после каждого шага."
   ]
  },
  {
   "cell_type": "code",
   "execution_count": 129,
   "metadata": {},
   "outputs": [
    {
     "name": "stdout",
     "output_type": "stream",
     "text": [
      "Сдвинуть список 1 - влево/2 - вправо /3 - выход3\n",
      "время на измерение длины массива  7.103499956429005e-05\n"
     ]
    }
   ],
   "source": [
    "import array as ar\n",
    "import timeit\n",
    "s = ar.array('i',[2,-1,3,6,-3,9])\n",
    "w = int(input('Сдвинуть список 1 - влево/2 - вправо /3 - выход'))\n",
    "while w is not 3:\n",
    "    x = int(input('Сколько шагов? '))\n",
    "    if w == 1:\n",
    "        for i in range(0,x):\n",
    "            s.pop(len(s)-1)\n",
    "        for i in range(0,x):\n",
    "            s.append(0)\n",
    "    else:\n",
    "        for i in range(0,x):\n",
    "            s.pop(0)\n",
    "        for i in range(0,x):\n",
    "            s.insert(0,0)\n",
    "    print(s)\n",
    "    w = int(input('Сдвинуть список 1 - влево/2 - вправо /3 - выход '))\n",
    "a=timeit.default_timer()\n",
    "len(s)\n",
    "print('время на измерение длины массива ', timeit.default_timer()-a) "
   ]
  },
  {
   "cell_type": "code",
   "execution_count": 128,
   "metadata": {},
   "outputs": [
    {
     "name": "stdout",
     "output_type": "stream",
     "text": [
      "array('i', [2, -1, 3, 6, -3, 9])\n",
      ".....................\n",
      "[2, 3, 6, 9, 0, 0]\n",
      "время на измерение длины массива  0.00017349199879390653\n"
     ]
    }
   ],
   "source": [
    "#18 Заполнить массив случайными положительными и отрицательными целыми числами. Вывести его на экран. \n",
    "#Удалить из массива все отрицательные элементы и снова вывести.\n",
    "import array as ar\n",
    "import timeit\n",
    "ar1=ar.array('i',[2,-1,3,6,-3,9])\n",
    "print(ar1)\n",
    "print('.....................')\n",
    "s=0\n",
    "for s in range(len(ar1)):\n",
    "    if ar1[s]<0:\n",
    "        ar1.pop(s)\n",
    "        ar1.append(0)\n",
    "print(ar1.tolist())\n",
    "a=timeit.default_timer()\n",
    "len(ar1)\n",
    "print('время на измерение длины массива ', timeit.default_timer()-a) "
   ]
  },
  {
   "cell_type": "markdown",
   "metadata": {},
   "source": [
    "Задача 19:\n",
    "Заполнить вводом с клавиатуры численный массив за исключением последнего элемента, вывести его на экран. \n",
    "Запросить еще одно значение и его позицию в в массиве. \n",
    "Вставить указанное число в заданную позицию, подвинув элементы после него."
   ]
  },
  {
   "cell_type": "code",
   "execution_count": 133,
   "metadata": {},
   "outputs": [
    {
     "name": "stdout",
     "output_type": "stream",
     "text": [
      "1 - вставить число / 2 - конец1\n",
      "введите число 5\n",
      "1 - вставить число / 2 - конец 3\n",
      "введите число 2\n",
      "1 - вставить число / 2 - конец 48\n",
      "введите число 3\n",
      "1 - вставить число / 2 - конец 1\n",
      "введите число 29\n",
      "1 - вставить число / 2 - конец 2\n",
      "последнее число  29\n",
      "[5, 2, 3]\n",
      "введите еще число 6\n",
      "и его индекс 2\n",
      "[5, 2, 6, 3]\n",
      "время на измерение длины массива  0.00013114600005792454\n"
     ]
    }
   ],
   "source": [
    "import array as ar\n",
    "import timeit\n",
    "\n",
    "s = ar.array('i',[])\n",
    "\n",
    "x = int(input('1 - вставить число / 2 - выход '))\n",
    "\n",
    "while x is not 2:\n",
    "    i = int(input('введите число '))\n",
    "    s.append(i)\n",
    "    x = int(input('1 - вставить число / 2 - выход'))\n",
    "    \n",
    "print('последнее число ',s[-1])\n",
    "s.pop(len(s)-1)\n",
    "\n",
    "print(s.tolist())\n",
    "\n",
    "r = int(input('введите еще число '))\n",
    "b = int(input('и его индекс '))\n",
    "\n",
    "s.insert(b,r)\n",
    "print(s.tolist())\n",
    "    \n",
    "a=timeit.default_timer()\n",
    "len(s)\n",
    "print('время на измерение длины массива ', timeit.default_timer()-a) "
   ]
  },
  {
   "cell_type": "code",
   "execution_count": 134,
   "metadata": {},
   "outputs": [
    {
     "name": "stdout",
     "output_type": "stream",
     "text": [
      "Введите числа для второго массива:22\n",
      "Введите числа для второго массива:3\n",
      "Введите числа для второго массива:1\n",
      "[79, 33, 6]\n",
      "[22, 3, 1]\n",
      "[101, 36, 7]\n"
     ]
    }
   ],
   "source": [
    "# 20\n",
    "from random import random\n",
    "import array as ar\n",
    "N = 3\n",
    "ar1 = [0,0,0]\n",
    "ar2 = [0,0,0]\n",
    "ar3 = [0,0,0]\n",
    "for i in range(N):\n",
    "    ar1[i] = int(random() * 100)\n",
    " \n",
    "for i in range(N):\n",
    "    ar2[i] = int(input('Введите числа для второго массива:'))\n",
    " \n",
    "for i in range(N):\n",
    "    ar3[i] = ar1[i] + ar2[i]\n",
    " \n",
    "print(ar1)\n",
    "print(ar2)\n",
    "print(ar3)"
   ]
  },
  {
   "cell_type": "markdown",
   "metadata": {},
   "source": [
    "Задача 21:\n",
    "Сгенерировать 2000 случайных целых чисел в диапазоне от -5 до 4, записать их в ячейки\n",
    "массива. Посчитать сколько среди них положительных, отрицательных и нулевых значений.\n",
    "Вывести на экран элементы массива и посчитанные количества. Рассмотрите возможность\n",
    "использования numpy.set_printoptions для полноценного вывода занчений массива на экран."
   ]
  },
  {
   "cell_type": "code",
   "execution_count": 135,
   "metadata": {},
   "outputs": [
    {
     "name": "stdout",
     "output_type": "stream",
     "text": [
      "-3 -2 -2 -3 1 2 3 3 2 -3 -1 0 -2 -1 -1 -2 -2 -1 -5 -1 2 -1 -5 0 0 -2 1 0 0 -3 2 -3 0 0 -3 -3 0 -3 -5 -1 3 4 1 -3 -5 -1 3 3 -2 -4 3 4 4 1 -1 4 2 -1 -5 -2 -2 1 -5 0 -2 -5 -1 -2 3 3 -5 -4 -3 4 0 -1 -1 -2 -2 -5 0 -1 -1 3 -1 -4 0 2 -3 -3 1 -3 -5 3 3 -4 4 2 3 3 -5 -3 -4 4 2 3 3 3 0 -3 4 1 1 1 -5 3 -2 3 4 2 -5 2 -4 0 3 -4 3 -4 1 4 -3 3 0 -5 -2 4 -3 -2 2 -5 -5 -5 2 -4 0 -3 0 4 3 3 2 3 2 -5 -1 2 2 -1 3 4 3 -4 -5 4 -2 1 -5 -5 1 -5 2 3 1 -1 2 -5 -2 3 0 -1 -5 4 4 -4 3 -1 -1 2 4 2 -5 -2 4 2 0 2 3 -4 3 4 2 -2 4 -3 0 2 1 2 -3 -3 0 4 1 -3 1 -4 4 4 -1 0 -3 -1 3 -5 3 -1 -5 -3 1 3 -4 3 -2 0 4 0 -3 3 1 -4 2 -1 -1 3 3 -5 -2 0 -2 2 3 -5 -4 -5 4 1 -3 4 -3 4 -3 3 -5 0 -3 1 2 1 -1 -1 -1 1 1 1 -4 -3 -3 4 -2 0 -4 3 4 4 4 3 -3 -5 0 -4 2 -4 3 -2 1 4 -2 0 2 0 -3 3 3 1 3 -3 -1 -4 -2 -1 0 -3 2 0 -5 0 -2 1 4 4 0 -5 -3 -1 4 1 2 1 -3 0 4 -5 0 -4 -5 -5 -4 4 4 -5 1 -4 3 -4 3 2 -2 0 4 -2 1 3 -2 -2 -4 -3 -5 0 0 0 -1 4 -5 1 4 -5 -2 3 4 -5 -2 -1 2 -4 3 0 -1 1 -1 -4 2 3 -1 -3 -3 4 3 1 -2 -1 4 4 4 0 2 -5 -1 -5 4 -5 3 1 -4 -5 3 -3 0 -4 -2 1 -2 -5 -4 0 -2 0 1 -4 0 -3 3 -2 -2 -3 3 -2 -1 0 3 -3 0 4 -4 2 -1 -2 -2 1 0 3 4 3 -2 -3 0 -4 -4 4 -3 4 3 0 -4 -2 -2 0 -4 -1 -5 4 3 0 3 -5 -1 -2 4 1 4 2 4 -3 4 2 -5 -3 -4 0 3 2 0 -3 -4 -5 -3 3 -2 3 -2 -1 -3 0 3 0 0 -5 -3 2 -2 2 -4 -5 -2 -4 4 3 -2 -5 -3 -2 -3 -4 -5 -2 -4 -4 3 2 -2 0 2 -2 1 1 1 2 -5 3 -5 1 4 -1 3 -4 -1 4 2 -1 -5 3 4 -1 0 1 -1 3 4 -2 -3 -1 0 -1 3 -2 -1 -4 0 3 1 -4 -5 -4 -2 -2 -5 3 -5 -1 -5 2 -3 -2 -4 2 4 1 1 2 1 0 4 0 -2 -5 0 2 0 0 -1 2 -5 0 2 -2 0 4 -2 1 -2 -2 4 -3 -2 2 0 -3 4 -3 -1 -4 -5 -3 3 0 -4 1 -1 3 4 2 -2 -2 -4 2 1 0 4 2 -1 4 -5 0 -5 2 4 -4 -4 4 3 -3 -4 -3 -1 -5 -5 1 -3 4 0 0 -1 -1 -4 -2 2 -1 -4 -1 4 2 3 3 -5 -3 2 2 0 -5 4 2 3 0 2 -3 -5 1 4 4 -5 -3 -1 -3 -3 1 -4 1 -1 -2 3 0 -2 -3 -4 1 -3 3 -1 2 0 0 2 3 -2 3 -1 2 4 -2 -5 -1 0 2 0 -1 2 4 -1 -5 2 3 -5 -3 2 -3 -3 -3 -2 2 1 -5 -4 -4 -2 3 0 -3 3 3 -2 -5 -5 2 3 -5 2 2 3 -1 -1 4 -4 1 -5 3 -4 -1 1 -2 2 1 0 3 1 2 2 -3 2 -1 0 1 -3 -2 0 -5 -1 3 -5 4 -5 -1 0 -4 3 0 -2 2 3 -3 -4 3 3 -1 -4 2 -3 1 -3 0 -5 -3 2 0 -3 -3 1 -4 4 1 -2 -1 -3 -3 3 -5 -2 -3 4 -4 -3 3 0 -1 -5 2 4 -4 -1 2 0 -2 3 -5 4 0 -1 -5 0 -5 -1 2 -5 2 0 0 -4 2 -3 -4 0 -1 2 3 -1 -4 1 4 2 1 3 -3 4 -5 -3 -5 1 -5 0 1 4 1 4 -2 -3 -3 3 -2 4 -2 -3 -3 -1 1 -5 -2 4 -4 3 2 -3 -4 0 -5 4 -4 -5 4 0 2 4 2 2 4 -2 1 3 0 -1 3 -3 0 3 1 0 0 -3 -2 -2 0 -3 2 1 -3 -1 1 -3 -4 4 -4 4 3 -3 4 1 -1 -5 1 -3 -5 -1 -1 -1 -1 -4 2 2 0 1 -4 -3 -1 4 3 2 -5 2 -4 -5 -1 2 -3 -4 1 -4 2 1 -4 2 -4 2 3 3 3 0 4 0 0 3 4 -1 3 -5 2 -2 2 0 4 -1 0 -2 3 -2 -2 1 -2 -4 3 3 -3 0 0 -1 2 2 0 -1 -3 -1 2 -2 -4 -3 0 -4 3 0 0 4 -1 3 1 1 2 -4 -2 3 -3 3 -4 0 -3 -3 -2 4 3 1 -2 1 4 1 -4 -3 -1 -1 -5 -3 -2 4 -2 3 -2 -2 4 -2 -2 -3 -2 -4 -4 -5 -2 -4 0 2 0 -1 -2 2 -2 -3 3 -2 2 -1 2 -1 2 -1 0 4 0 0 -1 -5 4 2 0 -2 -3 -5 1 2 -1 -4 -3 -3 2 -5 4 2 2 0 -5 -4 -5 -2 4 -3 0 -3 -3 0 0 -4 -3 -5 2 1 3 1 -3 -1 0 -2 3 3 1 -5 -2 2 4 -2 1 -4 -3 4 0 1 -2 2 1 -5 -5 -2 -3 -4 -4 0 3 -1 3 1 -2 -1 2 -5 -4 -1 1 -1 -1 0 3 -4 -3 1 3 -5 1 4 -1 -2 1 2 4 3 2 -3 -5 -1 -2 0 3 0 -2 -2 -3 -2 2 1 1 -4 -1 4 0 1 0 1 2 2 -2 -3 3 -1 4 1 -4 -1 2 -2 3 4 -1 -1 4 3 4 2 1 -3 2 2 3 -1 4 -5 4 -3 -4 3 -5 3 2 1 2 -3 -4 -3 0 -3 -4 -3 -5 -5 -2 -5 3 0 -1 1 1 -4 0 3 -2 -3 -1 -1 -1 -5 -2 4 -4 -1 -4 -3 -3 0 2 3 -5 -4 1 3 0 1 -3 -2 -2 2 -4 -4 2 -5 -1 -4 2 1 -1 -4 3 0 -4 -3 -4 -4 -2 -2 1 2 4 -3 -3 2 2 -1 -1 -1 -4 -3 0 -5 -5 2 2 1 -5 -1 0 4 -3 0 4 2 1 0 -4 -1 1 4 3 -2 4 0 -2 4 1 4 3 1 -3 -1 3 2 0 -2 -4 4 -1 3 -4 0 -3 -3 -4 1 4 -3 3 -4 4 0 -3 0 2 -1 -1 1 -5 2 4 3 -5 0 -3 -3 -3 2 3 3 -5 3 2 -5 2 -2 0 0 1 -5 -3 -4 2 4 4 4 -1 1 1 1 -3 2 2 -5 -1 -4 0 3 -5 -5 -4 4 3 0 -4 4 -5 -5 -4 -2 -2 4 -2 -3 -2 1 4 -4 -4 -5 0 -4 -1 3 1 -2 3 0 0 -4 -1 -1 -4 -2 -3 3 0 4 2 -4 -4 -2 4 2 0 0 -2 4 -3 -3 -4 -2 -4 -5 -1 -1 -5 0 1 3 -5 3 2 0 -1 -3 2 -5 1 3 -5 -4 -1 -1 -2 3 0 0 -1 -5 -1 -4 1 3 -1 -5 -3 -5 -2 -5 4 -5 0 2 1 -1 2 3 3 1 -2 1 -5 4 -1 -5 4 -5 4 -3 -2 2 -2 -2 2 4 -5 3 -4 -1 1 -1 -3 4 -5 1 -3 -3 3 -2 -1 -1 3 1 -4 -1 0 -4 0 -2 1 0 1 -3 -2 4 0 3 -5 -1 3 2 -4 0 1 -5 -3 1 -4 2 -3 -2 3 1 -5 0 -5 4 1 -3 1 -1 4 4 4 -1 0 0 -4 1 2 2 4 0 3 -2 2 2 -5 1 1 0 -1 -1 2 -4 3 -2 0 4 -1 -2 0 0 -3 -5 4 1 -3 3 -2 -4 -4 4 0 -1 -1 -5 -3 -5 2 2 -2 -3 3 0 -1 -1 0 -2 2 2 -1 2 -4 2 0 -3 4 -4 1 4 -4 -2 -1 -4 -1 -3 -5 -4 -4 3 4 -2 -1 1 4 -3 -5 4 -2 1 4 -2 -1 3 -1 3 1 -1 -3 -4 -3 -5 -5 -4 4 0 -2 4 2 3 1 0 -5 1 4 -3 -3 -5 -1 -4 -4 4 -3 2 -3 -2 -3 3 -2 3 2 2 3 0 -3 0 2 2 3 -4 3 2 -3 -4 -4 2 1 -1 0 -5 -5 2 1 -4 -2 -2 -3 4 4 -5 -4 3 4 1 -4 -2 -4 0 0 -3 -3 -4 3 4 -5 3 4 -2 4 -5 -2 -1 0 -4 -1 -4 4 1 -5 -2 0 -2 4 -1 -5 3 2 0 -2 2 -5 2 -1 -4 0 1 0 -1 -4 -4 -1 -5 -1 -2 -4 1 -5 1 -3 -4 4 1 0 1 -1 3 0 4 3 1 2 2 -4 2 3 -1 2 -4 -4 -2 -4 3 -4 1 0 -2 -5 -4 1 -5 -5 -5 1 4 4 -2 -4 -2 3 2 1 -3 -3 2 -1 0 0 4 -3 0 4 -5 -3 2 -1 2 -3 -2 -5 4 2 1 2 3 1 4 -3 -4 -2 3 -5 1 4 -1 0 -5 3 -1 2 4 4 1 4 2 4 3 0 -5 1 -4 1 4 -5 -4 2 4 3 -3 -1 4 3 -1 4 0 -4 4 3 0 -4 3 0 -4 4 1 -1 2 3 1 2 -4 4 2 -3 0 4 3 1 0 1 0 -3 -2 4 -2 3 -3 -1 -4 -5 1 4 3 -2 2 0 -2 -5 3 3 -5 4 1 -2 -5 -1 -3 -2 0 -3 -4 -3 -3 -5 3 -2 -2 -3 4 -5 3 2 -5 -1 -2 1 1 0 -5 -3 -3 1 -5 -2 -3 4 4 2 2 -5 4 2 3 1 -2 2 3 3 -2 -1 \n",
      "Положительные:  804\n",
      "Отрицательные:  983\n",
      "Нули:  213\n",
      "время на измерение длины массива  8.76340000104392e-05\n"
     ]
    }
   ],
   "source": [
    "from random import random\n",
    "import numpy as num\n",
    "import array as ar\n",
    "\n",
    "otr = 0\n",
    "pol = 0\n",
    "zero = 0\n",
    "ar1 =ar.array('i',[])\n",
    "num.set_printoptions(threshold=2000)\n",
    "for i in num.arange(2000):\n",
    "    n = int(random() * 10) - 5\n",
    "    ar1.append(n)\n",
    "    print(n, end=' ')\n",
    "    if n > 0:\n",
    "        pol += 1\n",
    "    elif n < 0:\n",
    "        otr += 1\n",
    "    else:\n",
    "        zero += 1 \n",
    "\n",
    "print(\"\\nПоложительные: \", pol)\n",
    "print(\"Отрицательные: \", otr)\n",
    "print(\"Нули: \", zero)\n",
    "a=timeit.default_timer()\n",
    "len(ar1)\n",
    "print('время на измерение длины массива ', timeit.default_timer()-a) \n",
    "    \n",
    "    "
   ]
  },
  {
   "cell_type": "code",
   "execution_count": null,
   "metadata": {},
   "outputs": [],
   "source": []
  }
 ],
 "metadata": {
  "kernelspec": {
   "display_name": "Python 3",
   "language": "python",
   "name": "python3"
  },
  "language_info": {
   "codemirror_mode": {
    "name": "ipython",
    "version": 3
   },
   "file_extension": ".py",
   "mimetype": "text/x-python",
   "name": "python",
   "nbconvert_exporter": "python",
   "pygments_lexer": "ipython3",
   "version": "3.7.3"
  }
 },
 "nbformat": 4,
 "nbformat_minor": 2
}
