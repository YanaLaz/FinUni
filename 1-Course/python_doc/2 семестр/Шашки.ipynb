{
 "cells": [
  {
   "cell_type": "code",
   "execution_count": 29,
   "metadata": {},
   "outputs": [
    {
     "ename": "IndentationError",
     "evalue": "expected an indented block (<ipython-input-29-8dc9beb64fb2>, line 19)",
     "output_type": "error",
     "traceback": [
      "\u001b[0;36m  File \u001b[0;32m\"<ipython-input-29-8dc9beb64fb2>\"\u001b[0;36m, line \u001b[0;32m19\u001b[0m\n\u001b[0;31m    def draw():\u001b[0m\n\u001b[0m      ^\u001b[0m\n\u001b[0;31mIndentationError\u001b[0m\u001b[0;31m:\u001b[0m expected an indented block\n"
     ]
    }
   ],
   "source": [
    "import array as ar\n",
    "import numpy as num\n",
    "\n",
    "#class Chess():\n",
    "    #def input_1():\n",
    "        \n",
    "    #def play():\n",
    "        #color = int(input('Выбор цвета 1 - белый / 2 - черный '))\n",
    "        #Draw([a1,b2],[h8,f8])\n",
    "    \n",
    "ch = [h8,f8]\n",
    "bel= [a1,b2]\n",
    "\n",
    "Draw(ch, bel)\n",
    "class Draw(ch,bel):\n",
    "    def draw(ch, bel):\n",
    "        ara = num.array(' |a|b|c|d|e|f|g|h| ') \n",
    "        ar = num.array(' +---------------+ ')\n",
    "        ar1 = num.array('1|+| |+| |+| |+| |') \n",
    "        ar2 = num.array('2| |+| |+| |+| |+|2')\n",
    "        ar3 = num.array('3|+| |+| |+| |+| |3')\n",
    "        ar4 = num.array('4| |+| |+| |+| |+|4')\n",
    "        ar5 = num.array('5|+| |+| |+| |+| |5')\n",
    "        ar6 = num.array('6| |+| |+| |+| |+|6')\n",
    "        ar7 = num.array('7|+| |+| |+| |+| |7')\n",
    "        ar8 = num.array('8| |+| |+| |+| |+|8')\n",
    "        for c in ch:\n",
    "            if 1 in c:\n",
    "                ar1 =\n",
    "                \n",
    "        print(ara)\n",
    "        print(ar)\n",
    "        print(ar1)\n",
    "        print(ar2)\n",
    "        print(ar3)\n",
    "        print(ar4)\n",
    "        print(ar5)\n",
    "        print(ar6)\n",
    "        print(ar7)\n",
    "        print(ar8)\n",
    "        print(ar)\n",
    "        print(ara)\n",
    "        print(' ')\n",
    "        print('+ - черное поле')\n",
    "        print('  - белое поле')\n",
    "        print('Б - белая шашка')\n",
    "        print('Ч - черная шашка')\n",
    "        \n",
    "        \n",
    "Draw.draw()        "
   ]
  },
  {
   "cell_type": "code",
   "execution_count": 45,
   "metadata": {},
   "outputs": [
    {
     "name": "stdout",
     "output_type": "stream",
     "text": [
      "-------------\n",
      "| 1 | 2 | 3 |\n",
      "-------------\n",
      "| 1 | 5 | 6 |\n",
      "-------------\n",
      "| 1 | 8 | 9 |\n",
      "-------------\n"
     ]
    }
   ],
   "source": [
    "board = range(1,10)\n",
    "def draw_board(board):\n",
    "    print(\"-------------\")\n",
    "    for i in range(3):\n",
    "        print(\"|\", board[0], \"|\", board[1+i*3], \"|\", board[2+i*3], \"|\")\n",
    "        print(\"-------------\")\n",
    "        \n",
    "draw_board(board)"
   ]
  },
  {
   "cell_type": "code",
   "execution_count": 47,
   "metadata": {},
   "outputs": [
    {
     "ename": "NameError",
     "evalue": "name 'Enum' is not defined",
     "output_type": "error",
     "traceback": [
      "\u001b[0;31m---------------------------------------------------------------------------\u001b[0m",
      "\u001b[0;31mNameError\u001b[0m                                 Traceback (most recent call last)",
      "\u001b[0;32m<ipython-input-47-2a06c0d03ef4>\u001b[0m in \u001b[0;36m<module>\u001b[0;34m\u001b[0m\n\u001b[1;32m     13\u001b[0m \u001b[0mBQ\u001b[0m \u001b[0;34m=\u001b[0m \u001b[0;34m'$'\u001b[0m\u001b[0;34m\u001b[0m\u001b[0;34m\u001b[0m\u001b[0m\n\u001b[1;32m     14\u001b[0m \u001b[0;31m#players\u001b[0m\u001b[0;34m\u001b[0m\u001b[0;34m\u001b[0m\u001b[0;34m\u001b[0m\u001b[0m\n\u001b[0;32m---> 15\u001b[0;31m \u001b[0mPLAYERS\u001b[0m \u001b[0;34m=\u001b[0m \u001b[0mEnum\u001b[0m\u001b[0;34m(\u001b[0m\u001b[0;34m\"Players\"\u001b[0m\u001b[0;34m,\u001b[0m \u001b[0;34m\"White Black\"\u001b[0m\u001b[0;34m)\u001b[0m\u001b[0;34m\u001b[0m\u001b[0;34m\u001b[0m\u001b[0m\n\u001b[0m\u001b[1;32m     16\u001b[0m \u001b[0;31m#END OF CONSTANTS SECTION\u001b[0m\u001b[0;34m\u001b[0m\u001b[0;34m\u001b[0m\u001b[0;34m\u001b[0m\u001b[0m\n\u001b[1;32m     17\u001b[0m \u001b[0;34m\u001b[0m\u001b[0m\n",
      "\u001b[0;31mNameError\u001b[0m: name 'Enum' is not defined"
     ]
    }
   ],
   "source": [
    "CLEAR = lambda: os.system('cls' if os.name == 'nt' else 'clear')\n",
    "GRID_HEIGHT = 10\n",
    "GRID_WIDTH = 10\n",
    "#White pawn\n",
    "WP = \"▓\"\n",
    "#White queen\n",
    "WQ = '£'\n",
    "#Empty cell\n",
    "EC = ' '\n",
    "#Black pawn\n",
    "BP = '░'\n",
    "#Black Queen\n",
    "BQ = '$'\n",
    "#players\n",
    "PLAYERS = Enum(\"Players\", \"White Black\")\n",
    "#END OF CONSTANTS SECTION\n",
    "\n",
    "def init_grid():\n",
    "    \"\"\"Initialize the new game grid\"\"\"\n",
    "    grid = [[EC, BP, EC, BP, EC, BP, EC, BP, EC, BP],\n",
    "        [BP, EC, BP, EC, BP, EC, BP, EC, BP, EC],\n",
    "        [EC, BP, EC, BP, EC, BP, EC, BP, EC, BP],\n",
    "        [BP, EC, BP, EC, BP, EC, BP, EC, BP, EC],\n",
    "        [EC, EC, EC, EC, EC, EC, EC, EC, EC, EC],\n",
    "        [EC, EC, EC, EC, EC, EC, EC, EC, EC, EC],\n",
    "        [EC, WP, EC, WP, EC, WP, EC, WP, EC, WP],\n",
    "        [WP, EC, WP, EC, WP, EC, WP, EC, WP, EC],\n",
    "        [EC, WP, EC, WP, EC, WP, EC, WP, EC, WP],\n",
    "        [WP, EC, WP, EC, WP, EC, WP, EC, WP, EC]]\n",
    "    return grid\n",
    "\n",
    "init_grid()"
   ]
  },
  {
   "cell_type": "code",
   "execution_count": null,
   "metadata": {},
   "outputs": [],
   "source": []
  }
 ],
 "metadata": {
  "kernelspec": {
   "display_name": "Python 3",
   "language": "python",
   "name": "python3"
  },
  "language_info": {
   "codemirror_mode": {
    "name": "ipython",
    "version": 3
   },
   "file_extension": ".py",
   "mimetype": "text/x-python",
   "name": "python",
   "nbconvert_exporter": "python",
   "pygments_lexer": "ipython3",
   "version": "3.7.3"
  }
 },
 "nbformat": 4,
 "nbformat_minor": 2
}
