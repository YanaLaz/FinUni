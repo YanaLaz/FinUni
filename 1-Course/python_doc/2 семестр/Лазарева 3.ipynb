{
 "cells": [
  {
   "cell_type": "code",
   "execution_count": 54,
   "metadata": {},
   "outputs": [
    {
     "data": {
      "text/plain": [
       "{'ручки': 20, 'тетради': 60}"
      ]
     },
     "execution_count": 54,
     "metadata": {},
     "output_type": "execute_result"
    }
   ],
   "source": [
    "# 1\n",
    "def tovar(sp):\n",
    "    try:\n",
    "        dicti = {}\n",
    "        spis=[]\n",
    "        count = 0\n",
    "        kount = 0\n",
    "        for i in sp:\n",
    "            st = tuple(i.split(':'))\n",
    "            spis.append(st)\n",
    "            \n",
    "        for i in spis:\n",
    "            i1 = i[0]\n",
    "            for j in spis[spis.index(i)+1:]:\n",
    "                if j[0] == i1:\n",
    "                    count += 1\n",
    "            if count>=1:\n",
    "                count = 0\n",
    "                kount = int(i[1])\n",
    "                for j in spis[spis.index(i)+1:]:\n",
    "                    if j[0] == i1:\n",
    "                        kount = kount + int(j[1])\n",
    "                dicti.update({i[0] : kount})\n",
    "            else:\n",
    "                dicti.update({i[0]:i[1]})\n",
    "                    \n",
    "        return dicti\n",
    "        \n",
    "    except Exception as e:\n",
    "        print(\"Непредвиденная ошибка:\", e)\n",
    "        \n",
    "tovar(['ручки:5','тетради:30','ручки:10','ручки:5','тетради:30'])\n",
    "        "
   ]
  },
  {
   "cell_type": "code",
   "execution_count": 55,
   "metadata": {
    "scrolled": true
   },
   "outputs": [
    {
     "data": {
      "text/plain": [
       "['прекрасный', 'привет']"
      ]
     },
     "execution_count": 55,
     "metadata": {},
     "output_type": "execute_result"
    }
   ],
   "source": [
    "# 3\n",
    "kl = 'привет мир какой Прекрасный день'\n",
    "a = 'п'\n",
    "final =  lambda kl,a:sorted([i.lower() for i in kl.split(' ') if a in i.lower()])\n",
    "final(kl, a)"
   ]
  },
  {
   "cell_type": "code",
   "execution_count": null,
   "metadata": {},
   "outputs": [],
   "source": []
  }
 ],
 "metadata": {
  "kernelspec": {
   "display_name": "Python 3",
   "language": "python",
   "name": "python3"
  },
  "language_info": {
   "codemirror_mode": {
    "name": "ipython",
    "version": 3
   },
   "file_extension": ".py",
   "mimetype": "text/x-python",
   "name": "python",
   "nbconvert_exporter": "python",
   "pygments_lexer": "ipython3",
   "version": "3.7.3"
  }
 },
 "nbformat": 4,
 "nbformat_minor": 2
}
