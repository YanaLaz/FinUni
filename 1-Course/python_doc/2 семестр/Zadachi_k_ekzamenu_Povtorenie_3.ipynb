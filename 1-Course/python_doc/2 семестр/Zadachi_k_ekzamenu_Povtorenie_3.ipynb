{
 "cells": [
  {
   "cell_type": "markdown",
   "metadata": {},
   "source": [
    "# №1"
   ]
  },
  {
   "cell_type": "code",
   "execution_count": 1,
   "metadata": {},
   "outputs": [],
   "source": [
    "def is_year_leap(year):\n",
    "    try:\n",
    "        if year%4 == 0:\n",
    "            return True\n",
    "        else:\n",
    "            return False\n",
    "    except Exception as e:\n",
    "        print(\"Непредвиденная ошибка:\", e)"
   ]
  },
  {
   "cell_type": "code",
   "execution_count": 2,
   "metadata": {},
   "outputs": [
    {
     "name": "stdout",
     "output_type": "stream",
     "text": [
      "Введите год! - ждлорп\n",
      "Непредвиденная ошибка: not all arguments converted during string formatting\n"
     ]
    }
   ],
   "source": [
    "is_year_leap(input('Введите год! - '))"
   ]
  },
  {
   "cell_type": "markdown",
   "metadata": {},
   "source": [
    "# №2"
   ]
  },
  {
   "cell_type": "code",
   "execution_count": 3,
   "metadata": {},
   "outputs": [],
   "source": [
    "def date(day, mounth, year):\n",
    "    try:\n",
    "        if 1 <= day <= 31 and mounth in {1,3,5,7,8,10,12}:\n",
    "            string = date_creator(day, mounth, year)\n",
    "        elif 1 <= day <= 30 and mounth in {4, 6, 9, 11}:\n",
    "            string = date_creator(day, mounth, year)\n",
    "        elif 1 <= day <= 29 and mounth==2:\n",
    "            string = date_creator(day, mounth, year)\n",
    "        elif 1 <= day <= 28 and mounth==2 and year%4 == 0:\n",
    "            string = date_creator(day, mounth, year)\n",
    "        else:\n",
    "            raise TypeError('Ошибка даты!')\n",
    "        return string\n",
    "    except Exception as e:\n",
    "        print(\"Непредвиденная ошибка:\", e)"
   ]
  },
  {
   "cell_type": "code",
   "execution_count": 5,
   "metadata": {},
   "outputs": [],
   "source": [
    "def date_creator(day, mounth, year):\n",
    "    day = str(day) if len(str(day))==2 else '0'+str(day)\n",
    "    mounth = str(mounth) if len(str(mounth))==2 else '0'+str(mounth)\n",
    "    string = f'{day}-{mounth}-{year}'\n",
    "    return string"
   ]
  },
  {
   "cell_type": "code",
   "execution_count": 6,
   "metadata": {},
   "outputs": [
    {
     "data": {
      "text/plain": [
       "'05-10-2019'"
      ]
     },
     "execution_count": 6,
     "metadata": {},
     "output_type": "execute_result"
    }
   ],
   "source": [
    "date(5, 10, 2019)"
   ]
  },
  {
   "cell_type": "markdown",
   "metadata": {},
   "source": [
    "# №3"
   ]
  },
  {
   "cell_type": "code",
   "execution_count": 43,
   "metadata": {},
   "outputs": [],
   "source": [
    "def max_list(List):\n",
    "    try:\n",
    "        Max = 0\n",
    "        for el in List:\n",
    "            el_count = List.count(el)\n",
    "            if el_count > Max:\n",
    "                Max = el_count\n",
    "                Max_el = el\n",
    "        string = f'Элемент \"{Max_el}\" встречался максимальное количество раз ({Max})'\n",
    "        return string\n",
    "    except Exception as e:\n",
    "        print(\"Непредвиденная ошибка:\", e)"
   ]
  },
  {
   "cell_type": "code",
   "execution_count": 44,
   "metadata": {},
   "outputs": [
    {
     "data": {
      "text/plain": [
       "'Элемент \"о\" встречался максимальное количество раз (6)'"
      ]
     },
     "execution_count": 44,
     "metadata": {},
     "output_type": "execute_result"
    }
   ],
   "source": [
    "s = 'Предложение никогда не должно вас удовлетворять'\n",
    "max_list(list(s))"
   ]
  },
  {
   "cell_type": "markdown",
   "metadata": {},
   "source": [
    "# №4"
   ]
  },
  {
   "cell_type": "code",
   "execution_count": 46,
   "metadata": {},
   "outputs": [
    {
     "name": "stdout",
     "output_type": "stream",
     "text": [
      "Введите число: 59\n",
      "Введите систему счисления: 6\n",
      "135\n"
     ]
    }
   ],
   "source": [
    "Input = int(input('Введите число: '))\n",
    "CS = int(input('Введите систему счисления: '))\n",
    "try:\n",
    "    if 1<= CS <=9:\n",
    "        out = ''\n",
    "        while Input>0:\n",
    "            out = str(Input%CS) + out\n",
    "            Input = Input//CS\n",
    "        print(out)\n",
    "except Exception as e:\n",
    "    print(\"Непредвиденная ошибка:\", e)"
   ]
  },
  {
   "cell_type": "markdown",
   "metadata": {},
   "source": [
    "# №5"
   ]
  },
  {
   "cell_type": "code",
   "execution_count": 49,
   "metadata": {},
   "outputs": [],
   "source": [
    "def difference(List):\n",
    "    MAX = max(List)\n",
    "    MIN = min(List)\n",
    "    res = MAX - MIN\n",
    "    return res"
   ]
  },
  {
   "cell_type": "code",
   "execution_count": 50,
   "metadata": {},
   "outputs": [
    {
     "data": {
      "text/plain": [
       "18"
      ]
     },
     "execution_count": 50,
     "metadata": {},
     "output_type": "execute_result"
    }
   ],
   "source": [
    "List = [10, 15, 20, 2, 10, 6]\n",
    "difference(List)"
   ]
  },
  {
   "cell_type": "code",
   "execution_count": null,
   "metadata": {},
   "outputs": [],
   "source": []
  }
 ],
 "metadata": {
  "kernelspec": {
   "display_name": "Python 3",
   "language": "python",
   "name": "python3"
  },
  "language_info": {
   "codemirror_mode": {
    "name": "ipython",
    "version": 3
   },
   "file_extension": ".py",
   "mimetype": "text/x-python",
   "name": "python",
   "nbconvert_exporter": "python",
   "pygments_lexer": "ipython3",
   "version": "3.7.3"
  }
 },
 "nbformat": 4,
 "nbformat_minor": 2
}
