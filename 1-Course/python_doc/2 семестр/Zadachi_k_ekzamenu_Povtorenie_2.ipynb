{
 "cells": [
  {
   "cell_type": "markdown",
   "metadata": {},
   "source": [
    "# №1"
   ]
  },
  {
   "cell_type": "code",
   "execution_count": 11,
   "metadata": {},
   "outputs": [],
   "source": [
    "def line(A, B):\n",
    "    if len(A)!=2 and len(B)!=2:\n",
    "        raise ValueError(\"Некорректные данные\", \"Кортежи имеют не 2 элемента\")\n",
    "    x1, y1 = A\n",
    "    x2, y2 = B\n",
    "    if check(x1) and check(y1) and check(x2) and check(y2):\n",
    "        par_a = y2 - y1 # ПРИ X\n",
    "        par_b = x2 - x1 # ПРИ Y\n",
    "        par_c = x2*y1 - x1*y2\n",
    "        \n",
    "        final_str = f\"{par_b}y = {par_c} + ({par_a})x\"\n",
    "        print(final_str)\n",
    "    else:\n",
    "        raise TypeError(\"Некорректные данные\", \"Тип данных несоответсвует\")"
   ]
  },
  {
   "cell_type": "code",
   "execution_count": 12,
   "metadata": {},
   "outputs": [],
   "source": [
    "def check(x):\n",
    "    if type(x) is float or type(x) is int:\n",
    "        return True\n",
    "    else:\n",
    "        return False"
   ]
  },
  {
   "cell_type": "code",
   "execution_count": 21,
   "metadata": {},
   "outputs": [
    {
     "name": "stdout",
     "output_type": "stream",
     "text": [
      "36y = 97 + (-5)x\n"
     ]
    }
   ],
   "source": [
    "A = (5, 2)\n",
    "B = (41, -3)\n",
    "\n",
    "line(A, B)"
   ]
  },
  {
   "cell_type": "markdown",
   "metadata": {},
   "source": [
    "# №2\n"
   ]
  },
  {
   "cell_type": "code",
   "execution_count": 33,
   "metadata": {},
   "outputs": [],
   "source": [
    "def check2(x):\n",
    "    if type(x) is float or type(x) is int:\n",
    "        return True\n",
    "    else:\n",
    "        return False"
   ]
  },
  {
   "cell_type": "code",
   "execution_count": 37,
   "metadata": {},
   "outputs": [],
   "source": [
    "def counter(s, p, n, Boolean=False, m=0):\n",
    "    if check2(s) and check2(p) and type(n)==int:\n",
    "        p = p/100\n",
    "        m = (s*p*(1+p)**n)/(12*((1+p)**n-1))\n",
    "        if Boolean == True:\n",
    "            print('Ежемесячный платеж:')\n",
    "            return m\n",
    "        elif Boolean == False:\n",
    "            full = m*n*12\n",
    "            print('Вся сумма выплат:')\n",
    "            return full\n",
    "    else:\n",
    "        raise TypeError(\"Некорректные данные\", \"Тип данных несоответсвует\")"
   ]
  },
  {
   "cell_type": "code",
   "execution_count": 40,
   "metadata": {},
   "outputs": [
    {
     "name": "stdout",
     "output_type": "stream",
     "text": [
      "Вся сумма выплат:\n",
      "26439045.604\n"
     ]
    }
   ],
   "source": [
    "#s = float(input('Сумма займа = '))\n",
    "#p = float(input('Процентная ставка (например 10%) = '))\n",
    "#n = int(input('Количество лет = '))\n",
    "s = 15000000\n",
    "p = 11.9\n",
    "n = 10\n",
    "\n",
    "res = counter(s, p, n)\n",
    "print(format(res, '.3f'))"
   ]
  },
  {
   "cell_type": "markdown",
   "metadata": {},
   "source": [
    "# №3"
   ]
  },
  {
   "cell_type": "code",
   "execution_count": 45,
   "metadata": {},
   "outputs": [
    {
     "name": "stdout",
     "output_type": "stream",
     "text": [
      "['de', False, 'sd']\n"
     ]
    },
    {
     "data": {
      "text/plain": [
       "{False, 'de', 'sd'}"
      ]
     },
     "execution_count": 45,
     "metadata": {},
     "output_type": "execute_result"
    }
   ],
   "source": [
    "list1 = [12, \"de\", 1, False, 18, 'sd']\n",
    "list2 = [15, \"de\", 'sd', -1, False]\n",
    "\n",
    "final = [el for el in list1 if el in list2]\n",
    "print(final)\n",
    "\n",
    "fl = lambda: set(list1) & set(list2)\n",
    "fl()"
   ]
  },
  {
   "cell_type": "markdown",
   "metadata": {},
   "source": [
    "# №4"
   ]
  },
  {
   "cell_type": "code",
   "execution_count": 10,
   "metadata": {},
   "outputs": [
    {
     "name": "stdout",
     "output_type": "stream",
     "text": [
      "в в любви картах Счастлив несчастлив\n"
     ]
    }
   ],
   "source": [
    "string = 'Счастлив в любви, несчастлив в картах'\n",
    "\n",
    "fl = lambda x: sorted([el.strip(',') for el in x.split()], key=len)\n",
    "\n",
    "print(' '.join(fl(string)))"
   ]
  },
  {
   "cell_type": "code",
   "execution_count": 11,
   "metadata": {},
   "outputs": [
    {
     "name": "stdout",
     "output_type": "stream",
     "text": [
      "в в любви, картах Счастлив несчастлив\n"
     ]
    }
   ],
   "source": [
    "fl2 = lambda x: ' '.join(sorted(x.split(), key=len))\n",
    "print(fl2(string))"
   ]
  },
  {
   "cell_type": "markdown",
   "metadata": {},
   "source": [
    "# №5"
   ]
  },
  {
   "cell_type": "code",
   "execution_count": 77,
   "metadata": {},
   "outputs": [
    {
     "name": "stdout",
     "output_type": "stream",
     "text": [
      "{12: 2, 2: 3}\n"
     ]
    }
   ],
   "source": [
    "List = [12, 2, 15, 12, 9, 2, 2]\n",
    "#STR = ' '.join(List)\n",
    "rep_count = lambda: {el: List.count(el) for el in List if List.count(el)>1}\n",
    "print(rep_count())"
   ]
  },
  {
   "cell_type": "code",
   "execution_count": null,
   "metadata": {},
   "outputs": [],
   "source": []
  }
 ],
 "metadata": {
  "kernelspec": {
   "display_name": "Python 3",
   "language": "python",
   "name": "python3"
  },
  "language_info": {
   "codemirror_mode": {
    "name": "ipython",
    "version": 3
   },
   "file_extension": ".py",
   "mimetype": "text/x-python",
   "name": "python",
   "nbconvert_exporter": "python",
   "pygments_lexer": "ipython3",
   "version": "3.7.3"
  }
 },
 "nbformat": 4,
 "nbformat_minor": 2
}
