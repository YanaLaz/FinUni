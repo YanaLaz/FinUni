{
 "cells": [
  {
   "cell_type": "code",
   "execution_count": null,
   "metadata": {},
   "outputs": [],
   "source": [
    "class Fract:\n",
    "    \n",
    "    def __init__(self, numer, denomin):\n",
    "        if den == 0:\n",
    "            raise ZeroDivisionError\n",
    "            \n",
    "        self.num = numer\n",
    "        self.den = denomin\n",
    "        if type(num) == float or\n",
    "        \n",
    "    def _float_num_den_to_int(self):\n",
    "        while True:\n",
    "            if int(self.num) == self.num and int(self.den) == self.den:\n",
    "                break\n",
    "            self.num *= 10\n",
    "            self.den *= 10\n",
    "    \n",
    "    #Сложение\n",
    "    def __add__(self, other):\n",
    "        return self.__summ(other)\n",
    "            \n",
    "    \n",
    "    def __radd__(self, other):\n",
    "        return self.__summ(other)\n",
    "    \n",
    "    #Умножение\n",
    "    def __mul__(self, other):\n",
    "        return self.__multy(other)\n",
    "    \n",
    "    def __rmul__(self, other):\n",
    "        return self.__multy(other)\n",
    "    \n",
    "    #Вычитание\n",
    "    def __sub__(self, other):\n",
    "        return\n",
    "            \n",
    "    def __rsub__(self, other):\n",
    "        return\n",
    "           \n",
    "    #Деление\n",
    "    def __truediv__(self, other):\n",
    "        return\n",
    "    \n",
    "    def __div__(self, other):\n",
    "        return\n",
    "    \n",
    "    def __rdiv__(self, other):\n",
    "        return\n",
    "    \n",
    "    def __rtruediv__(self, other):\n",
    "        return\n",
    "    \n",
    "    # <=\n",
    "    def __le__(self, other):\n",
    "        return\n",
    "    \n",
    "    # >=\n",
    "    def __ge__(self, other):\n",
    "        return\n",
    "    \n",
    "    # >\n",
    "    def __gt__(self, other):\n",
    "        return\n",
    "    \n",
    "    # <\n",
    "    def __lt__(self, other):\n",
    "        return\n",
    "    \n",
    "    # ==\n",
    "    def __eq__(self, other):\n",
    "        return\n",
    "    \n",
    "    # !=\n",
    "    def __ne__(self, other):\n",
    "        return\n",
    "    \n",
    "    def __pprint(self):\n",
    "        if self.den == 1:\n",
    "            return f\"{self.num}\"\n",
    "        else:\n",
    "            return f\"{self.num}/{self.den}\"\n",
    "        \n",
    "    def __str__(self):\n",
    "        return self.__pprint()\n",
    "    \n",
    "    def __repr__(self):\n",
    "        return self.__pprint()"
   ]
  },
  {
   "cell_type": "code",
   "execution_count": null,
   "metadata": {},
   "outputs": [],
   "source": [
    "##################################"
   ]
  },
  {
   "cell_type": "code",
   "execution_count": 33,
   "metadata": {},
   "outputs": [],
   "source": [
    "class Fract:\n",
    "\n",
    "    def __init__(self, num, den): # self отношение к объекту, всегда опускается, \"магические методы\"\n",
    "        self.num = num # ссылка на объект\n",
    "        self.den = den\n",
    "        \n",
    "    def float_to_int(other):\n",
    "        den = 1 \n",
    "        while True:\n",
    "            if int(other) == other:\n",
    "                break\n",
    "            else:\n",
    "                den *= 10\n",
    "                other *= 10\n",
    "        return Fract(int(other), int(den))\n",
    "    \n",
    "    # сложение    \n",
    "    def __summ(self, other):\n",
    "        if type(other) == int:\n",
    "            return Fract(self.num + other*self.den, self.den)\n",
    "        elif type(other) == float:\n",
    "            fract = Fract.float_to_int(other)\n",
    "            return Fract(self.num*other.den + other.num*self.den, self.den*other)\n",
    "        elif isinstance(other, Fract): # проверяется other находится в классе Fract\n",
    "            return Fract(self.num*other.den + other.num*self.den, self.den*other)\n",
    "        else:\n",
    "            raise TypeError\n",
    "            \n",
    "    def __sub__(self, other):\n",
    "        if type(other) == int:\n",
    "            return Fract(self.num - other*self.den, self.den)\n",
    "        elif isinstance(other, Fract): # проверяется other находится в классе Fract\n",
    "            return Fract(self.num*other.den - other.num*self.den, self.den*other)\n",
    "        else:\n",
    "            raise TypeError\n",
    "    \n",
    "    def __rsub__(self, other):\n",
    "        if type(other) == int:\n",
    "            return Fract(self.num - other*self.den, self.den)\n",
    "        elif isinstance(other, Fract): # проверяется other находится в классе Fract\n",
    "            return Fract(self.num*other.den - other.num*self.den, self.den*other)\n",
    "        else:\n",
    "            raise TypeError\n",
    "            \n",
    "    def __mul__(self, other):\n",
    "        pass\n",
    "    \n",
    "    def __rmul__(self, other):\n",
    "        pass\n",
    "    \n",
    "    def __truediv__(self, other):\n",
    "        pass\n",
    "    \n",
    "    def __rtruediv__(self, other):\n",
    "        pass\n",
    "    \n",
    "    \n",
    "    def __add__(self, other):\n",
    "        return self.__summ(other)\n",
    "        \n",
    "    def __radd__(self,other):\n",
    "        return self.__summ(other)\n",
    "    \n",
    "    def __le__(self,other):\n",
    "        \n",
    "    \n",
    "    def __lt__(self,other):\n",
    "        pass\n",
    "    \n",
    "    def __gt__(self,other):\n",
    "        pass\n",
    "    \n",
    "    def __eq__(self,other):\n",
    "        if self == other:\n",
    "            return True\n",
    "    \n",
    "    def __ne__(self,other):\n",
    "        pass\n",
    "        \n",
    "    def __str__(self):\n",
    "        return f'{self.num}/{self.den}'\n",
    "    \n",
    "    def __repr__(self):\n",
    "        return f'{self.num}/{self.den}'"
   ]
  },
  {
   "cell_type": "code",
   "execution_count": 43,
   "metadata": {},
   "outputs": [
    {
     "data": {
      "text/plain": [
       "1/2"
      ]
     },
     "execution_count": 43,
     "metadata": {},
     "output_type": "execute_result"
    }
   ],
   "source": [
    "fr = Fract(1,2)\n",
    "fr\n"
   ]
  },
  {
   "cell_type": "code",
   "execution_count": 35,
   "metadata": {},
   "outputs": [
    {
     "data": {
      "text/plain": [
       "11/2"
      ]
     },
     "execution_count": 35,
     "metadata": {},
     "output_type": "execute_result"
    }
   ],
   "source": [
    "fr + 5\n"
   ]
  },
  {
   "cell_type": "code",
   "execution_count": 36,
   "metadata": {},
   "outputs": [
    {
     "data": {
      "text/plain": [
       "-1/2"
      ]
     },
     "execution_count": 36,
     "metadata": {},
     "output_type": "execute_result"
    }
   ],
   "source": [
    "fr - 1"
   ]
  },
  {
   "cell_type": "code",
   "execution_count": 37,
   "metadata": {},
   "outputs": [
    {
     "data": {
      "text/plain": [
       "-1/2"
      ]
     },
     "execution_count": 37,
     "metadata": {},
     "output_type": "execute_result"
    }
   ],
   "source": [
    "1 - fr"
   ]
  },
  {
   "cell_type": "code",
   "execution_count": 24,
   "metadata": {},
   "outputs": [
    {
     "data": {
      "text/plain": [
       "__main__.Fract"
      ]
     },
     "execution_count": 24,
     "metadata": {},
     "output_type": "execute_result"
    }
   ],
   "source": [
    "type(fr)"
   ]
  },
  {
   "cell_type": "code",
   "execution_count": 39,
   "metadata": {},
   "outputs": [
    {
     "data": {
      "text/plain": [
       "7/2"
      ]
     },
     "execution_count": 39,
     "metadata": {},
     "output_type": "execute_result"
    }
   ],
   "source": [
    "3 + fr"
   ]
  },
  {
   "cell_type": "code",
   "execution_count": 42,
   "metadata": {},
   "outputs": [
    {
     "ename": "SyntaxError",
     "evalue": "can't assign to literal (<ipython-input-42-2b1c53ec1568>, line 1)",
     "output_type": "error",
     "traceback": [
      "\u001b[0;36m  File \u001b[0;32m\"<ipython-input-42-2b1c53ec1568>\"\u001b[0;36m, line \u001b[0;32m1\u001b[0m\n\u001b[0;31m    1 = Fract(1,1)\u001b[0m\n\u001b[0m                  ^\u001b[0m\n\u001b[0;31mSyntaxError\u001b[0m\u001b[0;31m:\u001b[0m can't assign to literal\n"
     ]
    }
   ],
   "source": [
    "1 = Fract(1,1)"
   ]
  },
  {
   "cell_type": "code",
   "execution_count": null,
   "metadata": {},
   "outputs": [],
   "source": []
  }
 ],
 "metadata": {
  "kernelspec": {
   "display_name": "Python 3",
   "language": "python",
   "name": "python3"
  },
  "language_info": {
   "codemirror_mode": {
    "name": "ipython",
    "version": 3
   },
   "file_extension": ".py",
   "mimetype": "text/x-python",
   "name": "python",
   "nbconvert_exporter": "python",
   "pygments_lexer": "ipython3",
   "version": "3.7.3"
  }
 },
 "nbformat": 4,
 "nbformat_minor": 2
}
