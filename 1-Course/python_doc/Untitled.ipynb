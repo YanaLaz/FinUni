{
 "cells": [
  {
   "cell_type": "code",
   "execution_count": 1,
   "metadata": {},
   "outputs": [
    {
     "name": "stdout",
     "output_type": "stream",
     "text": [
      "pygame 2.0.0 (SDL 2.0.12, python 3.8.3)\n",
      "Hello from the pygame community. https://www.pygame.org/contribute.html\n"
     ]
    },
    {
     "ename": "SystemExit",
     "evalue": "0",
     "output_type": "error",
     "traceback": [
      "An exception has occurred, use %tb to see the full traceback.\n",
      "\u001b[0;31mSystemExit\u001b[0m\u001b[0;31m:\u001b[0m 0\n"
     ]
    },
    {
     "name": "stderr",
     "output_type": "stream",
     "text": [
      "/Users/yanalazareva/opt/anaconda3/lib/python3.8/site-packages/IPython/core/interactiveshell.py:3351: UserWarning: To exit: use 'exit', 'quit', or Ctrl-D.\n",
      "  warn(\"To exit: use 'exit', 'quit', or Ctrl-D.\", stacklevel=1)\n"
     ]
    }
   ],
   "source": [
    "import pygame\n",
    "import sys\n",
    "\n",
    "pygame.init()\n",
    "size_block = 100\n",
    "margin = 15\n",
    "width = heigth = size_block * 3 + margin * 4  # размер окна, где берем 3 блока и 4 отступа\n",
    "\n",
    "size_window = (width, heigth)\n",
    "screen = pygame.display.set_mode(size_window)\n",
    "pygame.display.set_caption(\"Крестики-нолики\")\n",
    "\n",
    "black = (0, 0, 0)\n",
    "red = (255, 0, 0)\n",
    "green = (0, 255, 0)\n",
    "white = (255, 255, 255)\n",
    "mas = [[0] * 3 for i in range(3)]  # массив, который отвечает за определенные клетки\n",
    "query = 0  # 1 2 3 4 5 6 7\n",
    "\n",
    "while True:\n",
    "    for event in pygame.event.get():\n",
    "        if event.type == pygame.QUIT:\n",
    "            pygame.quit()\n",
    "            sys.exit(0)\n",
    "\n",
    "        elif event.type == pygame.MOUSEBUTTONDOWN:\n",
    "            x_mouse, y_mouse = pygame.mouse.get_pos()\n",
    "            col = x_mouse // (size_block+margin)\n",
    "            row = y_mouse // (size_block + margin)\n",
    "\n",
    "            if mas[row][col] == 0:\n",
    "                if query%2 == 0:  # если четное, то будет крестик\n",
    "                    mas[row][col] = 'x'\n",
    "                else:  # если нечетное, то нолик\n",
    "                    mas[row][col] = 'o'\n",
    "                query += 1\n",
    "\n",
    "    for row in range(3):\n",
    "        for col in range(3):\n",
    "            if mas[row][col] == 'x':\n",
    "                color = red\n",
    "\n",
    "            elif mas[row][col] == 'o':\n",
    "                color = green\n",
    "\n",
    "            else:\n",
    "                color = white\n",
    "            x = col*size_block + (col+1)*margin\n",
    "            y = row * size_block + (row + 1) * margin\n",
    "            pygame.draw.rect(screen, color, (x, y, size_block, size_block))\n",
    "            if color == red:  # если цвет красный, то рисуем крестик\n",
    "                pygame.draw.line(screen, white, (x+5, y+5), (x+size_block-5, y+size_block-5), 3)\n",
    "                pygame.draw.line(screen, white, (x + size_block - 5, y + 5), (x + 5, y + size_block - 5), 3)\n",
    "\n",
    "            elif color == green:\n",
    "                pygame.draw.circle(screen, white, (x+size_block//2, y+size_block//2), size_block//2-3, 3)\n",
    "    pygame.display.update()"
   ]
  },
  {
   "cell_type": "code",
   "execution_count": null,
   "metadata": {},
   "outputs": [],
   "source": []
  }
 ],
 "metadata": {
  "kernelspec": {
   "display_name": "Python 3",
   "language": "python",
   "name": "python3"
  },
  "language_info": {
   "codemirror_mode": {
    "name": "ipython",
    "version": 3
   },
   "file_extension": ".py",
   "mimetype": "text/x-python",
   "name": "python",
   "nbconvert_exporter": "python",
   "pygments_lexer": "ipython3",
   "version": "3.8.3"
  }
 },
 "nbformat": 4,
 "nbformat_minor": 2
}
