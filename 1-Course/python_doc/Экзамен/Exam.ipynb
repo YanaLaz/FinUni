{
 "cells": [
  {
   "cell_type": "code",
   "execution_count": 145,
   "metadata": {},
   "outputs": [
    {
     "data": {
      "text/plain": [
       "78.5"
      ]
     },
     "execution_count": 145,
     "metadata": {},
     "output_type": "execute_result"
    }
   ],
   "source": [
    "# 1\n",
    "def are(r,s): # s=1 это площадь, s=0 длина\n",
    "    if s:\n",
    "        return 3.14*r**2\n",
    "    else:\n",
    "        return 2*3.14*r\n",
    "\n",
    "are(5,1)"
   ]
  },
  {
   "cell_type": "code",
   "execution_count": 146,
   "metadata": {},
   "outputs": [
    {
     "data": {
      "text/plain": [
       "39916800"
      ]
     },
     "execution_count": 146,
     "metadata": {},
     "output_type": "execute_result"
    }
   ],
   "source": [
    "# 2\n",
    "def fact(num): # >0 # Что такое отриц Факториал ????\n",
    "    if num == 1:\n",
    "        return num\n",
    "    else:\n",
    "        return num*(fact(num-1))\n",
    "\n",
    "fact(11)"
   ]
  },
  {
   "cell_type": "code",
   "execution_count": 147,
   "metadata": {},
   "outputs": [
    {
     "data": {
      "text/plain": [
       "[['E', 'e', 'n', 'y'],\n",
       " ['m', 'e', 'e', 'n', 'y'],\n",
       " ['m', 'i', 'n', 'e', 'y'],\n",
       " ['m', 'o', 'e'],\n",
       " ['C', 'a', 't', 'c', 'h'],\n",
       " ['a'],\n",
       " ['t', 'i', 'g', 'e', 'r'],\n",
       " ['b', 'y'],\n",
       " ['h', 'i', 's'],\n",
       " ['t', 'o', 'e']]"
      ]
     },
     "execution_count": 147,
     "metadata": {},
     "output_type": "execute_result"
    }
   ],
   "source": [
    "# 3\n",
    "import re\n",
    "st = 'Eeny,meeny, miney, moe; Catch a tiger by his toe.'\n",
    "\n",
    "result = re.split(r'[,.; ]',st)\n",
    "result = [list(i) for i in result if len(i)>0]\n",
    "result"
   ]
  },
  {
   "cell_type": "code",
   "execution_count": 148,
   "metadata": {},
   "outputs": [
    {
     "data": {
      "text/plain": [
       "['SIX', 'EIGHT', 'TEN']"
      ]
     },
     "execution_count": 148,
     "metadata": {},
     "output_type": "execute_result"
    }
   ],
   "source": [
    "# 4\n",
    "d = {'ONE':1, 'TWO':2, 'THREE':3, 'FOUR':4, 'FIVE':5, 'SIX':6, 'SEVEN':7, 'EIGHT':8, 'NINE':9, 'TEN':10}\n",
    "st = 'six,SEVEN,EIGHT,nine,ten'.upper().split(',')\n",
    "st = [s for s in st if d[s]%2==0]\n",
    "st"
   ]
  },
  {
   "cell_type": "code",
   "execution_count": 149,
   "metadata": {},
   "outputs": [
    {
     "name": "stdout",
     "output_type": "stream",
     "text": [
      "[['E', 'e', 'n', 'y'], ['m', 'e', 'e', 'n', 'y'], ['m', 'i', 'n', 'e', 'y'], ['m', 'o', 'e']]\n"
     ]
    },
    {
     "data": {
      "text/plain": [
       "'Eeny,meeny,miney,moe'"
      ]
     },
     "execution_count": 149,
     "metadata": {},
     "output_type": "execute_result"
    }
   ],
   "source": [
    "# 5\n",
    "st = 'Eeny,meeny,miney,moe'.split(',')\n",
    "st = [list(i) for i in st if len(i)>0] # Эти 2 строки нужны только что бы не писать список списков самим\n",
    "print(st)\n",
    "#-----------Сама прога\n",
    "\n",
    "st = ','.join([''.join(s) for s in st])\n",
    "st\n"
   ]
  },
  {
   "cell_type": "code",
   "execution_count": 150,
   "metadata": {},
   "outputs": [
    {
     "data": {
      "text/plain": [
       "{1: 'a', 3: 'c'}"
      ]
     },
     "execution_count": 150,
     "metadata": {},
     "output_type": "execute_result"
    }
   ],
   "source": [
    "# 6\n",
    "st = {'a':1,'b':2, 'c':3, 'd':2}\n",
    "\n",
    "st = {v:k for k, v in st.items() if not list(st.values()).count(v) > 1}\n",
    "st"
   ]
  },
  {
   "cell_type": "code",
   "execution_count": 151,
   "metadata": {},
   "outputs": [
    {
     "data": {
      "text/plain": [
       "{3.0: 'a', 1.0: 'b', 2.5: 'c'}"
      ]
     },
     "execution_count": 151,
     "metadata": {},
     "output_type": "execute_result"
    }
   ],
   "source": [
    "# 7\n",
    "st = {(2,4):'a', (1,1,1):'b', (2,3):'c'}\n",
    "\n",
    "st = {(sum(k)/len(k)):v for k, v in st.items()}\n",
    "st"
   ]
  },
  {
   "cell_type": "code",
   "execution_count": 152,
   "metadata": {},
   "outputs": [
    {
     "data": {
      "text/plain": [
       "[(1, 3, 4), (2,), (6,), (2, 2, 2)]"
      ]
     },
     "execution_count": 152,
     "metadata": {},
     "output_type": "execute_result"
    }
   ],
   "source": [
    "# 8\n",
    "st = [(1,3,4), (2,1), (6,), (2,2,2,1)]\n",
    "\n",
    "st = [i if len(i) % 2 != 0 else i[:-1] for i in st]\n",
    "st"
   ]
  },
  {
   "cell_type": "code",
   "execution_count": 153,
   "metadata": {},
   "outputs": [
    {
     "data": {
      "text/plain": [
       "{2: 'aa', 4: 'bbbb', 1: 'c', 3: 'ddd'}"
      ]
     },
     "execution_count": 153,
     "metadata": {},
     "output_type": "execute_result"
    }
   ],
   "source": [
    "# 9\n",
    "#). Пример [2, 4, 1, 3], ['a', 'b', 'c', 'd'] -> {2:'aa', 4:'bbbb', 1:'c', 3:'ddd'}\n",
    "\n",
    "d1 = [2,4,1,3]\n",
    "d2 = ['a', 'b', 'c', 'd']\n",
    "\n",
    "st = {k:k*v for k, v in zip(d1, d2)}\n",
    "st"
   ]
  },
  {
   "cell_type": "code",
   "execution_count": 154,
   "metadata": {},
   "outputs": [],
   "source": [
    "# 10 Очереди на 2 семестр\n",
    "#def list3_to2(list1, list2, list3):\n"
   ]
  },
  {
   "cell_type": "code",
   "execution_count": 155,
   "metadata": {},
   "outputs": [
    {
     "data": {
      "text/plain": [
       "[6, 18, 4]"
      ]
     },
     "execution_count": 155,
     "metadata": {},
     "output_type": "execute_result"
    }
   ],
   "source": [
    "# 11\n",
    "st = {2:4, 3:2, 12:6, 5:4, 1:3}\n",
    "st = [k+v for k, v in st.items() if (k+v) % 2 == 0]\n",
    "st"
   ]
  },
  {
   "cell_type": "code",
   "execution_count": 156,
   "metadata": {},
   "outputs": [
    {
     "data": {
      "text/plain": [
       "[[1, 2, 3], [1], [1, 2, 3, 4]]"
      ]
     },
     "execution_count": 156,
     "metadata": {},
     "output_type": "execute_result"
    }
   ],
   "source": [
    "# 12\n",
    "st = [3, 1, 4]\n",
    "st = [[s for s in range(1, i+1)] for i in st ]\n",
    "st"
   ]
  },
  {
   "cell_type": "code",
   "execution_count": 157,
   "metadata": {},
   "outputs": [],
   "source": [
    "# 13 Связанный список на 2 семестр"
   ]
  },
  {
   "cell_type": "code",
   "execution_count": 162,
   "metadata": {},
   "outputs": [
    {
     "data": {
      "text/plain": [
       "['aaaaaaa', 'bbbbbb', 'ccccc', 'dddd', 'eee', 'ff', 'g']"
      ]
     },
     "execution_count": 162,
     "metadata": {},
     "output_type": "execute_result"
    }
   ],
   "source": [
    "# 14\n",
    "st = 'abcdefg'\n",
    "st = [k*v for k, v in zip(st, range(len(st),0,-1))]\n",
    "st\n"
   ]
  },
  {
   "cell_type": "code",
   "execution_count": 163,
   "metadata": {},
   "outputs": [
    {
     "data": {
      "text/plain": [
       "'replace s1 val fff'"
      ]
     },
     "execution_count": 163,
     "metadata": {},
     "output_type": "execute_result"
    }
   ],
   "source": [
    "# 15\n",
    "def repl(st, **data):\n",
    "    for k, v in data.items():\n",
    "        st = st.replace(k,v)\n",
    "    return st\n",
    "\n",
    "repl('replace my val abc', my='s1', abc='fff')"
   ]
  },
  {
   "cell_type": "code",
   "execution_count": null,
   "metadata": {},
   "outputs": [],
   "source": []
  }
 ],
 "metadata": {
  "kernelspec": {
   "display_name": "Python 3",
   "language": "python",
   "name": "python3"
  },
  "language_info": {
   "codemirror_mode": {
    "name": "ipython",
    "version": 3
   },
   "file_extension": ".py",
   "mimetype": "text/x-python",
   "name": "python",
   "nbconvert_exporter": "python",
   "pygments_lexer": "ipython3",
   "version": "3.7.3"
  }
 },
 "nbformat": 4,
 "nbformat_minor": 2
}
