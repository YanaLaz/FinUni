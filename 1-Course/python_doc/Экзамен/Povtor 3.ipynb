{
 "cells": [
  {
   "cell_type": "code",
   "execution_count": 6,
   "metadata": {},
   "outputs": [],
   "source": [
    "# 1\n",
    "def is_year_leap(year):\n",
    "    try:\n",
    "        int(year)\n",
    "        if year%4 != 0:\n",
    "            return False\n",
    "        else:\n",
    "            if year%100 != 0:\n",
    "                return True\n",
    "            else:\n",
    "                if year%400 == 0:\n",
    "                    return True\n",
    "                else:\n",
    "                    return False\n",
    "    except ValueError:\n",
    "        return print('Введите число')"
   ]
  },
  {
   "cell_type": "code",
   "execution_count": 14,
   "metadata": {},
   "outputs": [
    {
     "data": {
      "text/plain": [
       "True"
      ]
     },
     "execution_count": 14,
     "metadata": {},
     "output_type": "execute_result"
    }
   ],
   "source": [
    "is_year_leap(104)"
   ]
  },
  {
   "cell_type": "code",
   "execution_count": null,
   "metadata": {},
   "outputs": [],
   "source": [
    "# 2 \n",
    "def date(data, mounth, year):\n",
    "    "
   ]
  },
  {
   "cell_type": "code",
   "execution_count": 48,
   "metadata": {},
   "outputs": [],
   "source": [
    "# 3\n",
    "def plov(sp):\n",
    "    try:\n",
    "        list(sp)\n",
    "        dicti = {}\n",
    "        for i in sp:\n",
    "            dicti.update({i: dicti.get(i, 0)+1})\n",
    "        mx = 0\n",
    "        for k,v in dicti.items():\n",
    "            if v>mx:\n",
    "                mx = v\n",
    "                ex = k\n",
    "        return ex \n",
    "    except TypeError:\n",
    "        return print('Введите список')"
   ]
  },
  {
   "cell_type": "code",
   "execution_count": 49,
   "metadata": {},
   "outputs": [
    {
     "data": {
      "text/plain": [
       "1"
      ]
     },
     "execution_count": 49,
     "metadata": {},
     "output_type": "execute_result"
    }
   ],
   "source": [
    "plov([1,1,2,5,1,3,3])"
   ]
  },
  {
   "cell_type": "code",
   "execution_count": 50,
   "metadata": {},
   "outputs": [
    {
     "data": {
      "text/plain": [
       "'q'"
      ]
     },
     "execution_count": 50,
     "metadata": {},
     "output_type": "execute_result"
    }
   ],
   "source": [
    "plov(['q',1,'q','y']) "
   ]
  },
  {
   "cell_type": "code",
   "execution_count": 51,
   "metadata": {},
   "outputs": [
    {
     "name": "stdout",
     "output_type": "stream",
     "text": [
      "255\n",
      "Base (2-9): 2\n",
      "11111111\n"
     ]
    }
   ],
   "source": [
    "# 4\n",
    "num = int(input())\n",
    "base = int(input(\"Base (2-9): \"))\n",
    "if not(2 <= base <= 9):\n",
    "    quit()\n",
    "\n",
    "newNum = ''\n",
    "\n",
    "while num > 0:\n",
    "    newNum = str(num % base) + newNum\n",
    "    num //= base\n",
    "\n",
    "print(newNum)"
   ]
  },
  {
   "cell_type": "code",
   "execution_count": 88,
   "metadata": {},
   "outputs": [],
   "source": [
    "def perevod(num, base):\n",
    "    try:\n",
    "        int(num)\n",
    "        int(base) and 2<= base <= 9\n",
    "        newNum = ''\n",
    "        while num > 0:\n",
    "            newNum = str(num % base) + newNum\n",
    "            num //= base\n",
    "    except ValueError:\n",
    "        return print('Где-то есть ошибка')\n",
    "        \n",
    "        \n",
    "    return newNum"
   ]
  },
  {
   "cell_type": "code",
   "execution_count": 89,
   "metadata": {},
   "outputs": [
    {
     "data": {
      "text/plain": [
       "'14'"
      ]
     },
     "execution_count": 89,
     "metadata": {},
     "output_type": "execute_result"
    }
   ],
   "source": [
    "perevod(10,6)"
   ]
  },
  {
   "cell_type": "code",
   "execution_count": 90,
   "metadata": {},
   "outputs": [],
   "source": [
    "# 5\n",
    "def razn(sp):\n",
    "    try:\n",
    "        list(sp)\n",
    "        m = 0\n",
    "        for i in sp:\n",
    "            for j in sp:\n",
    "                if i>j:\n",
    "                    if m<(i-j):\n",
    "                        m = (i-j)\n",
    "                else:\n",
    "                    if m<(j-i):\n",
    "                        m = (j-i)\n",
    "        return m\n",
    "    except TypeError:\n",
    "        return print('Введите список')"
   ]
  },
  {
   "cell_type": "code",
   "execution_count": 91,
   "metadata": {},
   "outputs": [
    {
     "data": {
      "text/plain": [
       "18"
      ]
     },
     "execution_count": 91,
     "metadata": {},
     "output_type": "execute_result"
    }
   ],
   "source": [
    "razn([10,15,20,2,10,6])"
   ]
  },
  {
   "cell_type": "code",
   "execution_count": 92,
   "metadata": {},
   "outputs": [
    {
     "data": {
      "text/plain": [
       "24"
      ]
     },
     "execution_count": 92,
     "metadata": {},
     "output_type": "execute_result"
    }
   ],
   "source": [
    "razn([-3,4,-9,-1,-2,15])"
   ]
  },
  {
   "cell_type": "code",
   "execution_count": null,
   "metadata": {},
   "outputs": [],
   "source": []
  }
 ],
 "metadata": {
  "kernelspec": {
   "display_name": "Python 3",
   "language": "python",
   "name": "python3"
  },
  "language_info": {
   "codemirror_mode": {
    "name": "ipython",
    "version": 3
   },
   "file_extension": ".py",
   "mimetype": "text/x-python",
   "name": "python",
   "nbconvert_exporter": "python",
   "pygments_lexer": "ipython3",
   "version": "3.7.3"
  }
 },
 "nbformat": 4,
 "nbformat_minor": 2
}
