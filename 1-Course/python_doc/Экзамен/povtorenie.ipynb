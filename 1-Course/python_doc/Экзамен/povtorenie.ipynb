{
 "cells": [
  {
   "cell_type": "code",
   "execution_count": 1,
   "metadata": {},
   "outputs": [
    {
     "name": "stdout",
     "output_type": "stream",
     "text": [
      "15\n",
      "20\n",
      "Вы ввели True. Площадь окружности:  47.1\n"
     ]
    }
   ],
   "source": [
    "# № 1\n",
    "\n",
    "r = float(input())\n",
    "v = bool(input())\n",
    "\n",
    "if v == True:\n",
    "    s = 3.14 * r\n",
    "    print('Вы ввели True. Площадь окружности: ', s)\n",
    "elif v == False:\n",
    "    c = 2*3.14*r \n",
    "    print('Вы ввели False. Длина окружности: ', c)\n",
    "    "
   ]
  },
  {
   "cell_type": "code",
   "execution_count": 2,
   "metadata": {},
   "outputs": [
    {
     "ename": "AttributeError",
     "evalue": "'list' object has no attribute 'split'",
     "output_type": "error",
     "traceback": [
      "\u001b[0;31m---------------------------------------------------------------------------\u001b[0m",
      "\u001b[0;31mAttributeError\u001b[0m                            Traceback (most recent call last)",
      "\u001b[0;32m<ipython-input-2-fb5e1254fe88>\u001b[0m in \u001b[0;36m<module>\u001b[0;34m\u001b[0m\n\u001b[1;32m      9\u001b[0m \u001b[0mkl\u001b[0m\u001b[0;34m.\u001b[0m\u001b[0mappend\u001b[0m\u001b[0;34m(\u001b[0m\u001b[0mtk\u001b[0m\u001b[0;34m)\u001b[0m\u001b[0;34m\u001b[0m\u001b[0;34m\u001b[0m\u001b[0m\n\u001b[1;32m     10\u001b[0m \u001b[0;32mfor\u001b[0m \u001b[0mel\u001b[0m \u001b[0;32min\u001b[0m \u001b[0mkl\u001b[0m\u001b[0;34m:\u001b[0m\u001b[0;34m\u001b[0m\u001b[0;34m\u001b[0m\u001b[0m\n\u001b[0;32m---> 11\u001b[0;31m     \u001b[0ms\u001b[0m \u001b[0;34m=\u001b[0m \u001b[0mel\u001b[0m\u001b[0;34m.\u001b[0m\u001b[0msplit\u001b[0m\u001b[0;34m(\u001b[0m\u001b[0;34m''\u001b[0m\u001b[0;34m)\u001b[0m\u001b[0;34m\u001b[0m\u001b[0;34m\u001b[0m\u001b[0m\n\u001b[0m\u001b[1;32m     12\u001b[0m     \u001b[0msup\u001b[0m\u001b[0;34m.\u001b[0m\u001b[0mappend\u001b[0m\u001b[0;34m(\u001b[0m\u001b[0ms\u001b[0m\u001b[0;34m)\u001b[0m\u001b[0;34m\u001b[0m\u001b[0;34m\u001b[0m\u001b[0m\n\u001b[1;32m     13\u001b[0m \u001b[0;34m\u001b[0m\u001b[0m\n",
      "\u001b[0;31mAttributeError\u001b[0m: 'list' object has no attribute 'split'"
     ]
    }
   ],
   "source": [
    "# № 3\n",
    "\n",
    "kl = []\n",
    "sup = []\n",
    "kt = 'Eeny, meeny, miney, moe; Catch a tiger by his toe'\n",
    "\n",
    "\n",
    "tk = kt.split(' ')\n",
    "kl.append(tk)\n",
    "for el in kl:\n",
    "    s = el.split('')\n",
    "    sup.append(s)\n",
    "\n",
    "print(sup)    \n",
    "print(kl)"
   ]
  },
  {
   "cell_type": "code",
   "execution_count": 30,
   "metadata": {},
   "outputs": [
    {
     "name": "stdout",
     "output_type": "stream",
     "text": [
      "['Eeny', 'meeny', 'miney', 'moe', 'Catch', 'a', 'tiger', 'by', 'his', 'toe']\n"
     ]
    },
    {
     "data": {
      "text/plain": [
       "[['E', 'e', 'n', 'y'],\n",
       " ['m', 'e', 'e', 'n', 'y'],\n",
       " ['m', 'i', 'n', 'e', 'y'],\n",
       " ['m', 'o', 'e'],\n",
       " ['C', 'a', 't', 'c', 'h'],\n",
       " ['a'],\n",
       " ['t', 'i', 'g', 'e', 'r'],\n",
       " ['b', 'y'],\n",
       " ['h', 'i', 's'],\n",
       " ['t', 'o', 'e']]"
      ]
     },
     "execution_count": 30,
     "metadata": {},
     "output_type": "execute_result"
    }
   ],
   "source": [
    "# № 3 рекурсия\n",
    "import re\n",
    "\n",
    "str_ = 'Eeny, meeny, miney, moe; Catch a tiger by his toe.'\n",
    "st = re.findall(r'([A-Za-z]+)', str_)\n",
    "print(st)\n",
    "st1 = []\n",
    "for i in st:\n",
    "    st1 += [list(i)]\n",
    "st1"
   ]
  },
  {
   "cell_type": "code",
   "execution_count": 3,
   "metadata": {},
   "outputs": [
    {
     "data": {
      "text/plain": [
       "[['E', 'e', 'n', 'y'],\n",
       " ['m', 'e', 'e', 'n', 'y'],\n",
       " ['m', 'i', 'n', 'e', 'y'],\n",
       " ['m', 'o', 'e'],\n",
       " ['C', 'a', 't', 'c', 'h'],\n",
       " ['a'],\n",
       " ['t', 'i', 'g', 'e', 'r'],\n",
       " ['b', 'y'],\n",
       " ['h', 'i', 's'],\n",
       " ['t', 'o', 'e']]"
      ]
     },
     "execution_count": 3,
     "metadata": {},
     "output_type": "execute_result"
    }
   ],
   "source": [
    "# № 3 генератор\n",
    "import re\n",
    "st = 'Eeny,meeny, miney, moe; Catch a tiger by his toe.'\n",
    "\n",
    "result = re.split(r'[,.; ]',st)\n",
    "result = [list(i) for i in result if len(i)>0]\n",
    "result"
   ]
  },
  {
   "cell_type": "code",
   "execution_count": 3,
   "metadata": {},
   "outputs": [
    {
     "data": {
      "text/plain": [
       "{'betta', 'delta'}"
      ]
     },
     "execution_count": 3,
     "metadata": {},
     "output_type": "execute_result"
    }
   ],
   "source": [
    "# № 27\n",
    "dicti = {'ab':'alpha', 'ate':'betta', 'max':'gamma', 'lt':'delta'}\n",
    "{v for k,v in dicti.items() if sum([1 if i in v else 0 for i in k]) == len(k)}"
   ]
  },
  {
   "cell_type": "code",
   "execution_count": 32,
   "metadata": {},
   "outputs": [
    {
     "name": "stdout",
     "output_type": "stream",
     "text": [
      "['SIX', 'EIGHT', 'TEN']\n"
     ]
    }
   ],
   "source": [
    "# № 4\n",
    "st = 'SIX,SEVEN,EIGHT,NINE,TEN'\n",
    "end = []\n",
    "dicti = {'SIX':6, 'SEVEN':7, 'EIGHT':8, 'NINE':9, 'TEN':10}\n",
    "for i in st:\n",
    "    m = st.split(',')\n",
    "\n",
    "for j in m:\n",
    "    for k,v in dicti.items():\n",
    "        if j==k:\n",
    "            if v%2 == 0:\n",
    "                end.append(j)\n",
    "\n",
    "print(str(end))\n",
    "            "
   ]
  },
  {
   "cell_type": "code",
   "execution_count": 4,
   "metadata": {},
   "outputs": [
    {
     "data": {
      "text/plain": [
       "['SIX', 'EIGHT', 'TEN']"
      ]
     },
     "execution_count": 4,
     "metadata": {},
     "output_type": "execute_result"
    }
   ],
   "source": [
    "# 4 генератор\n",
    "d = {'ONE':1, 'TWO':2, 'THREE':3, 'FOUR':4, 'FIVE':5, 'SIX':6, 'SEVEN':7, 'EIGHT':8, 'NINE':9, 'TEN':10}\n",
    "st = 'six,SEVEN,EIGHT,nine,ten'.upper().split(',')\n",
    "st = [s for s in st if d[s]%2==0]\n",
    "st"
   ]
  },
  {
   "cell_type": "code",
   "execution_count": 6,
   "metadata": {},
   "outputs": [
    {
     "name": "stdout",
     "output_type": "stream",
     "text": [
      "Eeny\n",
      "meeny\n",
      "miney\n",
      "moe\n",
      "['Eeny', 'meeny', 'miney', 'moe']\n"
     ]
    }
   ],
   "source": [
    "# № 5\n",
    "\n",
    "l = ''\n",
    "new_s = []\n",
    "s = [['E', 'e', 'n', 'y'], ['m', 'e', 'e', 'n', 'y'], ['m', 'i', 'n', 'e', 'y'], ['m', 'o', 'e']] \n",
    "for i in s:\n",
    "    for el in i:\n",
    "        l += el\n",
    "    print(l)\n",
    "    new_s.append(l)\n",
    "    l=''\n",
    "\n",
    "print(new_s)"
   ]
  },
  {
   "cell_type": "code",
   "execution_count": 36,
   "metadata": {},
   "outputs": [
    {
     "name": "stdout",
     "output_type": "stream",
     "text": [
      "[['E', 'e', 'n', 'y'], ['m', 'e', 'e', 'n', 'y'], ['m', 'i', 'n', 'e', 'y'], ['m', 'o', 'e']]\n"
     ]
    },
    {
     "data": {
      "text/plain": [
       "'Eeny,meeny,miney,moe'"
      ]
     },
     "execution_count": 36,
     "metadata": {},
     "output_type": "execute_result"
    }
   ],
   "source": [
    "# 5 генератор\n",
    "st = 'Eeny,meeny,miney,moe'.split(',')\n",
    "st = [list(i) for i in st if len(i)>0] # Эти 2 строки нужны только что бы не писать список списков самим\n",
    "print(st)\n",
    "#-----------Сама прога\n",
    "\n",
    "st = ','.join([''.join(s) for s in st])\n",
    "st\n",
    "\n"
   ]
  },
  {
   "cell_type": "code",
   "execution_count": 37,
   "metadata": {},
   "outputs": [
    {
     "data": {
      "text/plain": [
       "{1: 'a', 4: 'c'}"
      ]
     },
     "execution_count": 37,
     "metadata": {},
     "output_type": "execute_result"
    }
   ],
   "source": [
    "# № 6\n",
    "s = {'a':1, 'b':3, 'c':4, 'd':3}\n",
    "{v:k for k,v in s.items() if list(s.values()).count(v) == 1}"
   ]
  },
  {
   "cell_type": "code",
   "execution_count": 20,
   "metadata": {},
   "outputs": [
    {
     "data": {
      "text/plain": [
       "{3.0: 'a', 1.0: 'b', 2.5: 'c'}"
      ]
     },
     "execution_count": 20,
     "metadata": {},
     "output_type": "execute_result"
    }
   ],
   "source": [
    "# № 7\n",
    "import numpy\n",
    "d = {(2,4):'a', (1,1,1):'b', (2,3):'c'}\n",
    "{numpy.mean(k):v for k,v in d.items()}\n",
    "\n"
   ]
  },
  {
   "cell_type": "code",
   "execution_count": 38,
   "metadata": {},
   "outputs": [
    {
     "data": {
      "text/plain": [
       "{3.0: 'a', 1.0: 'b', 2.5: 'c'}"
      ]
     },
     "execution_count": 38,
     "metadata": {},
     "output_type": "execute_result"
    }
   ],
   "source": [
    "# 7 еще вариант\n",
    "st = {(2,4):'a', (1,1,1):'b', (2,3):'c'}\n",
    "\n",
    "st = {(sum(k)/len(k)):v for k, v in st.items()}\n",
    "st"
   ]
  },
  {
   "cell_type": "code",
   "execution_count": 19,
   "metadata": {},
   "outputs": [
    {
     "name": "stdout",
     "output_type": "stream",
     "text": [
      "[(1, 3, 4), (2,), (6,), (2, 2, 2)]\n"
     ]
    }
   ],
   "source": [
    "# № 8\n",
    "d = [(1,3,4), (2,1), (6,), (2,2,2,1)] \n",
    "d1 = []\n",
    "new_i=[]\n",
    "for i in d:\n",
    "    if len(i)%2 != 0:\n",
    "        d1.append(i)\n",
    "    else:\n",
    "        for el in i[:-1]:\n",
    "            new_i.append(el)\n",
    "        d1.append(tuple(new_i))\n",
    "        new_i =[]\n",
    "\n",
    "        \n",
    "print(d1)"
   ]
  },
  {
   "cell_type": "code",
   "execution_count": 39,
   "metadata": {},
   "outputs": [
    {
     "data": {
      "text/plain": [
       "[(1, 3, 4), (2,), (6,), (2, 2, 2)]"
      ]
     },
     "execution_count": 39,
     "metadata": {},
     "output_type": "execute_result"
    }
   ],
   "source": [
    "# № 8 генератор\n",
    "st = [(1,3,4), (2,1), (6,), (2,2,2,1)]\n",
    "\n",
    "st = [i if len(i) % 2 != 0 else i[:-1] for i in st]\n",
    "st"
   ]
  },
  {
   "cell_type": "code",
   "execution_count": 44,
   "metadata": {},
   "outputs": [
    {
     "data": {
      "text/plain": [
       "{2: 'aa', 4: 'bbbb', 1: 'c', 3: 'ddd'}"
      ]
     },
     "execution_count": 44,
     "metadata": {},
     "output_type": "execute_result"
    }
   ],
   "source": [
    "# 9\n",
    "#). Пример [2, 4, 1, 3], ['a', 'b', 'c', 'd'] -> {2:'aa', 4:'bbbb', 1:'c', 3:'ddd'}\n",
    "\n",
    "ls1 = [2,4,1,3]\n",
    "ls2 = ['a','b','c','d']\n",
    "{k:k*v for k,v in zip(ls1,ls2)}"
   ]
  },
  {
   "cell_type": "code",
   "execution_count": 47,
   "metadata": {},
   "outputs": [
    {
     "data": {
      "text/plain": [
       "[6, 18, 4]"
      ]
     },
     "execution_count": 47,
     "metadata": {},
     "output_type": "execute_result"
    }
   ],
   "source": [
    "# 11 \n",
    "d = {2:4, 3:2, 12:6, 5:4, 1:3} \n",
    "st = [k+v for k,v in d.items() if (k+v)%2 == 0]\n",
    "st"
   ]
  },
  {
   "cell_type": "code",
   "execution_count": 51,
   "metadata": {},
   "outputs": [
    {
     "data": {
      "text/plain": [
       "[[1, 2, 3], [1], [1, 2, 3, 4]]"
      ]
     },
     "execution_count": 51,
     "metadata": {},
     "output_type": "execute_result"
    }
   ],
   "source": [
    "# 12\n",
    "d = [3, 1, 4]\n",
    "sp = [[i for i in range(1,n+1)] for n in d]\n",
    "sp"
   ]
  },
  {
   "cell_type": "code",
   "execution_count": 65,
   "metadata": {},
   "outputs": [],
   "source": [
    "# 13 Связанный список на 2 семестр"
   ]
  },
  {
   "cell_type": "code",
   "execution_count": 24,
   "metadata": {},
   "outputs": [
    {
     "ename": "AttributeError",
     "evalue": "'dict' object has no attribute 'append'",
     "output_type": "error",
     "traceback": [
      "\u001b[0;31m---------------------------------------------------------------------------\u001b[0m",
      "\u001b[0;31mAttributeError\u001b[0m                            Traceback (most recent call last)",
      "\u001b[0;32m<ipython-input-24-795b7c258242>\u001b[0m in \u001b[0;36m<module>\u001b[0;34m\u001b[0m\n\u001b[1;32m      5\u001b[0m \u001b[0;32mfor\u001b[0m \u001b[0mi\u001b[0m \u001b[0;32min\u001b[0m \u001b[0mls\u001b[0m\u001b[0;34m:\u001b[0m\u001b[0;34m\u001b[0m\u001b[0;34m\u001b[0m\u001b[0m\n\u001b[1;32m      6\u001b[0m     \u001b[0;32mfor\u001b[0m \u001b[0mj\u001b[0m \u001b[0;32min\u001b[0m \u001b[0mrange\u001b[0m\u001b[0;34m(\u001b[0m\u001b[0;36m0\u001b[0m\u001b[0;34m,\u001b[0m\u001b[0mk\u001b[0m\u001b[0;34m)\u001b[0m\u001b[0;34m:\u001b[0m\u001b[0;34m\u001b[0m\u001b[0;34m\u001b[0m\u001b[0m\n\u001b[0;32m----> 7\u001b[0;31m         \u001b[0mdicti\u001b[0m\u001b[0;34m.\u001b[0m\u001b[0mappend\u001b[0m\u001b[0;34m(\u001b[0m\u001b[0mi\u001b[0m\u001b[0;34m)\u001b[0m\u001b[0;34m\u001b[0m\u001b[0;34m\u001b[0m\u001b[0m\n\u001b[0m\u001b[1;32m      8\u001b[0m         \u001b[0mdicti\u001b[0m\u001b[0;34m.\u001b[0m\u001b[0mappend\u001b[0m\u001b[0;34m(\u001b[0m\u001b[0mk\u001b[0m\u001b[0;34m-\u001b[0m\u001b[0mj\u001b[0m\u001b[0;34m)\u001b[0m\u001b[0;34m\u001b[0m\u001b[0;34m\u001b[0m\u001b[0m\n\u001b[1;32m      9\u001b[0m \u001b[0;34m\u001b[0m\u001b[0m\n",
      "\u001b[0;31mAttributeError\u001b[0m: 'dict' object has no attribute 'append'"
     ]
    }
   ],
   "source": [
    "# № 14\n",
    "ls = 'abcd'\n",
    "dicti = {}\n",
    "k = len(ls)\n",
    "for i in ls:\n",
    "    for j in range(0,k):\n",
    "        dicti.append(i)\n",
    "        dicti.append(k-j)\n",
    "        \n",
    "        \n",
    "dicti"
   ]
  },
  {
   "cell_type": "code",
   "execution_count": 67,
   "metadata": {},
   "outputs": [
    {
     "data": {
      "text/plain": [
       "['aaaaaaa', 'bbbbbb', 'ccccc', 'dddd', 'eee', 'ff', 'g']"
      ]
     },
     "execution_count": 67,
     "metadata": {},
     "output_type": "execute_result"
    }
   ],
   "source": [
    "# 14\n",
    "st = 'abcdefg'\n",
    "st = [k*v for k, v in zip(st, range(len(st),0,-1))]\n",
    "st"
   ]
  },
  {
   "cell_type": "code",
   "execution_count": 68,
   "metadata": {},
   "outputs": [
    {
     "data": {
      "text/plain": [
       "'replace s1 val fff'"
      ]
     },
     "execution_count": 68,
     "metadata": {},
     "output_type": "execute_result"
    }
   ],
   "source": [
    "# 15\n",
    "def repl(st, **data):\n",
    "    for k, v in data.items():\n",
    "        st = st.replace(k,v)\n",
    "    return st\n",
    "\n",
    "repl('replace my val abc', my='s1', abc='fff')"
   ]
  },
  {
   "cell_type": "code",
   "execution_count": 1,
   "metadata": {},
   "outputs": [
    {
     "data": {
      "text/plain": [
       "[22, 17, 16, 21]"
      ]
     },
     "execution_count": 1,
     "metadata": {},
     "output_type": "execute_result"
    }
   ],
   "source": [
    "# 16\n",
    "def psort(**data):\n",
    "    end_data = {}\n",
    "    list1 = sorted(data.keys())\n",
    "    for el in list1:\n",
    "        for key, value in data.items():\n",
    "            if el == key:\n",
    "                end_data[el] = value\n",
    "    return list(end_data.values())\n",
    "\n",
    "psort(c=21, a=22, ac=17, b=16)"
   ]
  },
  {
   "cell_type": "code",
   "execution_count": 1,
   "metadata": {},
   "outputs": [
    {
     "data": {
      "text/plain": [
       "['b', 'ac', 'c', 'a']"
      ]
     },
     "execution_count": 1,
     "metadata": {},
     "output_type": "execute_result"
    }
   ],
   "source": [
    "# 17\n",
    "def psort_(**data):\n",
    "    end_data = {}\n",
    "    list1 = sorted(data.values())\n",
    "    for el in list1:\n",
    "        for key, value in data.items():\n",
    "            if el == value:\n",
    "                end_data[key] = el\n",
    "    return list(end_data.keys())\n",
    "\n",
    "psort_(c=21, a=22, ac=17, b=16)"
   ]
  },
  {
   "cell_type": "code",
   "execution_count": 74,
   "metadata": {},
   "outputs": [
    {
     "ename": "SyntaxError",
     "evalue": "invalid syntax (<ipython-input-74-e11a6d9ff7e0>, line 4)",
     "output_type": "error",
     "traceback": [
      "\u001b[0;36m  File \u001b[0;32m\"<ipython-input-74-e11a6d9ff7e0>\"\u001b[0;36m, line \u001b[0;32m4\u001b[0m\n\u001b[0;31m    d = [i:k for k in *args]\u001b[0m\n\u001b[0m          ^\u001b[0m\n\u001b[0;31mSyntaxError\u001b[0m\u001b[0;31m:\u001b[0m invalid syntax\n"
     ]
    }
   ],
   "source": [
    "# 18\n",
    "def nam_par(*args, name = 'abcdefghijklmnopqrstuvwxyz'):\n",
    "    dicti = {}\n",
    "    args = list(args)\n",
    "    for i in range(len(args)):\n",
    "        dicti[name[i]] = args[i]\n",
    "        \n",
    "    return dicti\n",
    "\n",
    "nam_par(7, 3, 1, 8, 10, 13, name='xyzafg')"
   ]
  },
  {
   "cell_type": "code",
   "execution_count": 3,
   "metadata": {},
   "outputs": [
    {
     "data": {
      "text/plain": [
       "['pp', 'zr']"
      ]
     },
     "execution_count": 3,
     "metadata": {},
     "output_type": "execute_result"
    }
   ],
   "source": [
    "# 19\n",
    "def par_val(**data):\n",
    "    end_data = []\n",
    "    for key, value in data.items():\n",
    "        if len(value.split(' ')) >= 2:\n",
    "            end_data.append(key)\n",
    "    return end_data\n",
    "par_val(pp='abba war', fan='oneword', zr='a x y')"
   ]
  },
  {
   "cell_type": "code",
   "execution_count": 4,
   "metadata": {},
   "outputs": [
    {
     "data": {
      "text/plain": [
       "(39, [11, 7, 5])"
      ]
     },
     "execution_count": 4,
     "metadata": {},
     "output_type": "execute_result"
    }
   ],
   "source": [
    "# 20\n",
    "def split_par(*args, boundary=10.0):\n",
    "    k = 0\n",
    "    ls = []\n",
    "    for i in args:\n",
    "        if i>boundary:\n",
    "            k = k + i\n",
    "        else:\n",
    "            ls.append(i)\n",
    "    return k,sorted(ls)[::-1]\n",
    "split_par(5, 21, 11, 18, 7, boundary=15)"
   ]
  },
  {
   "cell_type": "code",
   "execution_count": 6,
   "metadata": {},
   "outputs": [
    {
     "data": {
      "text/plain": [
       "3"
      ]
     },
     "execution_count": 6,
     "metadata": {},
     "output_type": "execute_result"
    }
   ],
   "source": [
    "# 21 \n",
    "def count_dig(s, d):\n",
    "    n = 0\n",
    "    for i in str(d):\n",
    "        if i in s:\n",
    "            n += 1\n",
    "    return n\n",
    "count_dig('66', 12345666778)\n"
   ]
  },
  {
   "cell_type": "code",
   "execution_count": 7,
   "metadata": {},
   "outputs": [
    {
     "data": {
      "text/plain": [
       "'a by by by by meeny meeny meeny test test'"
      ]
     },
     "execution_count": 7,
     "metadata": {},
     "output_type": "execute_result"
    }
   ],
   "source": [
    "# 22\n",
    "def repeat_par(**kwargs):\n",
    "    s = ''\n",
    "    for k in kwargs.keys():\n",
    "        for i in range(1, kwargs[k]+1):\n",
    "            s = s + k + ' '\n",
    "    lst = s.split()\n",
    "    return ' '.join(sorted(lst))\n",
    "                \n",
    "repeat_par(meeny=3, test=2, by=4, a=1)"
   ]
  },
  {
   "cell_type": "code",
   "execution_count": 8,
   "metadata": {},
   "outputs": [
    {
     "data": {
      "text/plain": [
       "{2: 3, 4: -1, 6: 2}"
      ]
     },
     "execution_count": 8,
     "metadata": {},
     "output_type": "execute_result"
    }
   ],
   "source": [
    "# 23\n",
    "lst = [1, 3, 4, -1, 3, 2]\n",
    "{i+1:e for i, e in enumerate(lst) if i%2==1}"
   ]
  },
  {
   "cell_type": "code",
   "execution_count": 9,
   "metadata": {},
   "outputs": [
    {
     "name": "stdout",
     "output_type": "stream",
     "text": [
      "['a', 'x', 'f', 's', 's', 'x', 'a', 's']\n"
     ]
    },
    {
     "data": {
      "text/plain": [
       "{'a': 8, 'b': 3, 'f': 20, 's': 40}"
      ]
     },
     "execution_count": 9,
     "metadata": {},
     "output_type": "execute_result"
    }
   ],
   "source": [
    "# 24\n",
    "def double_val(dicti, *lists):\n",
    "    main_list = []\n",
    "    for list_ in lists:\n",
    "        main_list += list_\n",
    "    print(main_list)\n",
    "    for el in main_list:\n",
    "        for key in dicti.keys():\n",
    "            if el == key:\n",
    "                dicti[key] = dicti[key]*2\n",
    "    return dicti\n",
    "\n",
    "double_val({'a':2, 'b':3, 'f':10, 's':5}, ['a','x','f'], ['s','s','x'], ['a','s']) \n",
    "    "
   ]
  },
  {
   "cell_type": "code",
   "execution_count": 10,
   "metadata": {},
   "outputs": [
    {
     "data": {
      "text/plain": [
       "['abcdef', '7step', '33']"
      ]
     },
     "execution_count": 10,
     "metadata": {},
     "output_type": "execute_result"
    }
   ],
   "source": [
    "# 25\n",
    "d = {'word':2, 11:'val', 'abc':'def', '7':'step', '0.2':1, '3':'3'}\n",
    "[k+v for k,v in d.items() if isinstance(k, str) and isinstance(v, str)]"
   ]
  },
  {
   "cell_type": "code",
   "execution_count": 11,
   "metadata": {},
   "outputs": [
    {
     "name": "stdout",
     "output_type": "stream",
     "text": [
      "['abc', 'def', 'ghi'] ['alpha', 'betta', 'delta', 'gamma']\n"
     ]
    },
    {
     "data": {
      "text/plain": [
       "['abc', 'alpha', 'def', 'betta', 'ghi', 'delta']"
      ]
     },
     "execution_count": 11,
     "metadata": {},
     "output_type": "execute_result"
    }
   ],
   "source": [
    "# 26\n",
    "def zip_srt_words(str1, str2):\n",
    "    list1 = []\n",
    "    \n",
    "    str1 = sorted(str1.strip().split(' '))\n",
    "    str2 = sorted(str2.strip().split(' '))\n",
    "    print(str1, str2)\n",
    "    \n",
    "    if len(str1) > len(str2):\n",
    "        mainrange = len(str2)\n",
    "    else:\n",
    "        mainrange = len(str1)\n",
    "    for i in range(mainrange):\n",
    "        list1.append(str1[i])\n",
    "        list1.append(str2[i])\n",
    "    return list1\n",
    "\n",
    "zip_srt_words('def ghi abc ','delta gamma betta alpha')"
   ]
  },
  {
   "cell_type": "code",
   "execution_count": 12,
   "metadata": {},
   "outputs": [],
   "source": [
    "# 27\n",
    "d = {'ab':'alpha', 'ate':'betta', 'max':'gamma', 'lt':'delta'} "
   ]
  },
  {
   "cell_type": "code",
   "execution_count": 13,
   "metadata": {},
   "outputs": [
    {
     "data": {
      "text/plain": [
       "{1: ['о', 'д', 'и', 'н'],\n",
       " 3: ['ш', 'е', 'с', 'т', 'ь'],\n",
       " 4: ['н', 'о', 'л', 'ь'],\n",
       " 6: ['ч', 'И', 'с', 'л', 'О']}"
      ]
     },
     "execution_count": 13,
     "metadata": {},
     "output_type": "execute_result"
    }
   ],
   "source": [
    "# 28\n",
    "def words_to_dict(string):\n",
    "    lst = string.split()\n",
    "    dicti = {}\n",
    "    \n",
    "    for el in lst:\n",
    "        if el[0].islower():\n",
    "            dicti[lst.index(el)+1] = []\n",
    "            for i in el:\n",
    "                dicti[lst.index(el)+1].append(i)\n",
    "    return dicti\n",
    "        \n",
    "words_to_dict('один Два шесть ноль Пять чИслО')"
   ]
  },
  {
   "cell_type": "code",
   "execution_count": 1,
   "metadata": {},
   "outputs": [],
   "source": [
    "def triangle(n=5):\n",
    "    for i in range(n):\n",
    "        "
   ]
  },
  {
   "cell_type": "code",
   "execution_count": 2,
   "metadata": {},
   "outputs": [
    {
     "name": "stdout",
     "output_type": "stream",
     "text": [
      "0\n",
      "1\n",
      "2\n",
      "3\n",
      "4\n",
      "5\n"
     ]
    }
   ],
   "source": [
    "triangle()"
   ]
  },
  {
   "cell_type": "code",
   "execution_count": null,
   "metadata": {},
   "outputs": [],
   "source": []
  }
 ],
 "metadata": {
  "kernelspec": {
   "display_name": "Python 3",
   "language": "python",
   "name": "python3"
  },
  "language_info": {
   "codemirror_mode": {
    "name": "ipython",
    "version": 3
   },
   "file_extension": ".py",
   "mimetype": "text/x-python",
   "name": "python",
   "nbconvert_exporter": "python",
   "pygments_lexer": "ipython3",
   "version": "3.7.3"
  }
 },
 "nbformat": 4,
 "nbformat_minor": 2
}
