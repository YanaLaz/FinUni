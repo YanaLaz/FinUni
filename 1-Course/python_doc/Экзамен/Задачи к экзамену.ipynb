{
 "cells": [
  {
   "cell_type": "markdown",
   "metadata": {},
   "source": [
    "## № 1"
   ]
  },
  {
   "cell_type": "code",
   "execution_count": null,
   "metadata": {},
   "outputs": [],
   "source": [
    "r = float(input('Введите радиус окружности: '))\n",
    "v = bool(input('''Введите \"0\", если хотите посчитать длину окружности\n",
    "Введите \"1\", если хотите посчитать площадь круга\n",
    "Введенные данные: '''))\n",
    "\n",
    "if v == True:\n",
    "    s = 3.14 * r\n",
    "    print('Вы ввели True. Площадь круга: ', s)\n",
    "elif v == False:\n",
    "    c = 2 * 3.14 * r \n",
    "    print('Вы ввели False. Длина окружности: ', c)"
   ]
  },
  {
   "cell_type": "markdown",
   "metadata": {},
   "source": [
    "## № 2"
   ]
  },
  {
   "cell_type": "code",
   "execution_count": null,
   "metadata": {},
   "outputs": [],
   "source": [
    "import math\n",
    "def factorial(n):\n",
    "    \"\"\"Возвращает Факториал числа n.\"\"\"\n",
    "    f = 1\n",
    "    for i in range(2, n+1):\n",
    "        f *= i\n",
    "    return f\n",
    "\n",
    "n = int(input('Введите число: '))\n",
    "if n >= 0:\n",
    "    print(f'Факториал от числа {n} равен {factorial(n)}')\n",
    "else:\n",
    "    print(f'Факториал от числа {n} равен {factorial(int(math.fabs(n)))}')"
   ]
  },
  {
   "cell_type": "markdown",
   "metadata": {},
   "source": [
    "## № 3"
   ]
  },
  {
   "cell_type": "code",
   "execution_count": null,
   "metadata": {},
   "outputs": [],
   "source": [
    "kl = []\n",
    "sup = []\n",
    "kt = 'Eeny, meeny, miney, moe; Catch a tiger by his toe'\n",
    "\n",
    "\n",
    "tk = kt.split(' ')\n",
    "kl.append(tk)\n",
    "for el in kl:\n",
    "    s = el.split('')\n",
    "    sup.append(s)\n",
    "\n",
    "print(sup)    \n",
    "print(kl)"
   ]
  },
  {
   "cell_type": "code",
   "execution_count": null,
   "metadata": {},
   "outputs": [],
   "source": [
    "import re\n",
    "\n",
    "str_ = 'Eeny, meeny, miney, moe; Catch a tiger by his toe.'\n",
    "st = re.findall(r'[A-Za-z]+', str_)\n",
    "#print(st)\n",
    "st1 = []\n",
    "for i in st:\n",
    "    st1 += [list(i)]\n",
    "st1"
   ]
  },
  {
   "cell_type": "markdown",
   "metadata": {},
   "source": [
    "## № 4"
   ]
  },
  {
   "cell_type": "code",
   "execution_count": null,
   "metadata": {},
   "outputs": [],
   "source": [
    "st = 'SIX,SEVEN,EIGHT,NINE,TEN,one,two'\n",
    "end = []\n",
    "ne_dicti = {'ONE':1, 'THREE':3, 'FIVE':5, 'SEVEN':7, 'NINE':9}\n",
    "for i in st:\n",
    "    m = st.split(',')\n",
    "print(m)\n",
    "\n",
    "for j in m:\n",
    "    if j.upper() not in list(ne_dicti.keys()):\n",
    "        end.append(j)\n",
    "\n",
    "print(end)"
   ]
  },
  {
   "cell_type": "markdown",
   "metadata": {},
   "source": [
    "## № 5"
   ]
  },
  {
   "cell_type": "code",
   "execution_count": null,
   "metadata": {},
   "outputs": [],
   "source": [
    "new_s = []\n",
    "s = [['E', 'e', 'n', 'y'], ['m', 'e', 'e', 'n', 'y'], ['m', 'i', 'n', 'e', 'y'], ['m', 'o', 'e']] \n",
    "for i in s:\n",
    "    l=''\n",
    "    for el in i:\n",
    "        l += el\n",
    "    print(l)\n",
    "    new_s.append(l)\n",
    "\n",
    "print(new_s)"
   ]
  },
  {
   "cell_type": "markdown",
   "metadata": {},
   "source": [
    "## №6"
   ]
  },
  {
   "cell_type": "code",
   "execution_count": null,
   "metadata": {},
   "outputs": [],
   "source": [
    "s = {'a':2, 'b':7, 'c':4, 'd':3}\n",
    "{v:k for k,v in s.items() if list(s.values()).count(v) == 1}"
   ]
  },
  {
   "cell_type": "markdown",
   "metadata": {},
   "source": [
    "## №7"
   ]
  },
  {
   "cell_type": "code",
   "execution_count": null,
   "metadata": {},
   "outputs": [],
   "source": [
    "import numpy\n",
    "d = {(2,5):'a', (1,1,1):'b', (2,3):'c'}\n",
    "{numpy.mean(k):v for k,v in d.items()}"
   ]
  },
  {
   "cell_type": "markdown",
   "metadata": {},
   "source": [
    "## №8"
   ]
  },
  {
   "cell_type": "code",
   "execution_count": null,
   "metadata": {},
   "outputs": [],
   "source": [
    "d = [(1,3,4), (2,1), (6,), (2,2,2,1)] \n",
    "d1 = []\n",
    "for i in d:\n",
    "    if len(i)%2 != 0:\n",
    "        d1.append(i)\n",
    "    else:\n",
    "        d1.append(i[:-1])\n",
    "print(d1)"
   ]
  },
  {
   "cell_type": "code",
   "execution_count": null,
   "metadata": {},
   "outputs": [],
   "source": [
    "d = [(1,3,4), (2,1), (6,), (2,2,2,1)] \n",
    "a = [el for el in d if len(el)%2 != 0]\n",
    "b = [el[:-1] for el in d if len(el)%2 == 0]\n",
    "a+b"
   ]
  },
  {
   "cell_type": "markdown",
   "metadata": {},
   "source": [
    "## №9"
   ]
  },
  {
   "cell_type": "code",
   "execution_count": 29,
   "metadata": {},
   "outputs": [
    {
     "name": "stdout",
     "output_type": "stream",
     "text": [
      "{2: 'aa', 4: 'bbbb', 1: 'c', 3: 'ddd'}\n"
     ]
    }
   ],
   "source": [
    "list1 = [2, 4, 1, 3]\n",
    "list2 = ['a', 'b', 'c', 'd']\n",
    "final = {}\n",
    "try:\n",
    "    final = {list1[i] : list2[i]*list1[i] for i in range(len(list1))}\n",
    "    print(final)\n",
    "except IndexError:\n",
    "    print('Ошибка в несоответсвии кол-ва элементов списков!')"
   ]
  },
  {
   "cell_type": "markdown",
   "metadata": {},
   "source": [
    "## №10"
   ]
  },
  {
   "cell_type": "code",
   "execution_count": 48,
   "metadata": {},
   "outputs": [],
   "source": [
    "def list3_to2(list1, list2, list3):\n",
    "    new_list1 = []\n",
    "    new_list2 = []\n",
    "    if len(list1) == len(list2) == len(list3):\n",
    "        for i in range(len(list1)):\n",
    "            new_list1.append(list1[i])\n",
    "            new_list1.append(list2[i])\n",
    "            new_list1.append(list3[i])\n",
    "        new_list2 = new_list1[len(new_list1)//2:]    \n",
    "        new_list1 = new_list1[:len(new_list1)//2]    \n",
    "    else:\n",
    "        print('Ошибка вводных данных!')\n",
    "    return new_list1, new_list2"
   ]
  },
  {
   "cell_type": "code",
   "execution_count": 50,
   "metadata": {},
   "outputs": [
    {
     "data": {
      "text/plain": [
       "([1, 11, 'one', 2, 22, 'two', 3], [33, 'three', 4, 44, 'four', 5, 55, 'five'])"
      ]
     },
     "execution_count": 50,
     "metadata": {},
     "output_type": "execute_result"
    }
   ],
   "source": [
    "list1 = [1, 2, 3, 4, 5]\n",
    "list2 = [11, 22, 33, 44, 55]\n",
    "list3 = ['one', 'two', 'three', 'four', 'five']\n",
    "list3_to2(list1, list2, list3)"
   ]
  },
  {
   "cell_type": "markdown",
   "metadata": {},
   "source": [
    "## №11"
   ]
  },
  {
   "cell_type": "code",
   "execution_count": 51,
   "metadata": {},
   "outputs": [
    {
     "data": {
      "text/plain": [
       "[6, 18, 4]"
      ]
     },
     "execution_count": 51,
     "metadata": {},
     "output_type": "execute_result"
    }
   ],
   "source": [
    "di = {2:4, 3:2, 12:6, 5:4, 1:3}\n",
    "a = [k+v for k, v in di.items() if (k+v) % 2 == 0]\n",
    "a"
   ]
  },
  {
   "cell_type": "markdown",
   "metadata": {},
   "source": [
    "## №12"
   ]
  },
  {
   "cell_type": "code",
   "execution_count": null,
   "metadata": {},
   "outputs": [],
   "source": [
    "lst = [3, 1, 4]\n",
    "lst2 = [[i for i in range (1,n+1)] for n in lst]\n",
    "lst2"
   ]
  },
  {
   "cell_type": "markdown",
   "metadata": {},
   "source": [
    "## № 13"
   ]
  },
  {
   "cell_type": "code",
   "execution_count": null,
   "metadata": {},
   "outputs": [],
   "source": []
  },
  {
   "cell_type": "markdown",
   "metadata": {},
   "source": [
    "## №14"
   ]
  },
  {
   "cell_type": "code",
   "execution_count": 52,
   "metadata": {},
   "outputs": [
    {
     "data": {
      "text/plain": [
       "['aaaaaa', 'bbbbb', 'cccc', 'ddd', 'ee', 'f']"
      ]
     },
     "execution_count": 52,
     "metadata": {},
     "output_type": "execute_result"
    }
   ],
   "source": [
    "string = 'abcdef'\n",
    "lst = [i*(len(string)-string.index(i)) for i in string]\n",
    "lst"
   ]
  },
  {
   "cell_type": "markdown",
   "metadata": {},
   "source": [
    "## №15"
   ]
  },
  {
   "cell_type": "code",
   "execution_count": 19,
   "metadata": {},
   "outputs": [],
   "source": [
    "def repl(string, **data):\n",
    "    for key, value in data.items():\n",
    "        print(\"{} is {}\".format(key, value))\n",
    "    \n",
    "    for key, value in data.items():\n",
    "        if key in string:\n",
    "            a = string.find(key)\n",
    "            b = string.find(key) + len(key)\n",
    "            string = string[:a] + value + string[b:]\n",
    "    print(string)"
   ]
  },
  {
   "cell_type": "code",
   "execution_count": 20,
   "metadata": {},
   "outputs": [
    {
     "name": "stdout",
     "output_type": "stream",
     "text": [
      "my is s177\n",
      "abc is fff\n",
      "replace s177 val fff\n"
     ]
    }
   ],
   "source": [
    "repl('replace my val abc', my='s177', abc='fff')"
   ]
  },
  {
   "cell_type": "markdown",
   "metadata": {},
   "source": [
    "## №16"
   ]
  },
  {
   "cell_type": "code",
   "execution_count": 53,
   "metadata": {},
   "outputs": [],
   "source": [
    "def psort(**data):\n",
    "    end_data = {}\n",
    "    for key, value in data.items():\n",
    "        print(\"{} is {}\".format(key, value))\n",
    "    list1 = sorted(data.keys())\n",
    "    print(list1)\n",
    "    for el in list1:\n",
    "        for key, value in data.items():\n",
    "            if el == key:\n",
    "                end_data[el] = value\n",
    "    print(end_data)\n",
    "    return list(end_data.values())"
   ]
  },
  {
   "cell_type": "code",
   "execution_count": 54,
   "metadata": {},
   "outputs": [
    {
     "name": "stdout",
     "output_type": "stream",
     "text": [
      "c is 21\n",
      "a is 22\n",
      "ac is 17\n",
      "b is 16\n",
      "['a', 'ac', 'b', 'c']\n",
      "{'a': 22, 'ac': 17, 'b': 16, 'c': 21}\n"
     ]
    },
    {
     "data": {
      "text/plain": [
       "[22, 17, 16, 21]"
      ]
     },
     "execution_count": 54,
     "metadata": {},
     "output_type": "execute_result"
    }
   ],
   "source": [
    "psort(c=21, a=22, ac=17, b=16)"
   ]
  },
  {
   "cell_type": "markdown",
   "metadata": {},
   "source": [
    "## №17"
   ]
  },
  {
   "cell_type": "code",
   "execution_count": 57,
   "metadata": {},
   "outputs": [],
   "source": [
    "def psort_(**data):\n",
    "    end_data = {}\n",
    "    for key, value in data.items():\n",
    "        print(\"{} is {}\".format(key, value))\n",
    "    list1 = sorted(data.values())\n",
    "    print(list1)\n",
    "    for el in list1:\n",
    "        for key, value in data.items():\n",
    "            if el == value:\n",
    "                end_data[key] = el\n",
    "    print(end_data)\n",
    "    return list(end_data.keys())"
   ]
  },
  {
   "cell_type": "code",
   "execution_count": 58,
   "metadata": {},
   "outputs": [
    {
     "name": "stdout",
     "output_type": "stream",
     "text": [
      "c is 21\n",
      "a is 22\n",
      "ac is 17\n",
      "b is 16\n",
      "[16, 17, 21, 22]\n",
      "{'b': 16, 'ac': 17, 'c': 21, 'a': 22}\n"
     ]
    },
    {
     "data": {
      "text/plain": [
       "['b', 'ac', 'c', 'a']"
      ]
     },
     "execution_count": 58,
     "metadata": {},
     "output_type": "execute_result"
    }
   ],
   "source": [
    "psort_(c=21, a=22, ac=17, b=16)"
   ]
  },
  {
   "cell_type": "markdown",
   "metadata": {},
   "source": [
    "## №18"
   ]
  },
  {
   "cell_type": "code",
   "execution_count": 72,
   "metadata": {},
   "outputs": [],
   "source": [
    "def nam_par(*args, name = 'abcdefghijklmnopqrstuvwxyz'):\n",
    "    dicti = {}\n",
    "    print(args)\n",
    "    args = list(args)\n",
    "    print(args)\n",
    "    for i in range(len(args)):\n",
    "        dicti[name[i]] = args[i]\n",
    "        \n",
    "    return dicti"
   ]
  },
  {
   "cell_type": "code",
   "execution_count": 73,
   "metadata": {},
   "outputs": [
    {
     "name": "stdout",
     "output_type": "stream",
     "text": [
      "(7, 3, 1, 8, 10, 13)\n",
      "[7, 3, 1, 8, 10, 13]\n"
     ]
    },
    {
     "data": {
      "text/plain": [
       "{'x': 7, 'y': 3, 'z': 1, 'a': 8, 'f': 10, 'g': 13}"
      ]
     },
     "execution_count": 73,
     "metadata": {},
     "output_type": "execute_result"
    }
   ],
   "source": [
    "nam_par(7, 3, 1, 8, 10, 13, name='xyzafg')"
   ]
  },
  {
   "cell_type": "markdown",
   "metadata": {},
   "source": [
    "## №19"
   ]
  },
  {
   "cell_type": "code",
   "execution_count": 80,
   "metadata": {},
   "outputs": [],
   "source": [
    "def par_val(**data):\n",
    "    end_data = []\n",
    "    for key, value in data.items():\n",
    "        print(\"{} is {}\".format(key, value))\n",
    "    \n",
    "    for key, value in data.items():\n",
    "        if len(value.split(' ')) == 2:\n",
    "            end_data.append(key)\n",
    "    return end_data"
   ]
  },
  {
   "cell_type": "code",
   "execution_count": 81,
   "metadata": {},
   "outputs": [
    {
     "name": "stdout",
     "output_type": "stream",
     "text": [
      "pp is abba war\n",
      "fan is oneword\n",
      "zr is a x\n"
     ]
    },
    {
     "data": {
      "text/plain": [
       "['pp', 'zr']"
      ]
     },
     "execution_count": 81,
     "metadata": {},
     "output_type": "execute_result"
    }
   ],
   "source": [
    "par_val(pp='abba war', fan='oneword', zr='a x')"
   ]
  },
  {
   "cell_type": "markdown",
   "metadata": {},
   "source": [
    "## №20"
   ]
  },
  {
   "cell_type": "code",
   "execution_count": null,
   "metadata": {},
   "outputs": [],
   "source": [
    "def split_par(*args, boundary = 10.0):\n",
    "    summa = 0\n",
    "    lst = []\n",
    "    for i in args:\n",
    "        if float(i) > float(boundary):\n",
    "            summa += i\n",
    "        else:\n",
    "            lst.append(i)\n",
    "    \n",
    "    return summa, sorted(lst)[::-1]\n",
    "\n",
    "s, l = split_par(5, 21, 11, 18, 7, boundary = 15)\n",
    "print(s, l)"
   ]
  },
  {
   "cell_type": "markdown",
   "metadata": {},
   "source": [
    "## №21"
   ]
  },
  {
   "cell_type": "code",
   "execution_count": 82,
   "metadata": {},
   "outputs": [
    {
     "data": {
      "text/plain": [
       "3"
      ]
     },
     "execution_count": 82,
     "metadata": {},
     "output_type": "execute_result"
    }
   ],
   "source": [
    "def count_dig(s, d):\n",
    "    n = 0\n",
    "    for i in str(d):\n",
    "        if i in s:\n",
    "            n += 1\n",
    "    return n\n",
    "f = count_dig('66', 12345666778)\n",
    "f"
   ]
  },
  {
   "cell_type": "markdown",
   "metadata": {},
   "source": [
    "## №22"
   ]
  },
  {
   "cell_type": "code",
   "execution_count": 88,
   "metadata": {},
   "outputs": [
    {
     "data": {
      "text/plain": [
       "'a by by by by meeny meeny meeny test test'"
      ]
     },
     "execution_count": 88,
     "metadata": {},
     "output_type": "execute_result"
    }
   ],
   "source": [
    "def repeat_par(**kwargs):\n",
    "    s = ''\n",
    "    for k in kwargs.keys():\n",
    "        for i in range(1, kwargs[k]+1):\n",
    "            s = s + k + ' '\n",
    "    lst = s.split()\n",
    "    return ' '.join(sorted(lst))\n",
    "\n",
    "repeat_par(meeny=3, test=2, by=4, a=1)"
   ]
  },
  {
   "cell_type": "markdown",
   "metadata": {},
   "source": [
    "## №23"
   ]
  },
  {
   "cell_type": "code",
   "execution_count": 93,
   "metadata": {},
   "outputs": [
    {
     "data": {
      "text/plain": [
       "{2: 3, 4: -1, 6: 2}"
      ]
     },
     "execution_count": 93,
     "metadata": {},
     "output_type": "execute_result"
    }
   ],
   "source": [
    "list1 = [1, 3, 4, -1, 3, 2]\n",
    "{len(list1[:list1.index(i)+1]):i  for i in list1 if list1.index(i)%2 == 1}"
   ]
  },
  {
   "cell_type": "markdown",
   "metadata": {},
   "source": [
    "## №24"
   ]
  },
  {
   "cell_type": "code",
   "execution_count": 97,
   "metadata": {},
   "outputs": [
    {
     "name": "stdout",
     "output_type": "stream",
     "text": [
      "['a', 'x', 'f', 's', 's', 'x', 'a', 's']\n"
     ]
    },
    {
     "data": {
      "text/plain": [
       "{'a': 8, 'b': 3, 'f': 20, 's': 40}"
      ]
     },
     "execution_count": 97,
     "metadata": {},
     "output_type": "execute_result"
    }
   ],
   "source": [
    "def double_val(dicti, *lists):\n",
    "    main_list = []\n",
    "    for list_ in lists:\n",
    "        main_list += list_\n",
    "    print(main_list)\n",
    "    for el in main_list:\n",
    "        for key in dicti.keys():\n",
    "            if el == key:\n",
    "                dicti[key] = dicti[key]*2\n",
    "    return dicti\n",
    "\n",
    "double_val({'a':2, 'b':3, 'f':10, 's':5}, ['a','x','f'], ['s','s','x'], ['a','s']) "
   ]
  },
  {
   "cell_type": "markdown",
   "metadata": {},
   "source": [
    "## №25"
   ]
  },
  {
   "cell_type": "code",
   "execution_count": 98,
   "metadata": {},
   "outputs": [
    {
     "data": {
      "text/plain": [
       "['abcdef', '7step', '33']"
      ]
     },
     "execution_count": 98,
     "metadata": {},
     "output_type": "execute_result"
    }
   ],
   "source": [
    "dicti = {'word':2, 11:'val', 'abc':'def', '7':'step', '0.2':1, '3':'3'}\n",
    "[ k+v for k,v in dicti.items() if isinstance(k, str) and isinstance(v, str)]"
   ]
  },
  {
   "cell_type": "markdown",
   "metadata": {},
   "source": [
    "## №26"
   ]
  },
  {
   "cell_type": "code",
   "execution_count": 110,
   "metadata": {},
   "outputs": [
    {
     "name": "stdout",
     "output_type": "stream",
     "text": [
      "['abc', 'def', 'ghi'] ['alpha', 'betta', 'delta', 'gamma']\n",
      "3\n"
     ]
    },
    {
     "data": {
      "text/plain": [
       "['abc', 'alpha', 'def', 'betta', 'ghi', 'delta']"
      ]
     },
     "execution_count": 110,
     "metadata": {},
     "output_type": "execute_result"
    }
   ],
   "source": [
    "def zip_srt_words(str1, str2):\n",
    "    \n",
    "    list1 = []\n",
    "    \n",
    "    str1 = sorted(str1.strip().split(' '))\n",
    "    str2 = sorted(str2.strip().split(' '))\n",
    "    print(str1, str2)\n",
    "    \n",
    "    if len(str1) > len(str2):\n",
    "        mainrange = len(str2)\n",
    "    else:\n",
    "        mainrange = len(str1)\n",
    "    for i in range(mainrange):\n",
    "        list1.append(str1[i])\n",
    "        list1.append(str2[i])\n",
    "    return list1\n",
    "\n",
    "zip_srt_words('def ghi abc ','delta gamma betta alpha')"
   ]
  },
  {
   "cell_type": "markdown",
   "metadata": {},
   "source": [
    "## №27"
   ]
  },
  {
   "cell_type": "code",
   "execution_count": 112,
   "metadata": {},
   "outputs": [
    {
     "data": {
      "text/plain": [
       "{'betta', 'delta'}"
      ]
     },
     "execution_count": 112,
     "metadata": {},
     "output_type": "execute_result"
    }
   ],
   "source": [
    "dicti = {'ab':'alpha', 'ate':'betta', 'max':'gamma', 'lt':'delta'}\n",
    "{v for k,v in dicti.items() if sum([1 if i in v else 0 for i in k]) == len(k)}"
   ]
  },
  {
   "cell_type": "markdown",
   "metadata": {},
   "source": [
    "## №27_1"
   ]
  },
  {
   "cell_type": "code",
   "execution_count": 113,
   "metadata": {},
   "outputs": [
    {
     "data": {
      "text/plain": [
       "'два один ноль пять три семь'"
      ]
     },
     "execution_count": 113,
     "metadata": {},
     "output_type": "execute_result"
    }
   ],
   "source": [
    "def rest_last(string):\n",
    "    lst = string.split()\n",
    "    new = []\n",
    "    c = 0\n",
    "    for i in lst:\n",
    "        if i not in lst[c+1:]:\n",
    "            new.append(i)\n",
    "        c += 1\n",
    "    return ' '.join(new)\n",
    "\n",
    "f = rest_last('один два семь один ноль пять три семь')\n",
    "f"
   ]
  },
  {
   "cell_type": "markdown",
   "metadata": {},
   "source": [
    "## №28"
   ]
  },
  {
   "cell_type": "code",
   "execution_count": 122,
   "metadata": {},
   "outputs": [
    {
     "data": {
      "text/plain": [
       "{1: ['о', 'д', 'и', 'н'],\n",
       " 3: ['ш', 'е', 'с', 'т', 'ь'],\n",
       " 4: ['н', 'о', 'л', 'ь'],\n",
       " 6: ['ч', 'И', 'с', 'л', 'О']}"
      ]
     },
     "execution_count": 122,
     "metadata": {},
     "output_type": "execute_result"
    }
   ],
   "source": [
    "def words_to_dict(string):\n",
    "    lst = string.split()\n",
    "    dicti = {}\n",
    "    \n",
    "    for el in lst:\n",
    "        if el[0].islower():\n",
    "            dicti[lst.index(el)+1] = []\n",
    "            for i in el:\n",
    "                dicti[lst.index(el)+1].append(i)\n",
    "    return dicti\n",
    "        \n",
    "words_to_dict('один Два шесть ноль Пять чИслО')"
   ]
  },
  {
   "cell_type": "code",
   "execution_count": null,
   "metadata": {},
   "outputs": [],
   "source": []
  },
  {
   "cell_type": "code",
   "execution_count": null,
   "metadata": {},
   "outputs": [],
   "source": []
  }
 ],
 "metadata": {
  "kernelspec": {
   "display_name": "Python 3",
   "language": "python",
   "name": "python3"
  },
  "language_info": {
   "codemirror_mode": {
    "name": "ipython",
    "version": 3
   },
   "file_extension": ".py",
   "mimetype": "text/x-python",
   "name": "python",
   "nbconvert_exporter": "python",
   "pygments_lexer": "ipython3",
   "version": "3.7.3"
  }
 },
 "nbformat": 4,
 "nbformat_minor": 2
}
