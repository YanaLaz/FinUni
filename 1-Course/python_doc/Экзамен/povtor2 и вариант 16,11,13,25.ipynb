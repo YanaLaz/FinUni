{
 "cells": [
  {
   "cell_type": "code",
   "execution_count": 9,
   "metadata": {},
   "outputs": [
    {
     "data": {
      "text/plain": [
       "<function __main__.<lambda>(a)>"
      ]
     },
     "execution_count": 9,
     "metadata": {},
     "output_type": "execute_result"
    }
   ],
   "source": [
    "#lambda. a принимает, дальше генератор\n",
    "x = lambda a: [i for i in a if i%2==0]"
   ]
  },
  {
   "cell_type": "code",
   "execution_count": 10,
   "metadata": {},
   "outputs": [
    {
     "data": {
      "text/plain": [
       "[2, 4]"
      ]
     },
     "execution_count": 10,
     "metadata": {},
     "output_type": "execute_result"
    }
   ],
   "source": [
    "x([1,2,3,4])"
   ]
  },
  {
   "cell_type": "code",
   "execution_count": 12,
   "metadata": {},
   "outputs": [
    {
     "data": {
      "text/plain": [
       "{'1': '2'}"
      ]
     },
     "execution_count": 12,
     "metadata": {},
     "output_type": "execute_result"
    }
   ],
   "source": [
    "dict.fromkeys('1','2')"
   ]
  },
  {
   "cell_type": "code",
   "execution_count": 13,
   "metadata": {},
   "outputs": [
    {
     "data": {
      "text/plain": [
       "{'a': 1, 'b': 1}"
      ]
     },
     "execution_count": 13,
     "metadata": {},
     "output_type": "execute_result"
    }
   ],
   "source": [
    "dict([['a', 1], ['b', 1]])"
   ]
  },
  {
   "cell_type": "markdown",
   "metadata": {},
   "source": [
    "####################"
   ]
  },
  {
   "cell_type": "markdown",
   "metadata": {},
   "source": [
    "1.\tФункция принимает два кортежа из двух элементов – координаты точек. Вывести уравнение прямой, проходящей через заданные точки. Функция должна вызывать ошибку, если переданные данные в нее некорректны (кортежи имеют не 2 элемента, типы данных не float и не integer)"
   ]
  },
  {
   "cell_type": "code",
   "execution_count": 17,
   "metadata": {},
   "outputs": [],
   "source": [
    "def line(A, B):\n",
    "    if len(A)!=2 or len(B)!=2:\n",
    "        raise ValueError(\"Некорректные данные\", \"Кортежи имеют не 2 элемента\")\n",
    "    x1, y1 = A\n",
    "    x2, y2 = B\n",
    "    if check(x1) and check(y1) and check(x2) and check(y2):\n",
    "        par_a = y2 - y1 # ПРИ X\n",
    "        par_b = x2 - x1 # ПРИ Y\n",
    "        par_c = x2*y1 - x1*y2\n",
    "        \n",
    "        final_str = f\"{par_b}y = {par_c} + ({par_a})x\"\n",
    "        print(final_str)\n",
    "    else:\n",
    "        raise TypeError(\"Некорректные данные\", \"Тип данных несоответсвует\")"
   ]
  },
  {
   "cell_type": "code",
   "execution_count": 16,
   "metadata": {},
   "outputs": [],
   "source": [
    "def check(x):\n",
    "    if type(x) is float or type(x) is int:\n",
    "        return True\n",
    "    else:\n",
    "        return False"
   ]
  },
  {
   "cell_type": "code",
   "execution_count": 18,
   "metadata": {},
   "outputs": [
    {
     "name": "stdout",
     "output_type": "stream",
     "text": [
      "4y = 10 + (-2)x\n"
     ]
    }
   ],
   "source": [
    "line((1,2),(5,0))"
   ]
  },
  {
   "cell_type": "code",
   "execution_count": 19,
   "metadata": {},
   "outputs": [
    {
     "name": "stdout",
     "output_type": "stream",
     "text": [
      "['de', False, 'sd']\n"
     ]
    },
    {
     "data": {
      "text/plain": [
       "{False, 'de', 'sd'}"
      ]
     },
     "execution_count": 19,
     "metadata": {},
     "output_type": "execute_result"
    }
   ],
   "source": [
    "# 3 \n",
    "list1 = [12, \"de\", 1, False, 18, 'sd']\n",
    "list2 = [15, \"de\", 'sd', -1, False]\n",
    "\n",
    "final = [el for el in list1 if el in list2]\n",
    "print(final)\n",
    "\n",
    "fl = lambda: set(list1) & set(list2)\n",
    "fl()"
   ]
  },
  {
   "cell_type": "code",
   "execution_count": 4,
   "metadata": {},
   "outputs": [
    {
     "data": {
      "text/plain": [
       "['на', 'Лови', 'лови', 'волну', 'слове']"
      ]
     },
     "execution_count": 4,
     "metadata": {},
     "output_type": "execute_result"
    }
   ],
   "source": [
    "# 4\n",
    "string = 'Лови волну лови на слове'\n",
    "sorted(string.split(' '), key=lambda x: len(x))"
   ]
  },
  {
   "cell_type": "code",
   "execution_count": 23,
   "metadata": {},
   "outputs": [],
   "source": [
    "# 5\n",
    "new_a = lambda a: {i:a.count(i) for i in a}"
   ]
  },
  {
   "cell_type": "code",
   "execution_count": 24,
   "metadata": {},
   "outputs": [
    {
     "data": {
      "text/plain": [
       "{1: 2, 2: 1, 3: 1, 4: 3}"
      ]
     },
     "execution_count": 24,
     "metadata": {},
     "output_type": "execute_result"
    }
   ],
   "source": [
    "new_a([1, 1, 2, 3, 4, 4,4])"
   ]
  },
  {
   "cell_type": "raw",
   "metadata": {},
   "source": [
    "ВАРИАНТ 16"
   ]
  },
  {
   "cell_type": "code",
   "execution_count": 41,
   "metadata": {},
   "outputs": [],
   "source": [
    "# вариант 16\n",
    "# 2\n",
    "def pan(st):\n",
    "    if not isinstance(st,str):\n",
    "        raise TypeError\n",
    "    for i in st:\n",
    "        if i.isdigit():\n",
    "            raise NameError\n",
    "    st = st.lower()\n",
    "    d = {}\n",
    "    count = 0\n",
    "    abc = {'a':1,'b':1,'c':1,'d':1,'e':1,'f':1,'g':1,'h':1,'i':1,'j':1,'k':1,'l':1,'m':1,'n':1,'o':1,'p':1,'q':1,'r':1,'s':1,'t':1,'u':1,'v':1,'w':1,'x':1,'y':1,'z':1}\n",
    "    for i in st:\n",
    "        d.update({i: d.get(i, 0)+1})\n",
    "    for key, value in abc.items():\n",
    "        if key in d:\n",
    "            count += 1\n",
    "    if count < 26:\n",
    "        return False\n",
    "    else:\n",
    "        return True"
   ]
  },
  {
   "cell_type": "code",
   "execution_count": 46,
   "metadata": {},
   "outputs": [
    {
     "data": {
      "text/plain": [
       "True"
      ]
     },
     "execution_count": 46,
     "metadata": {},
     "output_type": "execute_result"
    }
   ],
   "source": [
    "pan('Abcdefghijklmnopqrtuvwxyzs')"
   ]
  },
  {
   "cell_type": "code",
   "execution_count": 34,
   "metadata": {},
   "outputs": [
    {
     "data": {
      "text/plain": [
       "{'hello': 2, 'world': 0, 'it': 1, 'is': 3, 'me': 1}"
      ]
     },
     "execution_count": 34,
     "metadata": {},
     "output_type": "execute_result"
    }
   ],
   "source": [
    "# 3\n",
    "words = lambda p1,p2: {word:p2.count(word) for word in p1.strip().split()}\n",
    "words('hello world it is me','hello hello it is is is me')\n",
    "    "
   ]
  },
  {
   "cell_type": "code",
   "execution_count": 37,
   "metadata": {},
   "outputs": [
    {
     "ename": "SyntaxError",
     "evalue": "invalid syntax (<ipython-input-37-8a6792083b36>, line 108)",
     "output_type": "error",
     "traceback": [
      "\u001b[0;36m  File \u001b[0;32m\"<ipython-input-37-8a6792083b36>\"\u001b[0;36m, line \u001b[0;32m108\u001b[0m\n\u001b[0;31m    dict_results =\u001b[0m\n\u001b[0m                  ^\u001b[0m\n\u001b[0;31mSyntaxError\u001b[0m\u001b[0;31m:\u001b[0m invalid syntax\n"
     ]
    }
   ],
   "source": [
    "# 4 CSV\n",
    "\n",
    "import csv\n",
    "\n",
    "with open('groups.csv') as groups:\n",
    "    \n",
    "    reader = csv.reader(groups)\n",
    "    groups = []\n",
    "    \n",
    "    for line in reader:\n",
    "        #print(';'.join(line))\n",
    "        groups.append(';'.join(line).split(';'))\n",
    "    \n",
    "    del groups[0]\n",
    "    #print(groups)\n",
    "    \n",
    "    group_ids = []\n",
    "    \n",
    "    for i in groups:\n",
    "        group_ids.append(i[0])\n",
    "    \n",
    "    print('GROUP_IDS : ',group_ids) # <---\n",
    "    print()\n",
    "\n",
    "with open('subjects.csv') as subjects:\n",
    "    \n",
    "    reader = csv.reader(subjects)\n",
    "    subjects = []\n",
    "    \n",
    "    for line in reader:\n",
    "        #print(';'.join(line))\n",
    "        subjects.append(';'.join(line).split(';'))\n",
    "    #print(subjects)\n",
    "    del subjects[0]\n",
    "    #print(subjects)\n",
    "    \n",
    "    dict_subjects = {}\n",
    "    \n",
    "    dict_subjects.update(subjects) \n",
    "    \n",
    "    print('SUBJECTS : ',dict_subjects) # <---\n",
    "    print()\n",
    "\n",
    "    \n",
    "with open('teachers.csv') as teachers:\n",
    "    reader = csv.reader(teachers)\n",
    "    teachers = []\n",
    "    \n",
    "    for line in reader:\n",
    "        #print(';'.join(line))\n",
    "        teachers.append(';'.join(line).split(';'))\n",
    "    del teachers[0]\n",
    "    #print(teachers)\n",
    "    \n",
    "    dict_teachers = {}\n",
    "    \n",
    "    for el in teachers:\n",
    "        new_el = tuple(el)\n",
    "        key, *value = new_el\n",
    "        #print(f'KEY = {key}, VALUE = {\" \".join(value)}')\n",
    "        dict_teachers[key] = \" \".join(value)\n",
    "    print('TEACHERS : ',dict_teachers) # <---\n",
    "    print()\n",
    "    \n",
    "with open('students.csv') as students:\n",
    "    reader = csv.reader(students)\n",
    "    students = []\n",
    "    \n",
    "    for line in reader:\n",
    "        #print(';'.join(line))\n",
    "        students.append(';'.join(line).split(';'))\n",
    "    del students[0]\n",
    "    #print(students)\n",
    "    \n",
    "    dict_students = {}\n",
    "    \n",
    "    for el in students:\n",
    "        values = []\n",
    "        new_el = tuple(el)\n",
    "        id_, first, second, group_id = new_el\n",
    "        value = first + ' ' + second\n",
    "        #print(value)\n",
    "        #print(f'KEY = {key}, VALUE = {\" \".join(value)}')\n",
    "        dict_students[id_] = [value, group_id]\n",
    "        \n",
    "    #print('STUDENTS : ',dict_students) # <---\n",
    "    print()\n",
    "\n",
    "with open('results.csv') as results:\n",
    "    reader = csv.reader(results)\n",
    "    results = []\n",
    "    \n",
    "    for line in reader:\n",
    "        #print(';'.join(line))\n",
    "        results.append(';'.join(line).split(';'))\n",
    "    del results[0]\n",
    "    print(results)\n",
    "    \n",
    "    dict_results = {}\n",
    "    \n",
    "    for el in results:\n",
    "        new_el = tuple(el)\n",
    "        id_ = el[0]\n",
    "        subject = el[1]\n",
    "        student_id = el[2]\n",
    "        total = el[-1]\n",
    "        \n",
    "        dict_results =\n",
    "    \n",
    "\n",
    "def find_by_id (id_ = 0):\n",
    "    pass"
   ]
  },
  {
   "cell_type": "markdown",
   "metadata": {},
   "source": [
    "ВАРИАНТ 11"
   ]
  },
  {
   "cell_type": "code",
   "execution_count": 56,
   "metadata": {},
   "outputs": [
    {
     "name": "stdout",
     "output_type": "stream",
     "text": [
      "['ka', 'aa', 'bababa', 'elojpeeee']\n"
     ]
    }
   ],
   "source": [
    "# 11 вариант\n",
    "# 2\n",
    "#такой же\n",
    "\n",
    "\n",
    "words = lambda p1,p2: {word:p2.count(word) for word in p1.strip().split()}\n",
    "words('hello world it is me','hello hello it is is is me')\n",
    "\n",
    "# 3\n",
    "#lst = \"bbaa bbbb abe defdefdef ab\"\n",
    "lst = 'aa bababa ka elojpeeee'\n",
    "lst = lst.strip().split()\n",
    "lst = sorted(lst,key=lambda i: sum(ltr in \"eyuioa\" for ltr in i))\n",
    "print(lst)\n",
    "\n"
   ]
  },
  {
   "cell_type": "code",
   "execution_count": 5,
   "metadata": {},
   "outputs": [
    {
     "data": {
      "text/plain": [
       "False"
      ]
     },
     "execution_count": 5,
     "metadata": {},
     "output_type": "execute_result"
    }
   ],
   "source": [
    "# 4 csv\n",
    "import csv\n",
    "def find_book(n_book,n_shop):\n",
    "    n = []\n",
    "    try:\n",
    "        with open('books.csv', 'r',encoding='cp1251') as d:\n",
    "            csv_reader = csv.DictReader(d, delimiter = ';')\n",
    "            for row in csv_reader:\n",
    "                if n_book==row['name']:\n",
    "                    n=row['shops_id']\n",
    "    except Exception as e:\n",
    "         print('Reading error: {}'.format(str(e)))\n",
    "    \n",
    "    try:\n",
    "        with open('shops.csv', 'r',encoding='cp1251') as f:\n",
    "            csv_reader = csv.DictReader(f, delimiter = ';')\n",
    "            for row in csv_reader:\n",
    "                if n_shop==row['address']:\n",
    "                    if row['id'] in n:\n",
    "                        return True\n",
    "                    else:\n",
    "                        return False\n",
    "    except Exception as e:\n",
    "         print('Reading error: {}'.format(str(e)))\n",
    "find_book('Оно','Семеновская площадь')"
   ]
  },
  {
   "cell_type": "markdown",
   "metadata": {},
   "source": [
    "ВАРИАНТ 25"
   ]
  },
  {
   "cell_type": "code",
   "execution_count": 60,
   "metadata": {},
   "outputs": [
    {
     "data": {
      "text/plain": [
       "['Оно',\n",
       " 'Сто лет одиночества',\n",
       " 'Американские боги',\n",
       " 'Властелин колец',\n",
       " 'Мастер и Маргарита']"
      ]
     },
     "execution_count": 60,
     "metadata": {},
     "output_type": "execute_result"
    }
   ],
   "source": [
    "# 4\n",
    "def what_books(n_shop):\n",
    "    with open('shops.csv', 'r',encoding='cp1251') as d:\n",
    "        csv_reader = csv.DictReader(d, delimiter = ';')\n",
    "        for row in csv_reader:\n",
    "            if n_shop==row['address']:\n",
    "                id_shop=row['id']\n",
    "                \n",
    "    with open('books.csv', 'r',encoding='cp1251') as f:\n",
    "        sp = []\n",
    "        csv_reader = csv.DictReader(f, delimiter = ';')\n",
    "        for row in csv_reader:\n",
    "            if id_shop in row['shops_id']:\n",
    "                sp.append(row['name'])\n",
    "                \n",
    "    return sp\n",
    "\n",
    "what_books('Бутырская')"
   ]
  },
  {
   "cell_type": "markdown",
   "metadata": {},
   "source": [
    "ВАРИАНТ 13"
   ]
  },
  {
   "cell_type": "code",
   "execution_count": 13,
   "metadata": {},
   "outputs": [
    {
     "data": {
      "text/plain": [
       "[[1], [1, 1], [1, 2, 1], [1, 3, 3, 1], [1, 4, 6, 4, 1], [1, 5, 10, 10, 5, 1]]"
      ]
     },
     "execution_count": 13,
     "metadata": {},
     "output_type": "execute_result"
    }
   ],
   "source": [
    "# 2 треугольник паскаля\n",
    "\n",
    "def current_row(n):\n",
    "    row = []\n",
    "    for i in range(n):\n",
    "        if i == 0 or i == n-1:\n",
    "            row.append(1)\n",
    "        else:\n",
    "            c_row = current_row(n-1)\n",
    "            row.append(c_row[i-1] + c_row[i])\n",
    "    return row\n",
    "\n",
    "def triangle(m):\n",
    "    if not isinstance(m,int):\n",
    "        raise TypeError\n",
    "    result = []\n",
    "    for i in range(m):\n",
    "        result.append(current_row(i+1))\n",
    "    return result\n",
    "\n",
    "triangle(6)"
   ]
  },
  {
   "cell_type": "code",
   "execution_count": null,
   "metadata": {},
   "outputs": [],
   "source": [
    "# 4"
   ]
  },
  {
   "cell_type": "code",
   "execution_count": null,
   "metadata": {},
   "outputs": [],
   "source": []
  }
 ],
 "metadata": {
  "kernelspec": {
   "display_name": "Python 3",
   "language": "python",
   "name": "python3"
  },
  "language_info": {
   "codemirror_mode": {
    "name": "ipython",
    "version": 3
   },
   "file_extension": ".py",
   "mimetype": "text/x-python",
   "name": "python",
   "nbconvert_exporter": "python",
   "pygments_lexer": "ipython3",
   "version": "3.7.3"
  }
 },
 "nbformat": 4,
 "nbformat_minor": 2
}
