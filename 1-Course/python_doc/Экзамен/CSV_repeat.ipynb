{
 "cells": [
  {
   "cell_type": "markdown",
   "metadata": {},
   "source": [
    "1. Написать функцию, которая принимает один аргумент - фамилию и имя студента в виде \"Иванов Иван\". Необходимо найти его средний total балл за время учебы\n",
    "2. Необходимо реализовать функцию, которая принимает один аргумент - ФИО преподавателя. Функция должна возвращать словарь, где ключом является наименование группы, значением словарь, ключ которого - наименование предмета, значение - средний total балл по группе\n",
    "3. Необходимо реализовать функцию, которая принимает один аргумент - наименование предмета, и один необязательный аргумент boolean=True. Если boolean == True, необходимо вернуть список преподавателей, которые вели данный предмет, иначе необходимо вернуть список групп, у которых был данный предмет\n",
    "4. Реализовать функцию, которая принимает один параметр - наименование предмета. Функция должна вернуть словарь, где ключом является наименование группы, а значением словарь - ключ - оценка по 5-и бальной шкале, значение - количество студентов.\n",
    "\n",
    "В каждой задаче необходима проверка данных и обработчик ошибок через Try - Except. Если реализуются вспомогательный функции, то они должны вызывать ошибки, в случае некорретных данных"
   ]
  },
  {
   "cell_type": "code",
   "execution_count": 1,
   "metadata": {},
   "outputs": [],
   "source": [
    "import csv\n",
    "    "
   ]
  },
  {
   "cell_type": "code",
   "execution_count": 44,
   "metadata": {},
   "outputs": [],
   "source": [
    "# 1\n",
    "def find_id(name):\n",
    "    with open('students.csv', 'r',encoding='cp1251') as csv_file:\n",
    "        csv_reader = csv.DictReader(csv_file, delimiter = ';')\n",
    "        name = name.strip().split()\n",
    "        for row in csv_reader:\n",
    "            if name[0] == str(row['last_name']):\n",
    "                if name[1] == str(row['first_name']):\n",
    "                    st_id = int(row['id'])\n",
    "    with open('results.csv', 'r',encoding='cp1251') as f:\n",
    "        csv_reader = csv.DictReader(f,delimiter=';')\n",
    "        for row in csv_reader:\n",
    "            if st_id == int(row['student_id']):\n",
    "                return int(row['total'])"
   ]
  },
  {
   "cell_type": "code",
   "execution_count": 45,
   "metadata": {},
   "outputs": [
    {
     "data": {
      "text/plain": [
       "84"
      ]
     },
     "execution_count": 45,
     "metadata": {},
     "output_type": "execute_result"
    }
   ],
   "source": [
    "find_id('Иванов Игнат')"
   ]
  },
  {
   "cell_type": "markdown",
   "metadata": {},
   "source": [
    "{группа : {предмет : ср. балл предмета},}\n",
    "Необходимо реализовать функцию, которая принимает один аргумент - ФИО преподавателя. Функция должна возвращать словарь, где ключом является наименование группы, значением словарь, ключ которого - наименование предмета, значение - средний total балл по группе"
   ]
  },
  {
   "cell_type": "code",
   "execution_count": null,
   "metadata": {},
   "outputs": [],
   "source": [
    "def info(fio):\n",
    "    with open('teachers.csv', 'r',encoding='cp1251') as csv_file:\n",
    "        csv_reader = csv.DictReader(csv_file, delimiter = ';')\n",
    "        fio = fio.strip().split()\n",
    "        for row in csv_reader:\n",
    "            if fio[0]==str(row['last_name']) and fio[1]==str(row['first_name']) and fio[2]==str(row[middle_name]):\n",
    "                teach_id = int(row['id'])\n",
    "    dicti = {}            \n",
    "    with open('results.csv', 'r',encoding='cp1251') as f:\n",
    "        csv_reader = csv.DictReader(f, delimiter = ';')\n",
    "        for row in csv_reader:\n",
    "            if row['teacher_id']==teach_id:\n",
    "                "
   ]
  },
  {
   "cell_type": "code",
   "execution_count": null,
   "metadata": {},
   "outputs": [],
   "source": []
  },
  {
   "cell_type": "code",
   "execution_count": 1,
   "metadata": {},
   "outputs": [],
   "source": [
    "# вариант 11 csv"
   ]
  },
  {
   "cell_type": "code",
   "execution_count": 24,
   "metadata": {},
   "outputs": [],
   "source": [
    "import csv\n",
    "def find_book(n_book,n_shop):\n",
    "    n = []\n",
    "    with open('books.csv', 'r',encoding='cp1251') as d:\n",
    "        csv_reader = csv.DictReader(d, delimiter = ';')\n",
    "        for row in csv_reader:\n",
    "            if n_book==row['name']:\n",
    "                n=row['shops_id']\n",
    "                \n",
    "    with open('shops.csv', 'r',encoding='cp1251') as f:\n",
    "        csv_reader = csv.DictReader(f, delimiter = ';')\n",
    "        for row in csv_reader:\n",
    "            if n_shop==row['address']:\n",
    "                if row['id'] in n:\n",
    "                    return True\n",
    "                else:\n",
    "                    return False"
   ]
  },
  {
   "cell_type": "code",
   "execution_count": 26,
   "metadata": {},
   "outputs": [
    {
     "data": {
      "text/plain": [
       "False"
      ]
     },
     "execution_count": 26,
     "metadata": {},
     "output_type": "execute_result"
    }
   ],
   "source": [
    "find_book('Оно','Семеновская площадь')"
   ]
  },
  {
   "cell_type": "code",
   "execution_count": null,
   "metadata": {},
   "outputs": [],
   "source": []
  }
 ],
 "metadata": {
  "kernelspec": {
   "display_name": "Python 3",
   "language": "python",
   "name": "python3"
  },
  "language_info": {
   "codemirror_mode": {
    "name": "ipython",
    "version": 3
   },
   "file_extension": ".py",
   "mimetype": "text/x-python",
   "name": "python",
   "nbconvert_exporter": "python",
   "pygments_lexer": "ipython3",
   "version": "3.7.3"
  }
 },
 "nbformat": 4,
 "nbformat_minor": 2
}
