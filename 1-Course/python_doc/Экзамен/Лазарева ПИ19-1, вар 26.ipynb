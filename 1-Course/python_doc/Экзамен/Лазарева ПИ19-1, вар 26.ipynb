{
 "cells": [
  {
   "cell_type": "markdown",
   "metadata": {},
   "source": [
    "ВАРИАНТ 26"
   ]
  },
  {
   "cell_type": "code",
   "execution_count": null,
   "metadata": {},
   "outputs": [],
   "source": [
    "def"
   ]
  },
  {
   "cell_type": "code",
   "execution_count": 73,
   "metadata": {},
   "outputs": [
    {
     "data": {
      "text/plain": [
       "[[1],\n",
       " [1, 1],\n",
       " [1, 2, 1],\n",
       " [1, 3, 3, 1],\n",
       " [1, 4, 6, 4, 1],\n",
       " [1, 5, 10, 10, 5, 1],\n",
       " [1, 6, 15, 20, 15, 6, 1],\n",
       " [1, 7, 21, 35, 35, 21, 7, 1]]"
      ]
     },
     "execution_count": 73,
     "metadata": {},
     "output_type": "execute_result"
    }
   ],
   "source": [
    "# № 2\n",
    "def next_row(row):\n",
    "    row = [1] + row\n",
    "    for i in range(1, len(row)-1):\n",
    "        row[i] += row[i+1]\n",
    "    return row\n",
    "\n",
    "res = []\n",
    "def trian(n=5):\n",
    "    if not isinstance(n,int):\n",
    "        raise TypeError\n",
    "    row=[]\n",
    "    for i in range(n):\n",
    "        row = next_row(row)\n",
    "        res.append(row)\n",
    "    return res\n",
    "    \n",
    "trian(8)"
   ]
  },
  {
   "cell_type": "code",
   "execution_count": 2,
   "metadata": {},
   "outputs": [
    {
     "data": {
      "text/plain": [
       "{'hello': 2, 'world': 0, 'it': 1, 'is': 3, 'me': 1}"
      ]
     },
     "execution_count": 2,
     "metadata": {},
     "output_type": "execute_result"
    }
   ],
   "source": [
    "# № 3\n",
    "words = lambda p1,p2: {word:p2.count(word) for word in p1.strip().split()}\n",
    "words('hello world it is me','hello hello it is is is me')"
   ]
  },
  {
   "cell_type": "markdown",
   "metadata": {},
   "source": [
    "если параметр не указан - наименование предмета и ср. балл по всем группам\n",
    "необ. парам. - за какую оценку возвращается средний балл - total, att1, att2, exam\n"
   ]
  },
  {
   "cell_type": "code",
   "execution_count": 75,
   "metadata": {},
   "outputs": [
    {
     "data": {
      "text/plain": [
       "31.41528239202658"
      ]
     },
     "execution_count": 75,
     "metadata": {},
     "output_type": "execute_result"
    }
   ],
   "source": [
    "# № 4 csv\n",
    "import csv\n",
    "\n",
    "def sub_results(sub_name,ball='total'):\n",
    "    sub_id = SubId(sub_name)\n",
    "    res = []\n",
    "    try:\n",
    "        file_name = 'results.csv'\n",
    "        with open(file_name, \"r\",encoding='cp1251') as f:\n",
    "            reader = csv.DictReader(f, delimiter=';')\n",
    "            for row in reader:\n",
    "                if row['subject'] == sub_id:\n",
    "                    res.append(int(row[ball]))\n",
    "        res = sum(res) / len(res)\n",
    "        return res\n",
    "    except Exception as e:\n",
    "         print('Reading error: {}'.format(str(e)))    \n",
    "                \n",
    "                \n",
    "    \n",
    "def SubId(sub_name):\n",
    "    try:\n",
    "        file_name = 'subjects.csv'\n",
    "        with open(file_name, \"r\",encoding='cp1251') as f_obj:\n",
    "            reader = csv.DictReader(f_obj, delimiter=';')\n",
    "            for row in reader:\n",
    "                if row['subject_name'] == sub_name:\n",
    "                    return row['id']\n",
    "            else:\n",
    "                return None\n",
    "    except Exception as e:\n",
    "         print('Reading error: {}'.format(str(e)))\n",
    "\n",
    "sub_results('Web-программирование','exam')"
   ]
  },
  {
   "cell_type": "code",
   "execution_count": null,
   "metadata": {},
   "outputs": [],
   "source": []
  }
 ],
 "metadata": {
  "kernelspec": {
   "display_name": "Python 3",
   "language": "python",
   "name": "python3"
  },
  "language_info": {
   "codemirror_mode": {
    "name": "ipython",
    "version": 3
   },
   "file_extension": ".py",
   "mimetype": "text/x-python",
   "name": "python",
   "nbconvert_exporter": "python",
   "pygments_lexer": "ipython3",
   "version": "3.7.3"
  }
 },
 "nbformat": 4,
 "nbformat_minor": 2
}
