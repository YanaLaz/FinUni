{
 "cells": [
  {
   "cell_type": "markdown",
   "metadata": {},
   "source": [
    "1) Напишите функцию, которая принимает имя файла. Если файла нет, то возвращает текст \"404. File (filename) not found\", иначе возвращает содержимое файла"
   ]
  },
  {
   "cell_type": "code",
   "execution_count": 9,
   "metadata": {},
   "outputs": [
    {
     "name": "stdout",
     "output_type": "stream",
     "text": [
      "Введите имя файла: juods\n"
     ]
    }
   ],
   "source": [
    "x = input('Введите имя файла: ')\n",
    "def func(name):\n",
    "    try:\n",
    "        if len(x)>0:\n",
    "            return func(x)\n",
    "    except:\n",
    "        return '404. File (filename) not found'"
   ]
  },
  {
   "cell_type": "code",
   "execution_count": 14,
   "metadata": {},
   "outputs": [
    {
     "ename": "NameError",
     "evalue": "name 'name' is not defined",
     "output_type": "error",
     "traceback": [
      "\u001b[0;31m---------------------------------------------------------------------------\u001b[0m",
      "\u001b[0;31mNameError\u001b[0m                                 Traceback (most recent call last)",
      "\u001b[0;32m<ipython-input-14-0146637152fb>\u001b[0m in \u001b[0;36m<module>\u001b[0;34m\u001b[0m\n\u001b[0;32m----> 1\u001b[0;31m \u001b[0mfunc\u001b[0m\u001b[0;34m(\u001b[0m\u001b[0mname\u001b[0m\u001b[0;34m)\u001b[0m\u001b[0;34m\u001b[0m\u001b[0;34m\u001b[0m\u001b[0m\n\u001b[0m",
      "\u001b[0;31mNameError\u001b[0m: name 'name' is not defined"
     ]
    }
   ],
   "source": [
    "func(name)"
   ]
  },
  {
   "cell_type": "markdown",
   "metadata": {},
   "source": [
    "2) Написать функцию умножения неограниченного количества чисел. Если аргумент не является число, то должна вызываться ошибка ValueError"
   ]
  },
  {
   "cell_type": "code",
   "execution_count": 37,
   "metadata": {},
   "outputs": [],
   "source": [
    "def mult(*args):\n",
    "    try:\n",
    "        rez = 1\n",
    "        for i in args:\n",
    "            i = int(i)\n",
    "            rez = rez * i\n",
    "        print(rez)\n",
    "    except ValueError as exc:\n",
    "        print(exc)"
   ]
  },
  {
   "cell_type": "code",
   "execution_count": 43,
   "metadata": {},
   "outputs": [
    {
     "name": "stdout",
     "output_type": "stream",
     "text": [
      "invalid literal for int() with base 10: 'a;lskdf'\n",
      "60\n"
     ]
    }
   ],
   "source": [
    "mult(1, 'a;lskdf', 6, 2)\n",
    "mult(2,5,6)"
   ]
  },
  {
   "cell_type": "markdown",
   "metadata": {},
   "source": [
    "3) Написать калькулятор для строковых выражений вида '<число> <операция> <число>', где <число> - целое число, например 113, <арифмитическая операция> - одна из операций +,-,*,/(деление нацело),%(остаток от деления),^(возведение в степень). Пример calc('13 - 5') -> 8. Проверять переданную строку на корректность ввода и выводить отладочную ошибку"
   ]
  },
  {
   "cell_type": "code",
   "execution_count": 51,
   "metadata": {},
   "outputs": [
    {
     "name": "stdout",
     "output_type": "stream",
     "text": [
      "3 sadsf adsf\n",
      "invalid literal for int() with base 10: 'adsf'\n"
     ]
    }
   ],
   "source": [
    "def calc(x, y):\n",
    "    if st[1] == '+':\n",
    "        rez = int(x) + int(y)\n",
    "        return rez\n",
    "    elif st[1] == '-':\n",
    "        rez = int(x) - int(y)     \n",
    "        return rez\n",
    "    elif st[1] == '*':\n",
    "        rez = int(x) * int(y)\n",
    "        return rez      \n",
    "    elif st[1] == '%':\n",
    "        rez = int(x) % int(y)\n",
    "        return rez   \n",
    "    \n",
    "try: \n",
    "    st = input()\n",
    "    st = st.split()\n",
    "    x = st[0]\n",
    "    y = st[2]\n",
    "    x = int(x) \n",
    "    y = int(y)\n",
    "except ValueError as exc:\n",
    "    print(exc)\n",
    "    \n",
    "calc(x, y)"
   ]
  },
  {
   "cell_type": "markdown",
   "metadata": {},
   "source": [
    "4) Написать функцию подсчета сумма главной или побочной диагонали. Если матрица не является квадратной, должна вызываться ошибка"
   ]
  },
  {
   "cell_type": "code",
   "execution_count": null,
   "metadata": {},
   "outputs": [],
   "source": []
  },
  {
   "cell_type": "markdown",
   "metadata": {},
   "source": [
    "5) В функцию передаются 3 кортежа - координаты x,y точек. Необходимо найти площадь треугольника. Данные проверять в режиме отладки"
   ]
  },
  {
   "cell_type": "code",
   "execution_count": null,
   "metadata": {},
   "outputs": [],
   "source": [
    "def treug(*args):\n",
    "    try:\n",
    "        args[7] "
   ]
  }
 ],
 "metadata": {
  "kernelspec": {
   "display_name": "Python 3",
   "language": "python",
   "name": "python3"
  },
  "language_info": {
   "codemirror_mode": {
    "name": "ipython",
    "version": 3
   },
   "file_extension": ".py",
   "mimetype": "text/x-python",
   "name": "python",
   "nbconvert_exporter": "python",
   "pygments_lexer": "ipython3",
   "version": "3.7.3"
  }
 },
 "nbformat": 4,
 "nbformat_minor": 2
}
