{
 "cells": [
  {
   "cell_type": "markdown",
   "metadata": {},
   "source": [
    "Файлы именуются в виде \"Фамилия\\_Группа\\_Вар\\_номер.ipynb\". Пример: \"Милованов\\_ПИ1-2\\_Вар\\_1.ipynb\""
   ]
  },
  {
   "cell_type": "markdown",
   "metadata": {},
   "source": [
    "Не забываем про try-except. Везде, где вы считаете, что может вылететь ошибка, вставляем try except"
   ]
  },
  {
   "cell_type": "markdown",
   "metadata": {},
   "source": [
    "Даны файлы students.csv, results.csv, groups.csv, subjects.csv, teachers.csv. Разделены \";\"\n",
    "\n",
    "Файл groups.csv имеет столбцы id, text_name, entry_year, где id - уникиальный идентификатор группы, text_name - наименование группы, entry_year - год поступления. \n",
    "\n",
    "students.csv имеет следующие столбцы: id, first_name, last_name, group_id, где id - уникальный идентификатор студента (номер зачетной книжки), first_name - Имя, last_name - фамилия, group_id - идентификатор группы, в которой он учится.\n",
    "\n",
    "result.csv имеет следующие столбцы: id - уникальный идентификатор записи, subject_id - идентификатор учебного предмета, student_id - уникальный идентификатор студента, att1 - результат первой аттестации, att2 - результат второй аттестации, exam - результат экзаменнационной или зачетной работы, total - общий результат, teacher_id - уникальный идентификатор преподавателя.\n",
    "\n",
    "subjects.csv имеет следующие столбцы: id - уникальный идентификатор предмета, subject_name - наименование предмета.\n",
    "\n",
    "teachers.csv: id - уникальный идентификатор преподавателя, first_name - Имя, last_name - фамилия, middle_name - отчество"
   ]
  },
  {
   "cell_type": "markdown",
   "metadata": {},
   "source": [
    "1. Написать функцию, которая принимает id преподавателя и id группы. Функция возвращает False, если данный преподаватель не преподавал у данной группы, None, если такого прподавателя не существует, иначе возвращается словарь, в котором ключами являются наименования предметов, а значениями словари, которые хранят в себе информации о количестве студентов, сдавших на 5, 4, 3 и 2 по данному предмету.\n",
    "2. Написать функцию, которая принимает ФИО преподавателя и необязательный параметр to_json, который по умолчанию равен False и принимает имя файла. Если указан параметр to_json, то он должен сохранить итоговый результат в данный файл и вернуть значение True, иначе просто вернуть словарь. В словаре ключами являются наименования групп, в которых он преподавал, а значениям - результат выполнения первой функции.\n",
    "3. Реализовать функцию, которая принимает параметры entry_year - год поступления, subject_name - наименование предмета и необязаиельный параметр to_json, по умолчанию равный False. Функция должна возвращать словарь со статистикой по группам по данному предмету. Ключами словаря являются id группы, а значениями словари. Внутренний словарь имеет ключи group_name (наименование группы), stats (статистика). Значением ключа статистика является словарь, который возвращает количество студентов получившие оценку 5, количество студентов получившие оценку 4, количество студентов получившие оценку 3, количество студентов получившие оценку 2. Если параметр to_json указан, то сохраняет полученный словарь в указанный файл и возвращает True, иначе просто возвращает словарь."
   ]
  },
  {
   "cell_type": "markdown",
   "metadata": {},
   "source": [
    "1. Реализовать функцию, которая по уникальному идентификатору студента возвращает его сумму баллов по каждому из контрольных мероприятий, в том числе total\n",
    "2. Реализовать функцию, которая принимает параметры thread - поток в виде (ПИ2018), где буквами является наименование направления, а число - год поступления, необязательный параметр test, который по умолчанию равен total (список возможных значений att1, att2, exam, total), а также необязательный параметр to_json=False. Если параметр указан, то результат выполнения функции должен записываться в файл и функция возвращает True, если такого потока не существует, то возвращает None, иначе возвращает результат функции. Результатом выполнения функции является словарь с рейтингом студентов по указанному из периодов в параметре test. Ключом словаря является место студента в рейтинге, значением - словарь с информацией из файла students.csv, а также информацию, которая возвращается после выполнения первой функции.\n",
    "3. Написать функцию, которая принимает  имя группы, год поступления и наименование предмета. Также функция принимает необязательный параметр to_json, который по умолчанию равен False и принимает имя файла. Функция должна вернуть словарь, которая содержит оценки всех студентов данной группы по данному предмету. Ключом является id студента, значением словарь, который содержит полное имя студента и итоговый балл.  Если to_json указывает имя файла, то сохранить результаты в файл и функция возвращает значение True, иначе возвращает получившийся словарь."
   ]
  },
  {
   "cell_type": "code",
   "execution_count": 13,
   "metadata": {},
   "outputs": [],
   "source": [
    "import csv"
   ]
  },
  {
   "cell_type": "code",
   "execution_count": 5,
   "metadata": {},
   "outputs": [],
   "source": [
    "def check_teacher(teacher_id):\n",
    "    with open('teachers.csv', 'r',encoding='cp1251') as csv_file:\n",
    "        csv_reader = csv.DictReader(csv_file, delimiter = ';')\n",
    "        for row in csv_reader:\n",
    "            if teacher_id == int(row['id']):\n",
    "                return True\n",
    "    return False"
   ]
  },
  {
   "cell_type": "code",
   "execution_count": 4,
   "metadata": {},
   "outputs": [
    {
     "ename": "FileNotFoundError",
     "evalue": "[Errno 2] No such file or directory: 'teachers.csv'",
     "output_type": "error",
     "traceback": [
      "\u001b[0;31m---------------------------------------------------------------------------\u001b[0m",
      "\u001b[0;31mFileNotFoundError\u001b[0m                         Traceback (most recent call last)",
      "\u001b[0;32m<ipython-input-4-f1f0cbc920ab>\u001b[0m in \u001b[0;36m<module>\u001b[0;34m\u001b[0m\n\u001b[0;32m----> 1\u001b[0;31m \u001b[0mcheck_teacher\u001b[0m\u001b[0;34m(\u001b[0m\u001b[0;36m11\u001b[0m\u001b[0;34m)\u001b[0m\u001b[0;34m\u001b[0m\u001b[0;34m\u001b[0m\u001b[0m\n\u001b[0m",
      "\u001b[0;32m<ipython-input-3-fcbf8b251e20>\u001b[0m in \u001b[0;36mcheck_teacher\u001b[0;34m(teacher_id)\u001b[0m\n\u001b[1;32m      1\u001b[0m \u001b[0;32mdef\u001b[0m \u001b[0mcheck_teacher\u001b[0m\u001b[0;34m(\u001b[0m\u001b[0mteacher_id\u001b[0m\u001b[0;34m)\u001b[0m\u001b[0;34m:\u001b[0m\u001b[0;34m\u001b[0m\u001b[0;34m\u001b[0m\u001b[0m\n\u001b[0;32m----> 2\u001b[0;31m     \u001b[0;32mwith\u001b[0m \u001b[0mopen\u001b[0m\u001b[0;34m(\u001b[0m\u001b[0;34m'teachers.csv'\u001b[0m\u001b[0;34m,\u001b[0m \u001b[0;34m'r'\u001b[0m\u001b[0;34m,\u001b[0m\u001b[0mencoding\u001b[0m\u001b[0;34m=\u001b[0m\u001b[0;34m'cp1251'\u001b[0m\u001b[0;34m)\u001b[0m \u001b[0;32mas\u001b[0m \u001b[0mcsv_file\u001b[0m\u001b[0;34m:\u001b[0m\u001b[0;34m\u001b[0m\u001b[0;34m\u001b[0m\u001b[0m\n\u001b[0m\u001b[1;32m      3\u001b[0m         \u001b[0mcsv_file\u001b[0m \u001b[0;34m=\u001b[0m \u001b[0mcsv\u001b[0m\u001b[0;34m.\u001b[0m\u001b[0mDictReader\u001b[0m\u001b[0;34m(\u001b[0m\u001b[0mcsv_file\u001b[0m\u001b[0;34m,\u001b[0m \u001b[0mdelimiter\u001b[0m \u001b[0;34m=\u001b[0m \u001b[0;34m';'\u001b[0m\u001b[0;34m)\u001b[0m\u001b[0;34m\u001b[0m\u001b[0;34m\u001b[0m\u001b[0m\n\u001b[1;32m      4\u001b[0m         \u001b[0;32mfor\u001b[0m \u001b[0mrow\u001b[0m \u001b[0;32min\u001b[0m \u001b[0mcsv_reader\u001b[0m\u001b[0;34m:\u001b[0m\u001b[0;34m\u001b[0m\u001b[0;34m\u001b[0m\u001b[0m\n\u001b[1;32m      5\u001b[0m             \u001b[0;32mif\u001b[0m \u001b[0mteacher_id\u001b[0m \u001b[0;34m==\u001b[0m \u001b[0mint\u001b[0m\u001b[0;34m(\u001b[0m\u001b[0mrow\u001b[0m\u001b[0;34m[\u001b[0m\u001b[0;34m'id'\u001b[0m\u001b[0;34m]\u001b[0m\u001b[0;34m)\u001b[0m\u001b[0;34m:\u001b[0m\u001b[0;34m\u001b[0m\u001b[0;34m\u001b[0m\u001b[0m\n",
      "\u001b[0;31mFileNotFoundError\u001b[0m: [Errno 2] No such file or directory: 'teachers.csv'"
     ]
    }
   ],
   "source": [
    "check_teacher(11)"
   ]
  },
  {
   "cell_type": "code",
   "execution_count": 37,
   "metadata": {},
   "outputs": [],
   "source": [
    "def check_group(group_id):\n",
    "    with open('groups.csv', 'r', encoding='cp1251') as csv_file:\n",
    "        csv_reader = csv.DictReader(csv_file, delimiter = ';')\n",
    "        for row in csv_reader:\n",
    "            if group_id == int(row['id']):\n",
    "                return True\n",
    "    return False"
   ]
  },
  {
   "cell_type": "code",
   "execution_count": 38,
   "metadata": {},
   "outputs": [
    {
     "data": {
      "text/plain": [
       "True"
      ]
     },
     "execution_count": 38,
     "metadata": {},
     "output_type": "execute_result"
    }
   ],
   "source": [
    "check_group(1)"
   ]
  },
  {
   "cell_type": "code",
   "execution_count": 39,
   "metadata": {},
   "outputs": [],
   "source": [
    "def student_id_by_group_id(group_id):\n",
    "    if check_group(group_id):\n",
    "        lst=[]\n",
    "        with open('students.csv', 'r', encoding='cp1251') as csv_file:\n",
    "            csv_reader = csv.DictReader(csv_file, delimiter = ';')\n",
    "            for row in csv_reader:\n",
    "                if int(row['group_id']) == group_id:\n",
    "                    lst.append(row['id'])\n",
    "        return lst\n",
    "    else:\n",
    "        raise AssertionError"
   ]
  },
  {
   "cell_type": "code",
   "execution_count": 40,
   "metadata": {},
   "outputs": [
    {
     "data": {
      "text/plain": [
       "['180201',\n",
       " '180202',\n",
       " '180203',\n",
       " '180204',\n",
       " '180205',\n",
       " '180206',\n",
       " '180207',\n",
       " '180208',\n",
       " '180209',\n",
       " '180210',\n",
       " '180211',\n",
       " '180212',\n",
       " '180213',\n",
       " '180214',\n",
       " '180215',\n",
       " '180216',\n",
       " '180217',\n",
       " '180218',\n",
       " '180219',\n",
       " '180220',\n",
       " '180221',\n",
       " '180222',\n",
       " '180223',\n",
       " '180224',\n",
       " '180225']"
      ]
     },
     "execution_count": 40,
     "metadata": {},
     "output_type": "execute_result"
    }
   ],
   "source": [
    "student_id_by_group_id(2)"
   ]
  },
  {
   "cell_type": "code",
   "execution_count": 41,
   "metadata": {},
   "outputs": [],
   "source": [
    "def mark(total):\n",
    "    if total<50:\n",
    "        return 2\n",
    "    elif total<70:\n",
    "        return 2\n",
    "    elif total<86:\n",
    "        return 4\n",
    "    else:\n",
    "        return 5 "
   ]
  },
  {
   "cell_type": "code",
   "execution_count": 42,
   "metadata": {},
   "outputs": [],
   "source": [
    "def subjects():\n",
    "    dicti = {}\n",
    "    with open('subjects.csv', 'r',encoding='cp1251') as csv_file:\n",
    "        csv_reader = csv.DictReader(csv.file, Delimiter = ';')\n",
    "        for row in csv_reader:\n",
    "            dicti[row['id']] = row['subject_name']\n",
    "    return dicti"
   ]
  },
  {
   "cell_type": "code",
   "execution_count": 47,
   "metadata": {},
   "outputs": [],
   "source": [
    "def group_results_by_teacher(teacher_id, group_id):\n",
    "    if not check_teacher(teacher_id):\n",
    "        return None\n",
    "    students = student_id_by_group_id(group_id)\n",
    "    subjects_dict = subjects()\n",
    "    dicti = {}\n",
    "    with open('results.csv', 'r', encoding='cp1251') as csv_file:\n",
    "        csv_reader = csv.DictReader(csv_file, Delimiter = ';')\n",
    "        for row in csv_reader:\n",
    "            if row['stidents_id'] in students and int(row['teacher_id']) == teacher_id:\n",
    "                sibject_name = subject_dict[row['subject']]\n",
    "                dicti.setdefault(subject_name, {5:0, 4:0, 3:0, 2:0})\n",
    "                dicti[row['subject']][mark(row['total'])] += 1   \n",
    "    if dicti:\n",
    "        return dicti\n",
    "    else:\n",
    "        return False                                                      "
   ]
  },
  {
   "cell_type": "code",
   "execution_count": 48,
   "metadata": {},
   "outputs": [
    {
     "ename": "AttributeError",
     "evalue": "module 'csv' has no attribute 'file'",
     "output_type": "error",
     "traceback": [
      "\u001b[0;31m---------------------------------------------------------------------------\u001b[0m",
      "\u001b[0;31mAttributeError\u001b[0m                            Traceback (most recent call last)",
      "\u001b[0;32m<ipython-input-48-389453d72edb>\u001b[0m in \u001b[0;36m<module>\u001b[0;34m\u001b[0m\n\u001b[0;32m----> 1\u001b[0;31m \u001b[0mgroup_results_by_teacher\u001b[0m\u001b[0;34m(\u001b[0m\u001b[0;36m1\u001b[0m\u001b[0;34m,\u001b[0m\u001b[0;36m1\u001b[0m\u001b[0;34m)\u001b[0m\u001b[0;34m\u001b[0m\u001b[0;34m\u001b[0m\u001b[0m\n\u001b[0m",
      "\u001b[0;32m<ipython-input-47-7a6fe714e0db>\u001b[0m in \u001b[0;36mgroup_results_by_teacher\u001b[0;34m(teacher_id, group_id)\u001b[0m\n\u001b[1;32m      3\u001b[0m         \u001b[0;32mreturn\u001b[0m \u001b[0;32mNone\u001b[0m\u001b[0;34m\u001b[0m\u001b[0;34m\u001b[0m\u001b[0m\n\u001b[1;32m      4\u001b[0m     \u001b[0mstudents\u001b[0m \u001b[0;34m=\u001b[0m \u001b[0mstudent_id_by_group_id\u001b[0m\u001b[0;34m(\u001b[0m\u001b[0mgroup_id\u001b[0m\u001b[0;34m)\u001b[0m\u001b[0;34m\u001b[0m\u001b[0;34m\u001b[0m\u001b[0m\n\u001b[0;32m----> 5\u001b[0;31m     \u001b[0msubjects_dict\u001b[0m \u001b[0;34m=\u001b[0m \u001b[0msubjects\u001b[0m\u001b[0;34m(\u001b[0m\u001b[0;34m)\u001b[0m\u001b[0;34m\u001b[0m\u001b[0;34m\u001b[0m\u001b[0m\n\u001b[0m\u001b[1;32m      6\u001b[0m     \u001b[0mdicti\u001b[0m \u001b[0;34m=\u001b[0m \u001b[0;34m{\u001b[0m\u001b[0;34m}\u001b[0m\u001b[0;34m\u001b[0m\u001b[0;34m\u001b[0m\u001b[0m\n\u001b[1;32m      7\u001b[0m     \u001b[0;32mwith\u001b[0m \u001b[0mopen\u001b[0m\u001b[0;34m(\u001b[0m\u001b[0;34m'results.csv'\u001b[0m\u001b[0;34m,\u001b[0m \u001b[0;34m'r'\u001b[0m\u001b[0;34m,\u001b[0m \u001b[0mencoding\u001b[0m\u001b[0;34m=\u001b[0m\u001b[0;34m'cp1251'\u001b[0m\u001b[0;34m)\u001b[0m \u001b[0;32mas\u001b[0m \u001b[0mcsv_file\u001b[0m\u001b[0;34m:\u001b[0m\u001b[0;34m\u001b[0m\u001b[0;34m\u001b[0m\u001b[0m\n",
      "\u001b[0;32m<ipython-input-42-521d6d13a7b5>\u001b[0m in \u001b[0;36msubjects\u001b[0;34m()\u001b[0m\n\u001b[1;32m      2\u001b[0m     \u001b[0mdicti\u001b[0m \u001b[0;34m=\u001b[0m \u001b[0;34m{\u001b[0m\u001b[0;34m}\u001b[0m\u001b[0;34m\u001b[0m\u001b[0;34m\u001b[0m\u001b[0m\n\u001b[1;32m      3\u001b[0m     \u001b[0;32mwith\u001b[0m \u001b[0mopen\u001b[0m\u001b[0;34m(\u001b[0m\u001b[0;34m'subjects.csv'\u001b[0m\u001b[0;34m,\u001b[0m \u001b[0;34m'r'\u001b[0m\u001b[0;34m,\u001b[0m\u001b[0mencoding\u001b[0m\u001b[0;34m=\u001b[0m\u001b[0;34m'cp1251'\u001b[0m\u001b[0;34m)\u001b[0m \u001b[0;32mas\u001b[0m \u001b[0mcsv_file\u001b[0m\u001b[0;34m:\u001b[0m\u001b[0;34m\u001b[0m\u001b[0;34m\u001b[0m\u001b[0m\n\u001b[0;32m----> 4\u001b[0;31m         \u001b[0mcsv_reader\u001b[0m \u001b[0;34m=\u001b[0m \u001b[0mcsv\u001b[0m\u001b[0;34m.\u001b[0m\u001b[0mDictReader\u001b[0m\u001b[0;34m(\u001b[0m\u001b[0mcsv\u001b[0m\u001b[0;34m.\u001b[0m\u001b[0mfile\u001b[0m\u001b[0;34m,\u001b[0m \u001b[0mDelimiter\u001b[0m \u001b[0;34m=\u001b[0m \u001b[0;34m';'\u001b[0m\u001b[0;34m)\u001b[0m\u001b[0;34m\u001b[0m\u001b[0;34m\u001b[0m\u001b[0m\n\u001b[0m\u001b[1;32m      5\u001b[0m         \u001b[0;32mfor\u001b[0m \u001b[0mrow\u001b[0m \u001b[0;32min\u001b[0m \u001b[0mcsv_reader\u001b[0m\u001b[0;34m:\u001b[0m\u001b[0;34m\u001b[0m\u001b[0;34m\u001b[0m\u001b[0m\n\u001b[1;32m      6\u001b[0m             \u001b[0mdicti\u001b[0m\u001b[0;34m[\u001b[0m\u001b[0mrow\u001b[0m\u001b[0;34m[\u001b[0m\u001b[0;34m'id'\u001b[0m\u001b[0;34m]\u001b[0m\u001b[0;34m]\u001b[0m \u001b[0;34m=\u001b[0m \u001b[0mrow\u001b[0m\u001b[0;34m[\u001b[0m\u001b[0;34m'subject_name'\u001b[0m\u001b[0;34m]\u001b[0m\u001b[0;34m\u001b[0m\u001b[0;34m\u001b[0m\u001b[0m\n",
      "\u001b[0;31mAttributeError\u001b[0m: module 'csv' has no attribute 'file'"
     ]
    }
   ],
   "source": [
    "group_results_by_teacher(1,1)"
   ]
  },
  {
   "cell_type": "code",
   "execution_count": 53,
   "metadata": {},
   "outputs": [
    {
     "ename": "SyntaxError",
     "evalue": "invalid syntax (<ipython-input-53-2f708ac87973>, line 1)",
     "output_type": "error",
     "traceback": [
      "\u001b[0;36m  File \u001b[0;32m\"<ipython-input-53-2f708ac87973>\"\u001b[0;36m, line \u001b[0;32m1\u001b[0m\n\u001b[0;31m    NEXT TASK 2\u001b[0m\n\u001b[0m            ^\u001b[0m\n\u001b[0;31mSyntaxError\u001b[0m\u001b[0;31m:\u001b[0m invalid syntax\n"
     ]
    }
   ],
   "source": [
    "NEXT TASK 2"
   ]
  },
  {
   "cell_type": "code",
   "execution_count": 66,
   "metadata": {},
   "outputs": [],
   "source": [
    "def proverka_fio(FIO):\n",
    "    fio = FIO.split()\n",
    "    with open('teachers.csv', 'r', encoding='cp1251') as csv_file:\n",
    "        csv_reader = csv.DictReader(csv_file, Delimiter = ';')\n",
    "        for row in csv_reader:\n",
    "            if row['last_name'] == fio[0] and row['first_name'] == fio[1] and row['middle_name'] == fio[2]:\n",
    "                return row['id']\n",
    "    return False"
   ]
  },
  {
   "cell_type": "code",
   "execution_count": null,
   "metadata": {},
   "outputs": [],
   "source": [
    "def teacher_results(FIO, to_json=False, filename = None):\n",
    "    teacher_id = proverka_fio"
   ]
  },
  {
   "cell_type": "code",
   "execution_count": 61,
   "metadata": {},
   "outputs": [],
   "source": [
    "def gde_prepodaval(fio,to_json):\n",
    "    to_json = False"
   ]
  },
  {
   "cell_type": "code",
   "execution_count": null,
   "metadata": {},
   "outputs": [],
   "source": []
  },
  {
   "cell_type": "code",
   "execution_count": null,
   "metadata": {},
   "outputs": [],
   "source": [
    "def groups"
   ]
  },
  {
   "cell_type": "code",
   "execution_count": 63,
   "metadata": {},
   "outputs": [
    {
     "ename": "SyntaxError",
     "evalue": "invalid syntax (<ipython-input-63-888cde8f72b9>, line 1)",
     "output_type": "error",
     "traceback": [
      "\u001b[0;36m  File \u001b[0;32m\"<ipython-input-63-888cde8f72b9>\"\u001b[0;36m, line \u001b[0;32m1\u001b[0m\n\u001b[0;31m    proverka_fio(Милованов Даниил Михайлович)\u001b[0m\n\u001b[0m                                ^\u001b[0m\n\u001b[0;31mSyntaxError\u001b[0m\u001b[0;31m:\u001b[0m invalid syntax\n"
     ]
    }
   ],
   "source": [
    "proverka_fio('Милованов Даниил Михайлович')"
   ]
  },
  {
   "cell_type": "code",
   "execution_count": null,
   "metadata": {},
   "outputs": [],
   "source": []
  }
 ],
 "metadata": {
  "kernelspec": {
   "display_name": "Python 3",
   "language": "python",
   "name": "python3"
  },
  "language_info": {
   "codemirror_mode": {
    "name": "ipython",
    "version": 3
   },
   "file_extension": ".py",
   "mimetype": "text/x-python",
   "name": "python",
   "nbconvert_exporter": "python",
   "pygments_lexer": "ipython3",
   "version": "3.7.3"
  }
 },
 "nbformat": 4,
 "nbformat_minor": 2
}
