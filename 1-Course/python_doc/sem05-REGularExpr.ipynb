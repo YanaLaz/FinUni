{
 "cells": [
  {
   "cell_type": "markdown",
   "metadata": {},
   "source": [
    "# Регулярные выражения"
   ]
  },
  {
   "cell_type": "markdown",
   "metadata": {},
   "source": [
    "Реrулярные выражения предназначены для выполнения сложного поиска или замены в строке.  В языке Python использовать регулярные выражения позволяет модуль re. Прежде чем использовать функции из этого модуля, необходимо подключить модуль с помощью инструкции:\n"
   ]
  },
  {
   "cell_type": "code",
   "execution_count": 2,
   "metadata": {},
   "outputs": [],
   "source": [
    "import re # Библиотека для работы с регулярными выражениями"
   ]
  },
  {
   "cell_type": "markdown",
   "metadata": {
    "collapsed": true
   },
   "source": [
    "# Синтаксис регулярных выражений"
   ]
  },
  {
   "cell_type": "markdown",
   "metadata": {},
   "source": [
    "Создать откомпилированный шаблон регулярного выражения позволяет функция compile(). Функция имеет следующий формат:\n",
    "\n",
    "<Шаблон>= rе.соmрilе(<Регулярное выражение>[, <Модификатор>]) "
   ]
  },
  {
   "cell_type": "code",
   "execution_count": 3,
   "metadata": {},
   "outputs": [
    {
     "data": {
      "text/plain": [
       "'тик'"
      ]
     },
     "execution_count": 3,
     "metadata": {},
     "output_type": "execute_result"
    }
   ],
   "source": [
    "# Пример регулярного выражения\n",
    "p = re.compile(r\"[а-яё]{0,6}\", re.I) # Шаблон, соответствующий строке, начинающейся на 0-6 русских букв\n",
    "p.match('тикtik').group(0) # Возвращаем результат поиска подстроки по указанному шаблону в строке \"тикtik\""
   ]
  },
  {
   "cell_type": "markdown",
   "metadata": {},
   "source": [
    "### Составление регулярных выражений"
   ]
  },
  {
   "cell_type": "markdown",
   "metadata": {},
   "source": [
    "Внутри регулярного выражения (внутри кавычек, его определяющих) символы "
   ]
  },
  {
   "cell_type": "markdown",
   "metadata": {},
   "source": [
    "#### .   ^   $  *  +  ?   {  [  ]  \\  |  ( ) "
   ]
  },
  {
   "cell_type": "markdown",
   "metadata": {},
   "source": [
    "имеют специальное значение. Если эти символы требуется выводить как есть, то их следует экранировать\n",
    "с помощью слэша. Некоторые сnециальные символы теряют свое особое значение, если их\n",
    "разместить внутри квадратных скобок. В этом случае экранировать их не нужно. "
   ]
  },
  {
   "cell_type": "markdown",
   "metadata": {},
   "source": [
    "В квадратных скобках [] можно указать символы, которые могут встречаться на этом месте в строке. Можно перечислять символы подряд или указать их диапазон через тире. Примеры:"
   ]
  },
  {
   "cell_type": "markdown",
   "metadata": {},
   "source": [
    "* [09] - соответствует цифре 0 или 9 <br>\n",
    "* [0-9] - соответствует одной цифре от 0 до 9 <br>\n",
    "* [абв] - соответствует букве \"а\", \"б\" или \"в\" <br>\n",
    "* [а-г] - соответствует букве \"а\", \"б\", \"в\" или \"г\" <br>\n",
    "* [а-я] - соответствует любой букве от \"а\" до \"я\", кроме буквы \"ё\" <br>\n",
    "* [а-яё] - соответствует любой букве от \"а\" до \"я\" <br>\n",
    "* [АБВ] - соответствует букве \"А\", \"Б\" или \"В\" <br>\n",
    "* [А-ЯЁ] - соответствует любой букве от \"А\" до \"Я\" <br>\n",
    "* [а-яА-ЯёЁ] - соответствует любой русской букве в любом регистре <br>\n",
    "* [0-9а-яА-ЯёЁа-zА-Z] - любая цифра и любая буква независимо от регистра и языка"
   ]
  },
  {
   "cell_type": "code",
   "execution_count": 4,
   "metadata": {},
   "outputs": [
    {
     "name": "stdout",
     "output_type": "stream",
     "text": [
      "Введено правильно\n",
      "Введено неправильно\n",
      "Введено неправильно\n"
     ]
    }
   ],
   "source": [
    "#Пример\n",
    "\n",
    "date_ = \"29,10.2016\"\n",
    "p = re.compile(r'[0-3][0-9].[01][0-9].[12][09][0-9][0-9]') # Шаблон корректной даты\n",
    "if p.match(date_): # Проверка на соответствие заданному шаблону\n",
    "    print('Введено правильно')\n",
    "else: \n",
    "    print('Введено неправильно')\n",
    "#Так как точка не экранирована, то выведет \"Введено правильно\", т.к. точка означает любой символ, кроме перевода строки\n",
    "\n",
    "p = re.compile(r'(([0-2][0-9])|([3][01]))\\.[01][0-9]\\.[12][09][0-9][0-9]') # Шаблон корректной даты с экранированием точки\n",
    "                                    # и более жесткими ограничениями на цифры дня \n",
    "if p.match(date_):\n",
    "    print('Введено правильно')\n",
    "else: \n",
    "    print('Введено неправильно')\n",
    "#Точка экранирована. Выведет \"Введено неправильно\"\n",
    "\n",
    "p = re.compile(r'[0-3][0-9][.][01][0-9][.][12][09][0-9][0-9]') # Еще один вариант указать точку в шаблоне - заключить ее в квадратные скобки\n",
    "if p.match(date_):\n",
    "    print('Введено правильно')\n",
    "else: \n",
    "    print('Введено неправильно')\n",
    "#Точка внутри квадратных скобок. Выведет \"Введено неправильно\""
   ]
  },
  {
   "cell_type": "markdown",
   "metadata": {},
   "source": [
    "Если после первой скобки указать ^, то все указанные в квадратных скобках символы должны отсутствовать на данной позиции шаблона."
   ]
  },
  {
   "cell_type": "code",
   "execution_count": null,
   "metadata": {},
   "outputs": [],
   "source": [
    "p=re.compile(r'[^09][^0-9][^а-яА-ЯёЁa-zA-Z]') # Первый символ - не 0 и не 9; второй символ - не цифра; третий символ - не буква.\n",
    "\n",
    "if p.search('1а2'):\n",
    "    print('Строка соответствует шаблону')\n",
    "else:\n",
    "    print('Строка не соответствует шаблону')\n",
    "\n",
    "\n",
    "if p.search('04Q'):\n",
    "    print('Строка соответствует шаблону')\n",
    "else:\n",
    "    print('Строка не соответствует шаблону')"
   ]
  },
  {
   "cell_type": "markdown",
   "metadata": {},
   "source": [
    "Вместо перечисления символов можно использовать стандартные классы: <br>\n",
    "\n",
    "* . - любой символ, кроме перевода строки (если точка не экранирована и не заключена в квадратные скобки)\n",
    "* \\d - соответствует любой цифре (эквивалентно [0-9]) <br>\n",
    "* \\w - соответствует любой букве, цифре или символу подчеркивания ([a-zA-Zа-яЁА-ЯЁ0-9_]) <br>\n",
    "* \\s - любой пробельный символ (пробел, перевод строки, табуляция и т.д.) <br>\n",
    "* \\D - не цифра (эквивалентно [^0-9]) <br>\n",
    "* \\W - не буква, не цифра и не символ подчеркивания (эквивалентно [^a-zA-Zа-яЁА-ЯЁ0-9_]) <br>\n",
    "* \\S - не пробельный символ <br>\n",
    "* \\b - обозначение левой или правой границы слова (где слово трактуется как последовательность букв или цифр)"
   ]
  },
  {
   "cell_type": "code",
   "execution_count": 5,
   "metadata": {},
   "outputs": [
    {
     "name": "stdout",
     "output_type": "stream",
     "text": [
      "Строка соответствует шаблону\n",
      "Строка не соответствует шаблону\n"
     ]
    }
   ],
   "source": [
    "p = re.compile(r'[\\d][\\D][\\s][\\S]')\n",
    "\n",
    "if p.search('1a 2'):\n",
    "    print('Строка соответствует шаблону')\n",
    "else:\n",
    "    print('Строка не соответствует шаблону')\n",
    "\n",
    "\n",
    "if p.search('1a2 '):\n",
    "    print('Строка соответствует шаблону')\n",
    "else:\n",
    "    print('Строка не соответствует шаблону')"
   ]
  },
  {
   "cell_type": "markdown",
   "metadata": {},
   "source": [
    "#### Квантификаторы"
   ]
  },
  {
   "cell_type": "markdown",
   "metadata": {},
   "source": [
    "С помощью квантификаторов задается количество вхождений символа в строку. Указывается после символа, к которому относится разрешенное количество повторений: <br>\n",
    "\n",
    "* {n} - n вхождений символа в строку. Например. шаблон r\"[0-9]{2}\" соответствует двум вхождениям любой цифры;<br>\n",
    "* {n,} - n или более вхождений символа в строку. Например. шаблон r\"[0-9]{2,}\" соответствует двум и более вхождениям любой цифры;<br>\n",
    "* {n,m} - не менее n и не более m вхождений символа в строку. Числа указываются через запятую без пробела. _Например, <br>\n",
    "шаблон r\"[0-9]{2,4}\" соответствует от двух до четырех вхождениям любой цифры;_<br>\n",
    "* \\* - ноль или большее число вхождений символа в строку. Эквивалентно комбинации {0,}<br>\n",
    "* \\+ - одно или большее число вхождений символа в строку. Эквивалентно комбинации {1,}<br>\n",
    "* ? - ни одного или одно вхождение символа в строку. Эквивалентно комбинации {0,1}. "
   ]
  },
  {
   "cell_type": "code",
   "execution_count": 25,
   "metadata": {},
   "outputs": [
    {
     "name": "stdout",
     "output_type": "stream",
     "text": [
      "Строка не соответствует шаблону\n",
      "Строка соответствует шаблону\n"
     ]
    }
   ],
   "source": [
    "p = re.compile(r'[0-9]{4}') #Вместо r'[0-9][0-9][0-9][0-9]'\n",
    "\n",
    "if p.search('111'):\n",
    "    print('Строка соответствует шаблону')\n",
    "else:\n",
    "    print('Строка не соответствует шаблону')\n",
    "\n",
    "if p.search('1111'):\n",
    "    print('Строка соответствует шаблону')\n",
    "else:\n",
    "    print('Строка не соответствует шаблону')"
   ]
  },
  {
   "cell_type": "markdown",
   "metadata": {},
   "source": [
    "Все квантификаторы являются \"жадными\": при поиске соответствия ищется самая длинная подстрока, соответствующая шаблону, и не учитываются более короткие соответствия. Например:"
   ]
  },
  {
   "cell_type": "code",
   "execution_count": 6,
   "metadata": {},
   "outputs": [
    {
     "data": {
      "text/plain": [
       "['<b>Text1</b>Text2<b>Text3</b>']"
      ]
     },
     "execution_count": 6,
     "metadata": {},
     "output_type": "execute_result"
    }
   ],
   "source": [
    "s=\"<b>Text1</b>Text2<b>Text3</b>\"\n",
    "p = re.compile(r'<b>.*</b>')\n",
    "p.findall(s)"
   ]
  },
  {
   "cell_type": "code",
   "execution_count": 7,
   "metadata": {},
   "outputs": [
    {
     "data": {
      "text/plain": [
       "['<b>Text1</b>', '<b>Text3</b>']"
      ]
     },
     "execution_count": 7,
     "metadata": {},
     "output_type": "execute_result"
    }
   ],
   "source": [
    "#Для ограничения жадности необходимо указать символ ? после квантификатора. \n",
    "# В этом случае будут искаться самые короткие подстроки\n",
    "\n",
    "p=re.compile(r'<b>.*?</b>')\n",
    "p.findall(s)"
   ]
  },
  {
   "cell_type": "markdown",
   "metadata": {},
   "source": [
    "Если необходимо получить только содержимое тегов, то нужный фрагмент шаблона следует разместить внутри круглых скобок"
   ]
  },
  {
   "cell_type": "code",
   "execution_count": 8,
   "metadata": {},
   "outputs": [
    {
     "data": {
      "text/plain": [
       "['Text1', 'Text3']"
      ]
     },
     "execution_count": 8,
     "metadata": {},
     "output_type": "execute_result"
    }
   ],
   "source": [
    "p=re.compile(r'<b>(.*?)</b>')\n",
    "p.findall(s)"
   ]
  },
  {
   "cell_type": "markdown",
   "metadata": {},
   "source": [
    "Круглые скобки также часто используются для группировки фрагментов внутри шаблона. По умолчанию все фрагменты в скобках выводятся в результат. Чтобы избежать вывода конкретного фрагмента, следует после его открывающей круглой скобки разместить символы ?:"
   ]
  },
  {
   "cell_type": "code",
   "execution_count": 9,
   "metadata": {},
   "outputs": [
    {
     "name": "stdout",
     "output_type": "stream",
     "text": [
      "[('st', 'st', ''), ('xt', '', 'xt'), ('st', 'st', '')]\n",
      "[('test', 'st', 'st', ''), ('text', 'xt', '', 'xt'), ('contest', 'st', 'st', '')]\n"
     ]
    },
    {
     "data": {
      "text/plain": [
       "['test', 'text', 'contest']"
      ]
     },
     "execution_count": 9,
     "metadata": {},
     "output_type": "execute_result"
    }
   ],
   "source": [
    "s = 'test tent text contest'\n",
    "p=re.compile(r'[a-z]+((st)|(xt))') #Выводятся только фрагменты, которые заключены в круглые скобки\n",
    "print(p.findall(s))\n",
    "\n",
    "p=re.compile(r'([a-z]+((st)|(xt)))') #За счет внешних скобок выводятся и целые слова, соответствующие паттерну\n",
    "print(p.findall(s))\n",
    "\n",
    "p=re.compile(r'([a-z]+(?:(?:st)|(?:xt)))') #С помощью ?: во всех вложенных фрагментах на печать выводятся только целые слова\n",
    "p.findall(s)"
   ]
  },
  {
   "cell_type": "markdown",
   "metadata": {},
   "source": [
    "#### Привязка к началу строки или подстроки"
   ]
  },
  {
   "cell_type": "markdown",
   "metadata": {},
   "source": [
    "^ - привязка к началу строки или подстроки. Зависит от модификаторов M (или MULTILINE) и S (или DOTALL) <br>\n",
    "$ - привязка к концу строки или подстроки. Зависит от модификаторов M (или MULTILINE) и S (или DOTALL) <br>\n",
    "\\А - привязка к началу строки (не зависит от модификатора) <br>\n",
    "\\Z - привязка к концу строки (не зависит от модификатора). <br>\n",
    "(модификаторы рассматриваются ниже)"
   ]
  },
  {
   "cell_type": "code",
   "execution_count": 10,
   "metadata": {},
   "outputs": [
    {
     "name": "stdout",
     "output_type": "stream",
     "text": [
      "['help']\n",
      "[]\n"
     ]
    }
   ],
   "source": [
    "p = re.compile(r'^help') #Привязка к началу строки, т.е. проверка на соответствие начала строки заданному выражению\n",
    "s = 'help '\n",
    "print(p.findall(s))\n",
    "s = ' help'\n",
    "print(p.findall(s)) # Строка начинается с пробела, поэтому не соответствует регулярному выражению"
   ]
  },
  {
   "cell_type": "code",
   "execution_count": 26,
   "metadata": {},
   "outputs": [
    {
     "name": "stdout",
     "output_type": "stream",
     "text": [
      "[]\n",
      "['help']\n"
     ]
    }
   ],
   "source": [
    "p = re.compile(r'help$') #Привязка к концу строки (проверка на соответствие конца строки заданному выражению)\n",
    "s = 'help '\n",
    "print(p.findall(s))\n",
    "s = ' help'\n",
    "print(p.findall(s))"
   ]
  },
  {
   "cell_type": "markdown",
   "metadata": {},
   "source": [
    "При одновременном использовании привязок к началу и к концу строки, мы говорим, что ищем строку с данным количеством символов, которые соответствуют шаблону"
   ]
  },
  {
   "cell_type": "code",
   "execution_count": 11,
   "metadata": {},
   "outputs": [
    {
     "data": {
      "text/plain": [
       "['qwe']"
      ]
     },
     "execution_count": 11,
     "metadata": {},
     "output_type": "execute_result"
    }
   ],
   "source": [
    "p=re.compile(r'[a-zA-Zа-яА-Я]{3}') #Без привязок\n",
    "p.findall('2qwer')\n"
   ]
  },
  {
   "cell_type": "code",
   "execution_count": 12,
   "metadata": {},
   "outputs": [
    {
     "name": "stdout",
     "output_type": "stream",
     "text": [
      "[]\n",
      "['qwer']\n"
     ]
    }
   ],
   "source": [
    "p=re.compile(r'^[a-zA-Zа-яА-Я]{3}$') #С привязками\n",
    "print(p.findall('qwer'))\n",
    "p=re.compile(r'^[a-zA-Zа-яА-Я]{4}$')\n",
    "print(p.findall('qwer'))"
   ]
  },
  {
   "cell_type": "markdown",
   "metadata": {},
   "source": [
    "## Модификаторы "
   ]
  },
  {
   "cell_type": "markdown",
   "metadata": {},
   "source": [
    "При определении регулярного выражения в параметре <Модификатор> могут быть указаны следующие флаги (или их комбинация через оператор | ):"
   ]
  },
  {
   "cell_type": "markdown",
   "metadata": {},
   "source": [
    "* L или LOCALE- учитываются настройки текущей локали\n",
    "\n",
    "* I или IGNORECASE- поиск без учета регистра.\n",
    "\n",
    "* M или МULTILINE- поиск в строке, состоящей из нескольких подстрок, разделенных символом новой строки (\"\\n\"). Символ ^ соответствует привязке к началу каждой подстроки, а символ $ соответствует позиции перед символом перевода строки\n",
    "\n",
    "* S или DOTALL- метасимвол \"точка\" будет соответствовать любому символу, включая символ перевода строки {\\n). По умолчанию метасимвол \"точка\" не соответствует символу перевода строки. Символ ^ будет соответствовать привязке к началу всей строки, а cимвол $ - привязке к концу всей строки.\n",
    "\n",
    "* X или VERBOSE - Включает многословные (подробные) регулярные выражения, которые могут быть организованы более ясно и понятно. Если указан этот флаг, пробелы в строке регулярного выражения игнорируются, кроме случаев, когда они имеются в классе символов (напр. в квадратных скобках) или им предшествует неэкранированный бэкслеш; это позволяет организовать регулярные выражения более ясным образом. Этот флаг также позволяет помещать в регулярные выражения комментарии, начинающиеся с '#', которые будут игнорироваться движком."
   ]
  },
  {
   "cell_type": "code",
   "execution_count": null,
   "metadata": {},
   "outputs": [],
   "source": [
    "p = re.compile(r'[a-z]{3}', re.I) #Поиск без учета регистра\n",
    "s = 'QWE'\n",
    "p.findall(s)"
   ]
  },
  {
   "cell_type": "code",
   "execution_count": 24,
   "metadata": {},
   "outputs": [
    {
     "data": {
      "text/plain": [
       "(['40A2'], ['444a_banana293'], [])"
      ]
     },
     "execution_count": 24,
     "metadata": {},
     "output_type": "execute_result"
    }
   ],
   "source": [
    "p = re.compile(r'''\\d{1,2} #Ищем цифру или 2 цифры\n",
    "[a-z]? #Ищем 0-1 букву\n",
    "[\\w]+ #Ищем непробельные символы (более 1)\n",
    "''', re.X|re.I)\n",
    "p1 = re.compile(r'\\d{1,2}[a-z]?[\\w]+', re.I) # То же самое в строку: менее наглядно\n",
    "s = 'sss40A2'\n",
    "s1 = '444a_banana293'\n",
    "s2 = '4 banana'\n",
    "p.findall(s), p1.findall(s1), p.findall(s2)"
   ]
  },
  {
   "cell_type": "markdown",
   "metadata": {},
   "source": [
    "## Часто используемые методы"
   ]
  },
  {
   "cell_type": "markdown",
   "metadata": {},
   "source": [
    "* _re.match()_ - Этот метод ищет по заданному шаблону в начале строки. Возвращает первое вхождение подстроки в виде объекта SRE_Match object, из которого можно получить результирующую подстроку с помощью функции group, а индексы начальной и конечной позиции с помощью функций start() и end(), соответственно. <br>\n",
    "* re.search() - Этот метод ищет по заданному шаблону во всей строке. Возвращает первое вхождение подстроки в виде объекта SRE_Match object, из которого можно получить результирующую подстроку с помощью функции group, а индексы начальной и конечной позиции с помощью функций start() и end(), соответственно. <br>\n",
    "* re.findall() - Этот метод возвращает список всех найденных совпадений (подстрок). <br>\n",
    "* re.split() - Этот метод разделяет строку по заданному шаблону. Первый аргумент функции - регулярное выражение, обозначающее разделитель, второй аргумент - исходная строка. <br>\n",
    "* re.sub() - Этот метод ищет шаблон в строке и заменяет его на указанную подстроку. <br>\n",
    "* re.compile() - собирает регулярное выражение в отдельный объект, который может быть использован для поиска. Это также избавляет от переписывания одного и того же выражения."
   ]
  },
  {
   "cell_type": "markdown",
   "metadata": {},
   "source": [
    "### re.match(pattern, string)"
   ]
  },
  {
   "cell_type": "code",
   "execution_count": 30,
   "metadata": {},
   "outputs": [
    {
     "name": "stdout",
     "output_type": "stream",
     "text": [
      "None\n"
     ]
    }
   ],
   "source": [
    "result = re.match(r'Analytics', 'AV Analytics Vidhya AV')\n",
    "print(result)"
   ]
  },
  {
   "cell_type": "code",
   "execution_count": 29,
   "metadata": {},
   "outputs": [
    {
     "name": "stdout",
     "output_type": "stream",
     "text": [
      "<re.Match object; span=(0, 2), match='AV'>\n",
      "AV\n",
      "Индекс начальной позиции найденной подстроки = 0, Индекс конечной позиции найденной подстроки = 2\n"
     ]
    }
   ],
   "source": [
    "result = re.match(r'AV', 'AV Analytics Vidhya AV')\n",
    "print(result)\n",
    "print(result.group())\n",
    "print(\"Индекс начальной позиции найденной подстроки = {}, \\\n",
    "Индекс конечной позиции найденной подстроки = {}\".format(result.start(), result.end()))"
   ]
  },
  {
   "cell_type": "markdown",
   "metadata": {},
   "source": [
    "### re.search(pattern, string)"
   ]
  },
  {
   "cell_type": "code",
   "execution_count": 16,
   "metadata": {},
   "outputs": [
    {
     "name": "stdout",
     "output_type": "stream",
     "text": [
      "Analytics\n"
     ]
    }
   ],
   "source": [
    "result = re.search(r'Analytics', 'AV Analytics Vidhya AV')\n",
    "print(result.group())"
   ]
  },
  {
   "cell_type": "code",
   "execution_count": 15,
   "metadata": {},
   "outputs": [
    {
     "name": "stdout",
     "output_type": "stream",
     "text": [
      "<re.Match object; span=(0, 2), match='AV'>\n",
      "AV\n",
      "Индекс начальной позиции найденной подстроки = 0, Индекс конечной позиции найденной подстроки = 2\n"
     ]
    }
   ],
   "source": [
    "result = re.search(r'AV', 'AV Analytics Vidhya AV')\n",
    "print(result)\n",
    "print(result.group(0))\n",
    "print(\"Индекс начальной позиции найденной подстроки = {}, \\\n",
    "Индекс конечной позиции найденной подстроки = {}\".format(result.start(), result.end()))"
   ]
  },
  {
   "cell_type": "markdown",
   "metadata": {},
   "source": [
    "Метод search() ищет по всей строке, но возвращает только первое найденное совпадение."
   ]
  },
  {
   "cell_type": "markdown",
   "metadata": {},
   "source": [
    "### re.findall(pattern, string)"
   ]
  },
  {
   "cell_type": "code",
   "execution_count": 18,
   "metadata": {},
   "outputs": [
    {
     "name": "stdout",
     "output_type": "stream",
     "text": [
      "['AV']\n"
     ]
    }
   ],
   "source": [
    "result = re.findall(r'AV', 'AV Analytics Vidhya')\n",
    "print (result)"
   ]
  },
  {
   "cell_type": "markdown",
   "metadata": {},
   "source": [
    "### re.split(pattern, string, [maxsplit=0])"
   ]
  },
  {
   "cell_type": "code",
   "execution_count": 22,
   "metadata": {},
   "outputs": [
    {
     "name": "stdout",
     "output_type": "stream",
     "text": [
      "['Analy', 'ics']\n"
     ]
    }
   ],
   "source": [
    "result = re.split(r't', 'Analytics')\n",
    "print(result)"
   ]
  },
  {
   "cell_type": "markdown",
   "metadata": {},
   "source": [
    "С помощью модуля re можно задать несколько шаблонов и знаков, по которым нужно разбить одну строку"
   ]
  },
  {
   "cell_type": "code",
   "execution_count": 19,
   "metadata": {},
   "outputs": [
    {
     "name": "stdout",
     "output_type": "stream",
     "text": [
      "['User', 'Homework', 'Ivanov', 'docs']\n"
     ]
    }
   ],
   "source": [
    "result = re.split(r'\\.|\\\\|_', r'User\\Homework_Ivanov.docs')\n",
    "print(result)"
   ]
  },
  {
   "cell_type": "markdown",
   "metadata": {},
   "source": [
    "### re.sub(pattern, repl, string)### "
   ]
  },
  {
   "cell_type": "code",
   "execution_count": 23,
   "metadata": {},
   "outputs": [
    {
     "name": "stdout",
     "output_type": "stream",
     "text": [
      "AV is largest Analytics community of the World\n"
     ]
    }
   ],
   "source": [
    "result = re.sub(r'India', 'the World', 'AV is largest Analytics community of India')\n",
    "print (result)"
   ]
  },
  {
   "cell_type": "code",
   "execution_count": 20,
   "metadata": {},
   "outputs": [
    {
     "name": "stdout",
     "output_type": "stream",
     "text": [
      "We_don_t_need_no_education\n"
     ]
    }
   ],
   "source": [
    "result = re.sub(r'\\.|\\'| |,|=|-', '_', 'We don\\'t.need=no-education')\n",
    "print(result)"
   ]
  },
  {
   "cell_type": "markdown",
   "metadata": {},
   "source": [
    "### re.compile(pattern, repl, string)"
   ]
  },
  {
   "cell_type": "code",
   "execution_count": 21,
   "metadata": {},
   "outputs": [
    {
     "data": {
      "text/plain": [
       "('We_don_t_need_no_education', ['We', 'don', 't', 'need', 'no', 'education'])"
      ]
     },
     "execution_count": 21,
     "metadata": {},
     "output_type": "execute_result"
    }
   ],
   "source": [
    "pattern = re.compile(r'\\.|\\'| |,|=|-')\n",
    "s = 'We don\\'t.need=no-education'\n",
    "pattern.sub('_', s), pattern.split(s)"
   ]
  },
  {
   "cell_type": "code",
   "execution_count": null,
   "metadata": {
    "collapsed": true
   },
   "outputs": [],
   "source": []
  }
 ],
 "metadata": {
  "kernelspec": {
   "display_name": "Python 3",
   "language": "python",
   "name": "python3"
  },
  "language_info": {
   "codemirror_mode": {
    "name": "ipython",
    "version": 3
   },
   "file_extension": ".py",
   "mimetype": "text/x-python",
   "name": "python",
   "nbconvert_exporter": "python",
   "pygments_lexer": "ipython3",
   "version": "3.7.3"
  }
 },
 "nbformat": 4,
 "nbformat_minor": 2
}
