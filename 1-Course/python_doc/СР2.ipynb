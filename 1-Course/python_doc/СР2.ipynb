{
 "cells": [
  {
   "cell_type": "markdown",
   "metadata": {},
   "source": [
    "1 вариант"
   ]
  },
  {
   "cell_type": "markdown",
   "metadata": {},
   "source": [
    "Переменная phones_list хранит структуру данных со списком контактов, содержащим номера городских и мобильных телефонов. Преобразовать этот список в словарь, ключами в котором являются города, а значениями - отдельно словари для мобильных и для городских номеров, в которых номерам проживающих в данном городе сопоставлены их имена."
   ]
  },
  {
   "cell_type": "code",
   "execution_count": 47,
   "metadata": {},
   "outputs": [],
   "source": [
    "phones_list = [{'name':'Ivan', 'city':'Moscow', 'phones':['232-19-55', '+7 (916) 230-00-75']},\n",
    "        {'name':'Anna', 'city':'Samara', 'phones':['200-11-15']},\n",
    "        {'name':'Anna', 'city':'Vologda', 'phones':['+7 (931) 711-00-75']}, \n",
    "        {'name':'Nikolay', 'city':'Moscow', 'phones':['+7 (916) 778-71-05', '331-66-11', '783-33-85']},\n",
    "        {'name':'Ivan', 'city':'Moscow', 'phones':['+7 (916) 205-41-05', '232-19-55']},\n",
    "        {'name':'Anna', 'city':'Samara', 'phones':['+7 (916) 105-13-56']}\n",
    "       ]"
   ]
  },
  {
   "cell_type": "code",
   "execution_count": 27,
   "metadata": {},
   "outputs": [
    {
     "ename": "SyntaxError",
     "evalue": "unexpected EOF while parsing (<ipython-input-27-2b74e30ec836>, line 1)",
     "output_type": "error",
     "traceback": [
      "\u001b[0;36m  File \u001b[0;32m\"<ipython-input-27-2b74e30ec836>\"\u001b[0;36m, line \u001b[0;32m1\u001b[0m\n\u001b[0;31m    print('{}'.format(phones_list[1])\u001b[0m\n\u001b[0m                                     ^\u001b[0m\n\u001b[0;31mSyntaxError\u001b[0m\u001b[0;31m:\u001b[0m unexpected EOF while parsing\n"
     ]
    }
   ],
   "source": [
    "dicti[]"
   ]
  },
  {
   "cell_type": "code",
   "execution_count": 49,
   "metadata": {},
   "outputs": [
    {
     "name": "stdout",
     "output_type": "stream",
     "text": [
      "{'Moscow': {'city': {'232-19-55': 'Ivan', '331-66-11': 'Nikolay', '783-33-85': 'Nikolay'}, 'mobile': {'+7 (916) 230-00-75': 'Ivan', '+7 (916) 778-71-05': 'Nikolay', '+7 (916) 205-41-05': 'Ivan'}}, 'Samara': {'city': {'200-11-15': 'Anna'}, 'mobile': {'+7 (916) 105-13-56': 'Anna'}}, 'Vologda': {'mobile': {'+7 (931) 711-00-75': 'Anna'}}}\n"
     ]
    }
   ],
   "source": [
    "dicti = {}\n",
    "for i in phones_list:\n",
    "    dicti.setdefault(i['city'], {})\n",
    "    for j in i['phones']:\n",
    "        if j.startswith('+7'):\n",
    "            dicti[i['city']].setdefault('mobile', {})\n",
    "            dicti[i['city']]['mobile'].update({j: i['name']})\n",
    "        else:\n",
    "            dicti[i['city']].setdefault('city', {})\n",
    "            dicti[i['city']]['city'].update({j: i['name']})\n",
    "print(dicti)"
   ]
  },
  {
   "cell_type": "markdown",
   "metadata": {},
   "source": [
    "Пример вывода"
   ]
  },
  {
   "cell_type": "code",
   "execution_count": 2,
   "metadata": {},
   "outputs": [
    {
     "data": {
      "text/plain": [
       "{'Moscow': {'city': {'232-19-55': 'Ivan',\n",
       "   '331-66-11': 'Nikolay',\n",
       "   '783-33-85': 'Nikolay'},\n",
       "  'mobile': {'+7 (916) 205-41-05': 'Ivan',\n",
       "   '+7 (916) 230-00-75': 'Ivan',\n",
       "   '+7 (916) 778-71-05': 'Nikolay'}},\n",
       " 'Samara': {'city': {'200-11-15': 'Anna'},\n",
       "  'mobile': {'+7 (916) 105-13-56': 'Anna'}},\n",
       " 'Vologda': {'mobile': {'+7 (931) 711-00-75': 'Anna'}}}"
      ]
     },
     "execution_count": 2,
     "metadata": {},
     "output_type": "execute_result"
    }
   ],
   "source": [
    "{'Moscow': {'mobile': {'+7 (916) 205-41-05': 'Ivan', '+7 (916) 230-00-75': 'Ivan', '+7 (916) 778-71-05': 'Nikolay'}, \n",
    "            'city': {'232-19-55': 'Ivan', '331-66-11': 'Nikolay', '783-33-85': 'Nikolay'}},\n",
    "  \n",
    " 'Samara': {'mobile':{'+7 (916) 105-13-56': 'Anna'}, 'city': {'200-11-15': 'Anna'}},\n",
    " \n",
    " 'Vologda': {'mobile':{'+7 (931) 711-00-75': 'Anna'}}}"
   ]
  },
  {
   "cell_type": "markdown",
   "metadata": {},
   "source": [
    "2 вариант"
   ]
  },
  {
   "cell_type": "markdown",
   "metadata": {},
   "source": [
    "В переменной phones_list хранятся данные по номерам телефонов клиентов организации. Необходимо создать словарь, где все клиенты будут разбиты по городам и районам, в котором они зарегестрированы"
   ]
  },
  {
   "cell_type": "code",
   "execution_count": 3,
   "metadata": {
    "collapsed": true
   },
   "outputs": [],
   "source": [
    "phones_list = [{'name':'Ivan', 'location':{'city': 'Moscow', 'district': 'Arbat'}, 'phones':['232-19-55', '+7 (916) 230-00-75']},\n",
    "        {'name':'Anna', 'location':{'city': 'Moscow', 'district': 'Arbat'}, 'phones':['200-11-15']},\n",
    "        {'name':'Anna', 'location':{'city': 'St. Petersburg', 'district': 'Vasileostrovsky '}, 'phones':['+7 (931) 711-00-75']}, \n",
    "        {'name':'Nikolay', 'location':{'city': 'Moscow', 'district': 'Bibirevo'}, 'phones':['+7 (916) 778-71-05', '331-66-11', '783-33-85']},\n",
    "        {'name':'Ivan', 'location':{'city': 'St. Petersburg', 'district': 'Tsentralny'}, 'phones':['+7 (916) 205-41-05', '232-19-55']},\n",
    "        {'name':'Anna', 'location':{'city': 'St. Petersburg', 'district': 'Tsentralny'}, 'phones':['+7 (916) 105-13-56']}\n",
    "       ]"
   ]
  },
  {
   "cell_type": "markdown",
   "metadata": {},
   "source": [
    "Пример вывода:"
   ]
  },
  {
   "cell_type": "code",
   "execution_count": 4,
   "metadata": {},
   "outputs": [
    {
     "data": {
      "text/plain": [
       "{'Moscow': {'Arbat': {'Anna': ['200-11-15'],\n",
       "   'Ivan': ['232-19-55', '+7 (916) 230-00-75']},\n",
       "  'Bibirevo': {'Nikolay': ['+7 (916) 778-71-05', '331-66-11', '783-33-85']}},\n",
       " 'St. Petersburg': {'Tsentralny': {'Anna': ['+7 (916) 105-13-56'],\n",
       "   'Ivan': ['+7 (916) 205-41-05', '232-19-55']},\n",
       "  'Vasileostrovsky ': {'Anna': ['+7 (931) 711-00-75']}}}"
      ]
     },
     "execution_count": 4,
     "metadata": {},
     "output_type": "execute_result"
    }
   ],
   "source": [
    "{'Moscow': {'Arbat': {'Anna': ['200-11-15'],\n",
    "   'Ivan': ['232-19-55', '+7 (916) 230-00-75']},\n",
    "  'Bibirevo': {'Nikolay': ['+7 (916) 778-71-05', '331-66-11', '783-33-85']}},\n",
    " 'St. Petersburg': {'Tsentralny': {'Anna': ['+7 (916) 105-13-56'],\n",
    "   'Ivan': ['+7 (916) 205-41-05', '232-19-55']},\n",
    "  'Vasileostrovsky ': {'Anna': ['+7 (931) 711-00-75']}}}"
   ]
  },
  {
   "cell_type": "code",
   "execution_count": null,
   "metadata": {
    "collapsed": true
   },
   "outputs": [],
   "source": []
  }
 ],
 "metadata": {
  "kernelspec": {
   "display_name": "Python 3",
   "language": "python",
   "name": "python3"
  },
  "language_info": {
   "codemirror_mode": {
    "name": "ipython",
    "version": 3
   },
   "file_extension": ".py",
   "mimetype": "text/x-python",
   "name": "python",
   "nbconvert_exporter": "python",
   "pygments_lexer": "ipython3",
   "version": "3.7.3"
  }
 },
 "nbformat": 4,
 "nbformat_minor": 2
}
