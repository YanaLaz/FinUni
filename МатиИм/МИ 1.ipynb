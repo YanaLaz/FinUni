{
 "cells": [
  {
   "cell_type": "code",
   "execution_count": 9,
   "metadata": {},
   "outputs": [
    {
     "name": "stdout",
     "output_type": "stream",
     "text": [
      "P = \n",
      "[0.08, 0, 0.15, 0, 0, 0.77, 0, 0, 0, 0, 0, 0, 0, 0]\n",
      "[0.42, 0.07, 0.51, 0, 0, 0, 0, 0, 0, 0, 0, 0, 0, 0]\n",
      "[0, 0.52, 0.06, 0.42, 0, 0, 0, 0, 0, 0, 0, 0, 0, 0]\n",
      "[0, 0.11, 0, 0.55, 0.34, 0, 0, 0, 0, 0, 0, 0, 0, 0]\n",
      "[0.18, 0.18, 0, 0.25, 0.08, 0, 0, 0.31, 0, 0, 0, 0, 0, 0]\n",
      "[0, 0, 0, 0, 0.54, 0.14, 0, 0.32, 0, 0, 0, 0, 0, 0]\n",
      "[0.65, 0.14, 0, 0, 0, 0, 0.1, 0.11, 0, 0, 0, 0, 0, 0]\n",
      "[0, 0, 0.06, 0, 0, 0, 0.16, 0.03, 0, 0.26, 0, 0.29, 0.2, 0]\n",
      "[0, 0, 0, 0, 0.07, 0, 0.19, 0.14, 0.26, 0.11, 0, 0.23, 0, 0.24]\n",
      "[0, 0, 0, 0, 0, 0, 0, 0.87, 0, 0.13, 0, 0, 0, 0]\n",
      "[0, 0, 0, 0, 0, 0, 0, 0.23, 0.45, 0, 0.07, 0.25, 0, 0]\n",
      "[0, 0, 0, 0, 0, 0, 0, 0, 0, 0, 0.42, 0.58, 0, 0]\n",
      "[0, 0, 0, 0, 0, 0, 0, 0.17, 0.35, 0, 0, 0, 0.48, 0.16]\n",
      "[0, 0, 0, 0, 0, 0, 0, 0.02, 0.55, 0, 0, 0, 0.36, 0.07]\n"
     ]
    }
   ],
   "source": [
    "# ЗАДАНИЕ 1\n",
    "import numpy as np\n",
    "\n",
    "#создаем матрицу вероятностей без учета вер-ти задержаться\n",
    "P = [[0,0,0.15,0,0,0.77,0,0,0,0,0,0,0,0],\n",
    "    [0.42,0,0.51,0,0,0,0,0,0,0,0,0,0,0],\n",
    "    [0,0.52,0,0.42,0,0,0,0,0,0,0,0,0,0],\n",
    "    [0,0.11,0,0,0.34,0,0,0,0,0,0,0,0,0],\n",
    "    [0.18,0.18,0,0.25,0,0,0,0.31,0,0,0,0,0,0],\n",
    "    [0,0,0,0,0.54,0,0,0.32,0,0,0,0,0,0],\n",
    "    [0.65,0.14,0,0,0,0,0,0.11,0,0,0,0,0,0],\n",
    "    [0,0,0.06,0,0,0,0.16,0,0,0.26,0,0.29,0.2,0],\n",
    "    [0,0,0,0,0.07,0,0.19,0.14,0,0.11,0,0.23,0,0.24],\n",
    "    [0,0,0,0,0,0,0,0.87,0,0,0,0,0,0],\n",
    "    [0,0,0,0,0,0,0,0.23,0.45,0,0,0.25,0,0],\n",
    "    [0,0,0,0,0,0,0,0,0,0,0.42,0,0,0],\n",
    "    [0,0,0,0,0,0,0,0.17,0.35,0,0,0,0,0.16],\n",
    "    [0,0,0,0,0,0,0,0.02,0.55,0,0,0,0.36,0]]\n",
    "\n",
    "#заполнение диагонали\n",
    "\n",
    "\n",
    "for i in range(len(P)):\n",
    "    s = 0\n",
    "    for j in range(len(P)-1):\n",
    "        s += P[i][j]\n",
    "    P[i][i] = round(1 - s, 2)\n",
    "\n",
    "print('P = ') #матрица вероятностей\n",
    "for i in P:\n",
    "    print(i)\n"
   ]
  },
  {
   "cell_type": "code",
   "execution_count": null,
   "metadata": {},
   "outputs": [],
   "source": []
  },
  {
   "cell_type": "code",
   "execution_count": null,
   "metadata": {},
   "outputs": [],
   "source": []
  },
  {
   "cell_type": "code",
   "execution_count": null,
   "metadata": {},
   "outputs": [],
   "source": []
  },
  {
   "cell_type": "code",
   "execution_count": 3,
   "metadata": {},
   "outputs": [
    {
     "name": "stdout",
     "output_type": "stream",
     "text": [
      "1)вероятность того, что за 5 шагов система перейдет из состояния 13 в состояние 7 = 0.07089724180000001\n"
     ]
    }
   ],
   "source": [
    "#1) вероятность того, что за 5 шагов система\n",
    "#перейдет из состояния 13 в состояние 6\n",
    "p1 = np.linalg.matrix_power(P, 5) #возведение матрицы в 5 степень\n",
    "\n",
    "print('1)вероятность того, что за 5 шагов система перейдет из состояния 13 в состояние 7 =', p1[12][5])\n"
   ]
  },
  {
   "cell_type": "code",
   "execution_count": 4,
   "metadata": {},
   "outputs": [
    {
     "name": "stdout",
     "output_type": "stream",
     "text": [
      "2) вероятности состояний системы спустя 6 шагов = \n",
      " [[0.07755924 0.0640772  0.05628077 0.09494059 0.08238315 0.06757274\n",
      "  0.04805728 0.15042525 0.11032207 0.05707336 0.08126402 0.19089354\n",
      "  0.08113675 0.04023093]]\n"
     ]
    }
   ],
   "source": [
    "# 2) вероятности состояний системы спустя 6 шагов, если в начальный момент\n",
    "# вероятность состояний были следующими\n",
    "#A=(0,06;0,02;0,03;0,09;0,12;0,12;0,08;0,03;0,11;0,07;0,04;0,11;0,01;0,11);\n",
    "\n",
    "A0 = np.matrix('0.06 0.02 0.03 0.09 0.12 0.12 0.08 0.03 0.11 0.07 0.04 0.11 0.01 0.11')\n",
    "A = np.linalg.matrix_power(P, 6) #возведение матрицы в 6 степень\n",
    "p2 = A0.dot(A) #перемножение матрицы на вектор\n",
    "\n",
    "print('2) вероятности состояний системы спустя 6 шагов = \\n', p2)"
   ]
  },
  {
   "cell_type": "code",
   "execution_count": 5,
   "metadata": {},
   "outputs": [
    {
     "name": "stdout",
     "output_type": "stream",
     "text": [
      "3) вероятность первого перехода за 6 шагов из состояния 2 в состояние 12 =  0.050710595459999994\n"
     ]
    }
   ],
   "source": [
    "# 3) вероятность первого перехода за 6 шагов из состояния 2 в состояние 12\n",
    "def mult(p1, p2): #функция перемножение матриц для первого перехода\n",
    "    res = [[0 for j in range(len(p2[0]))] for i in range(len(p1))] #пустая матрица\n",
    "    for i in range(len(p1)):\n",
    "        for j in range(len(p2[0])):\n",
    "            for k in range(len(p2)):\n",
    "                if i != j: #пропуск перехода в это же состояние\n",
    "                    res[i][j] += p1[i][k] * p2[k][j]\n",
    "    return res\n",
    "\n",
    "def first_k(p, k): #функция нахождения вероятностей первого перехода за k шагов\n",
    "    res = [[p[i][j] for j in range(len(p))] for i in range(len(p))]\n",
    "    for i in range(k - 1):\n",
    "        res = mult(p, res)\n",
    "    return res\n",
    "\n",
    "p3=first_k(P, 6)\n",
    "\n",
    "print(\"3) вероятность первого перехода за 6 шагов из состояния 2 в состояние 12 = \", p3[1][11])"
   ]
  },
  {
   "cell_type": "code",
   "execution_count": 38,
   "metadata": {},
   "outputs": [
    {
     "name": "stdout",
     "output_type": "stream",
     "text": [
      "4) вероятность перехода из состояния 6 в состояние 8 не позднее чем за 10 шагов = 0.8500863681880245\n"
     ]
    }
   ],
   "source": [
    "# 4) вероятность перехода из состояния 6 в состояние 8 не позднее чем за 10 шагов\n",
    "temp_p = [[P[i][j] for j in range(len(P))] for i in range(len(P))]\n",
    "p4 = temp_p[5][7]\n",
    "\n",
    "for i in range(10): #range(10) – выполняет 10 итераций (от 0 до 9)\n",
    "    temp_p = mult(P,temp_p)\n",
    "    p4 += temp_p[5][7]\n",
    "\n",
    "print(\"4) вероятность перехода из состояния 6 в состояние 8 не позднее чем за 10 шагов =\", p4)\n"
   ]
  },
  {
   "cell_type": "code",
   "execution_count": null,
   "metadata": {},
   "outputs": [],
   "source": [
    "def p_f4(p, k):\n",
    "    summa = copy.deepcopy(p)\n",
    "    rez = copy.deepcopy(p)\n",
    "    temp_p = copy.deepcopy(p)\n",
    "    for t in range(1, n):\n",
    "        for i in range(len(p)):\n",
    "            for j in range(len(p[0])):\n",
    "                rez[i][j] = 0\n",
    "                for m in range(len(p)):\n",
    "                    if m != j:\n",
    "                        rez[i][j] += p[i][j]"
   ]
  },
  {
   "cell_type": "code",
   "execution_count": 6,
   "metadata": {},
   "outputs": [
    {
     "name": "stdout",
     "output_type": "stream",
     "text": [
      "5) среднее количество шагов для перехода из состояния 10 в состояние 5 = 163313.15584829744\n"
     ]
    }
   ],
   "source": [
    "# 5) среднее количество шагов для перехода из состояния 10 в состояние 5\n",
    "temp_p = [[P[i][j] for j in range(len(P))] for i in range(len(P))]\n",
    "p5 = temp_p[9][4]\n",
    "\n",
    "for t in range(2, 1000): #бесконечность в формуле заменяем большим числом\n",
    "    temp_p = mult(P,temp_p)\n",
    "    p5 += t * temp_p[9][4]\n",
    "\n",
    "print(\"5) среднее количество шагов для перехода из состояния 10 в состояние 5 =\", p5)\n"
   ]
  },
  {
   "cell_type": "code",
   "execution_count": null,
   "metadata": {},
   "outputs": [],
   "source": []
  },
  {
   "cell_type": "code",
   "execution_count": 40,
   "metadata": {},
   "outputs": [
    {
     "name": "stdout",
     "output_type": "stream",
     "text": [
      "6) вероятность первого возвращения в состояние 9 за 9 шагов = 0.041969837344048605\n"
     ]
    }
   ],
   "source": [
    "# 6) вероятность первого возвращения в состояние 9 за 9 шагов\n",
    "k, i = 9, 9\n",
    "def transition(matrix, k):\n",
    "    return np.linalg.matrix_power(matrix, k)\n",
    "\n",
    "#Вероятность первого возвращения\n",
    "def return_first(matrix, k):\n",
    "    matr = np.copy(matrix)\n",
    "    p_func = transition\n",
    "\n",
    "    def func(_k):\n",
    "        return p_func(matr, _k) - sum([func(m) * p_func(matr, _k - m) for m in range(1, _k)])\n",
    "\n",
    "    return np.diagonal(func(k))\n",
    "\n",
    "p6 = return_first(P, k)\n",
    "print(\"6) вероятность первого возвращения в состояние 9 за 9 шагов =\", p6[i - 1])"
   ]
  },
  {
   "cell_type": "code",
   "execution_count": 41,
   "metadata": {},
   "outputs": [
    {
     "name": "stdout",
     "output_type": "stream",
     "text": [
      "6) вероятность первого возвращения в состояние 9 за 9 шагов =  5.4295036789760025e-06\n"
     ]
    }
   ],
   "source": [
    "# 6) вероятность первого возвращения в состояние 9 за 9 шагов\n",
    "def p6(a, step, p_of_return=0):  # Поиск первого возвращения в состояние\n",
    "    # p_of_return = 0 - по умолчанию вероятность первого возвращения в состояние равна 0\n",
    "    func = [[[a[i][j] for j in range(len(a))] for i in range(len(a))]]\n",
    "    a_step = [[[a[i][j] for j in range(len(a))] for i in range(len(a))]]\n",
    "    for k in range(1, step):\n",
    "        a_step.append(mult(a, a_step[-1]))\n",
    "        func.append([[a_step[k][i][j] for j in range(len(a))] for i in range(len(a))])\n",
    "        for m in range(k):\n",
    "            for i in range(len(a)):\n",
    "                for j in range(len(a)):\n",
    "                    func[k][i][j] -= func[m][i][j] * a_step[k - m - 1][i][j]\n",
    "    if p_of_return == 0:\n",
    "        rez = [func[-1][i][i] for i in range(len(a))]\n",
    "    elif p_of_return == 1:\n",
    "        rez = [0 for i in range(len(a))]\n",
    "        for k in func:\n",
    "            for i in range(len(a)):\n",
    "                rez[i] += k[i][i]\n",
    "    elif p_of_return == 2:\n",
    "        rez = [0 for i in range(len(a))]\n",
    "        for j in range(len(func)):\n",
    "            for i in range(len(a)):\n",
    "                rez[i] += (j + 1) * func[j][i][i]\n",
    "    else:\n",
    "        rez = \"Неверный параметр\"\n",
    "    return rez\n",
    "\n",
    "print(\"6) вероятность первого возвращения в состояние 9 за 9 шагов = \", p6(P, 9)[8])"
   ]
  },
  {
   "cell_type": "code",
   "execution_count": 16,
   "metadata": {},
   "outputs": [
    {
     "name": "stdout",
     "output_type": "stream",
     "text": [
      "7) вероятность возвращения в состояние 10 не позднее чем за 7 шагов =  0.11504431997617\n"
     ]
    }
   ],
   "source": [
    "# 7) вероятность возвращения в состояние 10 не позднее чем за 7 шагов\n",
    "\n",
    "print(\"7) вероятность возвращения в состояние 10 не позднее чем за 7 шагов = \", p6(P, 7, 1)[9])"
   ]
  },
  {
   "cell_type": "code",
   "execution_count": 7,
   "metadata": {},
   "outputs": [],
   "source": [
    "from functools import lru_cache"
   ]
  },
  {
   "cell_type": "code",
   "execution_count": 16,
   "metadata": {},
   "outputs": [
    {
     "data": {
      "text/plain": [
       "0.46621942048"
      ]
     },
     "execution_count": 16,
     "metadata": {},
     "output_type": "execute_result"
    }
   ],
   "source": [
    "def matrix(P, k):\n",
    "    return np.linalg.matrix_power(P,k)\n",
    "\n",
    "def task_seven(P, k):\n",
    "\n",
    "    spisok = []\n",
    "    @lru_cache(maxsize=None)\n",
    "    def ans(k1):\n",
    "        rezult = sum([ans(m) * matrix(P, k1-m) for m in range(1, k1)])\n",
    "        rez2 = matrix(P, k1) - rezult\n",
    "        diagonal = np.diagonal(rez2)\n",
    "        spisok.append(diagonal)\n",
    "        return rez2\n",
    "\n",
    "    ans(k)\n",
    "    return sum(spisok)\n",
    "\n",
    "task_seven(P, 7)[9]\n"
   ]
  },
  {
   "cell_type": "code",
   "execution_count": null,
   "metadata": {},
   "outputs": [],
   "source": []
  },
  {
   "cell_type": "code",
   "execution_count": null,
   "metadata": {},
   "outputs": [],
   "source": []
  },
  {
   "cell_type": "code",
   "execution_count": null,
   "metadata": {},
   "outputs": [],
   "source": []
  },
  {
   "cell_type": "code",
   "execution_count": null,
   "metadata": {},
   "outputs": [],
   "source": []
  },
  {
   "cell_type": "code",
   "execution_count": null,
   "metadata": {},
   "outputs": [],
   "source": []
  },
  {
   "cell_type": "code",
   "execution_count": null,
   "metadata": {},
   "outputs": [],
   "source": []
  },
  {
   "cell_type": "code",
   "execution_count": null,
   "metadata": {},
   "outputs": [],
   "source": []
  },
  {
   "cell_type": "code",
   "execution_count": null,
   "metadata": {},
   "outputs": [],
   "source": []
  },
  {
   "cell_type": "code",
   "execution_count": null,
   "metadata": {},
   "outputs": [],
   "source": []
  },
  {
   "cell_type": "code",
   "execution_count": null,
   "metadata": {},
   "outputs": [],
   "source": []
  },
  {
   "cell_type": "code",
   "execution_count": null,
   "metadata": {},
   "outputs": [],
   "source": []
  },
  {
   "cell_type": "code",
   "execution_count": null,
   "metadata": {},
   "outputs": [],
   "source": []
  },
  {
   "cell_type": "code",
   "execution_count": null,
   "metadata": {},
   "outputs": [],
   "source": []
  },
  {
   "cell_type": "code",
   "execution_count": 26,
   "metadata": {},
   "outputs": [
    {
     "name": "stdout",
     "output_type": "stream",
     "text": [
      "8) среднее время возвращения в состояние 14 =  0.06114071097912481\n"
     ]
    }
   ],
   "source": [
    "#8) среднее время возвращения в состояние 14;\n",
    "    \n",
    "print(\"8) среднее время возвращения в состояние 14 = \", p6(P, 1000, 2)[13])"
   ]
  },
  {
   "cell_type": "code",
   "execution_count": 19,
   "metadata": {},
   "outputs": [
    {
     "name": "stdout",
     "output_type": "stream",
     "text": [
      "9) установившиеся вероятности:  [0.06895819983635411, 0.05980624368096553, 0.051717377736199235, 0.08990137908175368, 0.07493728775034177, 0.06174164403952622, 0.038206476474428507, 0.12949034698802964, 0.07193354373105741, 0.047793310376211526, 0.07955428777157617, 0.17615592292277577, 0.04980397961078061, -1.0530366384815798e-17]\n"
     ]
    }
   ],
   "source": [
    "#9) установившиеся вероятности\n",
    "def find_const(p): \n",
    "    matrix = [[p[j][i] for j in range(len(p[0]))] for i in range(len(p))]\n",
    "    for i in range(len(p)):\n",
    "        matrix[i][i] -= 1\n",
    "        matrix[-1][i] = 1\n",
    "    b = [[0] for i in range(len(p))]\n",
    "    b[-1][0] = 1\n",
    "    matrix = np.linalg.inv(np.array(matrix)).tolist()\n",
    "    matrix = np.dot(matrix, b)\n",
    "    return [matrix[i][0] for i in range(len(matrix))]\n",
    "\n",
    "print(\"9) установившиеся вероятности: \", find_const(P))"
   ]
  },
  {
   "cell_type": "code",
   "execution_count": 2,
   "metadata": {},
   "outputs": [],
   "source": [
    "# ЗАДАНИЕ 2\n",
    "import numpy as np\n",
    "\n",
    "intens_p = 44 # интенсивность поступления\n",
    "m = 6 # каналов обслуживания\n",
    "intens_o = 11 # интенсивность обслуживания\n",
    "n = 10 # макс. размер очереди\n",
    "\n",
    "# Матрица интенсивностей\n",
    "length = m+n+1\n",
    "L= np.zeros((length,length))\n",
    "for i in range(m+n): #заполняем диагональ интенсивности поступлений\n",
    "    L[i, i+1]=intens_p\n",
    "for i in range(1,m): #заполняем диагональ интенсивности обслуживания\n",
    "    L[i, i-1] = (i) * intens_o\n",
    "for i in range(m,length):\n",
    "    L[i,i-1]=m*intens_o \n",
    "    \n",
    "    "
   ]
  },
  {
   "cell_type": "code",
   "execution_count": null,
   "metadata": {},
   "outputs": [],
   "source": []
  },
  {
   "cell_type": "code",
   "execution_count": null,
   "metadata": {},
   "outputs": [],
   "source": []
  },
  {
   "cell_type": "code",
   "execution_count": 3,
   "metadata": {},
   "outputs": [
    {
     "name": "stdout",
     "output_type": "stream",
     "text": [
      "Установившиеся вероятности\n",
      "[[0.01674032]\n",
      " [0.06696127]\n",
      " [0.13392254]\n",
      " [0.17856338]\n",
      " [0.17856338]\n",
      " [0.14285071]\n",
      " [0.0952338 ]\n",
      " [0.0634892 ]\n",
      " [0.04232613]\n",
      " [0.02821742]\n",
      " [0.01881162]\n",
      " [0.01254108]\n",
      " [0.00836072]\n",
      " [0.00557381]\n",
      " [0.00371587]\n",
      " [0.00247725]\n",
      " [0.0016515 ]]\n"
     ]
    }
   ],
   "source": [
    "# a) Установившиеся вероятности состояний\n",
    "L[i].sum()\n",
    "D= np.zeros((m+n+1,m+n+1))\n",
    "for i in range(m+n+1):\n",
    "    D[i,i]=L[i].sum()\n",
    "\n",
    "Ltr = L.T # транспонированная матрица\n",
    "\n",
    "M = Ltr - D\n",
    "#print(M)\n",
    "\n",
    "B = np.zeros((m+n+1,1))\n",
    "B[m+n][0]=1\n",
    "#print(B)\n",
    "\n",
    "M_ = M\n",
    "M_[-1, :] = 1\n",
    "#print(M_)\n",
    "\n",
    "M_tr = np.linalg.inv(M_) # обратная матрица\n",
    "#print(M_tr)\n",
    "\n",
    "X = M_tr.dot(B)  # Уст. вер. X=обр(М)*В, где В столбец нулец с единицей на конце\n",
    "print('Установившиеся вероятности')\n",
    "print(X)"
   ]
  },
  {
   "cell_type": "code",
   "execution_count": null,
   "metadata": {},
   "outputs": [],
   "source": []
  },
  {
   "cell_type": "code",
   "execution_count": 44,
   "metadata": {},
   "outputs": [
    {
     "name": "stdout",
     "output_type": "stream",
     "text": [
      "\n",
      "Вер. отказа в обслуживании 0.0016515\n"
     ]
    }
   ],
   "source": [
    "# b) Найдите вероятность отказа в обслуживании\n",
    "otkaz = round(X[m+n,][0],8)\n",
    "print('\\nВер. отказа в обслуживании',otkaz)"
   ]
  },
  {
   "cell_type": "code",
   "execution_count": 45,
   "metadata": {},
   "outputs": [
    {
     "name": "stdout",
     "output_type": "stream",
     "text": [
      "Относительная инт. обслуживания — 0.9983485 \n",
      "Абсолютная инт. обслуживания — 43.927334\n"
     ]
    }
   ],
   "source": [
    "# c) Найдите относительную и абсолютную интенсивность обслуживания\n",
    "q = 1-otkaz\n",
    "A = q * intens_p\n",
    "print('Относительная инт. обслуживания —', q, '\\nАбсолютная инт. обслуживания —',A)\n"
   ]
  },
  {
   "cell_type": "code",
   "execution_count": 46,
   "metadata": {},
   "outputs": [
    {
     "name": "stdout",
     "output_type": "stream",
     "text": [
      "Ср. длина в очереди — 0.5284638246002121\n"
     ]
    }
   ],
   "source": [
    "# d) Найдите среднюю длину в очереди\n",
    "l_och = 0\n",
    "for i in range(0,n+1):\n",
    "    l_och = l_och + (i * (X[m+i,][0]))\n",
    "    \n",
    "print('Ср. длина в очереди —',l_och)"
   ]
  },
  {
   "cell_type": "code",
   "execution_count": 47,
   "metadata": {},
   "outputs": [
    {
     "name": "stdout",
     "output_type": "stream",
     "text": [
      "Ср. время в очереди — 0.012010541468186642\n"
     ]
    }
   ],
   "source": [
    "# e) Найдите среднее время в очереди\n",
    "t_och = 0\n",
    "for i in range(0,n):\n",
    "    t_och = t_och + ((i+1)/(m*intens_o) * (X[m+i,][0]))\n",
    "print('Ср. время в очереди —',t_och)\n"
   ]
  },
  {
   "cell_type": "code",
   "execution_count": 48,
   "metadata": {},
   "outputs": [
    {
     "name": "stdout",
     "output_type": "stream",
     "text": [
      "Ср. число занятых каналов — 3.993394000593393\n"
     ]
    }
   ],
   "source": [
    "# f) Найдите среднее число занятых каналов\n",
    "n_kan = 0\n",
    "for i in range(0,m+1):\n",
    "    n_kan = n_kan + (i * (X[i,][0]))\n",
    "for i in range(m+1, m+n+1):\n",
    "    n_kan = n_kan + (m * (X[i,][0]))\n",
    "print('Ср. число занятых каналов —',n_kan)"
   ]
  },
  {
   "cell_type": "code",
   "execution_count": 8,
   "metadata": {},
   "outputs": [
    {
     "name": "stdout",
     "output_type": "stream",
     "text": [
      "Вер., что заявка не будет ждать в очереди — 0.717601589331728\n"
     ]
    }
   ],
   "source": [
    "# g)Найдите вероятность того, что поступающая \n",
    "# заявка не будет ждать в очереди\n",
    "bez_och = 0\n",
    "for i in range(0,m):\n",
    "    bez_och = bez_och + X[i,][0]\n",
    "\n",
    "print('Вер., что заявка не будет ждать в очереди —',bez_och)\n"
   ]
  },
  {
   "cell_type": "code",
   "execution_count": null,
   "metadata": {},
   "outputs": [],
   "source": []
  },
  {
   "cell_type": "code",
   "execution_count": null,
   "metadata": {},
   "outputs": [],
   "source": []
  },
  {
   "cell_type": "code",
   "execution_count": 50,
   "metadata": {},
   "outputs": [
    {
     "name": "stdout",
     "output_type": "stream",
     "text": [
      "Ср. время простоя СМО — 0.022727272727272728\n"
     ]
    }
   ],
   "source": [
    "# h)Найти среднее время простоя системы \n",
    "# массового обслуживания\n",
    "\n",
    "prost = 1/intens_p\n",
    "print('Ср. время простоя СМО —',prost)"
   ]
  },
  {
   "cell_type": "code",
   "execution_count": null,
   "metadata": {},
   "outputs": [],
   "source": []
  }
 ],
 "metadata": {
  "kernelspec": {
   "display_name": "Python 3",
   "language": "python",
   "name": "python3"
  },
  "language_info": {
   "codemirror_mode": {
    "name": "ipython",
    "version": 3
   },
   "file_extension": ".py",
   "mimetype": "text/x-python",
   "name": "python",
   "nbconvert_exporter": "python",
   "pygments_lexer": "ipython3",
   "version": "3.8.3"
  }
 },
 "nbformat": 4,
 "nbformat_minor": 4
}
